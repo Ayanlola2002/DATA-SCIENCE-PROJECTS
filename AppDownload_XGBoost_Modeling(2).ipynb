{
  "nbformat": 4,
  "nbformat_minor": 0,
  "metadata": {
    "kernelspec": {
      "display_name": "Python 2",
      "language": "python",
      "name": "python2"
    },
    "language_info": {
      "codemirror_mode": {
        "name": "ipython",
        "version": 2
      },
      "file_extension": ".py",
      "mimetype": "text/x-python",
      "name": "python",
      "nbconvert_exporter": "python",
      "pygments_lexer": "ipython2",
      "version": "2.7.15"
    },
    "colab": {
      "name": "AppDownload_XGBoost_Modeling(2).ipynb",
      "provenance": [],
      "include_colab_link": true
    }
  },
  "cells": [
    {
      "cell_type": "markdown",
      "metadata": {
        "id": "view-in-github",
        "colab_type": "text"
      },
      "source": [
        "<a href=\"https://colab.research.google.com/github/Ayanlola2002/DATA-SCIENCE-PROJECTS/blob/master/AppDownload_XGBoost_Modeling(2).ipynb\" target=\"_parent\"><img src=\"https://colab.research.google.com/assets/colab-badge.svg\" alt=\"Open In Colab\"/></a>"
      ]
    },
    {
      "cell_type": "code",
      "metadata": {
        "id": "E0iLHY7t2mfB",
        "colab_type": "code",
        "colab": {}
      },
      "source": [
        "# Note:\n",
        "# Created and using “bn-book ipynb” notebook\n",
        "# Instance of ml.t2.medium except when running predictions\n",
        "# IAM role for SageMaker\n",
        "# Download (DL) xgboost modeling\n",
        "\n",
        "from sagemaker import get_execution_role"
      ],
      "execution_count": 0,
      "outputs": []
    },
    {
      "cell_type": "code",
      "metadata": {
        "id": "Wy592h0e2mfJ",
        "colab_type": "code",
        "colab": {}
      },
      "source": [
        "# Set IAM role and S3 bucket where train data is\n",
        "\n",
        "role = get_execution_role() # IAM from notebook instance\n",
        "bucket_name = 'tundesbucket' # S3 bucket of train data"
      ],
      "execution_count": 0,
      "outputs": []
    },
    {
      "cell_type": "code",
      "metadata": {
        "id": "NiD3OwU22mfO",
        "colab_type": "code",
        "colab": {}
      },
      "source": [
        "# import libraries\n",
        "\n",
        "from IPython.display import display               \n",
        "from IPython.display import Image\n",
        "from time import gmtime, strftime                 \n",
        "from sagemaker.predictor import csv_serializer"
      ],
      "execution_count": 0,
      "outputs": []
    },
    {
      "cell_type": "code",
      "metadata": {
        "id": "ZZSXCiu32mfT",
        "colab_type": "code",
        "colab": {}
      },
      "source": [
        "# import more libraries\n",
        "\n",
        "import numpy as np\n",
        "import sagemaker, math, boto3, os, json, urllib.request, re, sys                               \n",
        "import pandas as pd                               \n",
        "import matplotlib.pyplot as plt                   \n",
        "import numpy, urllib.request, json"
      ],
      "execution_count": 0,
      "outputs": []
    },
    {
      "cell_type": "code",
      "metadata": {
        "id": "4WGunSo62mfY",
        "colab_type": "code",
        "colab": {},
        "outputId": "43ad1beb-b4c8-4708-d33e-e0b9832c559c"
      },
      "source": [
        "# Set up containers for XGBoost\n",
        "# Note that there might be bucket creation error cause this code might have ran more than once with bucket created the 1st time\n",
        "\n",
        "prefix = 'sagemaker/all_dl-xgboost-dm' # Place holder for prefix\n",
        "containers = {'us-west-2': '433757028032.dkr.ecr.us-west-2.amazonaws.com/xgboost:latest',\n",
        "             'us-east-1': '811284229777.dkr.ecr.us-east-1.amazonaws.com/xgboost:latest',\n",
        "             'us-east-2': '825641698319.dkr.ecr.us-east-2.amazonaws.com/xgboost:latest',\n",
        "             'eu-west-1': '685385470294.dkr.ecr.eu-west-1.amazonaws.com/xgboost:latest'} # xgboost container for regions\n",
        "\n",
        "all_dl_region = boto3.session.Session().region_name # set the region of the instance\n",
        "print(\"SageMaker instance is in the \" + all_dl_region + \" region. Use \" + containers[all_dl_region] + \" container as SM endpoint.\")\n",
        "\n",
        "# Create S3 bucket for Training Data\n",
        "\n",
        "s3 = boto3.resource('s3')\n",
        "try:\n",
        "    if  all_dl_region == 'us-east-1':\n",
        "        s3.create_bucket(Bucket=bucket_name)\n",
        "    else: \n",
        "        s3.create_bucket(Bucket=bucket_name, CreateBucketConfiguration={ 'LocationConstraint': all_dl_region })\n",
        "    print('Train bucket created!')\n",
        "except Exception as e:\n",
        "    print('Train bucket creation issue: ',e)"
      ],
      "execution_count": 0,
      "outputs": [
        {
          "output_type": "stream",
          "text": [
            "SageMaker instance is in the us-west-2 region. Use 433757028032.dkr.ecr.us-west-2.amazonaws.com/xgboost:latest container as SM endpoint.\n",
            "Train bucket created!\n"
          ],
          "name": "stdout"
        }
      ]
    },
    {
      "cell_type": "code",
      "metadata": {
        "id": "vo_hcF7c2mfg",
        "colab_type": "code",
        "colab": {},
        "outputId": "87187ce5-7cec-41e4-8aec-df29a67e4831"
      },
      "source": [
        "# Load data into a notebook dataframe for modeling\n",
        "\n",
        "try:\n",
        "#  model_data = pd.read_csv('s3://baotraindata/run-1539650615693-part-r-00000.cvs')\n",
        "    model_data = pd.read_csv('s3://singleapp1/new_train_data_set(1).csv') #Location of the csv with data\n",
        "    print('Success: Data loaded into dataframe.')\n",
        "except Exception as e:\n",
        "    print('Data load error: ',e)"
      ],
      "execution_count": 0,
      "outputs": [
        {
          "output_type": "stream",
          "text": [
            "Success: Data loaded into dataframe.\n"
          ],
          "name": "stdout"
        }
      ]
    },
    {
      "cell_type": "code",
      "metadata": {
        "id": "mMXgqBY32mfm",
        "colab_type": "code",
        "colab": {},
        "outputId": "8cdd53c2-46f7-424b-e4ec-bdddeeb24837"
      },
      "source": [
        "# Set 70% for train input data and the rest, 20%, for model validation and 10% for test prediction\n",
        "\n",
        "train_data, validation_data, test_data = np.split(model_data.sample(frac=1, random_state=1729), [int(0.7 * len(model_data)), int(0.9 * len(model_data))])\n",
        "\n",
        "# Confirm the data splits\n",
        "\n",
        "print(train_data.shape, validation_data.shape, test_data.shape)"
      ],
      "execution_count": 0,
      "outputs": [
        {
          "output_type": "stream",
          "text": [
            "(7030, 5) (2009, 5) (1005, 5)\n"
          ],
          "name": "stdout"
        }
      ]
    },
    {
      "cell_type": "code",
      "metadata": {
        "id": "Kd76TmvG2mfr",
        "colab_type": "code",
        "colab": {},
        "outputId": "5a4de083-24fe-42bf-8eba-d0e449da28dd"
      },
      "source": [
        "model_data.info()"
      ],
      "execution_count": 0,
      "outputs": [
        {
          "output_type": "stream",
          "text": [
            "<class 'pandas.core.frame.DataFrame'>\n",
            "RangeIndex: 10044 entries, 0 to 10043\n",
            "Data columns (total 5 columns):\n",
            "conversion    10044 non-null int64\n",
            "uid           10044 non-null object\n",
            "a1            10044 non-null float64\n",
            "a2            5226 non-null float64\n",
            "a3            3567 non-null float64\n",
            "dtypes: float64(3), int64(1), object(1)\n",
            "memory usage: 392.4+ KB\n"
          ],
          "name": "stdout"
        }
      ]
    },
    {
      "cell_type": "code",
      "metadata": {
        "id": "GSC26XP32mfw",
        "colab_type": "code",
        "colab": {},
        "outputId": "6600fee6-ff07-4b6b-90f2-7a7193660abb"
      },
      "source": [
        "# Check the train data before changing them\n",
        "\n",
        "train_data.info(), validation_data.info(), test_data.info()"
      ],
      "execution_count": 0,
      "outputs": [
        {
          "output_type": "stream",
          "text": [
            "<class 'pandas.core.frame.DataFrame'>\n",
            "Int64Index: 7030 entries, 9708 to 5343\n",
            "Data columns (total 5 columns):\n",
            "conversion    7030 non-null int64\n",
            "uid           7030 non-null object\n",
            "a1            7030 non-null float64\n",
            "a2            3648 non-null float64\n",
            "a3            2496 non-null float64\n",
            "dtypes: float64(3), int64(1), object(1)\n",
            "memory usage: 329.5+ KB\n",
            "<class 'pandas.core.frame.DataFrame'>\n",
            "Int64Index: 2009 entries, 9721 to 4695\n",
            "Data columns (total 5 columns):\n",
            "conversion    2009 non-null int64\n",
            "uid           2009 non-null object\n",
            "a1            2009 non-null float64\n",
            "a2            1058 non-null float64\n",
            "a3            716 non-null float64\n",
            "dtypes: float64(3), int64(1), object(1)\n",
            "memory usage: 94.2+ KB\n",
            "<class 'pandas.core.frame.DataFrame'>\n",
            "Int64Index: 1005 entries, 932 to 1677\n",
            "Data columns (total 5 columns):\n",
            "conversion    1005 non-null int64\n",
            "uid           1005 non-null object\n",
            "a1            1005 non-null float64\n",
            "a2            520 non-null float64\n",
            "a3            355 non-null float64\n",
            "dtypes: float64(3), int64(1), object(1)\n",
            "memory usage: 47.1+ KB\n"
          ],
          "name": "stdout"
        },
        {
          "output_type": "execute_result",
          "data": {
            "text/plain": [
              "(None, None, None)"
            ]
          },
          "metadata": {
            "tags": []
          },
          "execution_count": 12
        }
      ]
    },
    {
      "cell_type": "code",
      "metadata": {
        "id": "Je1CW3k_2mf2",
        "colab_type": "code",
        "colab": {}
      },
      "source": [
        "# Saving a copy of all original data set with User_id for matching and analysis later\n",
        "\n",
        "train_data.to_csv('train_data_uid')\n",
        "validation_data.to_csv('validation_data_uid')\n",
        "test_data.to_csv('test_data_uid')\n",
        "\n",
        "# - Deleting string columns\n",
        "\n",
        "train_data = train_data.drop(columns=['uid'])\n",
        "validation_data = validation_data.drop(columns=['uid'])\n",
        "test_data = test_data.drop(columns=['uid'])"
      ],
      "execution_count": 0,
      "outputs": []
    },
    {
      "cell_type": "code",
      "metadata": {
        "id": "lkWWoyxe2mf6",
        "colab_type": "code",
        "colab": {}
      },
      "source": [
        "# Remove header and index\n",
        "\n",
        "train_data.to_csv('train.csv', header=False, index=False)\n",
        "validation_data.to_csv('validation.csv', header=False, index=False)\n",
        "test_data.to_csv('test.csv', header=False, index=False)"
      ],
      "execution_count": 0,
      "outputs": []
    },
    {
      "cell_type": "code",
      "metadata": {
        "id": "JQ2iM2SH2mf_",
        "colab_type": "code",
        "colab": {},
        "outputId": "71a4f922-0ae4-443b-c8da-6496c82923be"
      },
      "source": [
        "train_data.info(), validation_data.info(), test_data.info()"
      ],
      "execution_count": 0,
      "outputs": [
        {
          "output_type": "stream",
          "text": [
            "<class 'pandas.core.frame.DataFrame'>\n",
            "Int64Index: 7030 entries, 9708 to 5343\n",
            "Data columns (total 4 columns):\n",
            "conversion    7030 non-null int64\n",
            "a1            7030 non-null float64\n",
            "a2            3648 non-null float64\n",
            "a3            2496 non-null float64\n",
            "dtypes: float64(3), int64(1)\n",
            "memory usage: 274.6 KB\n",
            "<class 'pandas.core.frame.DataFrame'>\n",
            "Int64Index: 2009 entries, 9721 to 4695\n",
            "Data columns (total 4 columns):\n",
            "conversion    2009 non-null int64\n",
            "a1            2009 non-null float64\n",
            "a2            1058 non-null float64\n",
            "a3            716 non-null float64\n",
            "dtypes: float64(3), int64(1)\n",
            "memory usage: 78.5 KB\n",
            "<class 'pandas.core.frame.DataFrame'>\n",
            "Int64Index: 1005 entries, 932 to 1677\n",
            "Data columns (total 4 columns):\n",
            "conversion    1005 non-null int64\n",
            "a1            1005 non-null float64\n",
            "a2            520 non-null float64\n",
            "a3            355 non-null float64\n",
            "dtypes: float64(3), int64(1)\n",
            "memory usage: 39.3 KB\n"
          ],
          "name": "stdout"
        },
        {
          "output_type": "execute_result",
          "data": {
            "text/plain": [
              "(None, None, None)"
            ]
          },
          "metadata": {
            "tags": []
          },
          "execution_count": 15
        }
      ]
    },
    {
      "cell_type": "code",
      "metadata": {
        "id": "gJRWiuFR2mgE",
        "colab_type": "code",
        "colab": {},
        "outputId": "91e49aa5-9142-428e-92a4-56f8f095d8e4"
      },
      "source": [
        "# Upload the training and validation datasets\n",
        "try:\n",
        "    boto3.Session().resource('s3').Bucket(bucket_name).Object(os.path.join(prefix, 'train/train.csv')).upload_file('train.csv')\n",
        "    boto3.Session().resource('s3').Bucket(bucket_name).Object(os.path.join(prefix, 'validation/validation.csv')).upload_file('validation.csv')\n",
        "    print(\"Success\")\n",
        "except Exception as e:\n",
        "    print('Data load error: ',e)"
      ],
      "execution_count": 0,
      "outputs": [
        {
          "output_type": "stream",
          "text": [
            "Success\n"
          ],
          "name": "stdout"
        }
      ]
    },
    {
      "cell_type": "code",
      "metadata": {
        "id": "E4GKBhYd2mgK",
        "colab_type": "code",
        "colab": {}
      },
      "source": [
        "# Set the train files location\n",
        "try:\n",
        "    s3_input_train = sagemaker.s3_input(s3_data='s3://{}/{}/train'.format(bucket_name, prefix), content_type='csv')\n",
        "    s3_input_validation = sagemaker.s3_input(s3_data='s3://{}/{}/validation'.format(bucket_name, prefix), content_type='csv')\n",
        "except Exception as e:\n",
        "    print('Data load error: ',e)"
      ],
      "execution_count": 0,
      "outputs": []
    },
    {
      "cell_type": "code",
      "metadata": {
        "id": "v4PMxgJB2mgN",
        "colab_type": "code",
        "colab": {}
      },
      "source": [
        "# SM xgboost session and parameters. These can be tuned later as needed\n",
        "\n",
        "sess = sagemaker.Session()\n",
        "xgb = sagemaker.estimator.Estimator(containers[all_dl_region],role, train_instance_count=1, train_instance_type='ml.m4.xlarge',output_path='s3://{}/{}/output'.format(bucket_name, prefix),sagemaker_session=sess)\n",
        "xgb.set_hyperparameters(max_depth=5,eta=0.2,gamma=4,min_child_weight=6,subsample=0.8,silent=0,objective='binary:logistic',num_round=100)"
      ],
      "execution_count": 0,
      "outputs": []
    },
    {
      "cell_type": "code",
      "metadata": {
        "scrolled": true,
        "id": "CYyrgqow2mgT",
        "colab_type": "code",
        "colab": {},
        "outputId": "d308c305-e019-42f1-d34c-f262c2d2e825"
      },
      "source": [
        "# Train the model\n",
        "\n",
        "xgb.fit({'train': s3_input_train, 'validation': s3_input_validation})"
      ],
      "execution_count": 0,
      "outputs": [
        {
          "output_type": "error",
          "ename": "AttributeError",
          "evalue": "'Estimator' object has no attribute 'train_volume_kms_key'",
          "traceback": [
            "\u001b[0;31m---------------------------------------------------------------------------\u001b[0m",
            "\u001b[0;31mAttributeError\u001b[0m                            Traceback (most recent call last)",
            "\u001b[0;32m<ipython-input-19-de028a40ea60>\u001b[0m in \u001b[0;36m<module>\u001b[0;34m()\u001b[0m\n\u001b[1;32m      1\u001b[0m \u001b[0;31m# Train the model\u001b[0m\u001b[0;34m\u001b[0m\u001b[0;34m\u001b[0m\u001b[0m\n\u001b[1;32m      2\u001b[0m \u001b[0;34m\u001b[0m\u001b[0m\n\u001b[0;32m----> 3\u001b[0;31m \u001b[0mxgb\u001b[0m\u001b[0;34m.\u001b[0m\u001b[0mfit\u001b[0m\u001b[0;34m(\u001b[0m\u001b[0;34m{\u001b[0m\u001b[0;34m'train'\u001b[0m\u001b[0;34m:\u001b[0m \u001b[0ms3_input_train\u001b[0m\u001b[0;34m,\u001b[0m \u001b[0;34m'validation'\u001b[0m\u001b[0;34m:\u001b[0m \u001b[0ms3_input_validation\u001b[0m\u001b[0;34m}\u001b[0m\u001b[0;34m)\u001b[0m\u001b[0;34m\u001b[0m\u001b[0m\n\u001b[0m",
            "\u001b[0;32m~/anaconda3/envs/python3/lib/python3.6/site-packages/sagemaker/estimator.py\u001b[0m in \u001b[0;36mfit\u001b[0;34m(self, inputs, wait, logs, job_name)\u001b[0m\n\u001b[1;32m    177\u001b[0m                 \u001b[0mself\u001b[0m\u001b[0;34m.\u001b[0m\u001b[0moutput_path\u001b[0m \u001b[0;34m=\u001b[0m \u001b[0;34m's3://{}/'\u001b[0m\u001b[0;34m.\u001b[0m\u001b[0mformat\u001b[0m\u001b[0;34m(\u001b[0m\u001b[0mself\u001b[0m\u001b[0;34m.\u001b[0m\u001b[0msagemaker_session\u001b[0m\u001b[0;34m.\u001b[0m\u001b[0mdefault_bucket\u001b[0m\u001b[0;34m(\u001b[0m\u001b[0;34m)\u001b[0m\u001b[0;34m)\u001b[0m\u001b[0;34m\u001b[0m\u001b[0m\n\u001b[1;32m    178\u001b[0m \u001b[0;34m\u001b[0m\u001b[0m\n\u001b[0;32m--> 179\u001b[0;31m     \u001b[0;32mdef\u001b[0m \u001b[0mfit\u001b[0m\u001b[0;34m(\u001b[0m\u001b[0mself\u001b[0m\u001b[0;34m,\u001b[0m \u001b[0minputs\u001b[0m\u001b[0;34m=\u001b[0m\u001b[0;32mNone\u001b[0m\u001b[0;34m,\u001b[0m \u001b[0mwait\u001b[0m\u001b[0;34m=\u001b[0m\u001b[0;32mTrue\u001b[0m\u001b[0;34m,\u001b[0m \u001b[0mlogs\u001b[0m\u001b[0;34m=\u001b[0m\u001b[0;32mTrue\u001b[0m\u001b[0;34m,\u001b[0m \u001b[0mjob_name\u001b[0m\u001b[0;34m=\u001b[0m\u001b[0;32mNone\u001b[0m\u001b[0;34m)\u001b[0m\u001b[0;34m:\u001b[0m\u001b[0;34m\u001b[0m\u001b[0m\n\u001b[0m\u001b[1;32m    180\u001b[0m         \"\"\"Train a model using the input training dataset.\n\u001b[1;32m    181\u001b[0m \u001b[0;34m\u001b[0m\u001b[0m\n",
            "\u001b[0;32m~/anaconda3/envs/python3/lib/python3.6/site-packages/sagemaker/estimator.py\u001b[0m in \u001b[0;36mstart_new\u001b[0;34m(cls, estimator, inputs)\u001b[0m\n\u001b[1;32m    391\u001b[0m                 \u001b[0mcompute\u001b[0m \u001b[0minstance\u001b[0m \u001b[0;34m(\u001b[0m\u001b[0mdefault\u001b[0m\u001b[0;34m:\u001b[0m \u001b[0;32mNone\u001b[0m\u001b[0;34m)\u001b[0m\u001b[0;34m.\u001b[0m\u001b[0;34m\u001b[0m\u001b[0m\n\u001b[1;32m    392\u001b[0m         \"\"\"\n\u001b[0;32m--> 393\u001b[0;31m         \u001b[0mself\u001b[0m\u001b[0;34m.\u001b[0m\u001b[0m_ensure_latest_training_job\u001b[0m\u001b[0;34m(\u001b[0m\u001b[0;34m)\u001b[0m\u001b[0;34m\u001b[0m\u001b[0m\n\u001b[0m\u001b[1;32m    394\u001b[0m \u001b[0;34m\u001b[0m\u001b[0m\n\u001b[1;32m    395\u001b[0m         \u001b[0mmodel_name\u001b[0m \u001b[0;34m=\u001b[0m \u001b[0mself\u001b[0m\u001b[0;34m.\u001b[0m\u001b[0msagemaker_session\u001b[0m\u001b[0;34m.\u001b[0m\u001b[0mcreate_model_from_job\u001b[0m\u001b[0;34m(\u001b[0m\u001b[0mself\u001b[0m\u001b[0;34m.\u001b[0m\u001b[0mlatest_training_job\u001b[0m\u001b[0;34m.\u001b[0m\u001b[0mname\u001b[0m\u001b[0;34m,\u001b[0m \u001b[0mrole\u001b[0m\u001b[0;34m=\u001b[0m\u001b[0mrole\u001b[0m\u001b[0;34m)\u001b[0m\u001b[0;34m\u001b[0m\u001b[0m\n",
            "\u001b[0;32m~/anaconda3/envs/python3/lib/python3.6/site-packages/sagemaker/job.py\u001b[0m in \u001b[0;36m_load_config\u001b[0;34m(inputs, estimator)\u001b[0m\n\u001b[1;32m     59\u001b[0m                                                         \u001b[0mestimator\u001b[0m\u001b[0;34m.\u001b[0m\u001b[0mtrain_instance_type\u001b[0m\u001b[0;34m,\u001b[0m\u001b[0;34m\u001b[0m\u001b[0m\n\u001b[1;32m     60\u001b[0m                                                         \u001b[0mestimator\u001b[0m\u001b[0;34m.\u001b[0m\u001b[0mtrain_volume_size\u001b[0m\u001b[0;34m,\u001b[0m\u001b[0;34m\u001b[0m\u001b[0m\n\u001b[0;32m---> 61\u001b[0;31m                                                         estimator.train_volume_kms_key)\n\u001b[0m\u001b[1;32m     62\u001b[0m         \u001b[0mstop_condition\u001b[0m \u001b[0;34m=\u001b[0m \u001b[0m_Job\u001b[0m\u001b[0;34m.\u001b[0m\u001b[0m_prepare_stop_condition\u001b[0m\u001b[0;34m(\u001b[0m\u001b[0mestimator\u001b[0m\u001b[0;34m.\u001b[0m\u001b[0mtrain_max_run\u001b[0m\u001b[0;34m)\u001b[0m\u001b[0;34m\u001b[0m\u001b[0m\n\u001b[1;32m     63\u001b[0m         \u001b[0mvpc_config\u001b[0m \u001b[0;34m=\u001b[0m \u001b[0mestimator\u001b[0m\u001b[0;34m.\u001b[0m\u001b[0mget_vpc_config\u001b[0m\u001b[0;34m(\u001b[0m\u001b[0;34m)\u001b[0m\u001b[0;34m\u001b[0m\u001b[0m\n",
            "\u001b[0;31mAttributeError\u001b[0m: 'Estimator' object has no attribute 'train_volume_kms_key'"
          ]
        }
      ]
    },
    {
      "cell_type": "code",
      "metadata": {
        "id": "AKGt_N2B2mgY",
        "colab_type": "code",
        "colab": {},
        "outputId": "5f788815-9f60-42d7-8c12-0b97feac6f44"
      },
      "source": [
        "# deploys model to Amazon SageMaker hosting. It takes a few minutes to set up the hosting endpoint.\n",
        "\n",
        "xgb_predictor = xgb.deploy(initial_instance_count=1, instance_type='ml.m4.xlarge')"
      ],
      "execution_count": 0,
      "outputs": [
        {
          "output_type": "stream",
          "text": [
            "INFO:sagemaker:Creating model with name: xgboost-2018-10-29-23-51-28-801\n",
            "INFO:sagemaker:Creating endpoint with name xgboost-2018-10-29-23-48-04-931\n"
          ],
          "name": "stderr"
        },
        {
          "output_type": "stream",
          "text": [
            "------------------------------------------------------------------------------!"
          ],
          "name": "stdout"
        }
      ]
    },
    {
      "cell_type": "markdown",
      "metadata": {
        "id": "WpHIsTfT2mge",
        "colab_type": "text"
      },
      "source": [
        "## Making predictions"
      ]
    },
    {
      "cell_type": "code",
      "metadata": {
        "id": "Fg0bmYZK2mgf",
        "colab_type": "code",
        "colab": {}
      },
      "source": [
        "# Time to make predictions. First set up the serializer.\n",
        "# This takes numpy arrays (like the testing data) and serializes them to CSV format.\n",
        "\n",
        "xgb_predictor.content_type = 'text/csv'\n",
        "xgb_predictor.serializer = csv_serializer\n",
        "xgb_predictor.deserializer = None\n",
        "\n",
        "# Then define a predict function that will take in testing data as input and run predictions on the data.\n",
        "# This is done through the xgb_predictor.predict() function call.\n",
        "\n",
        "def predict(data, rows=500):\n",
        "    split_array = np.array_split(data, int(data.shape[0] / float(rows) + 1))\n",
        "    predictions = ''\n",
        "    for array in split_array:\n",
        "        predictions = ','.join([predictions, xgb_predictor.predict(array).decode('utf-8')])\n",
        "\n",
        "    return np.fromstring(predictions[1:], sep=',')\n",
        "\n",
        "train_predictions = predict(train_data.as_matrix()[:, 1:])\n",
        "test_predictions = predict(test_data.as_matrix()[:, 1:])\n",
        "\n",
        "# The output is an array with predictions. The first element of the array is the probability that\n",
        "# the corresponding first input row will convert or download the app.\n",
        "\n",
        "# Now that the model is hosted, one can start to make predictions about which row will convert.\n",
        "# This allows the sorting of highest probability to convert."
      ],
      "execution_count": 0,
      "outputs": []
    },
    {
      "cell_type": "code",
      "metadata": {
        "id": "9NMM-17T2mgk",
        "colab_type": "code",
        "colab": {},
        "outputId": "2ab97bb7-d2f2-4b0b-e925-2bc819006780"
      },
      "source": [
        "# Check out the prediction histogram\n",
        "\n",
        "plt.hist(train_predictions)\n",
        "plt.show()"
      ],
      "execution_count": 0,
      "outputs": [
        {
          "output_type": "display_data",
          "data": {
            "image/png": "[encoded data removed]",
            "text/plain": [
              "<Figure size 432x288 with 1 Axes>"
            ]
          },
          "metadata": {
            "tags": []
          }
        }
      ]
    },
    {
      "cell_type": "code",
      "metadata": {
        "id": "SMOXa8yl2mgq",
        "colab_type": "code",
        "colab": {},
        "outputId": "17ce6fb8-e398-47a6-f09b-0635c0a1d429"
      },
      "source": [
        "plt.hist(test_predictions)\n",
        "plt.show()"
      ],
      "execution_count": 0,
      "outputs": [
        {
          "output_type": "display_data",
          "data": {
            "image/png": "[encoded data removed]",
            "text/plain": [
              "<Figure size 432x288 with 1 Axes>"
            ]
          },
          "metadata": {
            "tags": []
          }
        }
      ]
    },
    {
      "cell_type": "code",
      "metadata": {
        "id": "tAHvqEDF2mgx",
        "colab_type": "code",
        "colab": {}
      },
      "source": [
        "#RS - predictions on train and test portion\n",
        "train_pred = pd.DataFrame(train_predictions)\n",
        "\n",
        "train_pred.loc[train_pred[0] < 0.5, 0] = 0\n",
        "train_pred.loc[train_pred[0] >= 0.5, 0] = 1\n",
        "\n",
        "test_pred = pd.DataFrame(test_predictions)\n",
        "\n",
        "test_pred.loc[test_pred[0] < 0.5, 0] = 0\n",
        "test_pred.loc[test_pred[0] >= 0.5, 0] = 1"
      ],
      "execution_count": 0,
      "outputs": []
    },
    {
      "cell_type": "markdown",
      "metadata": {
        "id": "DIB7eamV2mg5",
        "colab_type": "text"
      },
      "source": [
        "## Accuracy of the training set"
      ]
    },
    {
      "cell_type": "code",
      "metadata": {
        "id": "ksjN7TGK2mg6",
        "colab_type": "code",
        "colab": {},
        "outputId": "45c9b48e-4993-49f6-b2e5-21afbc0e54e3"
      },
      "source": [
        "from sklearn.metrics import confusion_matrix\n",
        "print(confusion_matrix(train_data.as_matrix()[:, 0], train_pred.values))"
      ],
      "execution_count": 0,
      "outputs": [
        {
          "output_type": "stream",
          "text": [
            "[[5666   91]\n",
            " [ 881  392]]\n"
          ],
          "name": "stdout"
        }
      ]
    },
    {
      "cell_type": "code",
      "metadata": {
        "id": "7Hc7fKp42mg_",
        "colab_type": "code",
        "colab": {},
        "outputId": "07911f3d-4c9c-4b27-ef98-d232a9b17dcf"
      },
      "source": [
        "from sklearn.metrics import classification_report\n",
        "print(classification_report(train_data.as_matrix()[:, 0], train_pred.values))"
      ],
      "execution_count": 0,
      "outputs": [
        {
          "output_type": "stream",
          "text": [
            "             precision    recall  f1-score   support\n",
            "\n",
            "        0.0       0.87      0.98      0.92      5757\n",
            "        1.0       0.81      0.31      0.45      1273\n",
            "\n",
            "avg / total       0.86      0.86      0.84      7030\n",
            "\n"
          ],
          "name": "stdout"
        }
      ]
    },
    {
      "cell_type": "markdown",
      "metadata": {
        "id": "b4rezuXU2mhE",
        "colab_type": "text"
      },
      "source": [
        "## Accuracy of the test set"
      ]
    },
    {
      "cell_type": "code",
      "metadata": {
        "id": "qru4DvSP2mhH",
        "colab_type": "code",
        "colab": {},
        "outputId": "bfcc5084-dc04-4469-896b-552049a7a4a9"
      },
      "source": [
        "print(confusion_matrix(test_data.as_matrix()[:, 0], test_pred.values))"
      ],
      "execution_count": 0,
      "outputs": [
        {
          "output_type": "stream",
          "text": [
            "[[802  25]\n",
            " [120  58]]\n"
          ],
          "name": "stdout"
        }
      ]
    },
    {
      "cell_type": "code",
      "metadata": {
        "id": "DM657SCu2mhP",
        "colab_type": "code",
        "colab": {},
        "outputId": "0b61e3d1-c5d4-4bf6-9c36-7c9755d278f9"
      },
      "source": [
        "print(classification_report(test_data.as_matrix()[:, 0], test_pred.values))"
      ],
      "execution_count": 0,
      "outputs": [
        {
          "output_type": "stream",
          "text": [
            "             precision    recall  f1-score   support\n",
            "\n",
            "        0.0       0.87      0.97      0.92       827\n",
            "        1.0       0.70      0.33      0.44       178\n",
            "\n",
            "avg / total       0.84      0.86      0.83      1005\n",
            "\n"
          ],
          "name": "stdout"
        }
      ]
    },
    {
      "cell_type": "markdown",
      "metadata": {
        "id": "-fQpkXNs2mhV",
        "colab_type": "text"
      },
      "source": [
        "## Shutting down the endpoint to avoid unnecessary charges"
      ]
    },
    {
      "cell_type": "code",
      "metadata": {
        "id": "tub7rCM92mhX",
        "colab_type": "code",
        "colab": {},
        "outputId": "2eb01189-809e-4a0c-b597-71fe940c3102"
      },
      "source": [
        "# Shutting down everything\n",
        "\n",
        "sagemaker.Session().delete_endpoint(xgb_predictor.endpoint)\n",
        "# bucket_to_delete = boto3.resource('s3').Bucket(bucket_name)\n",
        "# bucket_to_delete.objects.all().delete()"
      ],
      "execution_count": 0,
      "outputs": [
        {
          "output_type": "stream",
          "text": [
            "INFO:sagemaker:Deleting endpoint with name: xgboost-2018-10-29-23-48-04-931\n"
          ],
          "name": "stderr"
        }
      ]
    },
    {
      "cell_type": "code",
      "metadata": {
        "id": "XZ-nMt2c2mhb",
        "colab_type": "code",
        "colab": {}
      },
      "source": [
        ""
      ],
      "execution_count": 0,
      "outputs": []
    }
  ]
}