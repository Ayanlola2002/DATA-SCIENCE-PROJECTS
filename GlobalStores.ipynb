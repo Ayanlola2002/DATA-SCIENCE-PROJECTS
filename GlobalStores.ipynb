{
  "nbformat": 4,
  "nbformat_minor": 0,
  "metadata": {
    "colab": {
      "name": "GlobalStores.ipynb",
      "provenance": [],
      "authorship_tag": "ABX9TyMS3W12zT+jblozPnEAoe0p",
      "include_colab_link": true
    },
    "kernelspec": {
      "name": "python3",
      "display_name": "Python 3"
    }
  },
  "cells": [
    {
      "cell_type": "markdown",
      "metadata": {
        "id": "view-in-github",
        "colab_type": "text"
      },
      "source": [
        "<a href=\"https://colab.research.google.com/github/Ayanlola2002/DATA-SCIENCE-PROJECTS/blob/master/GlobalStores.ipynb\" target=\"_parent\"><img src=\"https://colab.research.google.com/assets/colab-badge.svg\" alt=\"Open In Colab\"/></a>"
      ]
    },
    {
      "cell_type": "code",
      "metadata": {
        "colab": {
          "base_uri": "https://localhost:8080/"
        },
        "id": "L2ANjVnWmO49",
        "outputId": "de5938a3-89f9-4f90-d80a-31fb3c5c79bd"
      },
      "source": [
        "#mounting Gdrive\n",
        "from google.colab import drive\n",
        "drive.mount('/content/drive')"
      ],
      "execution_count": 16,
      "outputs": [
        {
          "output_type": "stream",
          "text": [
            "Drive already mounted at /content/drive; to attempt to forcibly remount, call drive.mount(\"/content/drive\", force_remount=True).\n"
          ],
          "name": "stdout"
        }
      ]
    },
    {
      "cell_type": "code",
      "metadata": {
        "id": "56A2wIJhoER2"
      },
      "source": [
        "import pandas as pd\n",
        "import numpy as np\n",
        "import datetime as DT\n",
        "import hmac\n",
        "from geopy.geocoders import Nominatim\n",
        "from geopy.exc import GeocoderTimedOut\n",
        "from geopy.distance import vincenty\n",
        "import time\n",
        "#pd.set_option('display.float_format', lambda x: '{:.3f}'.format(x)) #Limiting floats output to 3 decimal points"
      ],
      "execution_count": 17,
      "outputs": []
    },
    {
      "cell_type": "code",
      "metadata": {
        "id": "JfHm-__5oKW5"
      },
      "source": [
        "df=pd.read_excel('/content/drive/MyDrive/CIC/global-superstore.xlsx')\n"
      ],
      "execution_count": 18,
      "outputs": []
    },
    {
      "cell_type": "code",
      "metadata": {
        "colab": {
          "base_uri": "https://localhost:8080/"
        },
        "id": "CS8pN4YNpMO8",
        "outputId": "04a09a84-ee93-43fa-fe81-9ad5e01b6917"
      },
      "source": [
        "df.info()"
      ],
      "execution_count": 19,
      "outputs": [
        {
          "output_type": "stream",
          "text": [
            "<class 'pandas.core.frame.DataFrame'>\n",
            "RangeIndex: 51290 entries, 0 to 51289\n",
            "Data columns (total 24 columns):\n",
            " #   Column          Non-Null Count  Dtype         \n",
            "---  ------          --------------  -----         \n",
            " 0   Row ID          51290 non-null  int64         \n",
            " 1   Order ID        51290 non-null  object        \n",
            " 2   Order Date      51290 non-null  datetime64[ns]\n",
            " 3   Ship Date       51290 non-null  datetime64[ns]\n",
            " 4   Ship Mode       51290 non-null  object        \n",
            " 5   Customer ID     51290 non-null  object        \n",
            " 6   Customer Name   51290 non-null  object        \n",
            " 7   Segment         51290 non-null  object        \n",
            " 8   City            51290 non-null  object        \n",
            " 9   State           51290 non-null  object        \n",
            " 10  Country         51290 non-null  object        \n",
            " 11  Postal Code     9994 non-null   float64       \n",
            " 12  Market          51290 non-null  object        \n",
            " 13  Region          51290 non-null  object        \n",
            " 14  Product ID      51290 non-null  object        \n",
            " 15  Category        51290 non-null  object        \n",
            " 16  Sub-Category    51290 non-null  object        \n",
            " 17  Product Name    51290 non-null  object        \n",
            " 18  Sales           51290 non-null  float64       \n",
            " 19  Quantity        51290 non-null  int64         \n",
            " 20  Discount        51290 non-null  float64       \n",
            " 21  Profit          51290 non-null  float64       \n",
            " 22  Shipping Cost   51290 non-null  float64       \n",
            " 23  Order Priority  51290 non-null  object        \n",
            "dtypes: datetime64[ns](2), float64(5), int64(2), object(15)\n",
            "memory usage: 9.4+ MB\n"
          ],
          "name": "stdout"
        }
      ]
    },
    {
      "cell_type": "code",
      "metadata": {
        "id": "C9Cz4TBaPFZJ",
        "outputId": "d44b5b83-d24d-4a7f-d890-c9146275ab46",
        "colab": {
          "base_uri": "https://localhost:8080/"
        }
      },
      "source": [
        "#df['City'].isnull().sum()\n",
        "df['City'].value_counts()"
      ],
      "execution_count": 20,
      "outputs": [
        {
          "output_type": "execute_result",
          "data": {
            "text/plain": [
              "New York City          915\n",
              "Los Angeles            747\n",
              "Philadelphia           537\n",
              "San Francisco          510\n",
              "Santo Domingo          443\n",
              "                      ... \n",
              "Paysandú                 1\n",
              "Ibb                      1\n",
              "Cuneo                    1\n",
              "Falconara Marittima      1\n",
              "Araraquara               1\n",
              "Name: City, Length: 3636, dtype: int64"
            ]
          },
          "metadata": {
            "tags": []
          },
          "execution_count": 20
        }
      ]
    },
    {
      "cell_type": "code",
      "metadata": {
        "id": "qg2xPqDlP9w_",
        "outputId": "7d0e6a73-cbd3-4f9a-a327-e7877599e366",
        "colab": {
          "base_uri": "https://localhost:8080/",
          "height": 35
        }
      },
      "source": [
        "geolocator = Nominatim(user_agent=\"xxx\")\n",
        "'''\n",
        "location=geolocator.geocode(df['City'][3])\n",
        "print(location.longitude)\n",
        "print(location.latitude)\n",
        "'''"
      ],
      "execution_count": 21,
      "outputs": [
        {
          "output_type": "execute_result",
          "data": {
            "application/vnd.google.colaboratory.intrinsic+json": {
              "type": "string"
            },
            "text/plain": [
              "\"\\nlocation=geolocator.geocode(df['City'][3])\\nprint(location.longitude)\\nprint(location.latitude)\\n\""
            ]
          },
          "metadata": {
            "tags": []
          },
          "execution_count": 21
        }
      ]
    },
    {
      "cell_type": "code",
      "metadata": {
        "id": "0-QK7LmFRuT_",
        "outputId": "644e25d9-11bd-4f0d-9599-0b78339b4a96",
        "colab": {
          "base_uri": "https://localhost:8080/",
          "height": 52
        }
      },
      "source": [
        "''' \n",
        "   \n",
        "# declare an empty list to store \n",
        "# latitude and longitude of values  \n",
        "# of city column \n",
        "longitude = [] \n",
        "latitude = [] '''"
      ],
      "execution_count": 22,
      "outputs": [
        {
          "output_type": "execute_result",
          "data": {
            "application/vnd.google.colaboratory.intrinsic+json": {
              "type": "string"
            },
            "text/plain": [
              "' \\n   \\n# declare an empty list to store \\n# latitude and longitude of values  \\n# of city column \\nlongitude = [] \\nlatitude = [] '"
            ]
          },
          "metadata": {
            "tags": []
          },
          "execution_count": 22
        }
      ]
    },
    {
      "cell_type": "code",
      "metadata": {
        "id": "hcoxwUo_RHem",
        "outputId": "a3efb6ac-dcd3-45fe-d40a-df062d13f215",
        "colab": {
          "base_uri": "https://localhost:8080/",
          "height": 86
        }
      },
      "source": [
        "\n",
        "   \n",
        "'''# function to find the coordinate \n",
        "# of a given city  \n",
        "def findGeocode(city): \n",
        "    # try and catch is used to overcome \n",
        "    # the exception thrown by geolocator \n",
        "    # using geocodertimedout   \n",
        "  try:\n",
        "    # Specify the user_agent as your \n",
        "    # app name it should not be none \n",
        "    geolocator = Nominatim(user_agent=\"your_app_name\") \n",
        "    return geolocator.geocode(city) \n",
        "      \n",
        "  except GeocoderTimedOut:\n",
        "    return findGeocode(city)     \n",
        "  '''\n"
      ],
      "execution_count": 23,
      "outputs": [
        {
          "output_type": "execute_result",
          "data": {
            "application/vnd.google.colaboratory.intrinsic+json": {
              "type": "string"
            },
            "text/plain": [
              "'# function to find the coordinate \\n# of a given city  \\ndef findGeocode(city): \\n    # try and catch is used to overcome \\n    # the exception thrown by geolocator \\n    # using geocodertimedout   \\n  try:\\n    # Specify the user_agent as your \\n    # app name it should not be none \\n    geolocator = Nominatim(user_agent=\"your_app_name\") \\n    return geolocator.geocode(city) \\n      \\n  except GeocoderTimedOut:\\n    return findGeocode(city)     \\n  '"
            ]
          },
          "metadata": {
            "tags": []
          },
          "execution_count": 23
        }
      ]
    },
    {
      "cell_type": "code",
      "metadata": {
        "id": "I0jokWjcRppB",
        "outputId": "65c7f215-180a-4b0a-d782-48399c2dc66b",
        "colab": {
          "base_uri": "https://localhost:8080/",
          "height": 102
        }
      },
      "source": [
        "'''# each value from city column \n",
        "# will be fetched and sent to \n",
        "# function find_geocode    \n",
        "for i in (df[\"City\"]):\n",
        "  if findGeocode(i) != None:\n",
        "    loc = findGeocode(i) \n",
        "    # coordinates returned from \n",
        "    # function is stored into \n",
        "    # two separate list \n",
        "    latitude.append(loc.latitude) \n",
        "    longitude.append(loc.longitude) \n",
        "       \n",
        "    # if coordinate for a city not \n",
        "    # found, insert \"NaN\" indicating  \n",
        "    # missing value  \n",
        "  else:\n",
        "    latitude.append(np.nan)\n",
        "    longitude.append(np.nan) \n",
        "'''"
      ],
      "execution_count": 24,
      "outputs": [
        {
          "output_type": "execute_result",
          "data": {
            "application/vnd.google.colaboratory.intrinsic+json": {
              "type": "string"
            },
            "text/plain": [
              "'# each value from city column \\n# will be fetched and sent to \\n# function find_geocode    \\nfor i in (df[\"City\"]):\\n  if findGeocode(i) != None:\\n    loc = findGeocode(i) \\n    # coordinates returned from \\n    # function is stored into \\n    # two separate list \\n    latitude.append(loc.latitude) \\n    longitude.append(loc.longitude) \\n       \\n    # if coordinate for a city not \\n    # found, insert \"NaN\" indicating  \\n    # missing value  \\n  else:\\n    latitude.append(np.nan)\\n    longitude.append(np.nan) \\n'"
            ]
          },
          "metadata": {
            "tags": []
          },
          "execution_count": 24
        }
      ]
    },
    {
      "cell_type": "code",
      "metadata": {
        "id": "EIBCPFoSSe74",
        "outputId": "b0481c4e-bac0-48f8-dfd4-d10b50904d65",
        "colab": {
          "base_uri": "https://localhost:8080/",
          "height": 246
        }
      },
      "source": [
        "df['lat']=0\n",
        "df['long']=0\n",
        "print(df['City'][1])\n",
        "for x in range(1,len(df)+1):\n",
        "  try:\n",
        "    if df['City'][x] != None:\n",
        "      City = geolocator.geocode(df['City'][x])\n",
        "      time.sleep(2)\n",
        "      df.at[x, 'lat']=City.latitude\n",
        "      df.at[x, 'long']=City.longitude\n",
        "    else:\n",
        "      df.at[x, 'lat']=np.nan\n",
        "      df.at[x, 'long']=np.nan\n",
        "\n",
        "  except GeocoderTimedOut:\n",
        "    if df['City'][x] != None:\n",
        "      City = geolocator.geocode(df['City'][x])\n",
        "      time.sleep(2)\n",
        "      df.at[x, 'lat']=City.latitude\n",
        "      df.at[x, 'long']=City.longitude\n",
        "    else:\n",
        "      df.at[x, 'lat']=np.nan\n",
        "      df.at[x, 'long']=np.nan\n"
      ],
      "execution_count": 26,
      "outputs": [
        {
          "output_type": "stream",
          "text": [
            "Wollongong\n"
          ],
          "name": "stdout"
        },
        {
          "output_type": "error",
          "ename": "AttributeError",
          "evalue": "ignored",
          "traceback": [
            "\u001b[0;31m---------------------------------------------------------------------------\u001b[0m",
            "\u001b[0;31mAttributeError\u001b[0m                            Traceback (most recent call last)",
            "\u001b[0;32m<ipython-input-26-a5434d536346>\u001b[0m in \u001b[0;36m<module>\u001b[0;34m()\u001b[0m\n\u001b[1;32m      7\u001b[0m       \u001b[0mCity\u001b[0m \u001b[0;34m=\u001b[0m \u001b[0mgeolocator\u001b[0m\u001b[0;34m.\u001b[0m\u001b[0mgeocode\u001b[0m\u001b[0;34m(\u001b[0m\u001b[0mdf\u001b[0m\u001b[0;34m[\u001b[0m\u001b[0;34m'City'\u001b[0m\u001b[0;34m]\u001b[0m\u001b[0;34m[\u001b[0m\u001b[0mx\u001b[0m\u001b[0;34m]\u001b[0m\u001b[0;34m)\u001b[0m\u001b[0;34m\u001b[0m\u001b[0;34m\u001b[0m\u001b[0m\n\u001b[1;32m      8\u001b[0m       \u001b[0mtime\u001b[0m\u001b[0;34m.\u001b[0m\u001b[0msleep\u001b[0m\u001b[0;34m(\u001b[0m\u001b[0;36m2\u001b[0m\u001b[0;34m)\u001b[0m\u001b[0;34m\u001b[0m\u001b[0;34m\u001b[0m\u001b[0m\n\u001b[0;32m----> 9\u001b[0;31m       \u001b[0mdf\u001b[0m\u001b[0;34m.\u001b[0m\u001b[0mat\u001b[0m\u001b[0;34m[\u001b[0m\u001b[0mx\u001b[0m\u001b[0;34m,\u001b[0m \u001b[0;34m'lat'\u001b[0m\u001b[0;34m]\u001b[0m\u001b[0;34m=\u001b[0m\u001b[0mCity\u001b[0m\u001b[0;34m.\u001b[0m\u001b[0mlatitude\u001b[0m\u001b[0;34m\u001b[0m\u001b[0;34m\u001b[0m\u001b[0m\n\u001b[0m\u001b[1;32m     10\u001b[0m       \u001b[0mdf\u001b[0m\u001b[0;34m.\u001b[0m\u001b[0mat\u001b[0m\u001b[0;34m[\u001b[0m\u001b[0mx\u001b[0m\u001b[0;34m,\u001b[0m \u001b[0;34m'long'\u001b[0m\u001b[0;34m]\u001b[0m\u001b[0;34m=\u001b[0m\u001b[0mCity\u001b[0m\u001b[0;34m.\u001b[0m\u001b[0mlongitude\u001b[0m\u001b[0;34m\u001b[0m\u001b[0;34m\u001b[0m\u001b[0m\n\u001b[1;32m     11\u001b[0m     \u001b[0;32melse\u001b[0m\u001b[0;34m:\u001b[0m\u001b[0;34m\u001b[0m\u001b[0;34m\u001b[0m\u001b[0m\n",
            "\u001b[0;31mAttributeError\u001b[0m: 'NoneType' object has no attribute 'latitude'"
          ]
        }
      ]
    },
    {
      "cell_type": "code",
      "metadata": {
        "colab": {
          "base_uri": "https://localhost:8080/",
          "height": 69
        },
        "id": "zP7jTg79pUkq",
        "outputId": "ff7b3c9d-fc18-41ee-b398-0d7ea6393c39"
      },
      "source": [
        "'''geolocator = Nominatim(user_agent=\"GlobalStore\")\n",
        "city = df['City'].unique()\n",
        "dlat = dict(zip(city, pd.Series(city).apply(geolocator.geocode).apply(lambda x: x.latitude)))\n",
        "dlong = dict(zip(city, pd.Series(city).apply(geolocator.geocode).apply(lambda x: x.longitude)))\n",
        "#dlat\n",
        "#dlong\n",
        "'''"
      ],
      "execution_count": 15,
      "outputs": [
        {
          "output_type": "execute_result",
          "data": {
            "application/vnd.google.colaboratory.intrinsic+json": {
              "type": "string"
            },
            "text/plain": [
              "'geolocator = Nominatim(user_agent=\"GlobalStore\")\\ncity = df[\\'City\\'].unique()\\ndlat = dict(zip(city, pd.Series(city).apply(geolocator.geocode).apply(lambda x: x.latitude)))\\ndlong = dict(zip(city, pd.Series(city).apply(geolocator.geocode).apply(lambda x: x.longitude)))\\n#dlat\\n#dlong\\n'"
            ]
          },
          "metadata": {
            "tags": []
          },
          "execution_count": 15
        }
      ]
    },
    {
      "cell_type": "code",
      "metadata": {
        "id": "4ifimmTR4Nkk"
      },
      "source": [
        "#df['lat'] = df['City'].map(dlat)\n"
      ],
      "execution_count": null,
      "outputs": []
    },
    {
      "cell_type": "code",
      "metadata": {
        "id": "-OSpOjBu4WJ7"
      },
      "source": [
        "#df['log'] = df['City'].map(dlong)"
      ],
      "execution_count": null,
      "outputs": []
    },
    {
      "cell_type": "code",
      "metadata": {
        "id": "vLt9Ooug4H9k"
      },
      "source": [
        ""
      ],
      "execution_count": null,
      "outputs": []
    }
  ]
}