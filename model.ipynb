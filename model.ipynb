{
  "nbformat": 4,
  "nbformat_minor": 0,
  "metadata": {
    "colab": {
      "name": "model.ipynb",
      "provenance": [],
      "collapsed_sections": [],
      "authorship_tag": "ABX9TyOS3cgdgVrLX0S3TLBlojZe",
      "include_colab_link": true
    },
    "kernelspec": {
      "name": "python3",
      "display_name": "Python 3"
    }
  },
  "cells": [
    {
      "cell_type": "markdown",
      "metadata": {
        "id": "view-in-github",
        "colab_type": "text"
      },
      "source": [
        "<a href=\"https://colab.research.google.com/github/Ayanlola2002/DATA-SCIENCE-PROJECTS/blob/master/model.ipynb\" target=\"_parent\"><img src=\"https://colab.research.google.com/assets/colab-badge.svg\" alt=\"Open In Colab\"/></a>"
      ]
    },
    {
      "cell_type": "code",
      "metadata": {
        "id": "dDrsAM-ZHG8V"
      },
      "source": [
        "\"\"\"\r\n",
        "## Importing Libraries\r\n",
        "\"\"\"\r\n",
        "\r\n",
        "import pandas as pd\r\n",
        "import numpy as np\r\n",
        "from sklearn.metrics import f1_score\r\n",
        "from xgboost import XGBClassifier"
      ],
      "execution_count": 8,
      "outputs": []
    },
    {
      "cell_type": "code",
      "metadata": {
        "id": "8BJTpv8sHg4k"
      },
      "source": [
        "\"\"\"# Processing Data\"\"\"\r\n",
        "\r\n",
        "df = pd.read_csv(\"https://raw.githubusercontent.com/dphi-official/Datasets/master/Loan_Data/loan_train.csv\").drop(['Unnamed: 0'],axis = 1)\r\n",
        "\r\n",
        "test_data = pd.read_csv('https://raw.githubusercontent.com/dphi-official/Datasets/master/Loan_Data/loan_test.csv')\r\n"
      ],
      "execution_count": 9,
      "outputs": []
    },
    {
      "cell_type": "code",
      "metadata": {
        "id": "uEMAxqOxHqCa"
      },
      "source": [
        "\"\"\"# Preprocessing\"\"\"\r\n",
        "\r\n",
        "def Transforming(df):\r\n",
        "  df['Gender'] = df['Gender'].fillna( df['Gender'].dropna().mode().values[0] )\r\n",
        "  df['Married'] = df['Married'].fillna( df['Married'].dropna().mode().values[0] )\r\n",
        "  df['Dependents'] = df['Dependents'].fillna( df['Dependents'].dropna().mode().values[0] )\r\n",
        "  df['Self_Employed'] = df['Self_Employed'].fillna( df['Self_Employed'].dropna().mode().values[0] )\r\n",
        "  df['LoanAmount'] = df['LoanAmount'].fillna( df['LoanAmount'].dropna().mean() )\r\n",
        "  df['Loan_Amount_Term'] = df['Loan_Amount_Term'].fillna( df['Loan_Amount_Term'].dropna().mode().values[0] )\r\n",
        "  df['Credit_History'] = df['Credit_History'].fillna( df['Credit_History'].dropna().mode().values[0] )\r\n",
        "  df['Dependents'] = df['Dependents'].str.rstrip('+')\r\n",
        "  df['Gender'] = df['Gender'].map({'Female':1,'Male':0}).astype(np.int)\r\n",
        "  df['Married'] = df['Married'].map({'No':0, 'Yes':1}).astype(np.int)\r\n",
        "  df['Education'] = df['Education'].map({'Not Graduate':0, 'Graduate':1}).astype(np.int)\r\n",
        "  df['Self_Employed'] = df['Self_Employed'].map({'No':0, 'Yes':1}).astype(np.int)\r\n",
        "  df['Dependents'] = df['Dependents'].astype(np.int)\r\n",
        "  df['Loan_ID'] =df['Loan_ID'].str.strip(\"LP\").astype(np.int)  \r\n",
        "  df = pd.get_dummies(df)\r\n",
        "  return df"
      ],
      "execution_count": 10,
      "outputs": []
    },
    {
      "cell_type": "code",
      "metadata": {
        "id": "Nuwl-mN1HtnZ"
      },
      "source": [
        "train = Transforming(df)\r\n",
        "test = Transforming(test_data)\r\n",
        "target = 'Loan_Status'"
      ],
      "execution_count": 11,
      "outputs": []
    },
    {
      "cell_type": "code",
      "metadata": {
        "id": "AbWiik2lH7yA"
      },
      "source": [
        "\"\"\"#XGB_Classifier\"\"\"\r\n",
        "\r\n",
        "xgbc = XGBClassifier(learning_rate =0.5, n_estimators=11, max_depth=12, min_child_weight=0, gamma=6, subsample=0.7755102040816326,\r\n",
        "                     colsample_bytree=0.8, objective= 'binary:logistic', nthread=4, scale_pos_weight=1, seed=2)"
      ],
      "execution_count": 12,
      "outputs": []
    },
    {
      "cell_type": "code",
      "metadata": {
        "id": "kZCFKoWzH_NR"
      },
      "source": [
        "xgbc.fit(train[test.columns],train[target])\r\n",
        "pred = xgbc.predict(test)\r\n",
        "pd.DataFrame({'prediction':pred}).to_csv('final_prediction.csv',index = False)"
      ],
      "execution_count": 13,
      "outputs": []
    },
    {
      "cell_type": "code",
      "metadata": {
        "id": "GwvBVoZZIBrk"
      },
      "source": [
        "\"\"\"# Pickling\"\"\"\r\n",
        "\r\n",
        "import pickle\r\n",
        "\r\n",
        "with open('model.pickle','wb') as file:\r\n",
        "  pickle.dump(xgbc,file)"
      ],
      "execution_count": 14,
      "outputs": []
    },
    {
      "cell_type": "code",
      "metadata": {
        "id": "5gAB_0iCIJYe"
      },
      "source": [
        ""
      ],
      "execution_count": 14,
      "outputs": []
    }
  ]
}