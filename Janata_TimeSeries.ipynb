{
  "nbformat": 4,
  "nbformat_minor": 0,
  "metadata": {
    "colab": {
      "name": "Janata_TimeSeries.ipynb",
      "provenance": [],
      "collapsed_sections": [],
      "authorship_tag": "ABX9TyN4u/EdnpZjCulyg3WaZwz/",
      "include_colab_link": true
    },
    "kernelspec": {
      "name": "python3",
      "display_name": "Python 3"
    }
  },
  "cells": [
    {
      "cell_type": "markdown",
      "metadata": {
        "id": "view-in-github",
        "colab_type": "text"
      },
      "source": [
        "<a href=\"https://colab.research.google.com/github/Ayanlola2002/DATA-SCIENCE-PROJECTS/blob/master/Janata_TimeSeries.ipynb\" target=\"_parent\"><img src=\"https://colab.research.google.com/assets/colab-badge.svg\" alt=\"Open In Colab\"/></a>"
      ]
    },
    {
      "cell_type": "code",
      "metadata": {
        "id": "Uw1UUcf1kx8a",
        "colab_type": "code",
        "outputId": "8d01767e-3e1e-4fa0-c3aa-bb27e38e961b",
        "colab": {
          "base_uri": "https://localhost:8080/",
          "height": 54
        }
      },
      "source": [
        "from google.colab import drive\n",
        "drive.mount('/content/drive')"
      ],
      "execution_count": 132,
      "outputs": [
        {
          "output_type": "stream",
          "text": [
            "Drive already mounted at /content/drive; to attempt to forcibly remount, call drive.mount(\"/content/drive\", force_remount=True).\n"
          ],
          "name": "stdout"
        }
      ]
    },
    {
      "cell_type": "code",
      "metadata": {
        "id": "JFPBT3W1lHue",
        "colab_type": "code",
        "colab": {}
      },
      "source": [
        "import pandas as pd\n",
        "import numpy as np\n"
      ],
      "execution_count": 0,
      "outputs": []
    },
    {
      "cell_type": "code",
      "metadata": {
        "id": "0Ds7mUGulULG",
        "colab_type": "code",
        "colab": {}
      },
      "source": [
        "train=pd.read_csv('/content/drive/My Drive/Analytic_VidYah/train_6BJx641.csv')\n",
        "test=pd.read_csv('/content/drive/My Drive/Analytic_VidYah/test_pavJagI.csv')"
      ],
      "execution_count": 0,
      "outputs": []
    },
    {
      "cell_type": "code",
      "metadata": {
        "id": "02yWytqdnHJL",
        "colab_type": "code",
        "outputId": "32e7f103-eb3e-4736-a80b-060399d62e01",
        "colab": {
          "base_uri": "https://localhost:8080/",
          "height": 51
        }
      },
      "source": [
        "print(train.shape)\n",
        "print(test.shape)"
      ],
      "execution_count": 135,
      "outputs": [
        {
          "output_type": "stream",
          "text": [
            "(26496, 8)\n",
            "(8568, 7)\n"
          ],
          "name": "stdout"
        }
      ]
    },
    {
      "cell_type": "code",
      "metadata": {
        "id": "cko0-qooo_Wg",
        "colab_type": "code",
        "colab": {}
      },
      "source": [
        "#storing the order Id column  and predictor column\n",
        "id=test['ID']\n",
        "y_train=train.iloc[:,-1]"
      ],
      "execution_count": 0,
      "outputs": []
    },
    {
      "cell_type": "code",
      "metadata": {
        "id": "6iMoMgI0nTQT",
        "colab_type": "code",
        "outputId": "45e91197-ebeb-4295-dfc0-d6ceb3ff16d5",
        "colab": {
          "base_uri": "https://localhost:8080/",
          "height": 272
        }
      },
      "source": [
        "train.info()"
      ],
      "execution_count": 137,
      "outputs": [
        {
          "output_type": "stream",
          "text": [
            "<class 'pandas.core.frame.DataFrame'>\n",
            "RangeIndex: 26496 entries, 0 to 26495\n",
            "Data columns (total 8 columns):\n",
            " #   Column                   Non-Null Count  Dtype  \n",
            "---  ------                   --------------  -----  \n",
            " 0   ID                       26496 non-null  int64  \n",
            " 1   datetime                 26496 non-null  object \n",
            " 2   temperature              26496 non-null  float64\n",
            " 3   var1                     26496 non-null  float64\n",
            " 4   pressure                 26496 non-null  float64\n",
            " 5   windspeed                26496 non-null  float64\n",
            " 6   var2                     26496 non-null  object \n",
            " 7   electricity_consumption  26496 non-null  float64\n",
            "dtypes: float64(5), int64(1), object(2)\n",
            "memory usage: 1.6+ MB\n"
          ],
          "name": "stdout"
        }
      ]
    },
    {
      "cell_type": "code",
      "metadata": {
        "id": "7zbLU6cdnAzs",
        "colab_type": "code",
        "colab": {}
      },
      "source": [
        "#temperature can be converted to fareiheiht to change values of temp to negative\n",
        "#extract month,year,day,hours from the datetime\n",
        "#can pressure and windspeed be grouped ?if so grouped them into categories high,low etc\n",
        "train=train.drop('electricity_consumption',axis=1)"
      ],
      "execution_count": 0,
      "outputs": []
    },
    {
      "cell_type": "code",
      "metadata": {
        "id": "PXxcA2qFnybF",
        "colab_type": "code",
        "outputId": "62d6754f-a468-4469-af36-387f926446cf",
        "colab": {
          "base_uri": "https://localhost:8080/",
          "height": 153
        }
      },
      "source": [
        "train.isnull().sum()"
      ],
      "execution_count": 139,
      "outputs": [
        {
          "output_type": "execute_result",
          "data": {
            "text/plain": [
              "ID             0\n",
              "datetime       0\n",
              "temperature    0\n",
              "var1           0\n",
              "pressure       0\n",
              "windspeed      0\n",
              "var2           0\n",
              "dtype: int64"
            ]
          },
          "metadata": {
            "tags": []
          },
          "execution_count": 139
        }
      ]
    },
    {
      "cell_type": "code",
      "metadata": {
        "id": "eLTdWCKsn3I5",
        "colab_type": "code",
        "outputId": "fea73838-6fea-413b-c594-5e8450bcb896",
        "colab": {
          "base_uri": "https://localhost:8080/",
          "height": 153
        }
      },
      "source": [
        "test.isnull().sum()"
      ],
      "execution_count": 140,
      "outputs": [
        {
          "output_type": "execute_result",
          "data": {
            "text/plain": [
              "ID             0\n",
              "datetime       0\n",
              "temperature    0\n",
              "var1           0\n",
              "pressure       0\n",
              "windspeed      0\n",
              "var2           0\n",
              "dtype: int64"
            ]
          },
          "metadata": {
            "tags": []
          },
          "execution_count": 140
        }
      ]
    },
    {
      "cell_type": "code",
      "metadata": {
        "id": "vAz_mT5voCgx",
        "colab_type": "code",
        "outputId": "4d366d61-076a-4d4d-d123-1805c71932ff",
        "colab": {
          "base_uri": "https://localhost:8080/",
          "height": 221
        }
      },
      "source": [
        "train['var1'].value_counts()"
      ],
      "execution_count": 141,
      "outputs": [
        {
          "output_type": "execute_result",
          "data": {
            "text/plain": [
              " 10.0    836\n",
              " 8.6     809\n",
              " 10.7    797\n",
              " 7.9     779\n",
              " 9.3     770\n",
              "        ... \n",
              "-29.3      3\n",
              " 17.9      2\n",
              "-32.9      1\n",
              " 18.6      1\n",
              "-32.1      1\n",
              "Name: var1, Length: 71, dtype: int64"
            ]
          },
          "metadata": {
            "tags": []
          },
          "execution_count": 141
        }
      ]
    },
    {
      "cell_type": "code",
      "metadata": {
        "id": "ObwQeKFbo_hj",
        "colab_type": "code",
        "outputId": "5b692be4-f11d-404e-e563-c8684977bbde",
        "colab": {
          "base_uri": "https://localhost:8080/",
          "height": 85
        }
      },
      "source": [
        "#This is ok,label encoding\n",
        "train['var2'].value_counts()"
      ],
      "execution_count": 142,
      "outputs": [
        {
          "output_type": "execute_result",
          "data": {
            "text/plain": [
              "A    25239\n",
              "C     1040\n",
              "B      217\n",
              "Name: var2, dtype: int64"
            ]
          },
          "metadata": {
            "tags": []
          },
          "execution_count": 142
        }
      ]
    },
    {
      "cell_type": "code",
      "metadata": {
        "id": "9F7mL9IGZBMO",
        "colab_type": "code",
        "colab": {}
      },
      "source": [
        "#extracting date part\n",
        "#dropped datetime\n",
        "train['exact_month']=pd.to_datetime(train['datetime'],format='%Y/%m/%d %H:%M:%S').dt.month\n",
        "train['exact_year']=pd.to_datetime(train['datetime'],format='%Y/%m/%d %H:%M:%S').dt.year\n",
        "train['exact_day']=pd.to_datetime(train['datetime'],format='%Y/%m/%d %H:%M:%S').dt.day\n",
        "train['exact_hour']=pd.to_datetime(train['datetime'],format='%Y/%m/%d %H:%M:%S').dt.hour"
      ],
      "execution_count": 0,
      "outputs": []
    },
    {
      "cell_type": "code",
      "metadata": {
        "id": "6cJ6fMAepHw2",
        "colab_type": "code",
        "colab": {}
      },
      "source": [
        "#extracting date part for test\n",
        "#dropped datetime\n",
        "test['exact_month']=pd.to_datetime(test['datetime'],format='%Y/%m/%d %H:%M:%S').dt.month\n",
        "test['exact_year']=pd.to_datetime(test['datetime'],format='%Y/%m/%d %H:%M:%S').dt.year\n",
        "test['exact_day']=pd.to_datetime(test['datetime'],format='%Y/%m/%d %H:%M:%S').dt.day\n",
        "test['exact_hour']=pd.to_datetime(test['datetime'],format='%Y/%m/%d %H:%M:%S').dt.hour"
      ],
      "execution_count": 0,
      "outputs": []
    },
    {
      "cell_type": "code",
      "metadata": {
        "id": "o014C-l3hVlk",
        "colab_type": "code",
        "colab": {}
      },
      "source": [
        "#convert temperature to kelvin\n",
        "#dropped temperature\n",
        "train['kelvin']=train['temperature']+273.15"
      ],
      "execution_count": 0,
      "outputs": []
    },
    {
      "cell_type": "code",
      "metadata": {
        "id": "IhCGZDaJpfWr",
        "colab_type": "code",
        "colab": {}
      },
      "source": [
        "#convert temperature to kelvin\n",
        "#dropped temperature\n",
        "test['kelvin']=test['temperature']+273.15"
      ],
      "execution_count": 0,
      "outputs": []
    },
    {
      "cell_type": "code",
      "metadata": {
        "id": "j3w1LxjklbW0",
        "colab_type": "code",
        "colab": {
          "base_uri": "https://localhost:8080/",
          "height": 221
        },
        "outputId": "2d38dd2f-8992-4ff7-b9a8-66661c432b73"
      },
      "source": [
        "train['kelvin']"
      ],
      "execution_count": 147,
      "outputs": [
        {
          "output_type": "execute_result",
          "data": {
            "text/plain": [
              "0        261.75\n",
              "1        261.05\n",
              "2        260.25\n",
              "3        261.75\n",
              "4        261.75\n",
              "          ...  \n",
              "26491    272.45\n",
              "26492    270.25\n",
              "26493    271.75\n",
              "26494    270.25\n",
              "26495    271.05\n",
              "Name: kelvin, Length: 26496, dtype: float64"
            ]
          },
          "metadata": {
            "tags": []
          },
          "execution_count": 147
        }
      ]
    },
    {
      "cell_type": "code",
      "metadata": {
        "id": "9qfomoM9mynY",
        "colab_type": "code",
        "colab": {}
      },
      "source": [
        "train['var1']=train['var1']+100"
      ],
      "execution_count": 0,
      "outputs": []
    },
    {
      "cell_type": "code",
      "metadata": {
        "id": "9TJgmvvLpl7z",
        "colab_type": "code",
        "colab": {}
      },
      "source": [
        "test['var1']=test['var1']+100"
      ],
      "execution_count": 0,
      "outputs": []
    },
    {
      "cell_type": "code",
      "metadata": {
        "id": "nn1jYQF9oout",
        "colab_type": "code",
        "colab": {}
      },
      "source": [
        "train=train.drop(['temperature','datetime'],axis=1)"
      ],
      "execution_count": 0,
      "outputs": []
    },
    {
      "cell_type": "code",
      "metadata": {
        "id": "i0aqn-UpptTJ",
        "colab_type": "code",
        "colab": {}
      },
      "source": [
        "test=test.drop(['temperature','datetime'],axis=1)"
      ],
      "execution_count": 0,
      "outputs": []
    },
    {
      "cell_type": "code",
      "metadata": {
        "id": "MbL3nKzvqh-S",
        "colab_type": "code",
        "colab": {
          "base_uri": "https://localhost:8080/",
          "height": 204
        },
        "outputId": "39f7d1a9-9271-4afe-8944-9eacd349f846"
      },
      "source": [
        "train.head()"
      ],
      "execution_count": 152,
      "outputs": [
        {
          "output_type": "execute_result",
          "data": {
            "text/html": [
              "<div>\n",
              "<style scoped>\n",
              "    .dataframe tbody tr th:only-of-type {\n",
              "        vertical-align: middle;\n",
              "    }\n",
              "\n",
              "    .dataframe tbody tr th {\n",
              "        vertical-align: top;\n",
              "    }\n",
              "\n",
              "    .dataframe thead th {\n",
              "        text-align: right;\n",
              "    }\n",
              "</style>\n",
              "<table border=\"1\" class=\"dataframe\">\n",
              "  <thead>\n",
              "    <tr style=\"text-align: right;\">\n",
              "      <th></th>\n",
              "      <th>ID</th>\n",
              "      <th>var1</th>\n",
              "      <th>pressure</th>\n",
              "      <th>windspeed</th>\n",
              "      <th>var2</th>\n",
              "      <th>exact_month</th>\n",
              "      <th>exact_year</th>\n",
              "      <th>exact_day</th>\n",
              "      <th>exact_hour</th>\n",
              "      <th>kelvin</th>\n",
              "    </tr>\n",
              "  </thead>\n",
              "  <tbody>\n",
              "    <tr>\n",
              "      <th>0</th>\n",
              "      <td>0</td>\n",
              "      <td>82.9</td>\n",
              "      <td>1003.0</td>\n",
              "      <td>571.910</td>\n",
              "      <td>A</td>\n",
              "      <td>7</td>\n",
              "      <td>2013</td>\n",
              "      <td>1</td>\n",
              "      <td>0</td>\n",
              "      <td>261.75</td>\n",
              "    </tr>\n",
              "    <tr>\n",
              "      <th>1</th>\n",
              "      <td>1</td>\n",
              "      <td>80.7</td>\n",
              "      <td>996.0</td>\n",
              "      <td>575.040</td>\n",
              "      <td>A</td>\n",
              "      <td>7</td>\n",
              "      <td>2013</td>\n",
              "      <td>1</td>\n",
              "      <td>1</td>\n",
              "      <td>261.05</td>\n",
              "    </tr>\n",
              "    <tr>\n",
              "      <th>2</th>\n",
              "      <td>2</td>\n",
              "      <td>80.0</td>\n",
              "      <td>1000.0</td>\n",
              "      <td>578.435</td>\n",
              "      <td>A</td>\n",
              "      <td>7</td>\n",
              "      <td>2013</td>\n",
              "      <td>1</td>\n",
              "      <td>2</td>\n",
              "      <td>260.25</td>\n",
              "    </tr>\n",
              "    <tr>\n",
              "      <th>3</th>\n",
              "      <td>3</td>\n",
              "      <td>82.9</td>\n",
              "      <td>995.0</td>\n",
              "      <td>582.580</td>\n",
              "      <td>A</td>\n",
              "      <td>7</td>\n",
              "      <td>2013</td>\n",
              "      <td>1</td>\n",
              "      <td>3</td>\n",
              "      <td>261.75</td>\n",
              "    </tr>\n",
              "    <tr>\n",
              "      <th>4</th>\n",
              "      <td>4</td>\n",
              "      <td>80.7</td>\n",
              "      <td>1005.0</td>\n",
              "      <td>586.600</td>\n",
              "      <td>A</td>\n",
              "      <td>7</td>\n",
              "      <td>2013</td>\n",
              "      <td>1</td>\n",
              "      <td>4</td>\n",
              "      <td>261.75</td>\n",
              "    </tr>\n",
              "  </tbody>\n",
              "</table>\n",
              "</div>"
            ],
            "text/plain": [
              "   ID  var1  pressure  windspeed  ... exact_year  exact_day  exact_hour  kelvin\n",
              "0   0  82.9    1003.0    571.910  ...       2013          1           0  261.75\n",
              "1   1  80.7     996.0    575.040  ...       2013          1           1  261.05\n",
              "2   2  80.0    1000.0    578.435  ...       2013          1           2  260.25\n",
              "3   3  82.9     995.0    582.580  ...       2013          1           3  261.75\n",
              "4   4  80.7    1005.0    586.600  ...       2013          1           4  261.75\n",
              "\n",
              "[5 rows x 10 columns]"
            ]
          },
          "metadata": {
            "tags": []
          },
          "execution_count": 152
        }
      ]
    },
    {
      "cell_type": "code",
      "metadata": {
        "id": "oM9E14PNqlBW",
        "colab_type": "code",
        "colab": {
          "base_uri": "https://localhost:8080/",
          "height": 204
        },
        "outputId": "cc6b4aee-5db3-471c-c860-ac2623b05eda"
      },
      "source": [
        "test.head()"
      ],
      "execution_count": 153,
      "outputs": [
        {
          "output_type": "execute_result",
          "data": {
            "text/html": [
              "<div>\n",
              "<style scoped>\n",
              "    .dataframe tbody tr th:only-of-type {\n",
              "        vertical-align: middle;\n",
              "    }\n",
              "\n",
              "    .dataframe tbody tr th {\n",
              "        vertical-align: top;\n",
              "    }\n",
              "\n",
              "    .dataframe thead th {\n",
              "        text-align: right;\n",
              "    }\n",
              "</style>\n",
              "<table border=\"1\" class=\"dataframe\">\n",
              "  <thead>\n",
              "    <tr style=\"text-align: right;\">\n",
              "      <th></th>\n",
              "      <th>ID</th>\n",
              "      <th>var1</th>\n",
              "      <th>pressure</th>\n",
              "      <th>windspeed</th>\n",
              "      <th>var2</th>\n",
              "      <th>exact_month</th>\n",
              "      <th>exact_year</th>\n",
              "      <th>exact_day</th>\n",
              "      <th>exact_hour</th>\n",
              "      <th>kelvin</th>\n",
              "    </tr>\n",
              "  </thead>\n",
              "  <tbody>\n",
              "    <tr>\n",
              "      <th>0</th>\n",
              "      <td>552</td>\n",
              "      <td>83.6</td>\n",
              "      <td>1011.0</td>\n",
              "      <td>263.280</td>\n",
              "      <td>A</td>\n",
              "      <td>7</td>\n",
              "      <td>2013</td>\n",
              "      <td>24</td>\n",
              "      <td>0</td>\n",
              "      <td>263.15</td>\n",
              "    </tr>\n",
              "    <tr>\n",
              "      <th>1</th>\n",
              "      <td>553</td>\n",
              "      <td>79.3</td>\n",
              "      <td>1011.0</td>\n",
              "      <td>267.175</td>\n",
              "      <td>A</td>\n",
              "      <td>7</td>\n",
              "      <td>2013</td>\n",
              "      <td>24</td>\n",
              "      <td>1</td>\n",
              "      <td>263.15</td>\n",
              "    </tr>\n",
              "    <tr>\n",
              "      <th>2</th>\n",
              "      <td>554</td>\n",
              "      <td>82.9</td>\n",
              "      <td>1003.0</td>\n",
              "      <td>269.555</td>\n",
              "      <td>A</td>\n",
              "      <td>7</td>\n",
              "      <td>2013</td>\n",
              "      <td>24</td>\n",
              "      <td>2</td>\n",
              "      <td>262.45</td>\n",
              "    </tr>\n",
              "    <tr>\n",
              "      <th>3</th>\n",
              "      <td>555</td>\n",
              "      <td>79.3</td>\n",
              "      <td>1008.0</td>\n",
              "      <td>273.060</td>\n",
              "      <td>A</td>\n",
              "      <td>7</td>\n",
              "      <td>2013</td>\n",
              "      <td>24</td>\n",
              "      <td>3</td>\n",
              "      <td>259.55</td>\n",
              "    </tr>\n",
              "    <tr>\n",
              "      <th>4</th>\n",
              "      <td>556</td>\n",
              "      <td>82.9</td>\n",
              "      <td>1006.0</td>\n",
              "      <td>1.765</td>\n",
              "      <td>A</td>\n",
              "      <td>7</td>\n",
              "      <td>2013</td>\n",
              "      <td>24</td>\n",
              "      <td>4</td>\n",
              "      <td>262.45</td>\n",
              "    </tr>\n",
              "  </tbody>\n",
              "</table>\n",
              "</div>"
            ],
            "text/plain": [
              "    ID  var1  pressure  windspeed  ... exact_year  exact_day  exact_hour  kelvin\n",
              "0  552  83.6    1011.0    263.280  ...       2013         24           0  263.15\n",
              "1  553  79.3    1011.0    267.175  ...       2013         24           1  263.15\n",
              "2  554  82.9    1003.0    269.555  ...       2013         24           2  262.45\n",
              "3  555  79.3    1008.0    273.060  ...       2013         24           3  259.55\n",
              "4  556  82.9    1006.0      1.765  ...       2013         24           4  262.45\n",
              "\n",
              "[5 rows x 10 columns]"
            ]
          },
          "metadata": {
            "tags": []
          },
          "execution_count": 153
        }
      ]
    },
    {
      "cell_type": "code",
      "metadata": {
        "id": "RT-vXqh8q834",
        "colab_type": "code",
        "colab": {}
      },
      "source": [
        "#remove id\n",
        "train=train.drop(['ID'],axis=1)\n",
        "test=test.drop(['ID'],axis=1)"
      ],
      "execution_count": 0,
      "outputs": []
    },
    {
      "cell_type": "code",
      "metadata": {
        "id": "B96q6AQCvotH",
        "colab_type": "code",
        "colab": {}
      },
      "source": [
        "# Concatenating train + test= all_data\n",
        "all_data=pd.concat((train,test)).reset_index(drop=True)"
      ],
      "execution_count": 0,
      "outputs": []
    },
    {
      "cell_type": "code",
      "metadata": {
        "id": "31HQdOy6rloM",
        "colab_type": "code",
        "colab": {
          "base_uri": "https://localhost:8080/",
          "height": 289
        },
        "outputId": "bcf8f580-2754-4105-cce0-f42be7ec87c4"
      },
      "source": [
        "all_data.info()"
      ],
      "execution_count": 156,
      "outputs": [
        {
          "output_type": "stream",
          "text": [
            "<class 'pandas.core.frame.DataFrame'>\n",
            "RangeIndex: 35064 entries, 0 to 35063\n",
            "Data columns (total 9 columns):\n",
            " #   Column       Non-Null Count  Dtype  \n",
            "---  ------       --------------  -----  \n",
            " 0   var1         35064 non-null  float64\n",
            " 1   pressure     35064 non-null  float64\n",
            " 2   windspeed    35064 non-null  float64\n",
            " 3   var2         35064 non-null  object \n",
            " 4   exact_month  35064 non-null  int64  \n",
            " 5   exact_year   35064 non-null  int64  \n",
            " 6   exact_day    35064 non-null  int64  \n",
            " 7   exact_hour   35064 non-null  int64  \n",
            " 8   kelvin       35064 non-null  float64\n",
            "dtypes: float64(4), int64(4), object(1)\n",
            "memory usage: 2.4+ MB\n"
          ],
          "name": "stdout"
        }
      ]
    },
    {
      "cell_type": "code",
      "metadata": {
        "id": "SCtGbO5FrMwu",
        "colab_type": "code",
        "colab": {
          "base_uri": "https://localhost:8080/",
          "height": 51
        },
        "outputId": "a4d7aebf-0245-41d7-b061-36ed8e82b781"
      },
      "source": [
        "#extracting Object datatype\n",
        "all_data.select_dtypes(include=['object']).dtypes"
      ],
      "execution_count": 157,
      "outputs": [
        {
          "output_type": "execute_result",
          "data": {
            "text/plain": [
              "var2    object\n",
              "dtype: object"
            ]
          },
          "metadata": {
            "tags": []
          },
          "execution_count": 157
        }
      ]
    },
    {
      "cell_type": "code",
      "metadata": {
        "id": "lgBZ2_LOxK3Q",
        "colab_type": "code",
        "colab": {}
      },
      "source": [
        "c=('var2')\n",
        "cat_list=list(c)"
      ],
      "execution_count": 0,
      "outputs": []
    },
    {
      "cell_type": "code",
      "metadata": {
        "id": "D1wiHCYCxdeH",
        "colab_type": "code",
        "colab": {}
      },
      "source": [
        ""
      ],
      "execution_count": 0,
      "outputs": []
    },
    {
      "cell_type": "code",
      "metadata": {
        "id": "6KTocmsut3Z2",
        "colab_type": "code",
        "colab": {}
      },
      "source": [
        "#LabelEncoder\n",
        "from sklearn.preprocessing import LabelEncoder\n",
        "le = LabelEncoder()\n",
        "\n",
        "all_data['var2'] = le.fit_transform(all_data['var2'])\n",
        "#test['var2'] = le.fit_transform(test['var2'])\n",
        "all_data.drop(['var2'],axis=1,inplace=True)\n",
        "\n",
        "#test.drop(['var2'],axis=1,inplace=True)"
      ],
      "execution_count": 0,
      "outputs": []
    },
    {
      "cell_type": "code",
      "metadata": {
        "id": "Ic7mgEqbxFW6",
        "colab_type": "code",
        "colab": {}
      },
      "source": [
        "# Numerical_cols= all_data.columns-CategoricalColumns\n",
        "numeric_col=[]\n",
        "for col in all_data.columns:\n",
        "    if(col not in cat_list):\n",
        "        numeric_col.append(col)"
      ],
      "execution_count": 0,
      "outputs": []
    },
    {
      "cell_type": "code",
      "metadata": {
        "id": "VZLIiH_JxoeO",
        "colab_type": "code",
        "colab": {}
      },
      "source": [
        "skew=all_data[numeric_col].skew()"
      ],
      "execution_count": 0,
      "outputs": []
    },
    {
      "cell_type": "code",
      "metadata": {
        "id": "tpxAzBNIxx-S",
        "colab_type": "code",
        "colab": {
          "base_uri": "https://localhost:8080/",
          "height": 170
        },
        "outputId": "31db338b-dbfe-4295-f6aa-baf1baadf3bc"
      },
      "source": [
        "print(skew)"
      ],
      "execution_count": 162,
      "outputs": [
        {
          "output_type": "stream",
          "text": [
            "var1          -0.155565\n",
            "pressure       0.047492\n",
            "windspeed      4.455650\n",
            "exact_month   -0.009294\n",
            "exact_year    -0.000188\n",
            "exact_day      0.006760\n",
            "exact_hour     0.000000\n",
            "kelvin        -0.179994\n",
            "dtype: float64\n"
          ],
          "name": "stdout"
        }
      ]
    },
    {
      "cell_type": "code",
      "metadata": {
        "id": "Z4t5OYtSxy3g",
        "colab_type": "code",
        "colab": {
          "base_uri": "https://localhost:8080/",
          "height": 34
        },
        "outputId": "f7ce250e-368f-45cd-d589-3a16a2e4004b"
      },
      "source": [
        "skew=skew[abs(skew) > 0.75]\n",
        "print(len(skew))"
      ],
      "execution_count": 163,
      "outputs": [
        {
          "output_type": "stream",
          "text": [
            "1\n"
          ],
          "name": "stdout"
        }
      ]
    },
    {
      "cell_type": "code",
      "metadata": {
        "id": "LuXp0Uzox6gv",
        "colab_type": "code",
        "colab": {}
      },
      "source": [
        "from scipy.special import boxcox1p\n",
        "lam=0.15\n",
        "for i in skew.index:\n",
        "    all_data[i]=np.log1p(all_data[i])"
      ],
      "execution_count": 0,
      "outputs": []
    },
    {
      "cell_type": "code",
      "metadata": {
        "id": "vwlUOG9-x_QX",
        "colab_type": "code",
        "colab": {}
      },
      "source": [
        "#Normalizing NUMERICAL_COLUMNS to be between [0,1]\n",
        "########### NORMALIZING NUMERIC FEATURES ####################\n",
        "for col in numeric_col:\n",
        "    m=np.mean(all_data[col])\n",
        "    ma=np.max(all_data[col])\n",
        "    mi=np.min(all_data[col])\n",
        "    all_data[col]=(all_data[col]-m)/(ma-mi)"
      ],
      "execution_count": 0,
      "outputs": []
    },
    {
      "cell_type": "code",
      "metadata": {
        "id": "vr3peWLyyMH4",
        "colab_type": "code",
        "colab": {
          "base_uri": "https://localhost:8080/",
          "height": 34
        },
        "outputId": "60d3bc15-51af-48e7-b692-11ba3257927d"
      },
      "source": [
        "all_data=pd.get_dummies(all_data)\n",
        "print(np.shape(all_data))"
      ],
      "execution_count": 166,
      "outputs": [
        {
          "output_type": "stream",
          "text": [
            "(35064, 8)\n"
          ],
          "name": "stdout"
        }
      ]
    },
    {
      "cell_type": "code",
      "metadata": {
        "id": "hkowuCD5wd7S",
        "colab_type": "code",
        "colab": {}
      },
      "source": [
        "q=np.shape(y_train)[0]\n",
        "train=all_data[:q]\n",
        "test=all_data[q:]"
      ],
      "execution_count": 0,
      "outputs": []
    },
    {
      "cell_type": "code",
      "metadata": {
        "id": "beV45EIl0nVt",
        "colab_type": "code",
        "colab": {
          "base_uri": "https://localhost:8080/",
          "height": 34
        },
        "outputId": "84aef4f6-aed0-489e-ca44-5a52e70fd833"
      },
      "source": [
        "print(np.shape(train),np.shape(test))"
      ],
      "execution_count": 168,
      "outputs": [
        {
          "output_type": "stream",
          "text": [
            "(26496, 8) (8568, 8)\n"
          ],
          "name": "stdout"
        }
      ]
    },
    {
      "cell_type": "code",
      "metadata": {
        "id": "fyTGaU-s0rV6",
        "colab_type": "code",
        "colab": {
          "base_uri": "https://localhost:8080/",
          "height": 34
        },
        "outputId": "832739f8-f407-45cc-a2eb-650e2204a60e"
      },
      "source": [
        "print(len(test.columns),len(train.columns))"
      ],
      "execution_count": 169,
      "outputs": [
        {
          "output_type": "stream",
          "text": [
            "8 8\n"
          ],
          "name": "stdout"
        }
      ]
    },
    {
      "cell_type": "code",
      "metadata": {
        "id": "jjHPIBmW0s01",
        "colab_type": "code",
        "colab": {}
      },
      "source": [
        "from sklearn.model_selection import train_test_split\n",
        "xtrain, xval, ytrain, yval = train_test_split(train, y_train, test_size=0.33,\n",
        "                                                      random_state=0)"
      ],
      "execution_count": 0,
      "outputs": []
    },
    {
      "cell_type": "code",
      "metadata": {
        "id": "FTfZW1SH00EM",
        "colab_type": "code",
        "colab": {
          "base_uri": "https://localhost:8080/",
          "height": 68
        },
        "outputId": "927437b2-9d19-4119-fccb-7fbb12d93b87"
      },
      "source": [
        "print('''XTRAIN {}   \n",
        "XVAL{}   \n",
        "XTEST{}'''.format(np.shape(xtrain),np.shape(xval),np.shape(test)))"
      ],
      "execution_count": 172,
      "outputs": [
        {
          "output_type": "stream",
          "text": [
            "XTRAIN (17752, 8)   \n",
            "XVAL(8744, 8)   \n",
            "XTEST(8568, 8)\n"
          ],
          "name": "stdout"
        }
      ]
    },
    {
      "cell_type": "code",
      "metadata": {
        "id": "Fo1k5JUA07pD",
        "colab_type": "code",
        "colab": {}
      },
      "source": [
        "from sklearn.model_selection import cross_val_score"
      ],
      "execution_count": 0,
      "outputs": []
    },
    {
      "cell_type": "code",
      "metadata": {
        "id": "fLOY4BTD1AuV",
        "colab_type": "code",
        "colab": {}
      },
      "source": [
        "\n",
        "from sklearn.model_selection import KFold, cross_val_score\n",
        "n_folds = 5 # number of folds\n",
        "def get_cv_scores(model, X, y, print_scores=True):\n",
        "    kf = KFold(n_folds, shuffle=True, random_state=42).get_n_splits(X) # create folds\n",
        "    rmse = np.sqrt(-cross_val_score(model, X, y, scoring=\"neg_mean_squared_error\", cv = kf)) # get rmse\n",
        "    if print_scores:\n",
        "        print(f'Root mean squared error: {rmse.mean():.3f} ({rmse.std():.3f})')\n",
        "    return [rmse]"
      ],
      "execution_count": 0,
      "outputs": []
    },
    {
      "cell_type": "code",
      "metadata": {
        "id": "C1gDQPHw1IqX",
        "colab_type": "code",
        "colab": {}
      },
      "source": [
        "from xgboost import XGBRegressor,XGBRFRegressor\n",
        "from lightgbm import LGBMRegressor\n",
        "from sklearn.kernel_ridge import KernelRidge\n",
        "from sklearn.ensemble import RandomForestRegressor,  GradientBoostingRegressor\n",
        "import lightgbm as lgb\n",
        "from sklearn.pipeline import make_pipeline\n",
        "from sklearn.linear_model import ElasticNet,BayesianRidge\n",
        "from sklearn.preprocessing import RobustScaler\n",
        "model_enet = make_pipeline(RobustScaler(), ElasticNet(alpha=0.0005, l1_ratio=.9, random_state=3))"
      ],
      "execution_count": 0,
      "outputs": []
    },
    {
      "cell_type": "code",
      "metadata": {
        "id": "ZcXR-CjT1Ken",
        "colab_type": "code",
        "colab": {}
      },
      "source": [
        "\n",
        "model_lgb = lgb.LGBMRegressor(objective='regression',num_leaves=5,\n",
        "                              learning_rate=0.03, n_estimators=720,\n",
        "                              max_bin = 55, bagging_fraction = 0.8,\n",
        "                              bagging_freq = 5, feature_fraction = 0.2319,\n",
        "                              feature_fraction_seed=9, bagging_seed=9,\n",
        "                              min_data_in_leaf =6, min_sum_hessian_in_leaf = 11)"
      ],
      "execution_count": 0,
      "outputs": []
    },
    {
      "cell_type": "code",
      "metadata": {
        "id": "2unnVYMP1KpQ",
        "colab_type": "code",
        "colab": {}
      },
      "source": [
        "\n",
        "model_gboost = GradientBoostingRegressor(n_estimators=3000, learning_rate=0.05,\n",
        "                                   max_depth=4, max_features='sqrt',\n",
        "                                   min_samples_leaf=15, min_samples_split=10, \n",
        "                                   loss='huber', random_state =5)"
      ],
      "execution_count": 0,
      "outputs": []
    },
    {
      "cell_type": "code",
      "metadata": {
        "id": "oKDGxTz_1TiW",
        "colab_type": "code",
        "colab": {}
      },
      "source": [
        "model_krr = KernelRidge(alpha=0.6, kernel='polynomial', degree=2, coef0=2.5)"
      ],
      "execution_count": 0,
      "outputs": []
    },
    {
      "cell_type": "code",
      "metadata": {
        "id": "YooyAOef1Tr0",
        "colab_type": "code",
        "colab": {}
      },
      "source": [
        "#XGBOOST\n",
        "model_xgb=XGBRegressor(n_estimators=2200,learning_rate=0.05)\n",
        "#model.fit(xtrain,ytrain)#,early_stopping_rounds=5,eval_set=[(xval,yval)],verbose=False)"
      ],
      "execution_count": 0,
      "outputs": []
    },
    {
      "cell_type": "code",
      "metadata": {
        "id": "aBdyGKop1T08",
        "colab_type": "code",
        "colab": {
          "base_uri": "https://localhost:8080/",
          "height": 207
        },
        "outputId": "0321864e-2934-4eab-aa08-440ca5f8169d"
      },
      "source": [
        "#previous 1000\n",
        "#scores=-1 * cross_val_score(XGBRegressor(n_estimators=2200,learning_rate=0.05),xtrain,ytrain,cv=5,scoring=\"neg_mean_absolute_error\")\n",
        "for model in [model_enet,model_lgb,model_gboost,model_krr,model_xgb]:\n",
        "    get_cv_scores(model,xtrain, ytrain)"
      ],
      "execution_count": 183,
      "outputs": [
        {
          "output_type": "stream",
          "text": [
            "Root mean squared error: 94.600 (4.435)\n",
            "Root mean squared error: 91.546 (4.380)\n",
            "Root mean squared error: 69.177 (4.207)\n",
            "Root mean squared error: 90.708 (4.348)\n",
            "[14:08:12] WARNING: /workspace/src/objective/regression_obj.cu:152: reg:linear is now deprecated in favor of reg:squarederror.\n",
            "[14:08:24] WARNING: /workspace/src/objective/regression_obj.cu:152: reg:linear is now deprecated in favor of reg:squarederror.\n",
            "[14:08:37] WARNING: /workspace/src/objective/regression_obj.cu:152: reg:linear is now deprecated in favor of reg:squarederror.\n",
            "[14:08:49] WARNING: /workspace/src/objective/regression_obj.cu:152: reg:linear is now deprecated in favor of reg:squarederror.\n",
            "[14:09:01] WARNING: /workspace/src/objective/regression_obj.cu:152: reg:linear is now deprecated in favor of reg:squarederror.\n",
            "Root mean squared error: 71.528 (3.672)\n"
          ],
          "name": "stdout"
        }
      ]
    },
    {
      "cell_type": "code",
      "metadata": {
        "id": "30R9Aby11eyp",
        "colab_type": "code",
        "colab": {}
      },
      "source": [
        "#using Averaging Ensembling\n",
        "from sklearn.base import BaseEstimator\n",
        "from sklearn.base import RegressorMixin\n",
        "from sklearn.base import TransformerMixin\n",
        "from sklearn.base import clone\n",
        "class AveragedModels(BaseEstimator, RegressorMixin, TransformerMixin):\n",
        "    def __init__(self, models):\n",
        "        self.models = models\n",
        "        \n",
        "    def fit(self, X, y):\n",
        "        self.models_ = [clone(x) for x in self.models]\n",
        "        \n",
        "        # Train cloned base models\n",
        "        for model in self.models_:\n",
        "            model.fit(X, y)\n",
        "        return self\n",
        "    \n",
        "    def predict(self, X):\n",
        "        predictions = np.column_stack([\n",
        "            model.predict(X) for model in self.models_\n",
        "        ])\n",
        "        return np.mean(predictions, axis=1)"
      ],
      "execution_count": 0,
      "outputs": []
    },
    {
      "cell_type": "code",
      "metadata": {
        "id": "M3C6fUlJ1nOH",
        "colab_type": "code",
        "colab": {
          "base_uri": "https://localhost:8080/",
          "height": 190
        },
        "outputId": "c2323aa8-944e-44b2-e808-5b94138d6ec8"
      },
      "source": [
        "\n",
        "%%time\n",
        "averaged_model = AveragedModels([model_enet,model_lgb,model_gboost,model_krr,model_xgb])\n",
        "get_cv_scores(averaged_model,xtrain, ytrain)\n",
        "averaged_model.fit(xtrain,ytrain)\n",
        "AV_y_pred = averaged_model.predict(test)"
      ],
      "execution_count": 185,
      "outputs": [
        {
          "output_type": "stream",
          "text": [
            "[14:11:43] WARNING: /workspace/src/objective/regression_obj.cu:152: reg:linear is now deprecated in favor of reg:squarederror.\n",
            "[14:13:08] WARNING: /workspace/src/objective/regression_obj.cu:152: reg:linear is now deprecated in favor of reg:squarederror.\n",
            "[14:14:32] WARNING: /workspace/src/objective/regression_obj.cu:152: reg:linear is now deprecated in favor of reg:squarederror.\n",
            "[14:16:00] WARNING: /workspace/src/objective/regression_obj.cu:152: reg:linear is now deprecated in favor of reg:squarederror.\n",
            "[14:17:25] WARNING: /workspace/src/objective/regression_obj.cu:152: reg:linear is now deprecated in favor of reg:squarederror.\n",
            "Root mean squared error: 78.776 (4.543)\n",
            "[14:19:28] WARNING: /workspace/src/objective/regression_obj.cu:152: reg:linear is now deprecated in favor of reg:squarederror.\n",
            "CPU times: user 12min 28s, sys: 16.9 s, total: 12min 45s\n",
            "Wall time: 9min 13s\n"
          ],
          "name": "stdout"
        }
      ]
    },
    {
      "cell_type": "code",
      "metadata": {
        "id": "-PuM-4qQ1p5B",
        "colab_type": "code",
        "colab": {}
      },
      "source": [
        "AV_y_pred=np.expm1(AV_y_pred)"
      ],
      "execution_count": 0,
      "outputs": []
    },
    {
      "cell_type": "code",
      "metadata": {
        "id": "1nCbVGpU1qrn",
        "colab_type": "code",
        "colab": {}
      },
      "source": [
        "output = pd.DataFrame({'ID': id,'electricity_consumption': AV_y_pred})\n",
        "output.to_csv('submission.csv', index=False)"
      ],
      "execution_count": 0,
      "outputs": []
    },
    {
      "cell_type": "code",
      "metadata": {
        "id": "H9Dgyhsl1v6v",
        "colab_type": "code",
        "colab": {
          "base_uri": "https://localhost:8080/",
          "height": 204
        },
        "outputId": "fc9dcb80-8bdc-49a6-f0ec-f5dcf0b85d4f"
      },
      "source": [
        "output.head()"
      ],
      "execution_count": 191,
      "outputs": [
        {
          "output_type": "execute_result",
          "data": {
            "text/html": [
              "<div>\n",
              "<style scoped>\n",
              "    .dataframe tbody tr th:only-of-type {\n",
              "        vertical-align: middle;\n",
              "    }\n",
              "\n",
              "    .dataframe tbody tr th {\n",
              "        vertical-align: top;\n",
              "    }\n",
              "\n",
              "    .dataframe thead th {\n",
              "        text-align: right;\n",
              "    }\n",
              "</style>\n",
              "<table border=\"1\" class=\"dataframe\">\n",
              "  <thead>\n",
              "    <tr style=\"text-align: right;\">\n",
              "      <th></th>\n",
              "      <th>ID</th>\n",
              "      <th>electricity_consumption</th>\n",
              "    </tr>\n",
              "  </thead>\n",
              "  <tbody>\n",
              "    <tr>\n",
              "      <th>0</th>\n",
              "      <td>552</td>\n",
              "      <td>235.744687</td>\n",
              "    </tr>\n",
              "    <tr>\n",
              "      <th>1</th>\n",
              "      <td>553</td>\n",
              "      <td>261.254251</td>\n",
              "    </tr>\n",
              "    <tr>\n",
              "      <th>2</th>\n",
              "      <td>554</td>\n",
              "      <td>247.976540</td>\n",
              "    </tr>\n",
              "    <tr>\n",
              "      <th>3</th>\n",
              "      <td>555</td>\n",
              "      <td>271.902938</td>\n",
              "    </tr>\n",
              "    <tr>\n",
              "      <th>4</th>\n",
              "      <td>556</td>\n",
              "      <td>331.026177</td>\n",
              "    </tr>\n",
              "  </tbody>\n",
              "</table>\n",
              "</div>"
            ],
            "text/plain": [
              "    ID  electricity_consumption\n",
              "0  552               235.744687\n",
              "1  553               261.254251\n",
              "2  554               247.976540\n",
              "3  555               271.902938\n",
              "4  556               331.026177"
            ]
          },
          "metadata": {
            "tags": []
          },
          "execution_count": 191
        }
      ]
    },
    {
      "cell_type": "code",
      "metadata": {
        "id": "a7G-fDVjuHZ-",
        "colab_type": "code",
        "colab": {}
      },
      "source": [
        "\"\"\"\n",
        "# applying standard scaling\n",
        "\n",
        "from sklearn.preprocessing import StandardScaler\n",
        "\n",
        "sc = StandardScaler()\n",
        "train = sc.fit_transform(train)\n",
        "test = sc.transform(test)\n",
        "\"\"\"\n"
      ],
      "execution_count": 0,
      "outputs": []
    }
  ]
}