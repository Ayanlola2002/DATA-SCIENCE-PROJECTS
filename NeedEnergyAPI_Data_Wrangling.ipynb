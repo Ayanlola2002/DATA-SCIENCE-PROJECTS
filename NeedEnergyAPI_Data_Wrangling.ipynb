{
  "nbformat": 4,
  "nbformat_minor": 0,
  "metadata": {
    "colab": {
      "name": "NeedEnergyAPI_Data_Wrangling.ipynb",
      "provenance": [],
      "collapsed_sections": [],
      "authorship_tag": "ABX9TyNoq79by83VCW8foNJ0j3Dg",
      "include_colab_link": true
    },
    "kernelspec": {
      "name": "python3",
      "display_name": "Python 3"
    }
  },
  "cells": [
    {
      "cell_type": "markdown",
      "metadata": {
        "id": "view-in-github",
        "colab_type": "text"
      },
      "source": [
        "<a href=\"https://colab.research.google.com/github/Ayanlola2002/DATA-SCIENCE-PROJECTS/blob/master/NeedEnergyAPI_Data_Wrangling.ipynb\" target=\"_parent\"><img src=\"https://colab.research.google.com/assets/colab-badge.svg\" alt=\"Open In Colab\"/></a>"
      ]
    },
    {
      "cell_type": "code",
      "metadata": {
        "colab": {
          "base_uri": "https://localhost:8080/"
        },
        "id": "2Vs4GuGkmMBT",
        "outputId": "81f6dc64-8b16-4b91-92f9-621a819d46a1"
      },
      "source": [
        "#mounting Gdrive\r\n",
        "from google.colab import drive\r\n",
        "drive.mount('/content/drive')"
      ],
      "execution_count": 86,
      "outputs": [
        {
          "output_type": "stream",
          "text": [
            "Drive already mounted at /content/drive; to attempt to forcibly remount, call drive.mount(\"/content/drive\", force_remount=True).\n"
          ],
          "name": "stdout"
        }
      ]
    },
    {
      "cell_type": "code",
      "metadata": {
        "id": "3pJYQGNJmYeQ"
      },
      "source": [
        "import pandas as pd\r\n",
        "import numpy as np\r\n",
        "from datetime import date, datetime\r\n",
        "import holidays"
      ],
      "execution_count": 87,
      "outputs": []
    },
    {
      "cell_type": "code",
      "metadata": {
        "id": "ennCbmMYmdZj"
      },
      "source": [
        "df_5min=pd.read_csv('/content/drive/MyDrive/NEEDENERGY/data_five_min_id_47803.csv')\r\n",
        "df_hourly=pd.read_csv('/content/drive/MyDrive/NEEDENERGY/data_hourly_id_47803.csv')\r\n",
        "df_daily=pd.read_csv('/content/drive/MyDrive/NEEDENERGY/data_daily_id_47803.csv')\r\n",
        "df_monthly=pd.read_csv('/content/drive/MyDrive/NEEDENERGY/data_monthly_id_47803.csv')\r\n",
        "df_public_holiday=pd.read_csv('/content/drive/MyDrive/NEEDENERGY/public_holidays_weekends_ZIM.csv')\r\n"
      ],
      "execution_count": 88,
      "outputs": []
    },
    {
      "cell_type": "code",
      "metadata": {
        "id": "8QUUqzO5meJX"
      },
      "source": [
        "##Wrangling Helper Functions to Use\r\n",
        "\"\"\"\r\n",
        "This function do the reading of data file from file path(i.e drive)\r\n",
        "\"\"\"\r\n",
        "def do_read_data(datafile, dateCol):\r\n",
        "    ''' Read the excel file'''\r\n",
        "    df = pd.read_excel(datafile, index_col= dateCol, parse_dates=True)\r\n",
        "    return df\r\n",
        "\r\n",
        "\"\"\"\r\n",
        "This function Shows Information of the Data file\r\n",
        "Like The Header columns, Dimension of Data\r\n",
        "\"\"\"\r\n",
        "\r\n",
        "def do_data_information(datafile, info = False, head = True, shape = True):\r\n",
        "    ''' Look at the info of the data'''\r\n",
        "    \r\n",
        "    if not isinstance(datafile, pd.DataFrame):\r\n",
        "        df = read_data(datafile)\r\n",
        "    else:\r\n",
        "        df = datafile\r\n",
        "    \r\n",
        "    ## Information of data\r\n",
        "    if info:\r\n",
        "        df.info()\r\n",
        "        \r\n",
        "    print('--------------------------------------------------------------------')\r\n",
        "    print('First rows')\r\n",
        "    # Show first rows\r\n",
        "    if head:\r\n",
        "        print(df.head())\r\n",
        "        \r\n",
        "    print('--------------------------------------------------------------------')\r\n",
        "    print('Dimension of the data')\r\n",
        "    ## Dimension of data\r\n",
        "    if shape:\r\n",
        "        print(f'This data has {df.shape[0]} rows and {df.shape[1]} variables') \r\n",
        "        \r\n",
        "###This function returns the number of distinct values from any columns       \r\n",
        "def do_unique_values(df, col):\r\n",
        "    ''' Find the unique values of a columns'''\r\n",
        "    return df[col].nunique()\r\n",
        "\r\n",
        "\r\n",
        "###This function statistically describe the data values\r\n",
        "def do_description(df, col = None):\r\n",
        "    ''' Give the statistic summary'''\r\n",
        "    \r\n",
        "    ## Summary statistic\r\n",
        "    if col is not None:\r\n",
        "        stat = df[col].describe()\r\n",
        "    else:\r\n",
        "        stat = df.describe()\r\n",
        "\r\n",
        "    ## Change the name of the 50% index to median\r\n",
        "    idx = stat.index.tolist()\r\n",
        "    idx[5] = 'median'\r\n",
        "    stat.index = idx\r\n",
        "    return stat\r\n",
        "\r\n",
        "###This function finds % Missing values\r\n",
        "def check_missing_value(data):\r\n",
        "    ## percentage of missing values\r\n",
        "    n = data.isnull().sum().sort_values(ascending=False)/ len(data) * 100\r\n",
        "    return n\r\n",
        "\r\n",
        "def check_missing_values_table(df):\r\n",
        "  mis_val = df.isnull().sum()\r\n",
        "  mis_val_percent = 100 * df.isnull().sum() / len(df)\r\n",
        "  mis_val_table = pd.concat([mis_val, mis_val_percent], axis=1)\r\n",
        "  mis_val_table_ren_columns = mis_val_table.rename(\r\n",
        "  columns = {0 : 'Missing Values', 1 : '% of Total Values'})\r\n",
        "  mis_val_table_ren_columns = mis_val_table_ren_columns[\r\n",
        "      mis_val_table_ren_columns.iloc[:,1] != 0].sort_values(\r\n",
        "  '% of Total Values', ascending=False).round(1)\r\n",
        "  print (\"Your selected dataframe has \" + str(df.shape[1]) + \" columns.\\n\"      \r\n",
        "      \"There are \" + str(mis_val_table_ren_columns.shape[0]) +\r\n",
        "        \" columns that have missing values.\")\r\n",
        "  return mis_val_table_ren_columns\r\n",
        "\r\n",
        "\r\n",
        "###This function finds the amount of each values in a dataset\r\n",
        "def do_valueCount(data, col, perc = False):\r\n",
        "    ''' calculate the proportion in fraction or percentage'''\r\n",
        "    if not perc:\r\n",
        "      return data[col].value_counts()\r\n",
        "    else:\r\n",
        "      return data[col].value_counts(normalize = True).mul(100).round(1).astype(str) + '%'    \r\n",
        "### This function count number of unique values for all columns in a dataset\r\n",
        "def do_nunique_value(df):\r\n",
        "  print('The Numver of unique values per columns are as follows')\r\n",
        "  print(df.agg(['nunique']).T)\r\n",
        "\r\n",
        "\r\n",
        "###For date time conversion start here   \r\n",
        "def do_date_col_convertion(df, column_name):\r\n",
        "  df[column_name]=pd.to_datetime(df[column_name])\r\n",
        "  return df[column_name]\r\n",
        "\r\n",
        "def do_time_col_convertion(df, column_name):\r\n",
        "    return pd.to_timedelta(df[column_name])\r\n",
        "\r\n",
        "\r\n",
        "def do_datepart_extraction(data):\r\n",
        "  data['date'] = pd.to_datetime(data['date'])\r\n",
        "  data['dateOnly']=data['date'].dt.date\r\n",
        "  data['year'] = data['date'].dt.year\r\n",
        "  data['quarter']=data['date'].dt.quarter\r\n",
        "  data['month'] = data['date'].dt.month\r\n",
        "  data['weekday'] = data['date'].dt.weekday\r\n",
        "  data['day_name'] = data['date'].dt.day_name()\r\n",
        "  data['dayofyear'] = data['date'].dt.dayofyear\r\n",
        "  data['day'] =data['date'].dt.day\r\n",
        "  data['hour'] = data['date'].dt.hour\r\n",
        "  data['minute'] =data['date'].dt.minute\r\n",
        "  #data['Season']=data['month'].apply(do_year_season)\r\n",
        "  data['season'] = data.date.map(do_season_of_date)\r\n",
        "  data['day_section']=data['hour'].apply(do_day_sections)\r\n",
        "  return data\r\n",
        "   \r\n",
        "\r\n",
        "def do_season_of_date(date):\r\n",
        "  year = str(date.year)\r\n",
        "  seasons = {'spring': pd.date_range(start='21/03/'+year, end='20/06/'+year),\r\n",
        "              'summer': pd.date_range(start='21/06/'+year, end='22/09/'+year),\r\n",
        "              'autumn': pd.date_range(start='23/09/'+year, end='20/12/'+year)}\r\n",
        "  if date in seasons['spring']:\r\n",
        "    return 'spring'\r\n",
        "  if date in seasons['summer']:\r\n",
        "    return 'summer'\r\n",
        "  if date in seasons['autumn']:\r\n",
        "    return 'autumn'\r\n",
        "  else:\r\n",
        "    return 'winter'\r\n",
        "\r\n",
        "# Assuming df has a date column of type `datetime`\r\n",
        "#df['season'] = df.date.map(season_of_date)\r\n",
        "\r\n",
        "\r\n",
        "def do_day_sections(x):\r\n",
        "  if (x > 4) and (x <= 8):\r\n",
        "    return 'Early Morning'\r\n",
        "  elif (x > 8) and (x <= 12 ):\r\n",
        "    return 'Morning'\r\n",
        "  elif (x > 12) and (x <= 16):\r\n",
        "    return'Noon'\r\n",
        "  elif (x > 16) and (x <= 20) :\r\n",
        "    return 'Evening'\r\n",
        "  elif (x > 20) and (x <= 24):\r\n",
        "    return'Night'\r\n",
        "  elif (x <= 4):\r\n",
        "    return'Late Night'\r\n",
        "\r\n",
        "\r\n",
        "\r\n",
        "\r\n",
        "def get_holidays(startYear = 2018, endYear = 2025, countryCode = 'ZA'):\r\n",
        "  \"\"\"\r\n",
        "    Takes in a start and end date, and start and end year.\r\n",
        "    \r\n",
        "    Produces a dataframe with a daily date and columns:\r\n",
        "    holiday - 'Y' for holiday\r\n",
        "    holidayName - name of the holiday if holiday is 'Y'\r\n",
        "    \r\n",
        "    Returns a dataframe\r\n",
        "  \"\"\"\r\n",
        "  holidayDict = {}\r\n",
        "  for i in range(startYear, endYear):\r\n",
        "    for date, name in sorted(holidays.CountryHoliday(countryCode,years=[i]).items()):\r\n",
        "      holidayDict[date] = name\r\n",
        "      holiday_df = pd.DataFrame(list(holidayDict.items()),columns = ['day','holidayName'])\r\n",
        "      holiday_df['day'] = pd.to_datetime(holiday_df['day'], format='%Y-%M-%d').dt.date\r\n",
        "    return holiday_df\r\n",
        "    \r\n",
        "\r\n",
        "    \r\n",
        "def get_days(start = '1/1/2018',startYear = 2018, end = '31/12/2025',endYear = 2025, countryCode = 'ZA'):\r\n",
        "    \"\"\"\r\n",
        "    Takes in a start and end date, and start and end year.\r\n",
        "    \r\n",
        "    Produces a dataframe with a daily date and columns:\r\n",
        "    weekend - 'Y' for weendend and 'N' for workday\r\n",
        "    dayOfweek - numerical day of the week identifier 0 for monday\r\n",
        "    weekNum - numerical number of the week \r\n",
        "    holiday - 'Y' for holiday\r\n",
        "    holidayName - name of the holiday if holiday is 'Y'\r\n",
        "    \r\n",
        "    Returns a dataframe\r\n",
        "    \"\"\"\r\n",
        "    \r\n",
        "    #generate the range of daily dates\r\n",
        "    dates = pd.date_range(start = start, end = end)\r\n",
        "    date_df = pd.DataFrame(dates, columns = ['day'])\r\n",
        "    date_df['day'] = pd.to_datetime(date_df['day'], format='%Y-%M-%d')\r\n",
        "    country_holidays = get_holidays(startYear = startYear, endYear = endYear, countryCode = countryCode)\r\n",
        "    \r\n",
        "    date_df['dayName'] = pd.DatetimeIndex(date_df['day']).day_name()\r\n",
        "    date_df['dayOfWeek'] = date_df['day'].dt.dayofweek\r\n",
        "    date_df['weekend'] = date_df['dayOfWeek'].apply(lambda x: 'Y' if x>4 else 'N')\r\n",
        "    date_df['weekNum'] = date_df['day'].dt.week\r\n",
        "    date_df['holiday'] = date_df['day'].apply(lambda x: 'Y' if x in country_holidays['day'].values else 'N')\r\n",
        "    date_df['day'] = date_df['day'].dt.date\r\n",
        "    date_df = date_df.merge(country_holidays, on='day', how='left', indicator=False)\r\n",
        "    \r\n",
        "    date_df.to_csv(f'../data/public_holidays_weekends.csv', index=False)\r\n",
        "    return date_df\r\n",
        "\r\n",
        "###Functions to impute nan values for numerical varriable\r\n",
        "def Impute_nan(df):\r\n",
        "  numericalcol = [f for f in df_5min.columns if df_5min.dtypes[f] != 'object']\r\n",
        "  missing_col=df_5min[numericalcol].columns[df_5min[numericalcol].isnull().any()].tolist()\r\n",
        "  #Technique 1: Using mean to impute the missing values\r\n",
        "  for i in missing_col:\r\n",
        "    df.loc[df.loc[:,i].isnull(),i]=df.loc[:,i].mean()\r\n",
        "\r\n",
        "def Impute_na(df):\r\n",
        "  numericalcol = [f for f in df_5min.columns if df_5min.dtypes[f] != 'object']\r\n",
        "  missing_col=df_5min[numericalcol].columns[df_5min[numericalcol].isnull().any()].tolist()\r\n",
        "  #Technique 1: Using mean to impute the missing values\r\n",
        "  for i in missing_col:\r\n",
        "     df[i].fillna(mean,inplace=True)\r\n",
        "\r\n",
        "\r\n",
        "dataList=[df_5min,df_hourly,df_daily,df_monthly]\r\n",
        "\r\n",
        "def do_wrangling_task(dL):\r\n",
        "  for i in range(len(dL)):\r\n",
        "    print(do_data_information(dL[i]))\r\n",
        "    print('===============================================')\r\n",
        "    print(check_missing_values_table(dL[i]))\r\n",
        "    print('===============================================')\r\n",
        "    print(do_nunique_value(dL[i]))\r\n",
        "    print('===============================================')\r\n",
        "    #Feature Engineering\r\n",
        "    dL[i]=do_datepart_extraction(dL[i])\r\n",
        "    print('===============================================')\r\n",
        "    dL[i].date.min(),dL[i].date.max()\r\n",
        "    print('===============================================')\r\n",
        "    dL[i].consumption.min(),dL[i].consumption.max()\r\n",
        "    print('===============================================')\r\n",
        "    #checking for days where there weere no consumptions\r\n",
        "    dL[i][dL[i].consumption==0].value_counts().count(),dL[i][dL[i].consumption==0].value_counts()\r\n",
        "    print('===============================================')\r\n",
        "    dL[i]['Public_Holiday'] = dL[i]['dateOnly'].map(mapping)\r\n",
        "    print('===============================================')\r\n",
        "    dL[i]['Public_Holiday']=dL[i]['Public_Holiday'].apply(lambda x:np.NaN if isinstance(x, str) and (x.isspace() or not x) else x).replace(np.NaN,'Non_Holiday')\r\n",
        "    print('===============================================')\r\n",
        "    dL[i]=dL[i][['date','timestamp','year','quarter','month','dayofyear','day','day_name','hour','minute','season','day_section','Public_Holiday','consumption','solar','alwaysOn','gridImport','gridExport','selfConsumption','selfSufficiency','active','reactive','voltages','phaseVoltages','currentHarmonics','voltageHarmonics']]\r\n",
        "    print('===============================================')\r\n",
        "    print('===============================================')\r\n",
        "\r\n",
        "\r\n",
        "\r\n",
        "#df['holidays']=df['date'].apply(lambda(x: 'Hols' if x in get_holidays()['day'].values else 'Non-Hols'))\r\n",
        "\r\n"
      ],
      "execution_count": 89,
      "outputs": []
    },
    {
      "cell_type": "code",
      "metadata": {
        "colab": {
          "base_uri": "https://localhost:8080/"
        },
        "id": "9vTU_osHm44W",
        "outputId": "3480d82e-478b-4359-8c5f-18b9f590ec03"
      },
      "source": [
        "#Data Description and Information for df_5min\r\n",
        "print(do_data_information(df_5min))\r\n",
        "print(do_data_information(df_monthly))\r\n",
        "print(do_data_information(df_public_holiday))"
      ],
      "execution_count": 91,
      "outputs": [
        {
          "output_type": "stream",
          "text": [
            "--------------------------------------------------------------------\n",
            "First rows\n",
            "                  date  ...                                   voltageHarmonics\n",
            "0  2020-03-15 18:15:00  ...  [[], [], [], [], [], [], [], [], [], [], [], [...\n",
            "1  2020-03-15 18:20:00  ...  [[], [], [], [], [], [], [], [], [], [], [], [...\n",
            "2  2020-03-15 18:25:00  ...  [[], [], [], [], [], [], [], [], [], [], [], [...\n",
            "3  2020-03-15 18:30:00  ...  [[], [], [], [], [], [], [], [], [], [], [], [...\n",
            "4  2020-03-15 18:35:00  ...  [[], [], [], [], [], [], [], [], [], [], [], [...\n",
            "\n",
            "[5 rows x 15 columns]\n",
            "--------------------------------------------------------------------\n",
            "Dimension of the data\n",
            "This data has 95649 rows and 15 variables\n",
            "None\n",
            "--------------------------------------------------------------------\n",
            "First rows\n",
            "         date  ...                                   voltageHarmonics\n",
            "0  2020-03-01  ...  [[], [], [], [], [], [], [], [], [], [], [], [...\n",
            "1  2020-04-01  ...  [[], [], [], [], [], [], [], [], [], [], [], [...\n",
            "2  2020-05-01  ...  [[], [], [], [], [], [], [], [], [], [], [], [...\n",
            "3  2020-06-01  ...  [[], [], [], [], [], [], [], [], [], [], [], [...\n",
            "4  2020-07-01  ...  [[], [], [], [], [], [], [], [], [], [], [], [...\n",
            "\n",
            "[5 rows x 15 columns]\n",
            "--------------------------------------------------------------------\n",
            "Dimension of the data\n",
            "This data has 12 rows and 15 variables\n",
            "None\n",
            "--------------------------------------------------------------------\n",
            "First rows\n",
            "          day    dayName  dayOfWeek weekend  weekNumber holiday     holidayName\n",
            "0  2018/01/01     Monday          0       N           1       Y  New Year's Day\n",
            "1  2018/01/02    Tuesday          1       N           1       N                \n",
            "2  2018/01/03  Wednesday          2       N           1       N                \n",
            "3  2018/01/04   Thursday          3       N           1       N                \n",
            "4  2018/01/05     Friday          4       N           1       N                \n",
            "--------------------------------------------------------------------\n",
            "Dimension of the data\n",
            "This data has 2558 rows and 7 variables\n",
            "None\n"
          ],
          "name": "stdout"
        }
      ]
    },
    {
      "cell_type": "markdown",
      "metadata": {
        "id": "QdG15O0DoIvf"
      },
      "source": [
        "Data Quality Information:\r\n",
        "df_5min : The data has 95649 rows and 15 features"
      ]
    },
    {
      "cell_type": "code",
      "metadata": {
        "colab": {
          "base_uri": "https://localhost:8080/"
        },
        "id": "tpwtZCr1oBhO",
        "outputId": "184d82b2-0df8-4075-c722-bca5276e1639"
      },
      "source": [
        "#Checking Missing Values by percentage\r\n",
        "print(check_missing_values_table(df_5min))\r\n",
        "print(check_missing_values_table(df_public_holiday))\r\n"
      ],
      "execution_count": 92,
      "outputs": [
        {
          "output_type": "stream",
          "text": [
            "Your selected dataframe has 15 columns.\n",
            "There are 0 columns that have missing values.\n",
            "Empty DataFrame\n",
            "Columns: [Missing Values, % of Total Values]\n",
            "Index: []\n",
            "Your selected dataframe has 7 columns.\n",
            "There are 0 columns that have missing values.\n",
            "Empty DataFrame\n",
            "Columns: [Missing Values, % of Total Values]\n",
            "Index: []\n"
          ],
          "name": "stdout"
        }
      ]
    },
    {
      "cell_type": "code",
      "metadata": {
        "colab": {
          "base_uri": "https://localhost:8080/"
        },
        "id": "CUDUqoBGTCcN",
        "outputId": "2cead63c-d243-4449-e272-b4ef55e31cd5"
      },
      "source": [
        "#Checking number of Unique values\r\n",
        "print(do_nunique_value(df_5min))\r\n",
        "print('======================================')\r\n",
        "print(do_nunique_value(df_public_holiday))"
      ],
      "execution_count": 94,
      "outputs": [
        {
          "output_type": "stream",
          "text": [
            "The Numver of unique values per columns are as follows\n",
            "                  nunique\n",
            "date                95649\n",
            "timestamp           95649\n",
            "consumption         76377\n",
            "solar               50268\n",
            "alwaysOn              955\n",
            "gridImport          66188\n",
            "gridExport              1\n",
            "selfConsumption         2\n",
            "selfSufficiency      5594\n",
            "active              95512\n",
            "reactive            95595\n",
            "voltages              389\n",
            "phaseVoltages         389\n",
            "currentHarmonics        1\n",
            "voltageHarmonics        1\n",
            "None\n",
            "======================================\n",
            "The Numver of unique values per columns are as follows\n",
            "             nunique\n",
            "day             2558\n",
            "dayName            7\n",
            "dayOfWeek          7\n",
            "weekend            2\n",
            "weekNumber        53\n",
            "holiday            2\n",
            "holidayName       24\n",
            "None\n"
          ],
          "name": "stdout"
        }
      ]
    },
    {
      "cell_type": "code",
      "metadata": {
        "id": "YOEm9i04noWh"
      },
      "source": [
        "#Feature Engineering\r\n",
        "#extracting date part\r\n",
        "df_5min=do_datepart_extraction(df_5min)\r\n"
      ],
      "execution_count": 95,
      "outputs": []
    },
    {
      "cell_type": "code",
      "metadata": {
        "colab": {
          "base_uri": "https://localhost:8080/",
          "height": 719
        },
        "id": "GVQWd5wypG0V",
        "outputId": "4d77ae7f-9815-4ba9-8f0d-34150bded7d6"
      },
      "source": [
        "df_5min.head()"
      ],
      "execution_count": 96,
      "outputs": [
        {
          "output_type": "execute_result",
          "data": {
            "text/html": [
              "<div>\n",
              "<style scoped>\n",
              "    .dataframe tbody tr th:only-of-type {\n",
              "        vertical-align: middle;\n",
              "    }\n",
              "\n",
              "    .dataframe tbody tr th {\n",
              "        vertical-align: top;\n",
              "    }\n",
              "\n",
              "    .dataframe thead th {\n",
              "        text-align: right;\n",
              "    }\n",
              "</style>\n",
              "<table border=\"1\" class=\"dataframe\">\n",
              "  <thead>\n",
              "    <tr style=\"text-align: right;\">\n",
              "      <th></th>\n",
              "      <th>date</th>\n",
              "      <th>timestamp</th>\n",
              "      <th>consumption</th>\n",
              "      <th>solar</th>\n",
              "      <th>alwaysOn</th>\n",
              "      <th>gridImport</th>\n",
              "      <th>gridExport</th>\n",
              "      <th>selfConsumption</th>\n",
              "      <th>selfSufficiency</th>\n",
              "      <th>active</th>\n",
              "      <th>reactive</th>\n",
              "      <th>voltages</th>\n",
              "      <th>phaseVoltages</th>\n",
              "      <th>currentHarmonics</th>\n",
              "      <th>voltageHarmonics</th>\n",
              "      <th>dateOnly</th>\n",
              "      <th>year</th>\n",
              "      <th>quarter</th>\n",
              "      <th>month</th>\n",
              "      <th>weekday</th>\n",
              "      <th>day_name</th>\n",
              "      <th>dayofyear</th>\n",
              "      <th>day</th>\n",
              "      <th>hour</th>\n",
              "      <th>minute</th>\n",
              "      <th>season</th>\n",
              "      <th>day_section</th>\n",
              "    </tr>\n",
              "  </thead>\n",
              "  <tbody>\n",
              "    <tr>\n",
              "      <th>0</th>\n",
              "      <td>2020-03-15 18:15:00</td>\n",
              "      <td>1584288900000</td>\n",
              "      <td>0.0</td>\n",
              "      <td>0.0</td>\n",
              "      <td>0.0</td>\n",
              "      <td>0.0</td>\n",
              "      <td>0.0</td>\n",
              "      <td>0.0</td>\n",
              "      <td>0.0</td>\n",
              "      <td>[0.1, 3.7, 0.0, -81.6, -60.0, 30.2, -230.6, -0...</td>\n",
              "      <td>[0.5, 0.9, 0.0, 55.4, 132.4, 14.0, 137.5, 0.2,...</td>\n",
              "      <td>[244.5, None, None]</td>\n",
              "      <td>[244.5, None, None]</td>\n",
              "      <td>[[], [], [], [], [], [], [], [], [], [], [], [...</td>\n",
              "      <td>[[], [], [], [], [], [], [], [], [], [], [], [...</td>\n",
              "      <td>2020-03-15</td>\n",
              "      <td>2020</td>\n",
              "      <td>1</td>\n",
              "      <td>3</td>\n",
              "      <td>6</td>\n",
              "      <td>Sunday</td>\n",
              "      <td>75</td>\n",
              "      <td>15</td>\n",
              "      <td>18</td>\n",
              "      <td>15</td>\n",
              "      <td>winter</td>\n",
              "      <td>Evening</td>\n",
              "    </tr>\n",
              "    <tr>\n",
              "      <th>1</th>\n",
              "      <td>2020-03-15 18:20:00</td>\n",
              "      <td>1584289200000</td>\n",
              "      <td>0.0</td>\n",
              "      <td>0.0</td>\n",
              "      <td>0.0</td>\n",
              "      <td>0.0</td>\n",
              "      <td>0.0</td>\n",
              "      <td>0.0</td>\n",
              "      <td>0.0</td>\n",
              "      <td>[0.1, 3.8, 0.0, -82.2, -58.5, 30.5, -233.1, -0...</td>\n",
              "      <td>[0.5, 0.9, 0.0, 55.7, 131.9, 14.3, 144.3, 0.2,...</td>\n",
              "      <td>[246.1, None, None]</td>\n",
              "      <td>[246.1, None, None]</td>\n",
              "      <td>[[], [], [], [], [], [], [], [], [], [], [], [...</td>\n",
              "      <td>[[], [], [], [], [], [], [], [], [], [], [], [...</td>\n",
              "      <td>2020-03-15</td>\n",
              "      <td>2020</td>\n",
              "      <td>1</td>\n",
              "      <td>3</td>\n",
              "      <td>6</td>\n",
              "      <td>Sunday</td>\n",
              "      <td>75</td>\n",
              "      <td>15</td>\n",
              "      <td>18</td>\n",
              "      <td>20</td>\n",
              "      <td>winter</td>\n",
              "      <td>Evening</td>\n",
              "    </tr>\n",
              "    <tr>\n",
              "      <th>2</th>\n",
              "      <td>2020-03-15 18:25:00</td>\n",
              "      <td>1584289500000</td>\n",
              "      <td>0.0</td>\n",
              "      <td>0.0</td>\n",
              "      <td>0.0</td>\n",
              "      <td>0.0</td>\n",
              "      <td>0.0</td>\n",
              "      <td>0.0</td>\n",
              "      <td>0.0</td>\n",
              "      <td>[0.1, 28.5, -26.5, -74.4, -79.2, 55.5, -228.5,...</td>\n",
              "      <td>[0.5, 19.0, 8.8, 79.6, 137.6, 29.4, 175.0, 0.4...</td>\n",
              "      <td>[246.4, None, None]</td>\n",
              "      <td>[246.4, None, None]</td>\n",
              "      <td>[[], [], [], [], [], [], [], [], [], [], [], [...</td>\n",
              "      <td>[[], [], [], [], [], [], [], [], [], [], [], [...</td>\n",
              "      <td>2020-03-15</td>\n",
              "      <td>2020</td>\n",
              "      <td>1</td>\n",
              "      <td>3</td>\n",
              "      <td>6</td>\n",
              "      <td>Sunday</td>\n",
              "      <td>75</td>\n",
              "      <td>15</td>\n",
              "      <td>18</td>\n",
              "      <td>25</td>\n",
              "      <td>winter</td>\n",
              "      <td>Evening</td>\n",
              "    </tr>\n",
              "    <tr>\n",
              "      <th>3</th>\n",
              "      <td>2020-03-15 18:30:00</td>\n",
              "      <td>1584289800000</td>\n",
              "      <td>0.0</td>\n",
              "      <td>0.0</td>\n",
              "      <td>0.0</td>\n",
              "      <td>0.0</td>\n",
              "      <td>0.0</td>\n",
              "      <td>0.0</td>\n",
              "      <td>0.0</td>\n",
              "      <td>[0.5, 21.3, -18.6, -76.9, -54.7, 48.7, -227.8,...</td>\n",
              "      <td>[2.2, 13.3, 6.5, 72.4, 135.9, 24.8, 152.8, 0.8...</td>\n",
              "      <td>[246.0, None, None]</td>\n",
              "      <td>[246.0, None, None]</td>\n",
              "      <td>[[], [], [], [], [], [], [], [], [], [], [], [...</td>\n",
              "      <td>[[], [], [], [], [], [], [], [], [], [], [], [...</td>\n",
              "      <td>2020-03-15</td>\n",
              "      <td>2020</td>\n",
              "      <td>1</td>\n",
              "      <td>3</td>\n",
              "      <td>6</td>\n",
              "      <td>Sunday</td>\n",
              "      <td>75</td>\n",
              "      <td>15</td>\n",
              "      <td>18</td>\n",
              "      <td>30</td>\n",
              "      <td>winter</td>\n",
              "      <td>Evening</td>\n",
              "    </tr>\n",
              "    <tr>\n",
              "      <th>4</th>\n",
              "      <td>2020-03-15 18:35:00</td>\n",
              "      <td>1584290100000</td>\n",
              "      <td>0.0</td>\n",
              "      <td>0.0</td>\n",
              "      <td>0.0</td>\n",
              "      <td>0.0</td>\n",
              "      <td>0.0</td>\n",
              "      <td>0.0</td>\n",
              "      <td>0.0</td>\n",
              "      <td>[0.1, 3.7, 0.0, -82.6, -33.2, 30.7, 96.6, 0.2,...</td>\n",
              "      <td>[0.5, 0.9, 0.0, 55.2, 128.1, 13.9, 87.7, 0.7, ...</td>\n",
              "      <td>[246.2, None, None]</td>\n",
              "      <td>[246.2, None, None]</td>\n",
              "      <td>[[], [], [], [], [], [], [], [], [], [], [], [...</td>\n",
              "      <td>[[], [], [], [], [], [], [], [], [], [], [], [...</td>\n",
              "      <td>2020-03-15</td>\n",
              "      <td>2020</td>\n",
              "      <td>1</td>\n",
              "      <td>3</td>\n",
              "      <td>6</td>\n",
              "      <td>Sunday</td>\n",
              "      <td>75</td>\n",
              "      <td>15</td>\n",
              "      <td>18</td>\n",
              "      <td>35</td>\n",
              "      <td>winter</td>\n",
              "      <td>Evening</td>\n",
              "    </tr>\n",
              "  </tbody>\n",
              "</table>\n",
              "</div>"
            ],
            "text/plain": [
              "                 date      timestamp  consumption  ...  minute  season  day_section\n",
              "0 2020-03-15 18:15:00  1584288900000          0.0  ...      15  winter      Evening\n",
              "1 2020-03-15 18:20:00  1584289200000          0.0  ...      20  winter      Evening\n",
              "2 2020-03-15 18:25:00  1584289500000          0.0  ...      25  winter      Evening\n",
              "3 2020-03-15 18:30:00  1584289800000          0.0  ...      30  winter      Evening\n",
              "4 2020-03-15 18:35:00  1584290100000          0.0  ...      35  winter      Evening\n",
              "\n",
              "[5 rows x 27 columns]"
            ]
          },
          "metadata": {
            "tags": []
          },
          "execution_count": 96
        }
      ]
    },
    {
      "cell_type": "code",
      "metadata": {
        "id": "eaKdvty73PgW",
        "colab": {
          "base_uri": "https://localhost:8080/"
        },
        "outputId": "c2e2c1ee-0c53-4d00-bf09-0116ad81cc3a"
      },
      "source": [
        "#showing min and maximm date column values\r\n",
        "df_5min.date.min(),df_5min.date.max()"
      ],
      "execution_count": 97,
      "outputs": [
        {
          "output_type": "execute_result",
          "data": {
            "text/plain": [
              "(Timestamp('2020-03-15 18:15:00'), Timestamp('2021-02-12 01:55:00'))"
            ]
          },
          "metadata": {
            "tags": []
          },
          "execution_count": 97
        }
      ]
    },
    {
      "cell_type": "code",
      "metadata": {
        "colab": {
          "base_uri": "https://localhost:8080/"
        },
        "id": "nzCABAZ39Tcx",
        "outputId": "ba122e1a-a01a-4af0-a9e6-ea34d68de0bb"
      },
      "source": [
        "#showing consumption min and max values\r\n",
        "df_5min.consumption.min(),df_5min.consumption.max()"
      ],
      "execution_count": 98,
      "outputs": [
        {
          "output_type": "execute_result",
          "data": {
            "text/plain": [
              "(0.0, 939.27)"
            ]
          },
          "metadata": {
            "tags": []
          },
          "execution_count": 98
        }
      ]
    },
    {
      "cell_type": "code",
      "metadata": {
        "colab": {
          "base_uri": "https://localhost:8080/"
        },
        "id": "djJecfLI9eEp",
        "outputId": "b4e67bf6-17a8-4401-86f5-1765cd3bb664"
      },
      "source": [
        "#checking for date where  consumptions = 0\r\n",
        "df_5min[df_5min.consumption==0].value_counts().count(),df_5min[df_5min.consumption==0].value_counts()"
      ],
      "execution_count": 99,
      "outputs": [
        {
          "output_type": "execute_result",
          "data": {
            "text/plain": [
              "(11,\n",
              " date                 timestamp      consumption  solar  alwaysOn  gridImport  gridExport  selfConsumption  selfSufficiency  active                                                                                                                                                                       reactive                                                                                                                                                              voltages             phaseVoltages        currentHarmonics                                                                                                  voltageHarmonics                                                                                                  dateOnly    year  quarter  month  weekday  day_name  dayofyear  day  hour  minute  season  day_section\n",
              " 2020-03-15 19:05:00  1584291900000  0.0          0.0    0.0       0.0         0.0         0.0              0.0              [0.1, 20.2, 0.0, 35.8, 0.0, 46.9, 232.8, 0.3, None, 0.1, 3.7, -0.1, 28.2, None, None, None, None, None, None, None, None, None, None, None, None, None, None, None]          [0.5, 1.9, 0.0, 131.0, 0.0, 12.9, 135.4, 0.2, None, 0.0, 0.9, 0.0, 36.9, None, None, None, None, None, None, None, None, None, None, None, None, None, None, None]    [246.3, None, None]  [246.3, None, None]  [[], [], [], [], [], [], [], [], [], [], [], [], [], [], [], [], [], [], [], [], [], [], [], [], [], [], [], []]  [[], [], [], [], [], [], [], [], [], [], [], [], [], [], [], [], [], [], [], [], [], [], [], [], [], [], [], []]  2020-03-15  2020  1        3      6        Sunday    75         15   19    5       winter  Evening        1\n",
              " 2020-03-15 19:00:00  1584291600000  0.0          0.0    0.0       0.0         0.0         0.0              0.0              [0.1, 8.7, 0.0, 36.8, 0.0, 35.6, 232.7, 0.3, None, 0.1, 3.7, -0.1, 28.6, None, None, None, None, None, None, None, None, None, None, None, None, None, None, None]           [0.5, 1.5, 0.0, 131.0, 0.0, 13.5, 143.2, 0.2, None, 0.0, 0.9, 0.0, 37.1, None, None, None, None, None, None, None, None, None, None, None, None, None, None, None]    [245.5, None, None]  [245.5, None, None]  [[], [], [], [], [], [], [], [], [], [], [], [], [], [], [], [], [], [], [], [], [], [], [], [], [], [], [], []]  [[], [], [], [], [], [], [], [], [], [], [], [], [], [], [], [], [], [], [], [], [], [], [], [], [], [], [], []]  2020-03-15  2020  1        3      6        Sunday    75         15   19    0       winter  Evening        1\n",
              " 2020-03-15 18:55:00  1584291300000  0.0          0.0    0.0       0.0         0.0         0.0              0.0              [0.1, 3.7, 0.0, 49.0, 29.9, 30.6, 235.2, 0.3, None, 0.1, 3.7, -0.1, 33.2, None, None, None, None, None, None, None, None, None, None, None, None, None, None, None]          [0.5, 0.9, 0.0, 60.9, 98.5, 13.7, 147.4, 0.2, None, 0.0, 0.9, 0.0, 40.9, None, None, None, None, None, None, None, None, None, None, None, None, None, None, None]    [245.5, None, None]  [245.5, None, None]  [[], [], [], [], [], [], [], [], [], [], [], [], [], [], [], [], [], [], [], [], [], [], [], [], [], [], [], []]  [[], [], [], [], [], [], [], [], [], [], [], [], [], [], [], [], [], [], [], [], [], [], [], [], [], [], [], []]  2020-03-15  2020  1        3      6        Sunday    75         15   18    55      winter  Evening        1\n",
              " 2020-03-15 18:50:00  1584291000000  0.0          0.0    0.0       0.0         0.0         0.0              0.0              [0.1, 6.8, 0.0, 82.1, 40.1, 33.6, 231.8, 0.3, None, 0.1, 3.7, -0.1, 33.1, None, None, None, None, None, None, None, None, None, None, None, None, None, None, None]          [0.5, 1.2, 0.0, 55.4, 133.0, 13.4, 131.2, 0.2, None, 0.0, 0.9, 0.0, 40.8, None, None, None, None, None, None, None, None, None, None, None, None, None, None, None]   [245.3, None, None]  [245.3, None, None]  [[], [], [], [], [], [], [], [], [], [], [], [], [], [], [], [], [], [], [], [], [], [], [], [], [], [], [], []]  [[], [], [], [], [], [], [], [], [], [], [], [], [], [], [], [], [], [], [], [], [], [], [], [], [], [], [], []]  2020-03-15  2020  1        3      6        Sunday    75         15   18    50      winter  Evening        1\n",
              " 2020-03-15 18:45:00  1584290700000  0.0          0.0    0.0       0.0         0.0         0.0              0.0              [0.1, 3.7, 0.0, 51.4, 40.1, 30.6, 246.5, 0.3, None, 0.1, 3.7, -0.1, 33.7, None, None, None, None, None, None, None, None, None, None, None, None, None, None, None]          [0.5, 0.9, 0.0, 44.8, 133.3, 13.8, 157.5, 0.3, None, 0.0, 0.9, 0.0, 41.3, None, None, None, None, None, None, None, None, None, None, None, None, None, None, None]   [245.6, None, None]  [245.6, None, None]  [[], [], [], [], [], [], [], [], [], [], [], [], [], [], [], [], [], [], [], [], [], [], [], [], [], [], [], []]  [[], [], [], [], [], [], [], [], [], [], [], [], [], [], [], [], [], [], [], [], [], [], [], [], [], [], [], []]  2020-03-15  2020  1        3      6        Sunday    75         15   18    45      winter  Evening        1\n",
              " 2020-03-15 18:40:00  1584290400000  0.0          0.0    0.0       0.0         0.0         0.0              0.0              [0.1, 3.7, 0.0, -82.1, 11.9, 30.7, 253.8, 1.4, None, 0.1, 3.7, -0.1, 16.0, None, None, None, None, None, None, None, None, None, None, None, None, None, None, None]         [0.5, 0.9, 0.0, 55.4, 103.6, 13.7, 176.5, 0.8, None, 0.1, 0.9, 0.0, 21.2, None, None, None, None, None, None, None, None, None, None, None, None, None, None, None]   [245.7, None, None]  [245.7, None, None]  [[], [], [], [], [], [], [], [], [], [], [], [], [], [], [], [], [], [], [], [], [], [], [], [], [], [], [], []]  [[], [], [], [], [], [], [], [], [], [], [], [], [], [], [], [], [], [], [], [], [], [], [], [], [], [], [], []]  2020-03-15  2020  1        3      6        Sunday    75         15   18    40      winter  Evening        1\n",
              " 2020-03-15 18:35:00  1584290100000  0.0          0.0    0.0       0.0         0.0         0.0              0.0              [0.1, 3.7, 0.0, -82.6, -33.2, 30.7, 96.6, 0.2, None, 0.1, 3.7, -0.1, -25.7, None, None, None, None, None, None, None, None, None, None, None, None, None, None, None]        [0.5, 0.9, 0.0, 55.2, 128.1, 13.9, 87.7, 0.7, None, 0.1, 0.9, 0.0, 33.4, None, None, None, None, None, None, None, None, None, None, None, None, None, None, None]    [246.2, None, None]  [246.2, None, None]  [[], [], [], [], [], [], [], [], [], [], [], [], [], [], [], [], [], [], [], [], [], [], [], [], [], [], [], []]  [[], [], [], [], [], [], [], [], [], [], [], [], [], [], [], [], [], [], [], [], [], [], [], [], [], [], [], []]  2020-03-15  2020  1        3      6        Sunday    75         15   18    35      winter  Evening        1\n",
              " 2020-03-15 18:30:00  1584289800000  0.0          0.0    0.0       0.0         0.0         0.0              0.0              [0.5, 21.3, -18.6, -76.9, -54.7, 48.7, -227.8, -1.6, None, 0.1, 3.7, -0.1, -28.5, None, None, None, None, None, None, None, None, None, None, None, None, None, None, None]  [2.2, 13.3, 6.5, 72.4, 135.9, 24.8, 152.8, 0.8, None, 0.1, 0.9, 0.0, 36.9, None, None, None, None, None, None, None, None, None, None, None, None, None, None, None]  [246.0, None, None]  [246.0, None, None]  [[], [], [], [], [], [], [], [], [], [], [], [], [], [], [], [], [], [], [], [], [], [], [], [], [], [], [], []]  [[], [], [], [], [], [], [], [], [], [], [], [], [], [], [], [], [], [], [], [], [], [], [], [], [], [], [], []]  2020-03-15  2020  1        3      6        Sunday    75         15   18    30      winter  Evening        1\n",
              " 2020-03-15 18:25:00  1584289500000  0.0          0.0    0.0       0.0         0.0         0.0              0.0              [0.1, 28.5, -26.5, -74.4, -79.2, 55.5, -228.5, -0.5, None, 0.1, 3.8, -0.1, -28.9, None, None, None, None, None, None, None, None, None, None, None, None, None, None, None]  [0.5, 19.0, 8.8, 79.6, 137.6, 29.4, 175.0, 0.4, None, 0.1, 0.9, 0.0, 37.2, None, None, None, None, None, None, None, None, None, None, None, None, None, None, None]  [246.4, None, None]  [246.4, None, None]  [[], [], [], [], [], [], [], [], [], [], [], [], [], [], [], [], [], [], [], [], [], [], [], [], [], [], [], []]  [[], [], [], [], [], [], [], [], [], [], [], [], [], [], [], [], [], [], [], [], [], [], [], [], [], [], [], []]  2020-03-15  2020  1        3      6        Sunday    75         15   18    25      winter  Evening        1\n",
              " 2020-03-15 18:20:00  1584289200000  0.0          0.0    0.0       0.0         0.0         0.0              0.0              [0.1, 3.8, 0.0, -82.2, -58.5, 30.5, -233.1, -0.4, None, 0.1, 3.8, -0.1, -31.9, None, None, None, None, None, None, None, None, None, None, None, None, None, None, None]     [0.5, 0.9, 0.0, 55.7, 131.9, 14.3, 144.3, 0.2, None, 0.0, 0.9, 0.0, 39.5, None, None, None, None, None, None, None, None, None, None, None, None, None, None, None]   [246.1, None, None]  [246.1, None, None]  [[], [], [], [], [], [], [], [], [], [], [], [], [], [], [], [], [], [], [], [], [], [], [], [], [], [], [], []]  [[], [], [], [], [], [], [], [], [], [], [], [], [], [], [], [], [], [], [], [], [], [], [], [], [], [], [], []]  2020-03-15  2020  1        3      6        Sunday    75         15   18    20      winter  Evening        1\n",
              " 2020-03-15 18:15:00  1584288900000  0.0          0.0    0.0       0.0         0.0         0.0              0.0              [0.1, 3.7, 0.0, -81.6, -60.0, 30.2, -230.6, -0.4, None, 0.1, 3.7, -0.1, -33.3, None, None, None, None, None, None, None, None, None, None, None, None, None, None, None]     [0.5, 0.9, 0.0, 55.4, 132.4, 14.0, 137.5, 0.2, None, 0.0, 0.9, 0.0, 40.5, None, None, None, None, None, None, None, None, None, None, None, None, None, None, None]   [244.5, None, None]  [244.5, None, None]  [[], [], [], [], [], [], [], [], [], [], [], [], [], [], [], [], [], [], [], [], [], [], [], [], [], [], [], []]  [[], [], [], [], [], [], [], [], [], [], [], [], [], [], [], [], [], [], [], [], [], [], [], [], [], [], [], []]  2020-03-15  2020  1        3      6        Sunday    75         15   18    15      winter  Evening        1\n",
              " dtype: int64)"
            ]
          },
          "metadata": {
            "tags": []
          },
          "execution_count": 99
        }
      ]
    },
    {
      "cell_type": "code",
      "metadata": {
        "colab": {
          "base_uri": "https://localhost:8080/"
        },
        "id": "_JULynwBCoMi",
        "outputId": "af0b40c1-df9f-49b4-fbc3-c5b16b095b97"
      },
      "source": [
        "#checking for days where  consumptions > 0\r\n",
        "df_5min[df_5min.consumption>0].value_counts().count(),df_5min[df_5min.consumption>0].value_counts()"
      ],
      "execution_count": 100,
      "outputs": [
        {
          "output_type": "execute_result",
          "data": {
            "text/plain": [
              "(95638,\n",
              " date                 timestamp      consumption  solar   alwaysOn  gridImport  gridExport  selfConsumption  selfSufficiency  active                                                                                                                                                               reactive                                                                                                                                                                voltages             phaseVoltages        currentHarmonics                                                                                                  voltageHarmonics                                                                                                  dateOnly    year  quarter  month  weekday  day_name  dayofyear  day  hour  minute  season  day_section  \n",
              " 2021-02-12 01:55:00  1613087700000  153.934      46.152  1006.212  107.781     0.0         100.0            29.98            [0.1, 3.6, -0.1, None, None, None, None, 0.4, None, 0.1, 3.6, -0.1, 15.3, None, 0.0, 33.4, 107.8, 12.7, None, None, None, None, None, None, None, None, None, None]  [-0.4, 0.8, 0.0, None, None, None, None, -0.2, None, 0.1, 0.8, 0.0, -20.2, None, -0.1, -73.3, 52.9, -18.1, None, None, None, None, None, None, None, None, None, None]  [240.9, None, None]  [240.9, None, None]  [[], [], [], [], [], [], [], [], [], [], [], [], [], [], [], [], [], [], [], [], [], [], [], [], [], [], [], []]  [[], [], [], [], [], [], [], [], [], [], [], [], [], [], [], [], [], [], [], [], [], [], [], [], [], [], [], []]  2021-02-12  2021  1        2      4        Friday    43         12   1     55      winter  Late Night       1\n",
              " 2020-07-05 12:40:00  1593945600000  142.842      47.119  334.800   95.722      0.0         100.0            32.99            [0.1, 3.7, 0.0, None, None, None, None, 0.4, None, 0.1, 3.7, -0.1, 1.5, None, 0.0, 18.3, 95.7, 28.8, None, None, None, None, None, None, None, None, None, None]     [0.4, 0.9, 0.0, None, None, None, None, 0.2, None, 0.1, 0.8, 0.0, 3.4, None, 0.0, 65.3, 107.0, 12.5, None, None, None, None, None, None, None, None, None, None]        [242.8, None, None]  [242.8, None, None]  [[], [], [], [], [], [], [], [], [], [], [], [], [], [], [], [], [], [], [], [], [], [], [], [], [], [], [], []]  [[], [], [], [], [], [], [], [], [], [], [], [], [], [], [], [], [], [], [], [], [], [], [], [], [], [], [], []]  2020-07-05  2020  3        7      6        Sunday    187        5    12    40      winter  Morning          1\n",
              " 2020-07-05 11:55:00  1593942900000  142.814      46.618  334.800   96.195      0.0         100.0            32.64            [0.1, 3.6, 0.0, None, None, None, None, 0.4, None, 0.1, 3.6, -0.1, 1.5, None, 0.0, 18.1, 96.2, 28.5, None, None, None, None, None, None, None, None, None, None]     [0.4, 0.9, 0.0, None, None, None, None, 0.2, None, 0.1, 0.8, 0.0, 3.4, None, 0.0, 65.5, 105.1, 12.0, None, None, None, None, None, None, None, None, None, None]        [241.8, None, None]  [241.8, None, None]  [[], [], [], [], [], [], [], [], [], [], [], [], [], [], [], [], [], [], [], [], [], [], [], [], [], [], [], []]  [[], [], [], [], [], [], [], [], [], [], [], [], [], [], [], [], [], [], [], [], [], [], [], [], [], [], [], []]  2020-07-05  2020  3        7      6        Sunday    187        5    11    55      winter  Morning          1\n",
              " 2020-07-05 12:00:00  1593943200000  144.049      46.661  334.800   97.387      0.0         100.0            32.39            [0.1, 3.6, 0.0, None, None, None, None, 0.4, None, 0.1, 3.6, -0.1, 1.5, None, 0.0, 18.0, 97.4, 28.6, None, None, None, None, None, None, None, None, None, None]     [0.4, 0.9, 0.0, None, None, None, None, 0.2, None, 0.1, 0.8, 0.0, 3.4, None, 0.0, 65.7, 104.1, 12.1, None, None, None, None, None, None, None, None, None, None]        [241.9, None, None]  [241.9, None, None]  [[], [], [], [], [], [], [], [], [], [], [], [], [], [], [], [], [], [], [], [], [], [], [], [], [], [], [], []]  [[], [], [], [], [], [], [], [], [], [], [], [], [], [], [], [], [], [], [], [], [], [], [], [], [], [], [], []]  2020-07-05  2020  3        7      6        Sunday    187        5    12    0       winter  Morning          1\n",
              " 2020-07-05 12:05:00  1593943500000  145.788      46.011  334.800   99.776      0.0         100.0            31.56            [0.1, 3.6, 0.0, None, None, None, None, 0.4, None, 0.1, 3.6, -0.1, 1.5, None, 0.0, 17.7, 99.8, 28.3, None, None, None, None, None, None, None, None, None, None]     [0.4, 0.9, 0.0, None, None, None, None, 0.2, None, 0.1, 0.8, 0.0, 3.4, None, 0.0, 65.2, 101.3, 11.8, None, None, None, None, None, None, None, None, None, None]        [241.4, None, None]  [241.4, None, None]  [[], [], [], [], [], [], [], [], [], [], [], [], [], [], [], [], [], [], [], [], [], [], [], [], [], [], [], []]  [[], [], [], [], [], [], [], [], [], [], [], [], [], [], [], [], [], [], [], [], [], [], [], [], [], [], [], []]  2020-07-05  2020  3        7      6        Sunday    187        5    12    5       winter  Morning          1\n",
              "                                                                                                                                                                                                                                                                                                                                                                                                                                                                                                                                                                                                                                                                                                                                                                                                                                                                    ..\n",
              " 2020-10-24 06:45:00  1603514700000  170.065      62.412  1742.100  107.652     0.0         100.0            36.70            [0.4, 3.6, 0.0, None, None, None, None, 0.4, None, 0.0, 3.6, -0.1, 17.0, None, 0.0, 32.7, 107.7, 29.7, None, None, None, None, None, None, None, None, None, None]   [1.9, 0.9, 0.0, None, None, None, None, 0.2, None, 0.1, 0.8, 0.0, 22.4, None, 0.0, 79.4, 93.6, 15.3, None, None, None, None, None, None, None, None, None, None]        [241.9, None, None]  [241.9, None, None]  [[], [], [], [], [], [], [], [], [], [], [], [], [], [], [], [], [], [], [], [], [], [], [], [], [], [], [], []]  [[], [], [], [], [], [], [], [], [], [], [], [], [], [], [], [], [], [], [], [], [], [], [], [], [], [], [], []]  2020-10-24  2020  4        10     5        Saturday  298        24   6     45      winter  Early Morning    1\n",
              " 2020-10-24 06:50:00  1603515000000  155.463      53.991  1742.100  101.471     0.0         100.0            34.73            [0.1, 3.6, -0.1, None, None, None, None, 0.4, None, 0.0, 3.6, -0.1, 8.7, None, 0.0, 24.6, 101.5, 29.4, None, None, None, None, None, None, None, None, None, None]   [0.4, 0.9, 0.0, None, None, None, None, 0.2, None, 0.1, 0.8, 0.0, 14.1, None, 0.0, 72.7, 78.7, 15.2, None, None, None, None, None, None, None, None, None, None]        [241.8, None, None]  [241.8, None, None]  [[], [], [], [], [], [], [], [], [], [], [], [], [], [], [], [], [], [], [], [], [], [], [], [], [], [], [], []]  [[], [], [], [], [], [], [], [], [], [], [], [], [], [], [], [], [], [], [], [], [], [], [], [], [], [], [], []]  2020-10-24  2020  4        10     5        Saturday  298        24   6     50      winter  Early Morning    1\n",
              " 2020-10-24 06:55:00  1603515300000  160.689      64.389  1741.440  96.300      0.0         100.0            40.07            [0.1, 3.6, 0.0, None, None, None, None, 0.4, None, 0.0, 3.6, -0.1, 19.0, None, 0.0, 34.9, 96.3, 29.5, None, None, None, None, None, None, None, None, None, None]    [0.4, 0.8, 0.0, None, None, None, None, 0.2, None, 0.0, 0.8, 0.0, 25.7, None, 0.1, 82.3, 67.7, 14.9, None, None, None, None, None, None, None, None, None, None]        [240.9, None, None]  [240.9, None, None]  [[], [], [], [], [], [], [], [], [], [], [], [], [], [], [], [], [], [], [], [], [], [], [], [], [], [], [], []]  [[], [], [], [], [], [], [], [], [], [], [], [], [], [], [], [], [], [], [], [], [], [], [], [], [], [], [], []]  2020-10-24  2020  4        10     5        Saturday  298        24   6     55      winter  Early Morning    1\n",
              " 2020-10-24 07:00:00  1603515600000  166.431      69.783  1702.464  96.648      0.0         100.0            41.93            [0.1, 3.6, 0.0, None, None, None, None, 0.4, None, 0.0, 3.6, -0.1, 20.8, None, 0.0, 36.7, 96.6, 33.1, None, None, None, None, None, None, None, None, None, None]    [0.4, 0.8, 0.0, None, None, None, None, 0.2, None, 0.0, 0.8, 0.0, 27.5, None, 0.1, 83.5, 66.7, 15.4, None, None, None, None, None, None, None, None, None, None]        [240.2, None, None]  [240.2, None, None]  [[], [], [], [], [], [], [], [], [], [], [], [], [], [], [], [], [], [], [], [], [], [], [], [], [], [], [], []]  [[], [], [], [], [], [], [], [], [], [], [], [], [], [], [], [], [], [], [], [], [], [], [], [], [], [], [], []]  2020-10-24  2020  4        10     5        Saturday  298        24   7     0       winter  Early Morning    1\n",
              " 2020-03-15 19:10:00  1584292200000  32.883       0.000   0.000     32.883      0.0         0.0              0.00             [0.1, 19.4, 0.0, None, 0.0, 44.8, 219.1, 0.3, None, 0.1, 3.6, -0.1, 26.6, 32.9, None, None, None, None, None, None, None, None, None, None, None, None, None, None]  [0.5, 1.8, 0.0, None, 0.1, 12.8, 121.4, 0.2, None, 0.0, 0.8, 0.0, 34.9, 124.1, None, None, None, None, None, None, None, None, None, None, None, None, None, None]      [235.7, None, None]  [235.7, None, None]  [[], [], [], [], [], [], [], [], [], [], [], [], [], [], [], [], [], [], [], [], [], [], [], [], [], [], [], []]  [[], [], [], [], [], [], [], [], [], [], [], [], [], [], [], [], [], [], [], [], [], [], [], [], [], [], [], []]  2020-03-15  2020  1        3      6        Sunday    75         15   19    10      winter  Evening          1\n",
              " Length: 95638, dtype: int64)"
            ]
          },
          "metadata": {
            "tags": []
          },
          "execution_count": 100
        }
      ]
    },
    {
      "cell_type": "code",
      "metadata": {
        "colab": {
          "base_uri": "https://localhost:8080/",
          "height": 195
        },
        "id": "85S4Ppg_bICR",
        "outputId": "4387a026-0d0d-4df7-e402-b6ffb3d1d44c"
      },
      "source": [
        "df_public_holiday.head()"
      ],
      "execution_count": 101,
      "outputs": [
        {
          "output_type": "execute_result",
          "data": {
            "text/html": [
              "<div>\n",
              "<style scoped>\n",
              "    .dataframe tbody tr th:only-of-type {\n",
              "        vertical-align: middle;\n",
              "    }\n",
              "\n",
              "    .dataframe tbody tr th {\n",
              "        vertical-align: top;\n",
              "    }\n",
              "\n",
              "    .dataframe thead th {\n",
              "        text-align: right;\n",
              "    }\n",
              "</style>\n",
              "<table border=\"1\" class=\"dataframe\">\n",
              "  <thead>\n",
              "    <tr style=\"text-align: right;\">\n",
              "      <th></th>\n",
              "      <th>day</th>\n",
              "      <th>dayName</th>\n",
              "      <th>dayOfWeek</th>\n",
              "      <th>weekend</th>\n",
              "      <th>weekNumber</th>\n",
              "      <th>holiday</th>\n",
              "      <th>holidayName</th>\n",
              "    </tr>\n",
              "  </thead>\n",
              "  <tbody>\n",
              "    <tr>\n",
              "      <th>0</th>\n",
              "      <td>2018/01/01</td>\n",
              "      <td>Monday</td>\n",
              "      <td>0</td>\n",
              "      <td>N</td>\n",
              "      <td>1</td>\n",
              "      <td>Y</td>\n",
              "      <td>New Year's Day</td>\n",
              "    </tr>\n",
              "    <tr>\n",
              "      <th>1</th>\n",
              "      <td>2018/01/02</td>\n",
              "      <td>Tuesday</td>\n",
              "      <td>1</td>\n",
              "      <td>N</td>\n",
              "      <td>1</td>\n",
              "      <td>N</td>\n",
              "      <td></td>\n",
              "    </tr>\n",
              "    <tr>\n",
              "      <th>2</th>\n",
              "      <td>2018/01/03</td>\n",
              "      <td>Wednesday</td>\n",
              "      <td>2</td>\n",
              "      <td>N</td>\n",
              "      <td>1</td>\n",
              "      <td>N</td>\n",
              "      <td></td>\n",
              "    </tr>\n",
              "    <tr>\n",
              "      <th>3</th>\n",
              "      <td>2018/01/04</td>\n",
              "      <td>Thursday</td>\n",
              "      <td>3</td>\n",
              "      <td>N</td>\n",
              "      <td>1</td>\n",
              "      <td>N</td>\n",
              "      <td></td>\n",
              "    </tr>\n",
              "    <tr>\n",
              "      <th>4</th>\n",
              "      <td>2018/01/05</td>\n",
              "      <td>Friday</td>\n",
              "      <td>4</td>\n",
              "      <td>N</td>\n",
              "      <td>1</td>\n",
              "      <td>N</td>\n",
              "      <td></td>\n",
              "    </tr>\n",
              "  </tbody>\n",
              "</table>\n",
              "</div>"
            ],
            "text/plain": [
              "          day    dayName  dayOfWeek weekend  weekNumber holiday     holidayName\n",
              "0  2018/01/01     Monday          0       N           1       Y  New Year's Day\n",
              "1  2018/01/02    Tuesday          1       N           1       N                \n",
              "2  2018/01/03  Wednesday          2       N           1       N                \n",
              "3  2018/01/04   Thursday          3       N           1       N                \n",
              "4  2018/01/05     Friday          4       N           1       N                "
            ]
          },
          "metadata": {
            "tags": []
          },
          "execution_count": 101
        }
      ]
    },
    {
      "cell_type": "code",
      "metadata": {
        "colab": {
          "base_uri": "https://localhost:8080/"
        },
        "id": "WUDrGGEobw47",
        "outputId": "22053560-d439-4959-a5c4-62255dcaccf7"
      },
      "source": [
        "df_public_holiday.holidayName.value_counts()"
      ],
      "execution_count": 102,
      "outputs": [
        {
          "output_type": "execute_result",
          "data": {
            "text/plain": [
              "                                         2460\n",
              "Holy Saturday                               7\n",
              "Africa Day                                  7\n",
              "Easter Sunday                               7\n",
              "Zimbabwe Defence Forces Day                 7\n",
              "Robert Mugabe National Youth Day            7\n",
              "Good Friday                                 7\n",
              "Heroes' Day                                 7\n",
              "New Year's Day                              6\n",
              "Christmas Day                               6\n",
              "Easter Monday                               6\n",
              "Worker's Day                                6\n",
              "Independence Day                            5\n",
              "Boxing Day                                  5\n",
              "National Unity Day                          5\n",
              "National Unity Day (observed)               2\n",
              "Solidarity Day Against Sanctions            1\n",
              "Christmas Day (observed) / Boxing Day       1\n",
              "Independence Day (observed)                 1\n",
              "New Year's Day (observed)                   1\n",
              "Boxing Day (observed)                       1\n",
              "Worker's Day (observed)                     1\n",
              "Easter Monday/Independence Day              1\n",
              "Zimbabwean General Election                 1\n",
              "Name: holidayName, dtype: int64"
            ]
          },
          "metadata": {
            "tags": []
          },
          "execution_count": 102
        }
      ]
    },
    {
      "cell_type": "code",
      "metadata": {
        "colab": {
          "base_uri": "https://localhost:8080/"
        },
        "id": "eozC-GP2cv5R",
        "outputId": "9599779d-d619-4ddc-c9e2-b8643a776196"
      },
      "source": [
        "df_public_holiday.isnull().sum()"
      ],
      "execution_count": 103,
      "outputs": [
        {
          "output_type": "execute_result",
          "data": {
            "text/plain": [
              "day            0\n",
              "dayName        0\n",
              "dayOfWeek      0\n",
              "weekend        0\n",
              "weekNumber     0\n",
              "holiday        0\n",
              "holidayName    0\n",
              "dtype: int64"
            ]
          },
          "metadata": {
            "tags": []
          },
          "execution_count": 103
        }
      ]
    },
    {
      "cell_type": "code",
      "metadata": {
        "id": "LLUeXjFyiy-Q"
      },
      "source": [
        "df_public_holiday['day'] = pd.to_datetime(df_public_holiday['day'],format='%Y-%m-%d')"
      ],
      "execution_count": 104,
      "outputs": []
    },
    {
      "cell_type": "code",
      "metadata": {
        "id": "6pp8E6nNbH7k"
      },
      "source": [
        "#creating dictionary for mapping hoidays to original table\r\n",
        "mapping = dict(df_public_holiday[['day','holidayName']].values)\r\n",
        "\r\n"
      ],
      "execution_count": 106,
      "outputs": []
    },
    {
      "cell_type": "code",
      "metadata": {
        "colab": {
          "base_uri": "https://localhost:8080/"
        },
        "id": "AXtzlBWRkmIG",
        "outputId": "e860e653-8023-4c99-839c-412d3d7b870a"
      },
      "source": [
        "mapping"
      ],
      "execution_count": 107,
      "outputs": [
        {
          "output_type": "execute_result",
          "data": {
            "text/plain": [
              "{Timestamp('2018-01-01 00:00:00'): \"New Year's Day\",\n",
              " Timestamp('2018-01-02 00:00:00'): ' ',\n",
              " Timestamp('2018-01-03 00:00:00'): ' ',\n",
              " Timestamp('2018-01-04 00:00:00'): ' ',\n",
              " Timestamp('2018-01-05 00:00:00'): ' ',\n",
              " Timestamp('2018-01-06 00:00:00'): ' ',\n",
              " Timestamp('2018-01-07 00:00:00'): ' ',\n",
              " Timestamp('2018-01-08 00:00:00'): ' ',\n",
              " Timestamp('2018-01-09 00:00:00'): ' ',\n",
              " Timestamp('2018-01-10 00:00:00'): ' ',\n",
              " Timestamp('2018-01-11 00:00:00'): ' ',\n",
              " Timestamp('2018-01-12 00:00:00'): ' ',\n",
              " Timestamp('2018-01-13 00:00:00'): ' ',\n",
              " Timestamp('2018-01-14 00:00:00'): ' ',\n",
              " Timestamp('2018-01-15 00:00:00'): ' ',\n",
              " Timestamp('2018-01-16 00:00:00'): ' ',\n",
              " Timestamp('2018-01-17 00:00:00'): ' ',\n",
              " Timestamp('2018-01-18 00:00:00'): ' ',\n",
              " Timestamp('2018-01-19 00:00:00'): ' ',\n",
              " Timestamp('2018-01-20 00:00:00'): ' ',\n",
              " Timestamp('2018-01-21 00:00:00'): ' ',\n",
              " Timestamp('2018-01-22 00:00:00'): ' ',\n",
              " Timestamp('2018-01-23 00:00:00'): ' ',\n",
              " Timestamp('2018-01-24 00:00:00'): ' ',\n",
              " Timestamp('2018-01-25 00:00:00'): ' ',\n",
              " Timestamp('2018-01-26 00:00:00'): ' ',\n",
              " Timestamp('2018-01-27 00:00:00'): ' ',\n",
              " Timestamp('2018-01-28 00:00:00'): ' ',\n",
              " Timestamp('2018-01-29 00:00:00'): ' ',\n",
              " Timestamp('2018-01-30 00:00:00'): ' ',\n",
              " Timestamp('2018-01-31 00:00:00'): ' ',\n",
              " Timestamp('2018-02-01 00:00:00'): ' ',\n",
              " Timestamp('2018-02-02 00:00:00'): ' ',\n",
              " Timestamp('2018-02-03 00:00:00'): ' ',\n",
              " Timestamp('2018-02-04 00:00:00'): ' ',\n",
              " Timestamp('2018-02-05 00:00:00'): ' ',\n",
              " Timestamp('2018-02-06 00:00:00'): ' ',\n",
              " Timestamp('2018-02-07 00:00:00'): ' ',\n",
              " Timestamp('2018-02-08 00:00:00'): ' ',\n",
              " Timestamp('2018-02-09 00:00:00'): ' ',\n",
              " Timestamp('2018-02-10 00:00:00'): ' ',\n",
              " Timestamp('2018-02-11 00:00:00'): ' ',\n",
              " Timestamp('2018-02-12 00:00:00'): ' ',\n",
              " Timestamp('2018-02-13 00:00:00'): ' ',\n",
              " Timestamp('2018-02-14 00:00:00'): ' ',\n",
              " Timestamp('2018-02-15 00:00:00'): ' ',\n",
              " Timestamp('2018-02-16 00:00:00'): ' ',\n",
              " Timestamp('2018-02-17 00:00:00'): ' ',\n",
              " Timestamp('2018-02-18 00:00:00'): ' ',\n",
              " Timestamp('2018-02-19 00:00:00'): ' ',\n",
              " Timestamp('2018-02-20 00:00:00'): ' ',\n",
              " Timestamp('2018-02-21 00:00:00'): 'Robert Mugabe National Youth Day',\n",
              " Timestamp('2018-02-22 00:00:00'): ' ',\n",
              " Timestamp('2018-02-23 00:00:00'): ' ',\n",
              " Timestamp('2018-02-24 00:00:00'): ' ',\n",
              " Timestamp('2018-02-25 00:00:00'): ' ',\n",
              " Timestamp('2018-02-26 00:00:00'): ' ',\n",
              " Timestamp('2018-02-27 00:00:00'): ' ',\n",
              " Timestamp('2018-02-28 00:00:00'): ' ',\n",
              " Timestamp('2018-03-01 00:00:00'): ' ',\n",
              " Timestamp('2018-03-02 00:00:00'): ' ',\n",
              " Timestamp('2018-03-03 00:00:00'): ' ',\n",
              " Timestamp('2018-03-04 00:00:00'): ' ',\n",
              " Timestamp('2018-03-05 00:00:00'): ' ',\n",
              " Timestamp('2018-03-06 00:00:00'): ' ',\n",
              " Timestamp('2018-03-07 00:00:00'): ' ',\n",
              " Timestamp('2018-03-08 00:00:00'): ' ',\n",
              " Timestamp('2018-03-09 00:00:00'): ' ',\n",
              " Timestamp('2018-03-10 00:00:00'): ' ',\n",
              " Timestamp('2018-03-11 00:00:00'): ' ',\n",
              " Timestamp('2018-03-12 00:00:00'): ' ',\n",
              " Timestamp('2018-03-13 00:00:00'): ' ',\n",
              " Timestamp('2018-03-14 00:00:00'): ' ',\n",
              " Timestamp('2018-03-15 00:00:00'): ' ',\n",
              " Timestamp('2018-03-16 00:00:00'): ' ',\n",
              " Timestamp('2018-03-17 00:00:00'): ' ',\n",
              " Timestamp('2018-03-18 00:00:00'): ' ',\n",
              " Timestamp('2018-03-19 00:00:00'): ' ',\n",
              " Timestamp('2018-03-20 00:00:00'): ' ',\n",
              " Timestamp('2018-03-21 00:00:00'): ' ',\n",
              " Timestamp('2018-03-22 00:00:00'): ' ',\n",
              " Timestamp('2018-03-23 00:00:00'): ' ',\n",
              " Timestamp('2018-03-24 00:00:00'): ' ',\n",
              " Timestamp('2018-03-25 00:00:00'): ' ',\n",
              " Timestamp('2018-03-26 00:00:00'): ' ',\n",
              " Timestamp('2018-03-27 00:00:00'): ' ',\n",
              " Timestamp('2018-03-28 00:00:00'): ' ',\n",
              " Timestamp('2018-03-29 00:00:00'): ' ',\n",
              " Timestamp('2018-03-30 00:00:00'): 'Good Friday',\n",
              " Timestamp('2018-03-31 00:00:00'): 'Holy Saturday',\n",
              " Timestamp('2018-04-01 00:00:00'): 'Easter Sunday',\n",
              " Timestamp('2018-04-02 00:00:00'): 'Easter Monday',\n",
              " Timestamp('2018-04-03 00:00:00'): ' ',\n",
              " Timestamp('2018-04-04 00:00:00'): ' ',\n",
              " Timestamp('2018-04-05 00:00:00'): ' ',\n",
              " Timestamp('2018-04-06 00:00:00'): ' ',\n",
              " Timestamp('2018-04-07 00:00:00'): ' ',\n",
              " Timestamp('2018-04-08 00:00:00'): ' ',\n",
              " Timestamp('2018-04-09 00:00:00'): ' ',\n",
              " Timestamp('2018-04-10 00:00:00'): ' ',\n",
              " Timestamp('2018-04-11 00:00:00'): ' ',\n",
              " Timestamp('2018-04-12 00:00:00'): ' ',\n",
              " Timestamp('2018-04-13 00:00:00'): ' ',\n",
              " Timestamp('2018-04-14 00:00:00'): ' ',\n",
              " Timestamp('2018-04-15 00:00:00'): ' ',\n",
              " Timestamp('2018-04-16 00:00:00'): ' ',\n",
              " Timestamp('2018-04-17 00:00:00'): ' ',\n",
              " Timestamp('2018-04-18 00:00:00'): 'Independence Day',\n",
              " Timestamp('2018-04-19 00:00:00'): ' ',\n",
              " Timestamp('2018-04-20 00:00:00'): ' ',\n",
              " Timestamp('2018-04-21 00:00:00'): ' ',\n",
              " Timestamp('2018-04-22 00:00:00'): ' ',\n",
              " Timestamp('2018-04-23 00:00:00'): ' ',\n",
              " Timestamp('2018-04-24 00:00:00'): ' ',\n",
              " Timestamp('2018-04-25 00:00:00'): ' ',\n",
              " Timestamp('2018-04-26 00:00:00'): ' ',\n",
              " Timestamp('2018-04-27 00:00:00'): ' ',\n",
              " Timestamp('2018-04-28 00:00:00'): ' ',\n",
              " Timestamp('2018-04-29 00:00:00'): ' ',\n",
              " Timestamp('2018-04-30 00:00:00'): ' ',\n",
              " Timestamp('2018-05-01 00:00:00'): \"Worker's Day\",\n",
              " Timestamp('2018-05-02 00:00:00'): ' ',\n",
              " Timestamp('2018-05-03 00:00:00'): ' ',\n",
              " Timestamp('2018-05-04 00:00:00'): ' ',\n",
              " Timestamp('2018-05-05 00:00:00'): ' ',\n",
              " Timestamp('2018-05-06 00:00:00'): ' ',\n",
              " Timestamp('2018-05-07 00:00:00'): ' ',\n",
              " Timestamp('2018-05-08 00:00:00'): ' ',\n",
              " Timestamp('2018-05-09 00:00:00'): ' ',\n",
              " Timestamp('2018-05-10 00:00:00'): ' ',\n",
              " Timestamp('2018-05-11 00:00:00'): ' ',\n",
              " Timestamp('2018-05-12 00:00:00'): ' ',\n",
              " Timestamp('2018-05-13 00:00:00'): ' ',\n",
              " Timestamp('2018-05-14 00:00:00'): ' ',\n",
              " Timestamp('2018-05-15 00:00:00'): ' ',\n",
              " Timestamp('2018-05-16 00:00:00'): ' ',\n",
              " Timestamp('2018-05-17 00:00:00'): ' ',\n",
              " Timestamp('2018-05-18 00:00:00'): ' ',\n",
              " Timestamp('2018-05-19 00:00:00'): ' ',\n",
              " Timestamp('2018-05-20 00:00:00'): ' ',\n",
              " Timestamp('2018-05-21 00:00:00'): ' ',\n",
              " Timestamp('2018-05-22 00:00:00'): ' ',\n",
              " Timestamp('2018-05-23 00:00:00'): ' ',\n",
              " Timestamp('2018-05-24 00:00:00'): ' ',\n",
              " Timestamp('2018-05-25 00:00:00'): 'Africa Day',\n",
              " Timestamp('2018-05-26 00:00:00'): ' ',\n",
              " Timestamp('2018-05-27 00:00:00'): ' ',\n",
              " Timestamp('2018-05-28 00:00:00'): ' ',\n",
              " Timestamp('2018-05-29 00:00:00'): ' ',\n",
              " Timestamp('2018-05-30 00:00:00'): ' ',\n",
              " Timestamp('2018-05-31 00:00:00'): ' ',\n",
              " Timestamp('2018-06-01 00:00:00'): ' ',\n",
              " Timestamp('2018-06-02 00:00:00'): ' ',\n",
              " Timestamp('2018-06-03 00:00:00'): ' ',\n",
              " Timestamp('2018-06-04 00:00:00'): ' ',\n",
              " Timestamp('2018-06-05 00:00:00'): ' ',\n",
              " Timestamp('2018-06-06 00:00:00'): ' ',\n",
              " Timestamp('2018-06-07 00:00:00'): ' ',\n",
              " Timestamp('2018-06-08 00:00:00'): ' ',\n",
              " Timestamp('2018-06-09 00:00:00'): ' ',\n",
              " Timestamp('2018-06-10 00:00:00'): ' ',\n",
              " Timestamp('2018-06-11 00:00:00'): ' ',\n",
              " Timestamp('2018-06-12 00:00:00'): ' ',\n",
              " Timestamp('2018-06-13 00:00:00'): ' ',\n",
              " Timestamp('2018-06-14 00:00:00'): ' ',\n",
              " Timestamp('2018-06-15 00:00:00'): ' ',\n",
              " Timestamp('2018-06-16 00:00:00'): ' ',\n",
              " Timestamp('2018-06-17 00:00:00'): ' ',\n",
              " Timestamp('2018-06-18 00:00:00'): ' ',\n",
              " Timestamp('2018-06-19 00:00:00'): ' ',\n",
              " Timestamp('2018-06-20 00:00:00'): ' ',\n",
              " Timestamp('2018-06-21 00:00:00'): ' ',\n",
              " Timestamp('2018-06-22 00:00:00'): ' ',\n",
              " Timestamp('2018-06-23 00:00:00'): ' ',\n",
              " Timestamp('2018-06-24 00:00:00'): ' ',\n",
              " Timestamp('2018-06-25 00:00:00'): ' ',\n",
              " Timestamp('2018-06-26 00:00:00'): ' ',\n",
              " Timestamp('2018-06-27 00:00:00'): ' ',\n",
              " Timestamp('2018-06-28 00:00:00'): ' ',\n",
              " Timestamp('2018-06-29 00:00:00'): ' ',\n",
              " Timestamp('2018-06-30 00:00:00'): ' ',\n",
              " Timestamp('2018-07-01 00:00:00'): ' ',\n",
              " Timestamp('2018-07-02 00:00:00'): ' ',\n",
              " Timestamp('2018-07-03 00:00:00'): ' ',\n",
              " Timestamp('2018-07-04 00:00:00'): ' ',\n",
              " Timestamp('2018-07-05 00:00:00'): ' ',\n",
              " Timestamp('2018-07-06 00:00:00'): ' ',\n",
              " Timestamp('2018-07-07 00:00:00'): ' ',\n",
              " Timestamp('2018-07-08 00:00:00'): ' ',\n",
              " Timestamp('2018-07-09 00:00:00'): ' ',\n",
              " Timestamp('2018-07-10 00:00:00'): ' ',\n",
              " Timestamp('2018-07-11 00:00:00'): ' ',\n",
              " Timestamp('2018-07-12 00:00:00'): ' ',\n",
              " Timestamp('2018-07-13 00:00:00'): ' ',\n",
              " Timestamp('2018-07-14 00:00:00'): ' ',\n",
              " Timestamp('2018-07-15 00:00:00'): ' ',\n",
              " Timestamp('2018-07-16 00:00:00'): ' ',\n",
              " Timestamp('2018-07-17 00:00:00'): ' ',\n",
              " Timestamp('2018-07-18 00:00:00'): ' ',\n",
              " Timestamp('2018-07-19 00:00:00'): ' ',\n",
              " Timestamp('2018-07-20 00:00:00'): ' ',\n",
              " Timestamp('2018-07-21 00:00:00'): ' ',\n",
              " Timestamp('2018-07-22 00:00:00'): ' ',\n",
              " Timestamp('2018-07-23 00:00:00'): ' ',\n",
              " Timestamp('2018-07-24 00:00:00'): ' ',\n",
              " Timestamp('2018-07-25 00:00:00'): ' ',\n",
              " Timestamp('2018-07-26 00:00:00'): ' ',\n",
              " Timestamp('2018-07-27 00:00:00'): ' ',\n",
              " Timestamp('2018-07-28 00:00:00'): ' ',\n",
              " Timestamp('2018-07-29 00:00:00'): ' ',\n",
              " Timestamp('2018-07-30 00:00:00'): 'Zimbabwean General Election',\n",
              " Timestamp('2018-07-31 00:00:00'): ' ',\n",
              " Timestamp('2018-08-01 00:00:00'): ' ',\n",
              " Timestamp('2018-08-02 00:00:00'): ' ',\n",
              " Timestamp('2018-08-03 00:00:00'): ' ',\n",
              " Timestamp('2018-08-04 00:00:00'): ' ',\n",
              " Timestamp('2018-08-05 00:00:00'): ' ',\n",
              " Timestamp('2018-08-06 00:00:00'): ' ',\n",
              " Timestamp('2018-08-07 00:00:00'): ' ',\n",
              " Timestamp('2018-08-08 00:00:00'): ' ',\n",
              " Timestamp('2018-08-09 00:00:00'): ' ',\n",
              " Timestamp('2018-08-10 00:00:00'): ' ',\n",
              " Timestamp('2018-08-11 00:00:00'): ' ',\n",
              " Timestamp('2018-08-12 00:00:00'): ' ',\n",
              " Timestamp('2018-08-13 00:00:00'): \"Heroes' Day\",\n",
              " Timestamp('2018-08-14 00:00:00'): 'Zimbabwe Defence Forces Day',\n",
              " Timestamp('2018-08-15 00:00:00'): ' ',\n",
              " Timestamp('2018-08-16 00:00:00'): ' ',\n",
              " Timestamp('2018-08-17 00:00:00'): ' ',\n",
              " Timestamp('2018-08-18 00:00:00'): ' ',\n",
              " Timestamp('2018-08-19 00:00:00'): ' ',\n",
              " Timestamp('2018-08-20 00:00:00'): ' ',\n",
              " Timestamp('2018-08-21 00:00:00'): ' ',\n",
              " Timestamp('2018-08-22 00:00:00'): ' ',\n",
              " Timestamp('2018-08-23 00:00:00'): ' ',\n",
              " Timestamp('2018-08-24 00:00:00'): ' ',\n",
              " Timestamp('2018-08-25 00:00:00'): ' ',\n",
              " Timestamp('2018-08-26 00:00:00'): ' ',\n",
              " Timestamp('2018-08-27 00:00:00'): ' ',\n",
              " Timestamp('2018-08-28 00:00:00'): ' ',\n",
              " Timestamp('2018-08-29 00:00:00'): ' ',\n",
              " Timestamp('2018-08-30 00:00:00'): ' ',\n",
              " Timestamp('2018-08-31 00:00:00'): ' ',\n",
              " Timestamp('2018-09-01 00:00:00'): ' ',\n",
              " Timestamp('2018-09-02 00:00:00'): ' ',\n",
              " Timestamp('2018-09-03 00:00:00'): ' ',\n",
              " Timestamp('2018-09-04 00:00:00'): ' ',\n",
              " Timestamp('2018-09-05 00:00:00'): ' ',\n",
              " Timestamp('2018-09-06 00:00:00'): ' ',\n",
              " Timestamp('2018-09-07 00:00:00'): ' ',\n",
              " Timestamp('2018-09-08 00:00:00'): ' ',\n",
              " Timestamp('2018-09-09 00:00:00'): ' ',\n",
              " Timestamp('2018-09-10 00:00:00'): ' ',\n",
              " Timestamp('2018-09-11 00:00:00'): ' ',\n",
              " Timestamp('2018-09-12 00:00:00'): ' ',\n",
              " Timestamp('2018-09-13 00:00:00'): ' ',\n",
              " Timestamp('2018-09-14 00:00:00'): ' ',\n",
              " Timestamp('2018-09-15 00:00:00'): ' ',\n",
              " Timestamp('2018-09-16 00:00:00'): ' ',\n",
              " Timestamp('2018-09-17 00:00:00'): ' ',\n",
              " Timestamp('2018-09-18 00:00:00'): ' ',\n",
              " Timestamp('2018-09-19 00:00:00'): ' ',\n",
              " Timestamp('2018-09-20 00:00:00'): ' ',\n",
              " Timestamp('2018-09-21 00:00:00'): ' ',\n",
              " Timestamp('2018-09-22 00:00:00'): ' ',\n",
              " Timestamp('2018-09-23 00:00:00'): ' ',\n",
              " Timestamp('2018-09-24 00:00:00'): ' ',\n",
              " Timestamp('2018-09-25 00:00:00'): ' ',\n",
              " Timestamp('2018-09-26 00:00:00'): ' ',\n",
              " Timestamp('2018-09-27 00:00:00'): ' ',\n",
              " Timestamp('2018-09-28 00:00:00'): ' ',\n",
              " Timestamp('2018-09-29 00:00:00'): ' ',\n",
              " Timestamp('2018-09-30 00:00:00'): ' ',\n",
              " Timestamp('2018-10-01 00:00:00'): ' ',\n",
              " Timestamp('2018-10-02 00:00:00'): ' ',\n",
              " Timestamp('2018-10-03 00:00:00'): ' ',\n",
              " Timestamp('2018-10-04 00:00:00'): ' ',\n",
              " Timestamp('2018-10-05 00:00:00'): ' ',\n",
              " Timestamp('2018-10-06 00:00:00'): ' ',\n",
              " Timestamp('2018-10-07 00:00:00'): ' ',\n",
              " Timestamp('2018-10-08 00:00:00'): ' ',\n",
              " Timestamp('2018-10-09 00:00:00'): ' ',\n",
              " Timestamp('2018-10-10 00:00:00'): ' ',\n",
              " Timestamp('2018-10-11 00:00:00'): ' ',\n",
              " Timestamp('2018-10-12 00:00:00'): ' ',\n",
              " Timestamp('2018-10-13 00:00:00'): ' ',\n",
              " Timestamp('2018-10-14 00:00:00'): ' ',\n",
              " Timestamp('2018-10-15 00:00:00'): ' ',\n",
              " Timestamp('2018-10-16 00:00:00'): ' ',\n",
              " Timestamp('2018-10-17 00:00:00'): ' ',\n",
              " Timestamp('2018-10-18 00:00:00'): ' ',\n",
              " Timestamp('2018-10-19 00:00:00'): ' ',\n",
              " Timestamp('2018-10-20 00:00:00'): ' ',\n",
              " Timestamp('2018-10-21 00:00:00'): ' ',\n",
              " Timestamp('2018-10-22 00:00:00'): ' ',\n",
              " Timestamp('2018-10-23 00:00:00'): ' ',\n",
              " Timestamp('2018-10-24 00:00:00'): ' ',\n",
              " Timestamp('2018-10-25 00:00:00'): ' ',\n",
              " Timestamp('2018-10-26 00:00:00'): ' ',\n",
              " Timestamp('2018-10-27 00:00:00'): ' ',\n",
              " Timestamp('2018-10-28 00:00:00'): ' ',\n",
              " Timestamp('2018-10-29 00:00:00'): ' ',\n",
              " Timestamp('2018-10-30 00:00:00'): ' ',\n",
              " Timestamp('2018-10-31 00:00:00'): ' ',\n",
              " Timestamp('2018-11-01 00:00:00'): ' ',\n",
              " Timestamp('2018-11-02 00:00:00'): ' ',\n",
              " Timestamp('2018-11-03 00:00:00'): ' ',\n",
              " Timestamp('2018-11-04 00:00:00'): ' ',\n",
              " Timestamp('2018-11-05 00:00:00'): ' ',\n",
              " Timestamp('2018-11-06 00:00:00'): ' ',\n",
              " Timestamp('2018-11-07 00:00:00'): ' ',\n",
              " Timestamp('2018-11-08 00:00:00'): ' ',\n",
              " Timestamp('2018-11-09 00:00:00'): ' ',\n",
              " Timestamp('2018-11-10 00:00:00'): ' ',\n",
              " Timestamp('2018-11-11 00:00:00'): ' ',\n",
              " Timestamp('2018-11-12 00:00:00'): ' ',\n",
              " Timestamp('2018-11-13 00:00:00'): ' ',\n",
              " Timestamp('2018-11-14 00:00:00'): ' ',\n",
              " Timestamp('2018-11-15 00:00:00'): ' ',\n",
              " Timestamp('2018-11-16 00:00:00'): ' ',\n",
              " Timestamp('2018-11-17 00:00:00'): ' ',\n",
              " Timestamp('2018-11-18 00:00:00'): ' ',\n",
              " Timestamp('2018-11-19 00:00:00'): ' ',\n",
              " Timestamp('2018-11-20 00:00:00'): ' ',\n",
              " Timestamp('2018-11-21 00:00:00'): ' ',\n",
              " Timestamp('2018-11-22 00:00:00'): ' ',\n",
              " Timestamp('2018-11-23 00:00:00'): ' ',\n",
              " Timestamp('2018-11-24 00:00:00'): ' ',\n",
              " Timestamp('2018-11-25 00:00:00'): ' ',\n",
              " Timestamp('2018-11-26 00:00:00'): ' ',\n",
              " Timestamp('2018-11-27 00:00:00'): ' ',\n",
              " Timestamp('2018-11-28 00:00:00'): ' ',\n",
              " Timestamp('2018-11-29 00:00:00'): ' ',\n",
              " Timestamp('2018-11-30 00:00:00'): ' ',\n",
              " Timestamp('2018-12-01 00:00:00'): ' ',\n",
              " Timestamp('2018-12-02 00:00:00'): ' ',\n",
              " Timestamp('2018-12-03 00:00:00'): ' ',\n",
              " Timestamp('2018-12-04 00:00:00'): ' ',\n",
              " Timestamp('2018-12-05 00:00:00'): ' ',\n",
              " Timestamp('2018-12-06 00:00:00'): ' ',\n",
              " Timestamp('2018-12-07 00:00:00'): ' ',\n",
              " Timestamp('2018-12-08 00:00:00'): ' ',\n",
              " Timestamp('2018-12-09 00:00:00'): ' ',\n",
              " Timestamp('2018-12-10 00:00:00'): ' ',\n",
              " Timestamp('2018-12-11 00:00:00'): ' ',\n",
              " Timestamp('2018-12-12 00:00:00'): ' ',\n",
              " Timestamp('2018-12-13 00:00:00'): ' ',\n",
              " Timestamp('2018-12-14 00:00:00'): ' ',\n",
              " Timestamp('2018-12-15 00:00:00'): ' ',\n",
              " Timestamp('2018-12-16 00:00:00'): ' ',\n",
              " Timestamp('2018-12-17 00:00:00'): ' ',\n",
              " Timestamp('2018-12-18 00:00:00'): ' ',\n",
              " Timestamp('2018-12-19 00:00:00'): ' ',\n",
              " Timestamp('2018-12-20 00:00:00'): ' ',\n",
              " Timestamp('2018-12-21 00:00:00'): ' ',\n",
              " Timestamp('2018-12-22 00:00:00'): 'National Unity Day',\n",
              " Timestamp('2018-12-23 00:00:00'): ' ',\n",
              " Timestamp('2018-12-24 00:00:00'): ' ',\n",
              " Timestamp('2018-12-25 00:00:00'): 'Christmas Day',\n",
              " Timestamp('2018-12-26 00:00:00'): 'Boxing Day',\n",
              " Timestamp('2018-12-27 00:00:00'): ' ',\n",
              " Timestamp('2018-12-28 00:00:00'): ' ',\n",
              " Timestamp('2018-12-29 00:00:00'): ' ',\n",
              " Timestamp('2018-12-30 00:00:00'): ' ',\n",
              " Timestamp('2018-12-31 00:00:00'): ' ',\n",
              " Timestamp('2019-01-01 00:00:00'): \"New Year's Day\",\n",
              " Timestamp('2019-01-02 00:00:00'): ' ',\n",
              " Timestamp('2019-01-03 00:00:00'): ' ',\n",
              " Timestamp('2019-01-04 00:00:00'): ' ',\n",
              " Timestamp('2019-01-05 00:00:00'): ' ',\n",
              " Timestamp('2019-01-06 00:00:00'): ' ',\n",
              " Timestamp('2019-01-07 00:00:00'): ' ',\n",
              " Timestamp('2019-01-08 00:00:00'): ' ',\n",
              " Timestamp('2019-01-09 00:00:00'): ' ',\n",
              " Timestamp('2019-01-10 00:00:00'): ' ',\n",
              " Timestamp('2019-01-11 00:00:00'): ' ',\n",
              " Timestamp('2019-01-12 00:00:00'): ' ',\n",
              " Timestamp('2019-01-13 00:00:00'): ' ',\n",
              " Timestamp('2019-01-14 00:00:00'): ' ',\n",
              " Timestamp('2019-01-15 00:00:00'): ' ',\n",
              " Timestamp('2019-01-16 00:00:00'): ' ',\n",
              " Timestamp('2019-01-17 00:00:00'): ' ',\n",
              " Timestamp('2019-01-18 00:00:00'): ' ',\n",
              " Timestamp('2019-01-19 00:00:00'): ' ',\n",
              " Timestamp('2019-01-20 00:00:00'): ' ',\n",
              " Timestamp('2019-01-21 00:00:00'): ' ',\n",
              " Timestamp('2019-01-22 00:00:00'): ' ',\n",
              " Timestamp('2019-01-23 00:00:00'): ' ',\n",
              " Timestamp('2019-01-24 00:00:00'): ' ',\n",
              " Timestamp('2019-01-25 00:00:00'): ' ',\n",
              " Timestamp('2019-01-26 00:00:00'): ' ',\n",
              " Timestamp('2019-01-27 00:00:00'): ' ',\n",
              " Timestamp('2019-01-28 00:00:00'): ' ',\n",
              " Timestamp('2019-01-29 00:00:00'): ' ',\n",
              " Timestamp('2019-01-30 00:00:00'): ' ',\n",
              " Timestamp('2019-01-31 00:00:00'): ' ',\n",
              " Timestamp('2019-02-01 00:00:00'): ' ',\n",
              " Timestamp('2019-02-02 00:00:00'): ' ',\n",
              " Timestamp('2019-02-03 00:00:00'): ' ',\n",
              " Timestamp('2019-02-04 00:00:00'): ' ',\n",
              " Timestamp('2019-02-05 00:00:00'): ' ',\n",
              " Timestamp('2019-02-06 00:00:00'): ' ',\n",
              " Timestamp('2019-02-07 00:00:00'): ' ',\n",
              " Timestamp('2019-02-08 00:00:00'): ' ',\n",
              " Timestamp('2019-02-09 00:00:00'): ' ',\n",
              " Timestamp('2019-02-10 00:00:00'): ' ',\n",
              " Timestamp('2019-02-11 00:00:00'): ' ',\n",
              " Timestamp('2019-02-12 00:00:00'): ' ',\n",
              " Timestamp('2019-02-13 00:00:00'): ' ',\n",
              " Timestamp('2019-02-14 00:00:00'): ' ',\n",
              " Timestamp('2019-02-15 00:00:00'): ' ',\n",
              " Timestamp('2019-02-16 00:00:00'): ' ',\n",
              " Timestamp('2019-02-17 00:00:00'): ' ',\n",
              " Timestamp('2019-02-18 00:00:00'): ' ',\n",
              " Timestamp('2019-02-19 00:00:00'): ' ',\n",
              " Timestamp('2019-02-20 00:00:00'): ' ',\n",
              " Timestamp('2019-02-21 00:00:00'): 'Robert Mugabe National Youth Day',\n",
              " Timestamp('2019-02-22 00:00:00'): ' ',\n",
              " Timestamp('2019-02-23 00:00:00'): ' ',\n",
              " Timestamp('2019-02-24 00:00:00'): ' ',\n",
              " Timestamp('2019-02-25 00:00:00'): ' ',\n",
              " Timestamp('2019-02-26 00:00:00'): ' ',\n",
              " Timestamp('2019-02-27 00:00:00'): ' ',\n",
              " Timestamp('2019-02-28 00:00:00'): ' ',\n",
              " Timestamp('2019-03-01 00:00:00'): ' ',\n",
              " Timestamp('2019-03-02 00:00:00'): ' ',\n",
              " Timestamp('2019-03-03 00:00:00'): ' ',\n",
              " Timestamp('2019-03-04 00:00:00'): ' ',\n",
              " Timestamp('2019-03-05 00:00:00'): ' ',\n",
              " Timestamp('2019-03-06 00:00:00'): ' ',\n",
              " Timestamp('2019-03-07 00:00:00'): ' ',\n",
              " Timestamp('2019-03-08 00:00:00'): ' ',\n",
              " Timestamp('2019-03-09 00:00:00'): ' ',\n",
              " Timestamp('2019-03-10 00:00:00'): ' ',\n",
              " Timestamp('2019-03-11 00:00:00'): ' ',\n",
              " Timestamp('2019-03-12 00:00:00'): ' ',\n",
              " Timestamp('2019-03-13 00:00:00'): ' ',\n",
              " Timestamp('2019-03-14 00:00:00'): ' ',\n",
              " Timestamp('2019-03-15 00:00:00'): ' ',\n",
              " Timestamp('2019-03-16 00:00:00'): ' ',\n",
              " Timestamp('2019-03-17 00:00:00'): ' ',\n",
              " Timestamp('2019-03-18 00:00:00'): ' ',\n",
              " Timestamp('2019-03-19 00:00:00'): ' ',\n",
              " Timestamp('2019-03-20 00:00:00'): ' ',\n",
              " Timestamp('2019-03-21 00:00:00'): ' ',\n",
              " Timestamp('2019-03-22 00:00:00'): ' ',\n",
              " Timestamp('2019-03-23 00:00:00'): ' ',\n",
              " Timestamp('2019-03-24 00:00:00'): ' ',\n",
              " Timestamp('2019-03-25 00:00:00'): ' ',\n",
              " Timestamp('2019-03-26 00:00:00'): ' ',\n",
              " Timestamp('2019-03-27 00:00:00'): ' ',\n",
              " Timestamp('2019-03-28 00:00:00'): ' ',\n",
              " Timestamp('2019-03-29 00:00:00'): ' ',\n",
              " Timestamp('2019-03-30 00:00:00'): ' ',\n",
              " Timestamp('2019-03-31 00:00:00'): ' ',\n",
              " Timestamp('2019-04-01 00:00:00'): ' ',\n",
              " Timestamp('2019-04-02 00:00:00'): ' ',\n",
              " Timestamp('2019-04-03 00:00:00'): ' ',\n",
              " Timestamp('2019-04-04 00:00:00'): ' ',\n",
              " Timestamp('2019-04-05 00:00:00'): ' ',\n",
              " Timestamp('2019-04-06 00:00:00'): ' ',\n",
              " Timestamp('2019-04-07 00:00:00'): ' ',\n",
              " Timestamp('2019-04-08 00:00:00'): ' ',\n",
              " Timestamp('2019-04-09 00:00:00'): ' ',\n",
              " Timestamp('2019-04-10 00:00:00'): ' ',\n",
              " Timestamp('2019-04-11 00:00:00'): ' ',\n",
              " Timestamp('2019-04-12 00:00:00'): ' ',\n",
              " Timestamp('2019-04-13 00:00:00'): ' ',\n",
              " Timestamp('2019-04-14 00:00:00'): ' ',\n",
              " Timestamp('2019-04-15 00:00:00'): ' ',\n",
              " Timestamp('2019-04-16 00:00:00'): ' ',\n",
              " Timestamp('2019-04-17 00:00:00'): ' ',\n",
              " Timestamp('2019-04-18 00:00:00'): 'Independence Day',\n",
              " Timestamp('2019-04-19 00:00:00'): 'Good Friday',\n",
              " Timestamp('2019-04-20 00:00:00'): 'Holy Saturday',\n",
              " Timestamp('2019-04-21 00:00:00'): 'Easter Sunday',\n",
              " Timestamp('2019-04-22 00:00:00'): 'Easter Monday',\n",
              " Timestamp('2019-04-23 00:00:00'): ' ',\n",
              " Timestamp('2019-04-24 00:00:00'): ' ',\n",
              " Timestamp('2019-04-25 00:00:00'): ' ',\n",
              " Timestamp('2019-04-26 00:00:00'): ' ',\n",
              " Timestamp('2019-04-27 00:00:00'): ' ',\n",
              " Timestamp('2019-04-28 00:00:00'): ' ',\n",
              " Timestamp('2019-04-29 00:00:00'): ' ',\n",
              " Timestamp('2019-04-30 00:00:00'): ' ',\n",
              " Timestamp('2019-05-01 00:00:00'): \"Worker's Day\",\n",
              " Timestamp('2019-05-02 00:00:00'): ' ',\n",
              " Timestamp('2019-05-03 00:00:00'): ' ',\n",
              " Timestamp('2019-05-04 00:00:00'): ' ',\n",
              " Timestamp('2019-05-05 00:00:00'): ' ',\n",
              " Timestamp('2019-05-06 00:00:00'): ' ',\n",
              " Timestamp('2019-05-07 00:00:00'): ' ',\n",
              " Timestamp('2019-05-08 00:00:00'): ' ',\n",
              " Timestamp('2019-05-09 00:00:00'): ' ',\n",
              " Timestamp('2019-05-10 00:00:00'): ' ',\n",
              " Timestamp('2019-05-11 00:00:00'): ' ',\n",
              " Timestamp('2019-05-12 00:00:00'): ' ',\n",
              " Timestamp('2019-05-13 00:00:00'): ' ',\n",
              " Timestamp('2019-05-14 00:00:00'): ' ',\n",
              " Timestamp('2019-05-15 00:00:00'): ' ',\n",
              " Timestamp('2019-05-16 00:00:00'): ' ',\n",
              " Timestamp('2019-05-17 00:00:00'): ' ',\n",
              " Timestamp('2019-05-18 00:00:00'): ' ',\n",
              " Timestamp('2019-05-19 00:00:00'): ' ',\n",
              " Timestamp('2019-05-20 00:00:00'): ' ',\n",
              " Timestamp('2019-05-21 00:00:00'): ' ',\n",
              " Timestamp('2019-05-22 00:00:00'): ' ',\n",
              " Timestamp('2019-05-23 00:00:00'): ' ',\n",
              " Timestamp('2019-05-24 00:00:00'): ' ',\n",
              " Timestamp('2019-05-25 00:00:00'): 'Africa Day',\n",
              " Timestamp('2019-05-26 00:00:00'): ' ',\n",
              " Timestamp('2019-05-27 00:00:00'): ' ',\n",
              " Timestamp('2019-05-28 00:00:00'): ' ',\n",
              " Timestamp('2019-05-29 00:00:00'): ' ',\n",
              " Timestamp('2019-05-30 00:00:00'): ' ',\n",
              " Timestamp('2019-05-31 00:00:00'): ' ',\n",
              " Timestamp('2019-06-01 00:00:00'): ' ',\n",
              " Timestamp('2019-06-02 00:00:00'): ' ',\n",
              " Timestamp('2019-06-03 00:00:00'): ' ',\n",
              " Timestamp('2019-06-04 00:00:00'): ' ',\n",
              " Timestamp('2019-06-05 00:00:00'): ' ',\n",
              " Timestamp('2019-06-06 00:00:00'): ' ',\n",
              " Timestamp('2019-06-07 00:00:00'): ' ',\n",
              " Timestamp('2019-06-08 00:00:00'): ' ',\n",
              " Timestamp('2019-06-09 00:00:00'): ' ',\n",
              " Timestamp('2019-06-10 00:00:00'): ' ',\n",
              " Timestamp('2019-06-11 00:00:00'): ' ',\n",
              " Timestamp('2019-06-12 00:00:00'): ' ',\n",
              " Timestamp('2019-06-13 00:00:00'): ' ',\n",
              " Timestamp('2019-06-14 00:00:00'): ' ',\n",
              " Timestamp('2019-06-15 00:00:00'): ' ',\n",
              " Timestamp('2019-06-16 00:00:00'): ' ',\n",
              " Timestamp('2019-06-17 00:00:00'): ' ',\n",
              " Timestamp('2019-06-18 00:00:00'): ' ',\n",
              " Timestamp('2019-06-19 00:00:00'): ' ',\n",
              " Timestamp('2019-06-20 00:00:00'): ' ',\n",
              " Timestamp('2019-06-21 00:00:00'): ' ',\n",
              " Timestamp('2019-06-22 00:00:00'): ' ',\n",
              " Timestamp('2019-06-23 00:00:00'): ' ',\n",
              " Timestamp('2019-06-24 00:00:00'): ' ',\n",
              " Timestamp('2019-06-25 00:00:00'): ' ',\n",
              " Timestamp('2019-06-26 00:00:00'): ' ',\n",
              " Timestamp('2019-06-27 00:00:00'): ' ',\n",
              " Timestamp('2019-06-28 00:00:00'): ' ',\n",
              " Timestamp('2019-06-29 00:00:00'): ' ',\n",
              " Timestamp('2019-06-30 00:00:00'): ' ',\n",
              " Timestamp('2019-07-01 00:00:00'): ' ',\n",
              " Timestamp('2019-07-02 00:00:00'): ' ',\n",
              " Timestamp('2019-07-03 00:00:00'): ' ',\n",
              " Timestamp('2019-07-04 00:00:00'): ' ',\n",
              " Timestamp('2019-07-05 00:00:00'): ' ',\n",
              " Timestamp('2019-07-06 00:00:00'): ' ',\n",
              " Timestamp('2019-07-07 00:00:00'): ' ',\n",
              " Timestamp('2019-07-08 00:00:00'): ' ',\n",
              " Timestamp('2019-07-09 00:00:00'): ' ',\n",
              " Timestamp('2019-07-10 00:00:00'): ' ',\n",
              " Timestamp('2019-07-11 00:00:00'): ' ',\n",
              " Timestamp('2019-07-12 00:00:00'): ' ',\n",
              " Timestamp('2019-07-13 00:00:00'): ' ',\n",
              " Timestamp('2019-07-14 00:00:00'): ' ',\n",
              " Timestamp('2019-07-15 00:00:00'): ' ',\n",
              " Timestamp('2019-07-16 00:00:00'): ' ',\n",
              " Timestamp('2019-07-17 00:00:00'): ' ',\n",
              " Timestamp('2019-07-18 00:00:00'): ' ',\n",
              " Timestamp('2019-07-19 00:00:00'): ' ',\n",
              " Timestamp('2019-07-20 00:00:00'): ' ',\n",
              " Timestamp('2019-07-21 00:00:00'): ' ',\n",
              " Timestamp('2019-07-22 00:00:00'): ' ',\n",
              " Timestamp('2019-07-23 00:00:00'): ' ',\n",
              " Timestamp('2019-07-24 00:00:00'): ' ',\n",
              " Timestamp('2019-07-25 00:00:00'): ' ',\n",
              " Timestamp('2019-07-26 00:00:00'): ' ',\n",
              " Timestamp('2019-07-27 00:00:00'): ' ',\n",
              " Timestamp('2019-07-28 00:00:00'): ' ',\n",
              " Timestamp('2019-07-29 00:00:00'): ' ',\n",
              " Timestamp('2019-07-30 00:00:00'): ' ',\n",
              " Timestamp('2019-07-31 00:00:00'): ' ',\n",
              " Timestamp('2019-08-01 00:00:00'): ' ',\n",
              " Timestamp('2019-08-02 00:00:00'): ' ',\n",
              " Timestamp('2019-08-03 00:00:00'): ' ',\n",
              " Timestamp('2019-08-04 00:00:00'): ' ',\n",
              " Timestamp('2019-08-05 00:00:00'): ' ',\n",
              " Timestamp('2019-08-06 00:00:00'): ' ',\n",
              " Timestamp('2019-08-07 00:00:00'): ' ',\n",
              " Timestamp('2019-08-08 00:00:00'): ' ',\n",
              " Timestamp('2019-08-09 00:00:00'): ' ',\n",
              " Timestamp('2019-08-10 00:00:00'): ' ',\n",
              " Timestamp('2019-08-11 00:00:00'): ' ',\n",
              " Timestamp('2019-08-12 00:00:00'): \"Heroes' Day\",\n",
              " Timestamp('2019-08-13 00:00:00'): 'Zimbabwe Defence Forces Day',\n",
              " Timestamp('2019-08-14 00:00:00'): ' ',\n",
              " Timestamp('2019-08-15 00:00:00'): ' ',\n",
              " Timestamp('2019-08-16 00:00:00'): ' ',\n",
              " Timestamp('2019-08-17 00:00:00'): ' ',\n",
              " Timestamp('2019-08-18 00:00:00'): ' ',\n",
              " Timestamp('2019-08-19 00:00:00'): ' ',\n",
              " Timestamp('2019-08-20 00:00:00'): ' ',\n",
              " Timestamp('2019-08-21 00:00:00'): ' ',\n",
              " Timestamp('2019-08-22 00:00:00'): ' ',\n",
              " Timestamp('2019-08-23 00:00:00'): ' ',\n",
              " Timestamp('2019-08-24 00:00:00'): ' ',\n",
              " Timestamp('2019-08-25 00:00:00'): ' ',\n",
              " Timestamp('2019-08-26 00:00:00'): ' ',\n",
              " Timestamp('2019-08-27 00:00:00'): ' ',\n",
              " Timestamp('2019-08-28 00:00:00'): ' ',\n",
              " Timestamp('2019-08-29 00:00:00'): ' ',\n",
              " Timestamp('2019-08-30 00:00:00'): ' ',\n",
              " Timestamp('2019-08-31 00:00:00'): ' ',\n",
              " Timestamp('2019-09-01 00:00:00'): ' ',\n",
              " Timestamp('2019-09-02 00:00:00'): ' ',\n",
              " Timestamp('2019-09-03 00:00:00'): ' ',\n",
              " Timestamp('2019-09-04 00:00:00'): ' ',\n",
              " Timestamp('2019-09-05 00:00:00'): ' ',\n",
              " Timestamp('2019-09-06 00:00:00'): ' ',\n",
              " Timestamp('2019-09-07 00:00:00'): ' ',\n",
              " Timestamp('2019-09-08 00:00:00'): ' ',\n",
              " Timestamp('2019-09-09 00:00:00'): ' ',\n",
              " Timestamp('2019-09-10 00:00:00'): ' ',\n",
              " Timestamp('2019-09-11 00:00:00'): ' ',\n",
              " Timestamp('2019-09-12 00:00:00'): ' ',\n",
              " Timestamp('2019-09-13 00:00:00'): ' ',\n",
              " Timestamp('2019-09-14 00:00:00'): ' ',\n",
              " Timestamp('2019-09-15 00:00:00'): ' ',\n",
              " Timestamp('2019-09-16 00:00:00'): ' ',\n",
              " Timestamp('2019-09-17 00:00:00'): ' ',\n",
              " Timestamp('2019-09-18 00:00:00'): ' ',\n",
              " Timestamp('2019-09-19 00:00:00'): ' ',\n",
              " Timestamp('2019-09-20 00:00:00'): ' ',\n",
              " Timestamp('2019-09-21 00:00:00'): ' ',\n",
              " Timestamp('2019-09-22 00:00:00'): ' ',\n",
              " Timestamp('2019-09-23 00:00:00'): ' ',\n",
              " Timestamp('2019-09-24 00:00:00'): ' ',\n",
              " Timestamp('2019-09-25 00:00:00'): ' ',\n",
              " Timestamp('2019-09-26 00:00:00'): ' ',\n",
              " Timestamp('2019-09-27 00:00:00'): ' ',\n",
              " Timestamp('2019-09-28 00:00:00'): ' ',\n",
              " Timestamp('2019-09-29 00:00:00'): ' ',\n",
              " Timestamp('2019-09-30 00:00:00'): ' ',\n",
              " Timestamp('2019-10-01 00:00:00'): ' ',\n",
              " Timestamp('2019-10-02 00:00:00'): ' ',\n",
              " Timestamp('2019-10-03 00:00:00'): ' ',\n",
              " Timestamp('2019-10-04 00:00:00'): ' ',\n",
              " Timestamp('2019-10-05 00:00:00'): ' ',\n",
              " Timestamp('2019-10-06 00:00:00'): ' ',\n",
              " Timestamp('2019-10-07 00:00:00'): ' ',\n",
              " Timestamp('2019-10-08 00:00:00'): ' ',\n",
              " Timestamp('2019-10-09 00:00:00'): ' ',\n",
              " Timestamp('2019-10-10 00:00:00'): ' ',\n",
              " Timestamp('2019-10-11 00:00:00'): ' ',\n",
              " Timestamp('2019-10-12 00:00:00'): ' ',\n",
              " Timestamp('2019-10-13 00:00:00'): ' ',\n",
              " Timestamp('2019-10-14 00:00:00'): ' ',\n",
              " Timestamp('2019-10-15 00:00:00'): ' ',\n",
              " Timestamp('2019-10-16 00:00:00'): ' ',\n",
              " Timestamp('2019-10-17 00:00:00'): ' ',\n",
              " Timestamp('2019-10-18 00:00:00'): ' ',\n",
              " Timestamp('2019-10-19 00:00:00'): ' ',\n",
              " Timestamp('2019-10-20 00:00:00'): ' ',\n",
              " Timestamp('2019-10-21 00:00:00'): ' ',\n",
              " Timestamp('2019-10-22 00:00:00'): ' ',\n",
              " Timestamp('2019-10-23 00:00:00'): ' ',\n",
              " Timestamp('2019-10-24 00:00:00'): ' ',\n",
              " Timestamp('2019-10-25 00:00:00'): 'Solidarity Day Against Sanctions',\n",
              " Timestamp('2019-10-26 00:00:00'): ' ',\n",
              " Timestamp('2019-10-27 00:00:00'): ' ',\n",
              " Timestamp('2019-10-28 00:00:00'): ' ',\n",
              " Timestamp('2019-10-29 00:00:00'): ' ',\n",
              " Timestamp('2019-10-30 00:00:00'): ' ',\n",
              " Timestamp('2019-10-31 00:00:00'): ' ',\n",
              " Timestamp('2019-11-01 00:00:00'): ' ',\n",
              " Timestamp('2019-11-02 00:00:00'): ' ',\n",
              " Timestamp('2019-11-03 00:00:00'): ' ',\n",
              " Timestamp('2019-11-04 00:00:00'): ' ',\n",
              " Timestamp('2019-11-05 00:00:00'): ' ',\n",
              " Timestamp('2019-11-06 00:00:00'): ' ',\n",
              " Timestamp('2019-11-07 00:00:00'): ' ',\n",
              " Timestamp('2019-11-08 00:00:00'): ' ',\n",
              " Timestamp('2019-11-09 00:00:00'): ' ',\n",
              " Timestamp('2019-11-10 00:00:00'): ' ',\n",
              " Timestamp('2019-11-11 00:00:00'): ' ',\n",
              " Timestamp('2019-11-12 00:00:00'): ' ',\n",
              " Timestamp('2019-11-13 00:00:00'): ' ',\n",
              " Timestamp('2019-11-14 00:00:00'): ' ',\n",
              " Timestamp('2019-11-15 00:00:00'): ' ',\n",
              " Timestamp('2019-11-16 00:00:00'): ' ',\n",
              " Timestamp('2019-11-17 00:00:00'): ' ',\n",
              " Timestamp('2019-11-18 00:00:00'): ' ',\n",
              " Timestamp('2019-11-19 00:00:00'): ' ',\n",
              " Timestamp('2019-11-20 00:00:00'): ' ',\n",
              " Timestamp('2019-11-21 00:00:00'): ' ',\n",
              " Timestamp('2019-11-22 00:00:00'): ' ',\n",
              " Timestamp('2019-11-23 00:00:00'): ' ',\n",
              " Timestamp('2019-11-24 00:00:00'): ' ',\n",
              " Timestamp('2019-11-25 00:00:00'): ' ',\n",
              " Timestamp('2019-11-26 00:00:00'): ' ',\n",
              " Timestamp('2019-11-27 00:00:00'): ' ',\n",
              " Timestamp('2019-11-28 00:00:00'): ' ',\n",
              " Timestamp('2019-11-29 00:00:00'): ' ',\n",
              " Timestamp('2019-11-30 00:00:00'): ' ',\n",
              " Timestamp('2019-12-01 00:00:00'): ' ',\n",
              " Timestamp('2019-12-02 00:00:00'): ' ',\n",
              " Timestamp('2019-12-03 00:00:00'): ' ',\n",
              " Timestamp('2019-12-04 00:00:00'): ' ',\n",
              " Timestamp('2019-12-05 00:00:00'): ' ',\n",
              " Timestamp('2019-12-06 00:00:00'): ' ',\n",
              " Timestamp('2019-12-07 00:00:00'): ' ',\n",
              " Timestamp('2019-12-08 00:00:00'): ' ',\n",
              " Timestamp('2019-12-09 00:00:00'): ' ',\n",
              " Timestamp('2019-12-10 00:00:00'): ' ',\n",
              " Timestamp('2019-12-11 00:00:00'): ' ',\n",
              " Timestamp('2019-12-12 00:00:00'): ' ',\n",
              " Timestamp('2019-12-13 00:00:00'): ' ',\n",
              " Timestamp('2019-12-14 00:00:00'): ' ',\n",
              " Timestamp('2019-12-15 00:00:00'): ' ',\n",
              " Timestamp('2019-12-16 00:00:00'): ' ',\n",
              " Timestamp('2019-12-17 00:00:00'): ' ',\n",
              " Timestamp('2019-12-18 00:00:00'): ' ',\n",
              " Timestamp('2019-12-19 00:00:00'): ' ',\n",
              " Timestamp('2019-12-20 00:00:00'): ' ',\n",
              " Timestamp('2019-12-21 00:00:00'): ' ',\n",
              " Timestamp('2019-12-22 00:00:00'): ' ',\n",
              " Timestamp('2019-12-23 00:00:00'): 'National Unity Day (observed)',\n",
              " Timestamp('2019-12-24 00:00:00'): ' ',\n",
              " Timestamp('2019-12-25 00:00:00'): 'Christmas Day',\n",
              " Timestamp('2019-12-26 00:00:00'): 'Boxing Day',\n",
              " Timestamp('2019-12-27 00:00:00'): ' ',\n",
              " Timestamp('2019-12-28 00:00:00'): ' ',\n",
              " Timestamp('2019-12-29 00:00:00'): ' ',\n",
              " Timestamp('2019-12-30 00:00:00'): ' ',\n",
              " Timestamp('2019-12-31 00:00:00'): ' ',\n",
              " Timestamp('2020-01-01 00:00:00'): \"New Year's Day\",\n",
              " Timestamp('2020-01-02 00:00:00'): ' ',\n",
              " Timestamp('2020-01-03 00:00:00'): ' ',\n",
              " Timestamp('2020-01-04 00:00:00'): ' ',\n",
              " Timestamp('2020-01-05 00:00:00'): ' ',\n",
              " Timestamp('2020-01-06 00:00:00'): ' ',\n",
              " Timestamp('2020-01-07 00:00:00'): ' ',\n",
              " Timestamp('2020-01-08 00:00:00'): ' ',\n",
              " Timestamp('2020-01-09 00:00:00'): ' ',\n",
              " Timestamp('2020-01-10 00:00:00'): ' ',\n",
              " Timestamp('2020-01-11 00:00:00'): ' ',\n",
              " Timestamp('2020-01-12 00:00:00'): ' ',\n",
              " Timestamp('2020-01-13 00:00:00'): ' ',\n",
              " Timestamp('2020-01-14 00:00:00'): ' ',\n",
              " Timestamp('2020-01-15 00:00:00'): ' ',\n",
              " Timestamp('2020-01-16 00:00:00'): ' ',\n",
              " Timestamp('2020-01-17 00:00:00'): ' ',\n",
              " Timestamp('2020-01-18 00:00:00'): ' ',\n",
              " Timestamp('2020-01-19 00:00:00'): ' ',\n",
              " Timestamp('2020-01-20 00:00:00'): ' ',\n",
              " Timestamp('2020-01-21 00:00:00'): ' ',\n",
              " Timestamp('2020-01-22 00:00:00'): ' ',\n",
              " Timestamp('2020-01-23 00:00:00'): ' ',\n",
              " Timestamp('2020-01-24 00:00:00'): ' ',\n",
              " Timestamp('2020-01-25 00:00:00'): ' ',\n",
              " Timestamp('2020-01-26 00:00:00'): ' ',\n",
              " Timestamp('2020-01-27 00:00:00'): ' ',\n",
              " Timestamp('2020-01-28 00:00:00'): ' ',\n",
              " Timestamp('2020-01-29 00:00:00'): ' ',\n",
              " Timestamp('2020-01-30 00:00:00'): ' ',\n",
              " Timestamp('2020-01-31 00:00:00'): ' ',\n",
              " Timestamp('2020-02-01 00:00:00'): ' ',\n",
              " Timestamp('2020-02-02 00:00:00'): ' ',\n",
              " Timestamp('2020-02-03 00:00:00'): ' ',\n",
              " Timestamp('2020-02-04 00:00:00'): ' ',\n",
              " Timestamp('2020-02-05 00:00:00'): ' ',\n",
              " Timestamp('2020-02-06 00:00:00'): ' ',\n",
              " Timestamp('2020-02-07 00:00:00'): ' ',\n",
              " Timestamp('2020-02-08 00:00:00'): ' ',\n",
              " Timestamp('2020-02-09 00:00:00'): ' ',\n",
              " Timestamp('2020-02-10 00:00:00'): ' ',\n",
              " Timestamp('2020-02-11 00:00:00'): ' ',\n",
              " Timestamp('2020-02-12 00:00:00'): ' ',\n",
              " Timestamp('2020-02-13 00:00:00'): ' ',\n",
              " Timestamp('2020-02-14 00:00:00'): ' ',\n",
              " Timestamp('2020-02-15 00:00:00'): ' ',\n",
              " Timestamp('2020-02-16 00:00:00'): ' ',\n",
              " Timestamp('2020-02-17 00:00:00'): ' ',\n",
              " Timestamp('2020-02-18 00:00:00'): ' ',\n",
              " Timestamp('2020-02-19 00:00:00'): ' ',\n",
              " Timestamp('2020-02-20 00:00:00'): ' ',\n",
              " Timestamp('2020-02-21 00:00:00'): 'Robert Mugabe National Youth Day',\n",
              " Timestamp('2020-02-22 00:00:00'): ' ',\n",
              " Timestamp('2020-02-23 00:00:00'): ' ',\n",
              " Timestamp('2020-02-24 00:00:00'): ' ',\n",
              " Timestamp('2020-02-25 00:00:00'): ' ',\n",
              " Timestamp('2020-02-26 00:00:00'): ' ',\n",
              " Timestamp('2020-02-27 00:00:00'): ' ',\n",
              " Timestamp('2020-02-28 00:00:00'): ' ',\n",
              " Timestamp('2020-02-29 00:00:00'): ' ',\n",
              " Timestamp('2020-03-01 00:00:00'): ' ',\n",
              " Timestamp('2020-03-02 00:00:00'): ' ',\n",
              " Timestamp('2020-03-03 00:00:00'): ' ',\n",
              " Timestamp('2020-03-04 00:00:00'): ' ',\n",
              " Timestamp('2020-03-05 00:00:00'): ' ',\n",
              " Timestamp('2020-03-06 00:00:00'): ' ',\n",
              " Timestamp('2020-03-07 00:00:00'): ' ',\n",
              " Timestamp('2020-03-08 00:00:00'): ' ',\n",
              " Timestamp('2020-03-09 00:00:00'): ' ',\n",
              " Timestamp('2020-03-10 00:00:00'): ' ',\n",
              " Timestamp('2020-03-11 00:00:00'): ' ',\n",
              " Timestamp('2020-03-12 00:00:00'): ' ',\n",
              " Timestamp('2020-03-13 00:00:00'): ' ',\n",
              " Timestamp('2020-03-14 00:00:00'): ' ',\n",
              " Timestamp('2020-03-15 00:00:00'): ' ',\n",
              " Timestamp('2020-03-16 00:00:00'): ' ',\n",
              " Timestamp('2020-03-17 00:00:00'): ' ',\n",
              " Timestamp('2020-03-18 00:00:00'): ' ',\n",
              " Timestamp('2020-03-19 00:00:00'): ' ',\n",
              " Timestamp('2020-03-20 00:00:00'): ' ',\n",
              " Timestamp('2020-03-21 00:00:00'): ' ',\n",
              " Timestamp('2020-03-22 00:00:00'): ' ',\n",
              " Timestamp('2020-03-23 00:00:00'): ' ',\n",
              " Timestamp('2020-03-24 00:00:00'): ' ',\n",
              " Timestamp('2020-03-25 00:00:00'): ' ',\n",
              " Timestamp('2020-03-26 00:00:00'): ' ',\n",
              " Timestamp('2020-03-27 00:00:00'): ' ',\n",
              " Timestamp('2020-03-28 00:00:00'): ' ',\n",
              " Timestamp('2020-03-29 00:00:00'): ' ',\n",
              " Timestamp('2020-03-30 00:00:00'): ' ',\n",
              " Timestamp('2020-03-31 00:00:00'): ' ',\n",
              " Timestamp('2020-04-01 00:00:00'): ' ',\n",
              " Timestamp('2020-04-02 00:00:00'): ' ',\n",
              " Timestamp('2020-04-03 00:00:00'): ' ',\n",
              " Timestamp('2020-04-04 00:00:00'): ' ',\n",
              " Timestamp('2020-04-05 00:00:00'): ' ',\n",
              " Timestamp('2020-04-06 00:00:00'): ' ',\n",
              " Timestamp('2020-04-07 00:00:00'): ' ',\n",
              " Timestamp('2020-04-08 00:00:00'): ' ',\n",
              " Timestamp('2020-04-09 00:00:00'): ' ',\n",
              " Timestamp('2020-04-10 00:00:00'): 'Good Friday',\n",
              " Timestamp('2020-04-11 00:00:00'): 'Holy Saturday',\n",
              " Timestamp('2020-04-12 00:00:00'): 'Easter Sunday',\n",
              " Timestamp('2020-04-13 00:00:00'): 'Easter Monday',\n",
              " Timestamp('2020-04-14 00:00:00'): ' ',\n",
              " Timestamp('2020-04-15 00:00:00'): ' ',\n",
              " Timestamp('2020-04-16 00:00:00'): ' ',\n",
              " Timestamp('2020-04-17 00:00:00'): ' ',\n",
              " Timestamp('2020-04-18 00:00:00'): 'Independence Day',\n",
              " Timestamp('2020-04-19 00:00:00'): ' ',\n",
              " Timestamp('2020-04-20 00:00:00'): ' ',\n",
              " Timestamp('2020-04-21 00:00:00'): ' ',\n",
              " Timestamp('2020-04-22 00:00:00'): ' ',\n",
              " Timestamp('2020-04-23 00:00:00'): ' ',\n",
              " Timestamp('2020-04-24 00:00:00'): ' ',\n",
              " Timestamp('2020-04-25 00:00:00'): ' ',\n",
              " Timestamp('2020-04-26 00:00:00'): ' ',\n",
              " Timestamp('2020-04-27 00:00:00'): ' ',\n",
              " Timestamp('2020-04-28 00:00:00'): ' ',\n",
              " Timestamp('2020-04-29 00:00:00'): ' ',\n",
              " Timestamp('2020-04-30 00:00:00'): ' ',\n",
              " Timestamp('2020-05-01 00:00:00'): \"Worker's Day\",\n",
              " Timestamp('2020-05-02 00:00:00'): ' ',\n",
              " Timestamp('2020-05-03 00:00:00'): ' ',\n",
              " Timestamp('2020-05-04 00:00:00'): ' ',\n",
              " Timestamp('2020-05-05 00:00:00'): ' ',\n",
              " Timestamp('2020-05-06 00:00:00'): ' ',\n",
              " Timestamp('2020-05-07 00:00:00'): ' ',\n",
              " Timestamp('2020-05-08 00:00:00'): ' ',\n",
              " Timestamp('2020-05-09 00:00:00'): ' ',\n",
              " Timestamp('2020-05-10 00:00:00'): ' ',\n",
              " Timestamp('2020-05-11 00:00:00'): ' ',\n",
              " Timestamp('2020-05-12 00:00:00'): ' ',\n",
              " Timestamp('2020-05-13 00:00:00'): ' ',\n",
              " Timestamp('2020-05-14 00:00:00'): ' ',\n",
              " Timestamp('2020-05-15 00:00:00'): ' ',\n",
              " Timestamp('2020-05-16 00:00:00'): ' ',\n",
              " Timestamp('2020-05-17 00:00:00'): ' ',\n",
              " Timestamp('2020-05-18 00:00:00'): ' ',\n",
              " Timestamp('2020-05-19 00:00:00'): ' ',\n",
              " Timestamp('2020-05-20 00:00:00'): ' ',\n",
              " Timestamp('2020-05-21 00:00:00'): ' ',\n",
              " Timestamp('2020-05-22 00:00:00'): ' ',\n",
              " Timestamp('2020-05-23 00:00:00'): ' ',\n",
              " Timestamp('2020-05-24 00:00:00'): ' ',\n",
              " Timestamp('2020-05-25 00:00:00'): 'Africa Day',\n",
              " Timestamp('2020-05-26 00:00:00'): ' ',\n",
              " Timestamp('2020-05-27 00:00:00'): ' ',\n",
              " Timestamp('2020-05-28 00:00:00'): ' ',\n",
              " Timestamp('2020-05-29 00:00:00'): ' ',\n",
              " Timestamp('2020-05-30 00:00:00'): ' ',\n",
              " Timestamp('2020-05-31 00:00:00'): ' ',\n",
              " Timestamp('2020-06-01 00:00:00'): ' ',\n",
              " Timestamp('2020-06-02 00:00:00'): ' ',\n",
              " Timestamp('2020-06-03 00:00:00'): ' ',\n",
              " Timestamp('2020-06-04 00:00:00'): ' ',\n",
              " Timestamp('2020-06-05 00:00:00'): ' ',\n",
              " Timestamp('2020-06-06 00:00:00'): ' ',\n",
              " Timestamp('2020-06-07 00:00:00'): ' ',\n",
              " Timestamp('2020-06-08 00:00:00'): ' ',\n",
              " Timestamp('2020-06-09 00:00:00'): ' ',\n",
              " Timestamp('2020-06-10 00:00:00'): ' ',\n",
              " Timestamp('2020-06-11 00:00:00'): ' ',\n",
              " Timestamp('2020-06-12 00:00:00'): ' ',\n",
              " Timestamp('2020-06-13 00:00:00'): ' ',\n",
              " Timestamp('2020-06-14 00:00:00'): ' ',\n",
              " Timestamp('2020-06-15 00:00:00'): ' ',\n",
              " Timestamp('2020-06-16 00:00:00'): ' ',\n",
              " Timestamp('2020-06-17 00:00:00'): ' ',\n",
              " Timestamp('2020-06-18 00:00:00'): ' ',\n",
              " Timestamp('2020-06-19 00:00:00'): ' ',\n",
              " Timestamp('2020-06-20 00:00:00'): ' ',\n",
              " Timestamp('2020-06-21 00:00:00'): ' ',\n",
              " Timestamp('2020-06-22 00:00:00'): ' ',\n",
              " Timestamp('2020-06-23 00:00:00'): ' ',\n",
              " Timestamp('2020-06-24 00:00:00'): ' ',\n",
              " Timestamp('2020-06-25 00:00:00'): ' ',\n",
              " Timestamp('2020-06-26 00:00:00'): ' ',\n",
              " Timestamp('2020-06-27 00:00:00'): ' ',\n",
              " Timestamp('2020-06-28 00:00:00'): ' ',\n",
              " Timestamp('2020-06-29 00:00:00'): ' ',\n",
              " Timestamp('2020-06-30 00:00:00'): ' ',\n",
              " Timestamp('2020-07-01 00:00:00'): ' ',\n",
              " Timestamp('2020-07-02 00:00:00'): ' ',\n",
              " Timestamp('2020-07-03 00:00:00'): ' ',\n",
              " Timestamp('2020-07-04 00:00:00'): ' ',\n",
              " Timestamp('2020-07-05 00:00:00'): ' ',\n",
              " Timestamp('2020-07-06 00:00:00'): ' ',\n",
              " Timestamp('2020-07-07 00:00:00'): ' ',\n",
              " Timestamp('2020-07-08 00:00:00'): ' ',\n",
              " Timestamp('2020-07-09 00:00:00'): ' ',\n",
              " Timestamp('2020-07-10 00:00:00'): ' ',\n",
              " Timestamp('2020-07-11 00:00:00'): ' ',\n",
              " Timestamp('2020-07-12 00:00:00'): ' ',\n",
              " Timestamp('2020-07-13 00:00:00'): ' ',\n",
              " Timestamp('2020-07-14 00:00:00'): ' ',\n",
              " Timestamp('2020-07-15 00:00:00'): ' ',\n",
              " Timestamp('2020-07-16 00:00:00'): ' ',\n",
              " Timestamp('2020-07-17 00:00:00'): ' ',\n",
              " Timestamp('2020-07-18 00:00:00'): ' ',\n",
              " Timestamp('2020-07-19 00:00:00'): ' ',\n",
              " Timestamp('2020-07-20 00:00:00'): ' ',\n",
              " Timestamp('2020-07-21 00:00:00'): ' ',\n",
              " Timestamp('2020-07-22 00:00:00'): ' ',\n",
              " Timestamp('2020-07-23 00:00:00'): ' ',\n",
              " Timestamp('2020-07-24 00:00:00'): ' ',\n",
              " Timestamp('2020-07-25 00:00:00'): ' ',\n",
              " Timestamp('2020-07-26 00:00:00'): ' ',\n",
              " Timestamp('2020-07-27 00:00:00'): ' ',\n",
              " Timestamp('2020-07-28 00:00:00'): ' ',\n",
              " Timestamp('2020-07-29 00:00:00'): ' ',\n",
              " Timestamp('2020-07-30 00:00:00'): ' ',\n",
              " Timestamp('2020-07-31 00:00:00'): ' ',\n",
              " Timestamp('2020-08-01 00:00:00'): ' ',\n",
              " Timestamp('2020-08-02 00:00:00'): ' ',\n",
              " Timestamp('2020-08-03 00:00:00'): ' ',\n",
              " Timestamp('2020-08-04 00:00:00'): ' ',\n",
              " Timestamp('2020-08-05 00:00:00'): ' ',\n",
              " Timestamp('2020-08-06 00:00:00'): ' ',\n",
              " Timestamp('2020-08-07 00:00:00'): ' ',\n",
              " Timestamp('2020-08-08 00:00:00'): ' ',\n",
              " Timestamp('2020-08-09 00:00:00'): ' ',\n",
              " Timestamp('2020-08-10 00:00:00'): \"Heroes' Day\",\n",
              " Timestamp('2020-08-11 00:00:00'): 'Zimbabwe Defence Forces Day',\n",
              " Timestamp('2020-08-12 00:00:00'): ' ',\n",
              " Timestamp('2020-08-13 00:00:00'): ' ',\n",
              " Timestamp('2020-08-14 00:00:00'): ' ',\n",
              " Timestamp('2020-08-15 00:00:00'): ' ',\n",
              " Timestamp('2020-08-16 00:00:00'): ' ',\n",
              " Timestamp('2020-08-17 00:00:00'): ' ',\n",
              " Timestamp('2020-08-18 00:00:00'): ' ',\n",
              " Timestamp('2020-08-19 00:00:00'): ' ',\n",
              " Timestamp('2020-08-20 00:00:00'): ' ',\n",
              " Timestamp('2020-08-21 00:00:00'): ' ',\n",
              " Timestamp('2020-08-22 00:00:00'): ' ',\n",
              " Timestamp('2020-08-23 00:00:00'): ' ',\n",
              " Timestamp('2020-08-24 00:00:00'): ' ',\n",
              " Timestamp('2020-08-25 00:00:00'): ' ',\n",
              " Timestamp('2020-08-26 00:00:00'): ' ',\n",
              " Timestamp('2020-08-27 00:00:00'): ' ',\n",
              " Timestamp('2020-08-28 00:00:00'): ' ',\n",
              " Timestamp('2020-08-29 00:00:00'): ' ',\n",
              " Timestamp('2020-08-30 00:00:00'): ' ',\n",
              " Timestamp('2020-08-31 00:00:00'): ' ',\n",
              " Timestamp('2020-09-01 00:00:00'): ' ',\n",
              " Timestamp('2020-09-02 00:00:00'): ' ',\n",
              " Timestamp('2020-09-03 00:00:00'): ' ',\n",
              " Timestamp('2020-09-04 00:00:00'): ' ',\n",
              " Timestamp('2020-09-05 00:00:00'): ' ',\n",
              " Timestamp('2020-09-06 00:00:00'): ' ',\n",
              " Timestamp('2020-09-07 00:00:00'): ' ',\n",
              " Timestamp('2020-09-08 00:00:00'): ' ',\n",
              " Timestamp('2020-09-09 00:00:00'): ' ',\n",
              " Timestamp('2020-09-10 00:00:00'): ' ',\n",
              " Timestamp('2020-09-11 00:00:00'): ' ',\n",
              " Timestamp('2020-09-12 00:00:00'): ' ',\n",
              " Timestamp('2020-09-13 00:00:00'): ' ',\n",
              " Timestamp('2020-09-14 00:00:00'): ' ',\n",
              " Timestamp('2020-09-15 00:00:00'): ' ',\n",
              " Timestamp('2020-09-16 00:00:00'): ' ',\n",
              " Timestamp('2020-09-17 00:00:00'): ' ',\n",
              " Timestamp('2020-09-18 00:00:00'): ' ',\n",
              " Timestamp('2020-09-19 00:00:00'): ' ',\n",
              " Timestamp('2020-09-20 00:00:00'): ' ',\n",
              " Timestamp('2020-09-21 00:00:00'): ' ',\n",
              " Timestamp('2020-09-22 00:00:00'): ' ',\n",
              " Timestamp('2020-09-23 00:00:00'): ' ',\n",
              " Timestamp('2020-09-24 00:00:00'): ' ',\n",
              " Timestamp('2020-09-25 00:00:00'): ' ',\n",
              " Timestamp('2020-09-26 00:00:00'): ' ',\n",
              " ...}"
            ]
          },
          "metadata": {
            "tags": []
          },
          "execution_count": 107
        }
      ]
    },
    {
      "cell_type": "code",
      "metadata": {
        "id": "DWTYcnxekHby"
      },
      "source": [
        "#adding Public holiday column to original\r\n",
        "df_5min['Public_Holiday'] = df_5min['dateOnly'].map(mapping)"
      ],
      "execution_count": 108,
      "outputs": []
    },
    {
      "cell_type": "code",
      "metadata": {
        "id": "X1x9HVtD8IJE"
      },
      "source": [
        "#replacing nan and empty space with non-Holiday\r\n",
        "df_5min['Public_Holiday']=df_5min['Public_Holiday'].apply(lambda x:np.NaN if isinstance(x, str) and (x.isspace() or not x) else x).replace(np.NaN,'Non_Holiday')\r\n"
      ],
      "execution_count": 110,
      "outputs": []
    },
    {
      "cell_type": "code",
      "metadata": {
        "colab": {
          "base_uri": "https://localhost:8080/",
          "height": 887
        },
        "id": "BKb9XpTZj3eU",
        "outputId": "5fbc55ff-6f9e-4623-b6d1-c989716de7d6"
      },
      "source": [
        "df_5min.sample(5)"
      ],
      "execution_count": 111,
      "outputs": [
        {
          "output_type": "execute_result",
          "data": {
            "text/html": [
              "<div>\n",
              "<style scoped>\n",
              "    .dataframe tbody tr th:only-of-type {\n",
              "        vertical-align: middle;\n",
              "    }\n",
              "\n",
              "    .dataframe tbody tr th {\n",
              "        vertical-align: top;\n",
              "    }\n",
              "\n",
              "    .dataframe thead th {\n",
              "        text-align: right;\n",
              "    }\n",
              "</style>\n",
              "<table border=\"1\" class=\"dataframe\">\n",
              "  <thead>\n",
              "    <tr style=\"text-align: right;\">\n",
              "      <th></th>\n",
              "      <th>date</th>\n",
              "      <th>timestamp</th>\n",
              "      <th>consumption</th>\n",
              "      <th>solar</th>\n",
              "      <th>alwaysOn</th>\n",
              "      <th>gridImport</th>\n",
              "      <th>gridExport</th>\n",
              "      <th>selfConsumption</th>\n",
              "      <th>selfSufficiency</th>\n",
              "      <th>active</th>\n",
              "      <th>reactive</th>\n",
              "      <th>voltages</th>\n",
              "      <th>phaseVoltages</th>\n",
              "      <th>currentHarmonics</th>\n",
              "      <th>voltageHarmonics</th>\n",
              "      <th>dateOnly</th>\n",
              "      <th>year</th>\n",
              "      <th>quarter</th>\n",
              "      <th>month</th>\n",
              "      <th>weekday</th>\n",
              "      <th>day_name</th>\n",
              "      <th>dayofyear</th>\n",
              "      <th>day</th>\n",
              "      <th>hour</th>\n",
              "      <th>minute</th>\n",
              "      <th>season</th>\n",
              "      <th>day_section</th>\n",
              "      <th>Public_Holiday</th>\n",
              "    </tr>\n",
              "  </thead>\n",
              "  <tbody>\n",
              "    <tr>\n",
              "      <th>12957</th>\n",
              "      <td>2020-04-29 19:55:00</td>\n",
              "      <td>1588182900000</td>\n",
              "      <td>286.671</td>\n",
              "      <td>48.958</td>\n",
              "      <td>1369.536</td>\n",
              "      <td>237.712</td>\n",
              "      <td>0.0</td>\n",
              "      <td>100.0</td>\n",
              "      <td>17.08</td>\n",
              "      <td>[0.1, 3.7, 0.0, None, None, None, None, 0.3, N...</td>\n",
              "      <td>[0.5, 0.9, 0.0, None, None, None, None, 0.2, N...</td>\n",
              "      <td>[245.2, None, None]</td>\n",
              "      <td>[245.2, None, None]</td>\n",
              "      <td>[[], [], [], [], [], [], [], [], [], [], [], [...</td>\n",
              "      <td>[[], [], [], [], [], [], [], [], [], [], [], [...</td>\n",
              "      <td>2020-04-29</td>\n",
              "      <td>2020</td>\n",
              "      <td>2</td>\n",
              "      <td>4</td>\n",
              "      <td>2</td>\n",
              "      <td>Wednesday</td>\n",
              "      <td>120</td>\n",
              "      <td>29</td>\n",
              "      <td>19</td>\n",
              "      <td>55</td>\n",
              "      <td>winter</td>\n",
              "      <td>Evening</td>\n",
              "      <td>Non_Holiday</td>\n",
              "    </tr>\n",
              "    <tr>\n",
              "      <th>3635</th>\n",
              "      <td>2020-03-28 10:25:00</td>\n",
              "      <td>1585383900000</td>\n",
              "      <td>184.575</td>\n",
              "      <td>87.091</td>\n",
              "      <td>595.824</td>\n",
              "      <td>97.483</td>\n",
              "      <td>0.0</td>\n",
              "      <td>100.0</td>\n",
              "      <td>47.19</td>\n",
              "      <td>[0.1, 3.5, 0.0, None, None, None, None, 0.4, N...</td>\n",
              "      <td>[0.4, 0.8, 0.0, None, None, None, None, 0.2, N...</td>\n",
              "      <td>[238.7, None, None]</td>\n",
              "      <td>[238.7, None, None]</td>\n",
              "      <td>[[], [], [], [], [], [], [], [], [], [], [], [...</td>\n",
              "      <td>[[], [], [], [], [], [], [], [], [], [], [], [...</td>\n",
              "      <td>2020-03-28</td>\n",
              "      <td>2020</td>\n",
              "      <td>1</td>\n",
              "      <td>3</td>\n",
              "      <td>5</td>\n",
              "      <td>Saturday</td>\n",
              "      <td>88</td>\n",
              "      <td>28</td>\n",
              "      <td>10</td>\n",
              "      <td>25</td>\n",
              "      <td>winter</td>\n",
              "      <td>Morning</td>\n",
              "      <td>Non_Holiday</td>\n",
              "    </tr>\n",
              "    <tr>\n",
              "      <th>70254</th>\n",
              "      <td>2020-11-15 19:20:00</td>\n",
              "      <td>1605460800000</td>\n",
              "      <td>229.366</td>\n",
              "      <td>74.630</td>\n",
              "      <td>532.512</td>\n",
              "      <td>154.736</td>\n",
              "      <td>0.0</td>\n",
              "      <td>100.0</td>\n",
              "      <td>32.54</td>\n",
              "      <td>[0.1, 3.6, 0.0, None, None, None, None, 0.4, N...</td>\n",
              "      <td>[-0.4, 0.8, 0.0, None, None, None, None, -0.2,...</td>\n",
              "      <td>[240.2, None, None]</td>\n",
              "      <td>[240.2, None, None]</td>\n",
              "      <td>[[], [], [], [], [], [], [], [], [], [], [], [...</td>\n",
              "      <td>[[], [], [], [], [], [], [], [], [], [], [], [...</td>\n",
              "      <td>2020-11-15</td>\n",
              "      <td>2020</td>\n",
              "      <td>4</td>\n",
              "      <td>11</td>\n",
              "      <td>6</td>\n",
              "      <td>Sunday</td>\n",
              "      <td>320</td>\n",
              "      <td>15</td>\n",
              "      <td>19</td>\n",
              "      <td>20</td>\n",
              "      <td>winter</td>\n",
              "      <td>Evening</td>\n",
              "      <td>Non_Holiday</td>\n",
              "    </tr>\n",
              "    <tr>\n",
              "      <th>53614</th>\n",
              "      <td>2020-09-19 00:10:00</td>\n",
              "      <td>1600467000000</td>\n",
              "      <td>158.828</td>\n",
              "      <td>61.738</td>\n",
              "      <td>1668.816</td>\n",
              "      <td>97.089</td>\n",
              "      <td>0.0</td>\n",
              "      <td>100.0</td>\n",
              "      <td>38.87</td>\n",
              "      <td>[0.1, 3.5, 0.0, None, None, None, None, 0.4, N...</td>\n",
              "      <td>[0.4, 0.8, 0.0, None, None, None, None, 0.2, N...</td>\n",
              "      <td>[237.2, None, None]</td>\n",
              "      <td>[237.2, None, None]</td>\n",
              "      <td>[[], [], [], [], [], [], [], [], [], [], [], [...</td>\n",
              "      <td>[[], [], [], [], [], [], [], [], [], [], [], [...</td>\n",
              "      <td>2020-09-19</td>\n",
              "      <td>2020</td>\n",
              "      <td>3</td>\n",
              "      <td>9</td>\n",
              "      <td>5</td>\n",
              "      <td>Saturday</td>\n",
              "      <td>263</td>\n",
              "      <td>19</td>\n",
              "      <td>0</td>\n",
              "      <td>10</td>\n",
              "      <td>winter</td>\n",
              "      <td>Late Night</td>\n",
              "      <td>Non_Holiday</td>\n",
              "    </tr>\n",
              "    <tr>\n",
              "      <th>87506</th>\n",
              "      <td>2021-01-14 17:35:00</td>\n",
              "      <td>1610638500000</td>\n",
              "      <td>342.701</td>\n",
              "      <td>53.060</td>\n",
              "      <td>1712.436</td>\n",
              "      <td>289.641</td>\n",
              "      <td>0.0</td>\n",
              "      <td>100.0</td>\n",
              "      <td>15.48</td>\n",
              "      <td>[0.1, 3.6, 0.0, None, None, None, None, 1.1, N...</td>\n",
              "      <td>[-0.4, 0.9, 0.0, None, None, None, None, -0.4,...</td>\n",
              "      <td>[242.4, None, None]</td>\n",
              "      <td>[242.4, None, None]</td>\n",
              "      <td>[[], [], [], [], [], [], [], [], [], [], [], [...</td>\n",
              "      <td>[[], [], [], [], [], [], [], [], [], [], [], [...</td>\n",
              "      <td>2021-01-14</td>\n",
              "      <td>2021</td>\n",
              "      <td>1</td>\n",
              "      <td>1</td>\n",
              "      <td>3</td>\n",
              "      <td>Thursday</td>\n",
              "      <td>14</td>\n",
              "      <td>14</td>\n",
              "      <td>17</td>\n",
              "      <td>35</td>\n",
              "      <td>winter</td>\n",
              "      <td>Evening</td>\n",
              "      <td>Non_Holiday</td>\n",
              "    </tr>\n",
              "  </tbody>\n",
              "</table>\n",
              "</div>"
            ],
            "text/plain": [
              "                     date      timestamp  ...  day_section  Public_Holiday\n",
              "12957 2020-04-29 19:55:00  1588182900000  ...      Evening     Non_Holiday\n",
              "3635  2020-03-28 10:25:00  1585383900000  ...      Morning     Non_Holiday\n",
              "70254 2020-11-15 19:20:00  1605460800000  ...      Evening     Non_Holiday\n",
              "53614 2020-09-19 00:10:00  1600467000000  ...   Late Night     Non_Holiday\n",
              "87506 2021-01-14 17:35:00  1610638500000  ...      Evening     Non_Holiday\n",
              "\n",
              "[5 rows x 28 columns]"
            ]
          },
          "metadata": {
            "tags": []
          },
          "execution_count": 111
        }
      ]
    },
    {
      "cell_type": "code",
      "metadata": {
        "colab": {
          "base_uri": "https://localhost:8080/"
        },
        "id": "5uH9p6OUbIM8",
        "outputId": "efe87d01-03c8-4430-c6d5-ef0329da89ba"
      },
      "source": [
        "df_5min['Public_Holiday'].unique()"
      ],
      "execution_count": 112,
      "outputs": [
        {
          "output_type": "execute_result",
          "data": {
            "text/plain": [
              "array(['Non_Holiday', 'Good Friday', 'Holy Saturday', 'Easter Sunday',\n",
              "       'Easter Monday', 'Independence Day', \"Worker's Day\", 'Africa Day',\n",
              "       \"Heroes' Day\", 'Zimbabwe Defence Forces Day', 'National Unity Day',\n",
              "       'Christmas Day', 'Boxing Day', \"New Year's Day\"], dtype=object)"
            ]
          },
          "metadata": {
            "tags": []
          },
          "execution_count": 112
        }
      ]
    },
    {
      "cell_type": "code",
      "metadata": {
        "colab": {
          "base_uri": "https://localhost:8080/"
        },
        "id": "WdwZox8ylV-c",
        "outputId": "27b90f5b-1eb9-444c-97aa-fb1c96ea3d3e"
      },
      "source": [
        "df_5min.info()"
      ],
      "execution_count": 113,
      "outputs": [
        {
          "output_type": "stream",
          "text": [
            "<class 'pandas.core.frame.DataFrame'>\n",
            "RangeIndex: 95649 entries, 0 to 95648\n",
            "Data columns (total 28 columns):\n",
            " #   Column            Non-Null Count  Dtype         \n",
            "---  ------            --------------  -----         \n",
            " 0   date              95649 non-null  datetime64[ns]\n",
            " 1   timestamp         95649 non-null  int64         \n",
            " 2   consumption       95649 non-null  float64       \n",
            " 3   solar             95649 non-null  float64       \n",
            " 4   alwaysOn          95649 non-null  float64       \n",
            " 5   gridImport        95649 non-null  float64       \n",
            " 6   gridExport        95649 non-null  float64       \n",
            " 7   selfConsumption   95649 non-null  float64       \n",
            " 8   selfSufficiency   95649 non-null  float64       \n",
            " 9   active            95649 non-null  object        \n",
            " 10  reactive          95649 non-null  object        \n",
            " 11  voltages          95649 non-null  object        \n",
            " 12  phaseVoltages     95649 non-null  object        \n",
            " 13  currentHarmonics  95649 non-null  object        \n",
            " 14  voltageHarmonics  95649 non-null  object        \n",
            " 15  dateOnly          95649 non-null  object        \n",
            " 16  year              95649 non-null  int64         \n",
            " 17  quarter           95649 non-null  int64         \n",
            " 18  month             95649 non-null  int64         \n",
            " 19  weekday           95649 non-null  int64         \n",
            " 20  day_name          95649 non-null  object        \n",
            " 21  dayofyear         95649 non-null  int64         \n",
            " 22  day               95649 non-null  int64         \n",
            " 23  hour              95649 non-null  int64         \n",
            " 24  minute            95649 non-null  int64         \n",
            " 25  season            95649 non-null  object        \n",
            " 26  day_section       95649 non-null  object        \n",
            " 27  Public_Holiday    95649 non-null  object        \n",
            "dtypes: datetime64[ns](1), float64(7), int64(9), object(11)\n",
            "memory usage: 20.4+ MB\n"
          ],
          "name": "stdout"
        }
      ]
    },
    {
      "cell_type": "code",
      "metadata": {
        "id": "Flvk8t8L79aR"
      },
      "source": [
        "#Re-arranging columns\r\n",
        "df_5min=df_5min[['date','timestamp','year','quarter','month','dayofyear','day','day_name','hour','minute','season','day_section','Public_Holiday','consumption','solar','alwaysOn','gridImport','gridExport','selfConsumption','selfSufficiency','active','reactive','voltages','phaseVoltages','currentHarmonics','voltageHarmonics']]"
      ],
      "execution_count": 115,
      "outputs": []
    },
    {
      "cell_type": "code",
      "metadata": {
        "colab": {
          "base_uri": "https://localhost:8080/",
          "height": 719
        },
        "id": "FiTuEYnOAYy_",
        "outputId": "646af033-faa4-486e-a060-39fc2d0241e6"
      },
      "source": [
        "df_5min.head()"
      ],
      "execution_count": 116,
      "outputs": [
        {
          "output_type": "execute_result",
          "data": {
            "text/html": [
              "<div>\n",
              "<style scoped>\n",
              "    .dataframe tbody tr th:only-of-type {\n",
              "        vertical-align: middle;\n",
              "    }\n",
              "\n",
              "    .dataframe tbody tr th {\n",
              "        vertical-align: top;\n",
              "    }\n",
              "\n",
              "    .dataframe thead th {\n",
              "        text-align: right;\n",
              "    }\n",
              "</style>\n",
              "<table border=\"1\" class=\"dataframe\">\n",
              "  <thead>\n",
              "    <tr style=\"text-align: right;\">\n",
              "      <th></th>\n",
              "      <th>date</th>\n",
              "      <th>timestamp</th>\n",
              "      <th>year</th>\n",
              "      <th>quarter</th>\n",
              "      <th>month</th>\n",
              "      <th>dayofyear</th>\n",
              "      <th>day</th>\n",
              "      <th>day_name</th>\n",
              "      <th>hour</th>\n",
              "      <th>minute</th>\n",
              "      <th>season</th>\n",
              "      <th>day_section</th>\n",
              "      <th>Public_Holiday</th>\n",
              "      <th>consumption</th>\n",
              "      <th>solar</th>\n",
              "      <th>alwaysOn</th>\n",
              "      <th>gridImport</th>\n",
              "      <th>gridExport</th>\n",
              "      <th>selfConsumption</th>\n",
              "      <th>selfSufficiency</th>\n",
              "      <th>active</th>\n",
              "      <th>reactive</th>\n",
              "      <th>voltages</th>\n",
              "      <th>phaseVoltages</th>\n",
              "      <th>currentHarmonics</th>\n",
              "      <th>voltageHarmonics</th>\n",
              "    </tr>\n",
              "  </thead>\n",
              "  <tbody>\n",
              "    <tr>\n",
              "      <th>0</th>\n",
              "      <td>2020-03-15 18:15:00</td>\n",
              "      <td>1584288900000</td>\n",
              "      <td>2020</td>\n",
              "      <td>1</td>\n",
              "      <td>3</td>\n",
              "      <td>75</td>\n",
              "      <td>15</td>\n",
              "      <td>Sunday</td>\n",
              "      <td>18</td>\n",
              "      <td>15</td>\n",
              "      <td>winter</td>\n",
              "      <td>Evening</td>\n",
              "      <td>Non_Holiday</td>\n",
              "      <td>0.0</td>\n",
              "      <td>0.0</td>\n",
              "      <td>0.0</td>\n",
              "      <td>0.0</td>\n",
              "      <td>0.0</td>\n",
              "      <td>0.0</td>\n",
              "      <td>0.0</td>\n",
              "      <td>[0.1, 3.7, 0.0, -81.6, -60.0, 30.2, -230.6, -0...</td>\n",
              "      <td>[0.5, 0.9, 0.0, 55.4, 132.4, 14.0, 137.5, 0.2,...</td>\n",
              "      <td>[244.5, None, None]</td>\n",
              "      <td>[244.5, None, None]</td>\n",
              "      <td>[[], [], [], [], [], [], [], [], [], [], [], [...</td>\n",
              "      <td>[[], [], [], [], [], [], [], [], [], [], [], [...</td>\n",
              "    </tr>\n",
              "    <tr>\n",
              "      <th>1</th>\n",
              "      <td>2020-03-15 18:20:00</td>\n",
              "      <td>1584289200000</td>\n",
              "      <td>2020</td>\n",
              "      <td>1</td>\n",
              "      <td>3</td>\n",
              "      <td>75</td>\n",
              "      <td>15</td>\n",
              "      <td>Sunday</td>\n",
              "      <td>18</td>\n",
              "      <td>20</td>\n",
              "      <td>winter</td>\n",
              "      <td>Evening</td>\n",
              "      <td>Non_Holiday</td>\n",
              "      <td>0.0</td>\n",
              "      <td>0.0</td>\n",
              "      <td>0.0</td>\n",
              "      <td>0.0</td>\n",
              "      <td>0.0</td>\n",
              "      <td>0.0</td>\n",
              "      <td>0.0</td>\n",
              "      <td>[0.1, 3.8, 0.0, -82.2, -58.5, 30.5, -233.1, -0...</td>\n",
              "      <td>[0.5, 0.9, 0.0, 55.7, 131.9, 14.3, 144.3, 0.2,...</td>\n",
              "      <td>[246.1, None, None]</td>\n",
              "      <td>[246.1, None, None]</td>\n",
              "      <td>[[], [], [], [], [], [], [], [], [], [], [], [...</td>\n",
              "      <td>[[], [], [], [], [], [], [], [], [], [], [], [...</td>\n",
              "    </tr>\n",
              "    <tr>\n",
              "      <th>2</th>\n",
              "      <td>2020-03-15 18:25:00</td>\n",
              "      <td>1584289500000</td>\n",
              "      <td>2020</td>\n",
              "      <td>1</td>\n",
              "      <td>3</td>\n",
              "      <td>75</td>\n",
              "      <td>15</td>\n",
              "      <td>Sunday</td>\n",
              "      <td>18</td>\n",
              "      <td>25</td>\n",
              "      <td>winter</td>\n",
              "      <td>Evening</td>\n",
              "      <td>Non_Holiday</td>\n",
              "      <td>0.0</td>\n",
              "      <td>0.0</td>\n",
              "      <td>0.0</td>\n",
              "      <td>0.0</td>\n",
              "      <td>0.0</td>\n",
              "      <td>0.0</td>\n",
              "      <td>0.0</td>\n",
              "      <td>[0.1, 28.5, -26.5, -74.4, -79.2, 55.5, -228.5,...</td>\n",
              "      <td>[0.5, 19.0, 8.8, 79.6, 137.6, 29.4, 175.0, 0.4...</td>\n",
              "      <td>[246.4, None, None]</td>\n",
              "      <td>[246.4, None, None]</td>\n",
              "      <td>[[], [], [], [], [], [], [], [], [], [], [], [...</td>\n",
              "      <td>[[], [], [], [], [], [], [], [], [], [], [], [...</td>\n",
              "    </tr>\n",
              "    <tr>\n",
              "      <th>3</th>\n",
              "      <td>2020-03-15 18:30:00</td>\n",
              "      <td>1584289800000</td>\n",
              "      <td>2020</td>\n",
              "      <td>1</td>\n",
              "      <td>3</td>\n",
              "      <td>75</td>\n",
              "      <td>15</td>\n",
              "      <td>Sunday</td>\n",
              "      <td>18</td>\n",
              "      <td>30</td>\n",
              "      <td>winter</td>\n",
              "      <td>Evening</td>\n",
              "      <td>Non_Holiday</td>\n",
              "      <td>0.0</td>\n",
              "      <td>0.0</td>\n",
              "      <td>0.0</td>\n",
              "      <td>0.0</td>\n",
              "      <td>0.0</td>\n",
              "      <td>0.0</td>\n",
              "      <td>0.0</td>\n",
              "      <td>[0.5, 21.3, -18.6, -76.9, -54.7, 48.7, -227.8,...</td>\n",
              "      <td>[2.2, 13.3, 6.5, 72.4, 135.9, 24.8, 152.8, 0.8...</td>\n",
              "      <td>[246.0, None, None]</td>\n",
              "      <td>[246.0, None, None]</td>\n",
              "      <td>[[], [], [], [], [], [], [], [], [], [], [], [...</td>\n",
              "      <td>[[], [], [], [], [], [], [], [], [], [], [], [...</td>\n",
              "    </tr>\n",
              "    <tr>\n",
              "      <th>4</th>\n",
              "      <td>2020-03-15 18:35:00</td>\n",
              "      <td>1584290100000</td>\n",
              "      <td>2020</td>\n",
              "      <td>1</td>\n",
              "      <td>3</td>\n",
              "      <td>75</td>\n",
              "      <td>15</td>\n",
              "      <td>Sunday</td>\n",
              "      <td>18</td>\n",
              "      <td>35</td>\n",
              "      <td>winter</td>\n",
              "      <td>Evening</td>\n",
              "      <td>Non_Holiday</td>\n",
              "      <td>0.0</td>\n",
              "      <td>0.0</td>\n",
              "      <td>0.0</td>\n",
              "      <td>0.0</td>\n",
              "      <td>0.0</td>\n",
              "      <td>0.0</td>\n",
              "      <td>0.0</td>\n",
              "      <td>[0.1, 3.7, 0.0, -82.6, -33.2, 30.7, 96.6, 0.2,...</td>\n",
              "      <td>[0.5, 0.9, 0.0, 55.2, 128.1, 13.9, 87.7, 0.7, ...</td>\n",
              "      <td>[246.2, None, None]</td>\n",
              "      <td>[246.2, None, None]</td>\n",
              "      <td>[[], [], [], [], [], [], [], [], [], [], [], [...</td>\n",
              "      <td>[[], [], [], [], [], [], [], [], [], [], [], [...</td>\n",
              "    </tr>\n",
              "  </tbody>\n",
              "</table>\n",
              "</div>"
            ],
            "text/plain": [
              "                 date  ...                                   voltageHarmonics\n",
              "0 2020-03-15 18:15:00  ...  [[], [], [], [], [], [], [], [], [], [], [], [...\n",
              "1 2020-03-15 18:20:00  ...  [[], [], [], [], [], [], [], [], [], [], [], [...\n",
              "2 2020-03-15 18:25:00  ...  [[], [], [], [], [], [], [], [], [], [], [], [...\n",
              "3 2020-03-15 18:30:00  ...  [[], [], [], [], [], [], [], [], [], [], [], [...\n",
              "4 2020-03-15 18:35:00  ...  [[], [], [], [], [], [], [], [], [], [], [], [...\n",
              "\n",
              "[5 rows x 26 columns]"
            ]
          },
          "metadata": {
            "tags": []
          },
          "execution_count": 116
        }
      ]
    },
    {
      "cell_type": "markdown",
      "metadata": {
        "id": "2DlSSwhCAg4f"
      },
      "source": [
        "HOURLY DATA WRANGLING"
      ]
    },
    {
      "cell_type": "code",
      "metadata": {
        "colab": {
          "base_uri": "https://localhost:8080/",
          "height": 803
        },
        "id": "ocEpwA93AffE",
        "outputId": "c03bc06a-4052-4758-f1c2-a32d64b10bf3"
      },
      "source": [
        "df_hourly.sample(5)"
      ],
      "execution_count": 118,
      "outputs": [
        {
          "output_type": "execute_result",
          "data": {
            "text/html": [
              "<div>\n",
              "<style scoped>\n",
              "    .dataframe tbody tr th:only-of-type {\n",
              "        vertical-align: middle;\n",
              "    }\n",
              "\n",
              "    .dataframe tbody tr th {\n",
              "        vertical-align: top;\n",
              "    }\n",
              "\n",
              "    .dataframe thead th {\n",
              "        text-align: right;\n",
              "    }\n",
              "</style>\n",
              "<table border=\"1\" class=\"dataframe\">\n",
              "  <thead>\n",
              "    <tr style=\"text-align: right;\">\n",
              "      <th></th>\n",
              "      <th>date</th>\n",
              "      <th>timestamp</th>\n",
              "      <th>consumption</th>\n",
              "      <th>solar</th>\n",
              "      <th>alwaysOn</th>\n",
              "      <th>gridImport</th>\n",
              "      <th>gridExport</th>\n",
              "      <th>selfConsumption</th>\n",
              "      <th>selfSufficiency</th>\n",
              "      <th>active</th>\n",
              "      <th>reactive</th>\n",
              "      <th>voltages</th>\n",
              "      <th>phaseVoltages</th>\n",
              "      <th>currentHarmonics</th>\n",
              "      <th>voltageHarmonics</th>\n",
              "    </tr>\n",
              "  </thead>\n",
              "  <tbody>\n",
              "    <tr>\n",
              "      <th>5041</th>\n",
              "      <td>2020-10-12 16:00:00</td>\n",
              "      <td>1602511200000</td>\n",
              "      <td>4062.020</td>\n",
              "      <td>877.101</td>\n",
              "      <td>1816.844</td>\n",
              "      <td>3184.919</td>\n",
              "      <td>0.0</td>\n",
              "      <td>100.0</td>\n",
              "      <td>21.59</td>\n",
              "      <td>[1.2, 43.4, 0.0, None, None, None, None, 3.6, ...</td>\n",
              "      <td>[4.9, 10.6, 0.0, None, None, None, None, 2.6, ...</td>\n",
              "      <td>[242.2, None, None]</td>\n",
              "      <td>[242.2, None, None]</td>\n",
              "      <td>[[], [], [], [], [], [], [], [], [], [], [], [...</td>\n",
              "      <td>[[], [], [], [], [], [], [], [], [], [], [], [...</td>\n",
              "    </tr>\n",
              "    <tr>\n",
              "      <th>7015</th>\n",
              "      <td>2021-01-02 22:00:00</td>\n",
              "      <td>1609617600000</td>\n",
              "      <td>2026.002</td>\n",
              "      <td>706.208</td>\n",
              "      <td>1673.982</td>\n",
              "      <td>1319.894</td>\n",
              "      <td>0.0</td>\n",
              "      <td>100.0</td>\n",
              "      <td>34.85</td>\n",
              "      <td>[1.5, 42.3, -0.9, None, None, None, None, 5.9,...</td>\n",
              "      <td>[-6.3, 9.6, 0.0, None, None, None, None, -2.8,...</td>\n",
              "      <td>[239.4, None, None]</td>\n",
              "      <td>[239.4, None, None]</td>\n",
              "      <td>[[], [], [], [], [], [], [], [], [], [], [], [...</td>\n",
              "      <td>[[], [], [], [], [], [], [], [], [], [], [], [...</td>\n",
              "    </tr>\n",
              "    <tr>\n",
              "      <th>1955</th>\n",
              "      <td>2020-06-06 02:00:00</td>\n",
              "      <td>1591401600000</td>\n",
              "      <td>2028.896</td>\n",
              "      <td>711.561</td>\n",
              "      <td>1599.615</td>\n",
              "      <td>1317.334</td>\n",
              "      <td>0.0</td>\n",
              "      <td>100.0</td>\n",
              "      <td>35.07</td>\n",
              "      <td>[1.2, 43.2, 0.0, None, None, None, None, 4.7, ...</td>\n",
              "      <td>[4.8, 9.6, 0.0, None, None, None, None, 2.6, N...</td>\n",
              "      <td>[241.0, None, None]</td>\n",
              "      <td>[241.0, None, None]</td>\n",
              "      <td>[[], [], [], [], [], [], [], [], [], [], [], [...</td>\n",
              "      <td>[[], [], [], [], [], [], [], [], [], [], [], [...</td>\n",
              "    </tr>\n",
              "    <tr>\n",
              "      <th>6927</th>\n",
              "      <td>2020-12-30 06:00:00</td>\n",
              "      <td>1609300800000</td>\n",
              "      <td>2085.770</td>\n",
              "      <td>753.318</td>\n",
              "      <td>1680.025</td>\n",
              "      <td>1332.251</td>\n",
              "      <td>0.0</td>\n",
              "      <td>100.0</td>\n",
              "      <td>36.13</td>\n",
              "      <td>[1.5, 42.3, 0.0, None, None, None, None, 5.9, ...</td>\n",
              "      <td>[-6.2, 9.6, 0.1, None, None, None, None, -2.8,...</td>\n",
              "      <td>[239.2, None, None]</td>\n",
              "      <td>[239.2, None, None]</td>\n",
              "      <td>[[], [], [], [], [], [], [], [], [], [], [], [...</td>\n",
              "      <td>[[], [], [], [], [], [], [], [], [], [], [], [...</td>\n",
              "    </tr>\n",
              "    <tr>\n",
              "      <th>6734</th>\n",
              "      <td>2020-12-22 05:00:00</td>\n",
              "      <td>1608606000000</td>\n",
              "      <td>2171.273</td>\n",
              "      <td>753.696</td>\n",
              "      <td>1916.432</td>\n",
              "      <td>1417.476</td>\n",
              "      <td>0.0</td>\n",
              "      <td>100.0</td>\n",
              "      <td>34.72</td>\n",
              "      <td>[1.2, 44.1, 0.0, None, None, None, None, 4.8, ...</td>\n",
              "      <td>[-5.6, 10.8, 0.3, None, None, None, None, -2.7...</td>\n",
              "      <td>[243.9, None, None]</td>\n",
              "      <td>[243.9, None, None]</td>\n",
              "      <td>[[], [], [], [], [], [], [], [], [], [], [], [...</td>\n",
              "      <td>[[], [], [], [], [], [], [], [], [], [], [], [...</td>\n",
              "    </tr>\n",
              "  </tbody>\n",
              "</table>\n",
              "</div>"
            ],
            "text/plain": [
              "                     date  ...                                   voltageHarmonics\n",
              "5041  2020-10-12 16:00:00  ...  [[], [], [], [], [], [], [], [], [], [], [], [...\n",
              "7015  2021-01-02 22:00:00  ...  [[], [], [], [], [], [], [], [], [], [], [], [...\n",
              "1955  2020-06-06 02:00:00  ...  [[], [], [], [], [], [], [], [], [], [], [], [...\n",
              "6927  2020-12-30 06:00:00  ...  [[], [], [], [], [], [], [], [], [], [], [], [...\n",
              "6734  2020-12-22 05:00:00  ...  [[], [], [], [], [], [], [], [], [], [], [], [...\n",
              "\n",
              "[5 rows x 15 columns]"
            ]
          },
          "metadata": {
            "tags": []
          },
          "execution_count": 118
        }
      ]
    },
    {
      "cell_type": "code",
      "metadata": {
        "colab": {
          "base_uri": "https://localhost:8080/"
        },
        "id": "q1-tfu6zA6l4",
        "outputId": "a336eaff-3f06-42a2-9298-1ba301b22df6"
      },
      "source": [
        "print(do_data_information(df_hourly))"
      ],
      "execution_count": 119,
      "outputs": [
        {
          "output_type": "stream",
          "text": [
            "--------------------------------------------------------------------\n",
            "First rows\n",
            "                  date  ...                                   voltageHarmonics\n",
            "0  2020-03-15 18:00:00  ...  [[], [], [], [], [], [], [], [], [], [], [], [...\n",
            "1  2020-03-15 19:00:00  ...  [[], [], [], [], [], [], [], [], [], [], [], [...\n",
            "2  2020-03-15 20:00:00  ...  [[], [], [], [], [], [], [], [], [], [], [], [...\n",
            "3  2020-03-15 21:00:00  ...  [[], [], [], [], [], [], [], [], [], [], [], [...\n",
            "4  2020-03-15 22:00:00  ...  [[], [], [], [], [], [], [], [], [], [], [], [...\n",
            "\n",
            "[5 rows x 15 columns]\n",
            "--------------------------------------------------------------------\n",
            "Dimension of the data\n",
            "This data has 7979 rows and 15 variables\n",
            "None\n"
          ],
          "name": "stdout"
        }
      ]
    },
    {
      "cell_type": "code",
      "metadata": {
        "colab": {
          "base_uri": "https://localhost:8080/"
        },
        "id": "iruC4qjuBDSk",
        "outputId": "bb9d6a88-2816-469b-89a5-c9bc8a64275b"
      },
      "source": [
        "print(check_missing_values_table(df_hourly))"
      ],
      "execution_count": 120,
      "outputs": [
        {
          "output_type": "stream",
          "text": [
            "Your selected dataframe has 15 columns.\n",
            "There are 0 columns that have missing values.\n",
            "Empty DataFrame\n",
            "Columns: [Missing Values, % of Total Values]\n",
            "Index: []\n"
          ],
          "name": "stdout"
        }
      ]
    },
    {
      "cell_type": "code",
      "metadata": {
        "colab": {
          "base_uri": "https://localhost:8080/"
        },
        "id": "tUpaGaonCCoC",
        "outputId": "2216b852-ac3b-4bb5-e188-cd8dba828bad"
      },
      "source": [
        "print(do_nunique_value(df_hourly))"
      ],
      "execution_count": 121,
      "outputs": [
        {
          "output_type": "stream",
          "text": [
            "The Numver of unique values per columns are as follows\n",
            "                  nunique\n",
            "date                 7979\n",
            "timestamp            7979\n",
            "consumption          7963\n",
            "solar                7876\n",
            "alwaysOn              714\n",
            "gridImport           7946\n",
            "gridExport              1\n",
            "selfConsumption         2\n",
            "selfSufficiency      3092\n",
            "active               7979\n",
            "reactive             7979\n",
            "voltages              280\n",
            "phaseVoltages         280\n",
            "currentHarmonics        1\n",
            "voltageHarmonics        1\n",
            "None\n"
          ],
          "name": "stdout"
        }
      ]
    },
    {
      "cell_type": "code",
      "metadata": {
        "id": "HFEZX_zpCSzF"
      },
      "source": [
        "df_hourly=do_datepart_extraction(df_hourly)"
      ],
      "execution_count": 122,
      "outputs": []
    },
    {
      "cell_type": "code",
      "metadata": {
        "colab": {
          "base_uri": "https://localhost:8080/"
        },
        "id": "I8826tNOCiuC",
        "outputId": "733a1bd1-6fd8-496c-96ec-08a043d70cfd"
      },
      "source": [
        "df_hourly.date.min(),df_hourly.date.max()"
      ],
      "execution_count": 123,
      "outputs": [
        {
          "output_type": "execute_result",
          "data": {
            "text/plain": [
              "(Timestamp('2020-03-15 18:00:00'), Timestamp('2021-02-12 01:00:00'))"
            ]
          },
          "metadata": {
            "tags": []
          },
          "execution_count": 123
        }
      ]
    },
    {
      "cell_type": "code",
      "metadata": {
        "colab": {
          "base_uri": "https://localhost:8080/"
        },
        "id": "RW6Punt8C45B",
        "outputId": "5a8289cf-bb35-494c-f900-a63db76b1df3"
      },
      "source": [
        "#checking for days where there weere no consumptions\r\n",
        "df_hourly[df_hourly.consumption==0].value_counts().count(),df_hourly[df_hourly.consumption==0].value_counts()"
      ],
      "execution_count": 124,
      "outputs": [
        {
          "output_type": "execute_result",
          "data": {
            "text/plain": [
              "(1,\n",
              " date                 timestamp      consumption  solar  alwaysOn  gridImport  gridExport  selfConsumption  selfSufficiency  active                                                                                                                                                                          reactive                                                                                                                                                                    voltages             phaseVoltages        currentHarmonics                                                                                                  voltageHarmonics                                                                                                  dateOnly    year  quarter  month  weekday  day_name  dayofyear  day  hour  minute  season  day_section\n",
              " 2020-03-15 18:00:00  1584288000000  0.0          0.0    0.0       0.0         0.0         0.0              0.0              [1.3, 78.9, -45.1, -297.3, -163.6, 321.1, 143.9, -0.4, None, 0.9, 33.5, -0.9, -32.3, None, None, None, None, None, None, None, None, None, None, None, None, None, None, None]  [6.2, 38.9, 15.3, 534.8, 1134.3, 151.0, 1309.9, 3.8, None, 0.4, 8.1, 0.0, 331.7, None, None, None, None, None, None, None, None, None, None, None, None, None, None, None]  [245.8, None, None]  [245.8, None, None]  [[], [], [], [], [], [], [], [], [], [], [], [], [], [], [], [], [], [], [], [], [], [], [], [], [], [], [], []]  [[], [], [], [], [], [], [], [], [], [], [], [], [], [], [], [], [], [], [], [], [], [], [], [], [], [], [], []]  2020-03-15  2020  1        3      6        Sunday    75         15   18    0       winter  Evening        1\n",
              " dtype: int64)"
            ]
          },
          "metadata": {
            "tags": []
          },
          "execution_count": 124
        }
      ]
    },
    {
      "cell_type": "code",
      "metadata": {
        "colab": {
          "base_uri": "https://localhost:8080/"
        },
        "id": "xDlhpkDbDdEZ",
        "outputId": "21e9e4c7-cb6e-474d-ba7a-b4d1758abcd0"
      },
      "source": [
        "#checking for days where there weere  consumptions\r\n",
        "df_hourly[df_hourly.consumption>0].value_counts().count(),df_hourly[df_5min.consumption>0].value_counts()"
      ],
      "execution_count": 126,
      "outputs": [
        {
          "output_type": "stream",
          "text": [
            "/usr/local/lib/python3.6/dist-packages/ipykernel_launcher.py:2: UserWarning: Boolean Series key will be reindexed to match DataFrame index.\n",
            "  \n"
          ],
          "name": "stderr"
        },
        {
          "output_type": "execute_result",
          "data": {
            "text/plain": [
              "(7978,\n",
              " date                 timestamp      consumption  solar    alwaysOn  gridImport  gridExport  selfConsumption  selfSufficiency  active                                                                                                                                                                     reactive                                                                                                                                                                     voltages             phaseVoltages        currentHarmonics                                                                                                  voltageHarmonics                                                                                                  dateOnly    year  quarter  month  weekday  day_name  dayofyear  day  hour  minute  season  day_section  \n",
              " 2021-02-12 01:00:00  1613084400000  1970.954     555.986  1006.751  1415.067    0.0         100.0            28.20            [1.5, 42.9, -1.2, None, None, None, None, 5.9, None, 1.2, 43.2, -1.2, 166.8, None, 0.0, 388.5, 1415.1, 167.5, None, None, None, None, None, None, None, None, None, None]  [-6.2, 10.0, 0.0, None, None, None, None, -2.8, None, 1.2, 9.6, 0.0, -232.1, None, -0.4, -873.8, 795.3, -199.6, None, None, None, None, None, None, None, None, None, None]  [240.6, None, None]  [240.6, None, None]  [[], [], [], [], [], [], [], [], [], [], [], [], [], [], [], [], [], [], [], [], [], [], [], [], [], [], [], []]  [[], [], [], [], [], [], [], [], [], [], [], [], [], [], [], [], [], [], [], [], [], [], [], [], [], [], [], []]  2021-02-12  2021  1        2      4        Friday    43         12   1     0       winter  Late Night       1\n",
              " 2020-07-05 22:00:00  1593979200000  1780.820     651.867  334.800   1128.653    0.0         100.0            36.62            [1.2, 44.0, 0.0, None, None, None, None, 4.8, None, 1.2, 44.0, -1.2, 65.6, None, 0.0, 261.8, 1128.7, 390.3, None, None, None, None, None, None, None, None, None, None]    [5.4, 10.5, 0.0, None, None, None, None, 2.6, None, 1.2, 10.1, 0.0, 111.4, None, 0.0, 848.6, 1166.6, 178.2, None, None, None, None, None, None, None, None, None, None]      [243.1, None, None]  [243.1, None, None]  [[], [], [], [], [], [], [], [], [], [], [], [], [], [], [], [], [], [], [], [], [], [], [], [], [], [], [], []]  [[], [], [], [], [], [], [], [], [], [], [], [], [], [], [], [], [], [], [], [], [], [], [], [], [], [], [], []]  2020-07-05  2020  3        7      6        Sunday    187        5    22    0       winter  Night            1\n",
              " 2020-07-05 09:00:00  1593932400000  1759.581     573.385  334.800   1186.195    0.0         100.0            32.59            [1.5, 43.5, 0.0, None, None, None, None, 5.9, None, 1.2, 43.5, -1.2, 31.7, None, 0.0, 231.5, 1186.2, 342.0, None, None, None, None, None, None, None, None, None, None]    [6.3, 10.7, 0.0, None, None, None, None, 3.2, None, 1.2, 9.6, 0.0, 59.0, None, 0.0, 802.3, 1267.6, 142.8, None, None, None, None, None, None, None, None, None, None]        [242.0, None, None]  [242.0, None, None]  [[], [], [], [], [], [], [], [], [], [], [], [], [], [], [], [], [], [], [], [], [], [], [], [], [], [], [], []]  [[], [], [], [], [], [], [], [], [], [], [], [], [], [], [], [], [], [], [], [], [], [], [], [], [], [], [], []]  2020-07-05  2020  3        7      6        Sunday    187        5    9     0       winter  Morning          1\n",
              " 2020-07-05 10:00:00  1593936000000  1744.364     578.641  334.800   1165.622    0.0         100.0            33.18            [1.2, 43.2, 0.0, None, None, None, None, 4.8, None, 1.2, 43.2, -1.2, 28.8, None, 0.0, 228.8, 1165.6, 349.8, None, None, None, None, None, None, None, None, None, None]    [4.8, 10.8, 0.0, None, None, None, None, 2.5, None, 1.2, 9.6, 0.0, 54.8, None, 0.0, 797.5, 1264.8, 152.3, None, None, None, None, None, None, None, None, None, None]        [241.7, None, None]  [241.7, None, None]  [[], [], [], [], [], [], [], [], [], [], [], [], [], [], [], [], [], [], [], [], [], [], [], [], [], [], [], []]  [[], [], [], [], [], [], [], [], [], [], [], [], [], [], [], [], [], [], [], [], [], [], [], [], [], [], [], []]  2020-07-05  2020  3        7      6        Sunday    187        5    10    0       winter  Morning          1\n",
              " 2020-07-05 11:00:00  1593939600000  1753.749     621.163  334.800   1132.585    0.0         100.0            35.42            [1.5, 43.2, 0.0, None, None, None, None, 6.0, None, 1.2, 43.2, -1.2, 46.3, None, 0.0, 244.1, 1132.6, 377.3, None, None, None, None, None, None, None, None, None, None]    [6.3, 10.5, 0.0, None, None, None, None, 3.0, None, 1.2, 9.6, 0.0, 75.4, None, 0.0, 814.9, 1211.1, 180.0, None, None, None, None, None, None, None, None, None, None]        [241.6, None, None]  [241.6, None, None]  [[], [], [], [], [], [], [], [], [], [], [], [], [], [], [], [], [], [], [], [], [], [], [], [], [], [], [], []]  [[], [], [], [], [], [], [], [], [], [], [], [], [], [], [], [], [], [], [], [], [], [], [], [], [], [], [], []]  2020-07-05  2020  3        7      6        Sunday    187        5    11    0       winter  Morning          1\n",
              "                                                                                                                                                                                                                                                                                                                                                                                                                                                                                                                                                                                                                                                                                                                                                                                                                                                                                ..\n",
              " 2020-10-24 14:00:00  1603540800000  2109.249     857.849  1701.576  1251.400    0.0         100.0            40.67            [1.5, 43.2, -0.4, None, None, None, None, 5.9, None, 1.0, 43.2, -1.2, 287.4, None, 0.0, 476.8, 1251.4, 381.0, None, None, None, None, None, None, None, None, None, None]  [6.5, 10.8, 0.0, None, None, None, None, 3.0, None, 0.4, 9.6, 0.0, 376.3, None, 0.9, 1041.0, 971.0, 187.4, None, None, None, None, None, None, None, None, None, None]       [241.8, None, None]  [241.8, None, None]  [[], [], [], [], [], [], [], [], [], [], [], [], [], [], [], [], [], [], [], [], [], [], [], [], [], [], [], []]  [[], [], [], [], [], [], [], [], [], [], [], [], [], [], [], [], [], [], [], [], [], [], [], [], [], [], [], []]  2020-10-24  2020  4        10     5        Saturday  298        24   14    0       winter  Noon             1\n",
              " 2020-10-24 15:00:00  1603544400000  2040.253     827.369  1701.576  1212.884    0.0         100.0            40.55            [1.2, 43.0, -0.3, None, None, None, None, 4.8, None, 0.9, 43.2, -1.2, 272.9, None, 0.0, 462.0, 1212.9, 365.6, None, None, None, None, None, None, None, None, None, None]  [4.9, 10.1, 0.0, None, None, None, None, 2.4, None, 0.2, 9.6, 0.0, 364.7, None, 1.1, 1039.0, 907.8, 182.6, None, None, None, None, None, None, None, None, None, None]       [241.1, None, None]  [241.1, None, None]  [[], [], [], [], [], [], [], [], [], [], [], [], [], [], [], [], [], [], [], [], [], [], [], [], [], [], [], []]  [[], [], [], [], [], [], [], [], [], [], [], [], [], [], [], [], [], [], [], [], [], [], [], [], [], [], [], []]  2020-10-24  2020  4        10     5        Saturday  298        24   15    0       winter  Noon             1\n",
              " 2020-10-24 16:00:00  1603548000000  2135.224     835.329  1701.576  1299.794    0.0         100.0            39.13            [1.5, 42.0, -0.4, None, None, None, None, 5.8, None, 1.1, 42.3, -1.2, 277.8, None, 0.0, 460.2, 1299.8, 375.3, None, None, None, None, None, None, None, None, None, None]  [6.2, 9.6, 0.0, None, None, None, None, 3.1, None, 0.1, 9.4, 0.0, 354.5, None, 0.7, 1021.7, 994.3, 181.5, None, None, None, None, None, None, None, None, None, None]        [238.9, None, None]  [238.9, None, None]  [[], [], [], [], [], [], [], [], [], [], [], [], [], [], [], [], [], [], [], [], [], [], [], [], [], [], [], []]  [[], [], [], [], [], [], [], [], [], [], [], [], [], [], [], [], [], [], [], [], [], [], [], [], [], [], [], []]  2020-10-24  2020  4        10     5        Saturday  298        24   16    0       winter  Noon             1\n",
              " 2020-10-24 17:00:00  1603551600000  2124.973     748.697  1701.576  1376.575    0.0         100.0            35.22            [1.2, 42.0, -0.2, None, None, None, None, 4.8, None, 0.6, 42.0, -1.2, 210.1, None, 0.0, 389.1, 1376.6, 359.9, None, None, None, None, None, None, None, None, None, None]  [4.8, 9.6, 0.0, None, None, None, None, 2.4, None, 0.3, 9.0, 0.0, 258.6, None, 0.2, 934.8, 1109.2, 176.9, None, None, None, None, None, None, None, None, None, None]        [238.0, None, None]  [238.0, None, None]  [[], [], [], [], [], [], [], [], [], [], [], [], [], [], [], [], [], [], [], [], [], [], [], [], [], [], [], []]  [[], [], [], [], [], [], [], [], [], [], [], [], [], [], [], [], [], [], [], [], [], [], [], [], [], [], [], []]  2020-10-24  2020  4        10     5        Saturday  298        24   17    0       winter  Evening          1\n",
              " 2020-03-16 05:00:00  1584327600000  536.967      0.000    0.000     536.967     0.0         0.0              0.00             [1.2, 43.3, 0.0, None, None, 376.8, 1184.8, 4.8, None, 1.2, 43.3, -1.2, 269.5, 537.0, 0.0, None, None, None, None, None, None, None, None, None, None, None, None, None]   [5.5, 10.3, 0.0, None, None, 134.6, 1289.4, 2.6, None, 0.0, 9.8, 0.0, 386.0, 1328.6, 1.2, None, None, None, None, None, None, None, None, None, None, None, None, None]      [241.7, None, None]  [241.7, None, None]  [[], [], [], [], [], [], [], [], [], [], [], [], [], [], [], [], [], [], [], [], [], [], [], [], [], [], [], []]  [[], [], [], [], [], [], [], [], [], [], [], [], [], [], [], [], [], [], [], [], [], [], [], [], [], [], [], []]  2020-03-16  2020  1        3      0        Monday    76         16   5     0       winter  Early Morning    1\n",
              " Length: 7968, dtype: int64)"
            ]
          },
          "metadata": {
            "tags": []
          },
          "execution_count": 126
        }
      ]
    },
    {
      "cell_type": "code",
      "metadata": {
        "id": "ebpx16vlD0mJ"
      },
      "source": [
        "df_hourly['Public_Holiday'] = df_hourly['dateOnly'].map(mapping)"
      ],
      "execution_count": 127,
      "outputs": []
    },
    {
      "cell_type": "code",
      "metadata": {
        "id": "OFvuiHLhEF7J"
      },
      "source": [
        "df_hourly['Public_Holiday']=df_hourly['Public_Holiday'].apply(lambda x:np.NaN if isinstance(x, str) and (x.isspace() or not x) else x).replace(np.NaN,'Non_Holiday')\r\n"
      ],
      "execution_count": 128,
      "outputs": []
    },
    {
      "cell_type": "code",
      "metadata": {
        "colab": {
          "base_uri": "https://localhost:8080/",
          "height": 803
        },
        "id": "rFz2v-esETRS",
        "outputId": "4a10f48a-6f7c-4c13-c493-419ece889b43"
      },
      "source": [
        "df_hourly.sample(5)"
      ],
      "execution_count": 129,
      "outputs": [
        {
          "output_type": "execute_result",
          "data": {
            "text/html": [
              "<div>\n",
              "<style scoped>\n",
              "    .dataframe tbody tr th:only-of-type {\n",
              "        vertical-align: middle;\n",
              "    }\n",
              "\n",
              "    .dataframe tbody tr th {\n",
              "        vertical-align: top;\n",
              "    }\n",
              "\n",
              "    .dataframe thead th {\n",
              "        text-align: right;\n",
              "    }\n",
              "</style>\n",
              "<table border=\"1\" class=\"dataframe\">\n",
              "  <thead>\n",
              "    <tr style=\"text-align: right;\">\n",
              "      <th></th>\n",
              "      <th>date</th>\n",
              "      <th>timestamp</th>\n",
              "      <th>consumption</th>\n",
              "      <th>solar</th>\n",
              "      <th>alwaysOn</th>\n",
              "      <th>gridImport</th>\n",
              "      <th>gridExport</th>\n",
              "      <th>selfConsumption</th>\n",
              "      <th>selfSufficiency</th>\n",
              "      <th>active</th>\n",
              "      <th>reactive</th>\n",
              "      <th>voltages</th>\n",
              "      <th>phaseVoltages</th>\n",
              "      <th>currentHarmonics</th>\n",
              "      <th>voltageHarmonics</th>\n",
              "      <th>dateOnly</th>\n",
              "      <th>year</th>\n",
              "      <th>quarter</th>\n",
              "      <th>month</th>\n",
              "      <th>weekday</th>\n",
              "      <th>day_name</th>\n",
              "      <th>dayofyear</th>\n",
              "      <th>day</th>\n",
              "      <th>hour</th>\n",
              "      <th>minute</th>\n",
              "      <th>season</th>\n",
              "      <th>day_section</th>\n",
              "      <th>Public_Holiday</th>\n",
              "    </tr>\n",
              "  </thead>\n",
              "  <tbody>\n",
              "    <tr>\n",
              "      <th>657</th>\n",
              "      <td>2020-04-12 03:00:00</td>\n",
              "      <td>1586653200000</td>\n",
              "      <td>3373.360</td>\n",
              "      <td>470.453</td>\n",
              "      <td>805.169</td>\n",
              "      <td>2902.906</td>\n",
              "      <td>0.0</td>\n",
              "      <td>100.0</td>\n",
              "      <td>13.95</td>\n",
              "      <td>[1.2, 44.1, -0.3, None, None, None, None, 3.6,...</td>\n",
              "      <td>[6.0, 10.8, 0.0, None, None, None, None, 2.6, ...</td>\n",
              "      <td>[243.3, None, None]</td>\n",
              "      <td>[243.3, None, None]</td>\n",
              "      <td>[[], [], [], [], [], [], [], [], [], [], [], [...</td>\n",
              "      <td>[[], [], [], [], [], [], [], [], [], [], [], [...</td>\n",
              "      <td>2020-04-12</td>\n",
              "      <td>2020</td>\n",
              "      <td>2</td>\n",
              "      <td>4</td>\n",
              "      <td>6</td>\n",
              "      <td>Sunday</td>\n",
              "      <td>103</td>\n",
              "      <td>12</td>\n",
              "      <td>3</td>\n",
              "      <td>0</td>\n",
              "      <td>winter</td>\n",
              "      <td>Late Night</td>\n",
              "      <td>Easter Sunday</td>\n",
              "    </tr>\n",
              "    <tr>\n",
              "      <th>5677</th>\n",
              "      <td>2020-11-08 04:00:00</td>\n",
              "      <td>1604800800000</td>\n",
              "      <td>2337.120</td>\n",
              "      <td>854.753</td>\n",
              "      <td>1733.989</td>\n",
              "      <td>1482.366</td>\n",
              "      <td>0.0</td>\n",
              "      <td>100.0</td>\n",
              "      <td>36.57</td>\n",
              "      <td>[1.5, 42.0, 0.0, None, None, None, None, 4.1, ...</td>\n",
              "      <td>[-6.2, 9.6, 0.0, None, None, None, None, -2.5,...</td>\n",
              "      <td>[238.7, None, None]</td>\n",
              "      <td>[238.7, None, None]</td>\n",
              "      <td>[[], [], [], [], [], [], [], [], [], [], [], [...</td>\n",
              "      <td>[[], [], [], [], [], [], [], [], [], [], [], [...</td>\n",
              "      <td>2020-11-08</td>\n",
              "      <td>2020</td>\n",
              "      <td>4</td>\n",
              "      <td>11</td>\n",
              "      <td>6</td>\n",
              "      <td>Sunday</td>\n",
              "      <td>313</td>\n",
              "      <td>8</td>\n",
              "      <td>4</td>\n",
              "      <td>0</td>\n",
              "      <td>winter</td>\n",
              "      <td>Late Night</td>\n",
              "      <td>Non_Holiday</td>\n",
              "    </tr>\n",
              "    <tr>\n",
              "      <th>4274</th>\n",
              "      <td>2020-09-10 17:00:00</td>\n",
              "      <td>1599750000000</td>\n",
              "      <td>3446.951</td>\n",
              "      <td>660.678</td>\n",
              "      <td>1552.768</td>\n",
              "      <td>2785.973</td>\n",
              "      <td>0.0</td>\n",
              "      <td>100.0</td>\n",
              "      <td>19.18</td>\n",
              "      <td>[1.4, 43.3, 0.0, None, None, None, None, 4.8, ...</td>\n",
              "      <td>[5.9, 10.4, 0.0, None, None, None, None, 3.1, ...</td>\n",
              "      <td>[241.8, None, None]</td>\n",
              "      <td>[241.8, None, None]</td>\n",
              "      <td>[[], [], [], [], [], [], [], [], [], [], [], [...</td>\n",
              "      <td>[[], [], [], [], [], [], [], [], [], [], [], [...</td>\n",
              "      <td>2020-09-10</td>\n",
              "      <td>2020</td>\n",
              "      <td>3</td>\n",
              "      <td>9</td>\n",
              "      <td>3</td>\n",
              "      <td>Thursday</td>\n",
              "      <td>254</td>\n",
              "      <td>10</td>\n",
              "      <td>17</td>\n",
              "      <td>0</td>\n",
              "      <td>winter</td>\n",
              "      <td>Evening</td>\n",
              "      <td>Non_Holiday</td>\n",
              "    </tr>\n",
              "    <tr>\n",
              "      <th>1518</th>\n",
              "      <td>2020-05-18 00:00:00</td>\n",
              "      <td>1589752800000</td>\n",
              "      <td>1855.298</td>\n",
              "      <td>745.436</td>\n",
              "      <td>1571.987</td>\n",
              "      <td>1109.961</td>\n",
              "      <td>0.0</td>\n",
              "      <td>100.0</td>\n",
              "      <td>40.17</td>\n",
              "      <td>[1.5, 43.2, 0.0, None, None, None, None, 4.7, ...</td>\n",
              "      <td>[6.7, 9.6, 0.0, None, None, None, None, 2.5, N...</td>\n",
              "      <td>[241.6, None, None]</td>\n",
              "      <td>[241.6, None, None]</td>\n",
              "      <td>[[], [], [], [], [], [], [], [], [], [], [], [...</td>\n",
              "      <td>[[], [], [], [], [], [], [], [], [], [], [], [...</td>\n",
              "      <td>2020-05-18</td>\n",
              "      <td>2020</td>\n",
              "      <td>2</td>\n",
              "      <td>5</td>\n",
              "      <td>0</td>\n",
              "      <td>Monday</td>\n",
              "      <td>139</td>\n",
              "      <td>18</td>\n",
              "      <td>0</td>\n",
              "      <td>0</td>\n",
              "      <td>spring</td>\n",
              "      <td>Late Night</td>\n",
              "      <td>Non_Holiday</td>\n",
              "    </tr>\n",
              "    <tr>\n",
              "      <th>4745</th>\n",
              "      <td>2020-09-30 08:00:00</td>\n",
              "      <td>1601445600000</td>\n",
              "      <td>3816.799</td>\n",
              "      <td>934.287</td>\n",
              "      <td>1292.415</td>\n",
              "      <td>2882.511</td>\n",
              "      <td>0.0</td>\n",
              "      <td>100.0</td>\n",
              "      <td>24.48</td>\n",
              "      <td>[1.5, 41.8, 0.0, None, None, None, None, 4.7, ...</td>\n",
              "      <td>[6.2, 9.6, 0.0, None, None, None, None, 3.1, N...</td>\n",
              "      <td>[237.9, None, None]</td>\n",
              "      <td>[237.9, None, None]</td>\n",
              "      <td>[[], [], [], [], [], [], [], [], [], [], [], [...</td>\n",
              "      <td>[[], [], [], [], [], [], [], [], [], [], [], [...</td>\n",
              "      <td>2020-09-30</td>\n",
              "      <td>2020</td>\n",
              "      <td>3</td>\n",
              "      <td>9</td>\n",
              "      <td>2</td>\n",
              "      <td>Wednesday</td>\n",
              "      <td>274</td>\n",
              "      <td>30</td>\n",
              "      <td>8</td>\n",
              "      <td>0</td>\n",
              "      <td>winter</td>\n",
              "      <td>Early Morning</td>\n",
              "      <td>Non_Holiday</td>\n",
              "    </tr>\n",
              "  </tbody>\n",
              "</table>\n",
              "</div>"
            ],
            "text/plain": [
              "                    date      timestamp  ...    day_section  Public_Holiday\n",
              "657  2020-04-12 03:00:00  1586653200000  ...     Late Night   Easter Sunday\n",
              "5677 2020-11-08 04:00:00  1604800800000  ...     Late Night     Non_Holiday\n",
              "4274 2020-09-10 17:00:00  1599750000000  ...        Evening     Non_Holiday\n",
              "1518 2020-05-18 00:00:00  1589752800000  ...     Late Night     Non_Holiday\n",
              "4745 2020-09-30 08:00:00  1601445600000  ...  Early Morning     Non_Holiday\n",
              "\n",
              "[5 rows x 28 columns]"
            ]
          },
          "metadata": {
            "tags": []
          },
          "execution_count": 129
        }
      ]
    },
    {
      "cell_type": "code",
      "metadata": {
        "colab": {
          "base_uri": "https://localhost:8080/"
        },
        "id": "IGv7Nr_SEfiN",
        "outputId": "51cc8e84-9b2d-43ef-8a94-aeaa8eb8a337"
      },
      "source": [
        "df_hourly['Public_Holiday'].unique()"
      ],
      "execution_count": 130,
      "outputs": [
        {
          "output_type": "execute_result",
          "data": {
            "text/plain": [
              "array(['Non_Holiday', 'Good Friday', 'Holy Saturday', 'Easter Sunday',\n",
              "       'Easter Monday', 'Independence Day', \"Worker's Day\", 'Africa Day',\n",
              "       \"Heroes' Day\", 'Zimbabwe Defence Forces Day', 'National Unity Day',\n",
              "       'Christmas Day', 'Boxing Day', \"New Year's Day\"], dtype=object)"
            ]
          },
          "metadata": {
            "tags": []
          },
          "execution_count": 130
        }
      ]
    },
    {
      "cell_type": "code",
      "metadata": {
        "id": "_qE6udfaEjfe"
      },
      "source": [
        "df_hourly=df_hourly[['date','timestamp','year','quarter','month','dayofyear','day','day_name','hour','minute','season','day_section','Public_Holiday','consumption','solar','alwaysOn','gridImport','gridExport','selfConsumption','selfSufficiency','active','reactive','voltages','phaseVoltages','currentHarmonics','voltageHarmonics']]"
      ],
      "execution_count": 131,
      "outputs": []
    },
    {
      "cell_type": "markdown",
      "metadata": {
        "id": "FWim1ZcmM9md"
      },
      "source": [
        "DAILY WRANGLING"
      ]
    },
    {
      "cell_type": "code",
      "metadata": {
        "colab": {
          "base_uri": "https://localhost:8080/"
        },
        "id": "POgf4kSVM8w1",
        "outputId": "15d6d3fc-6a80-488d-8624-24f5ce648f92"
      },
      "source": [
        "print(do_data_information(df_daily))\r\n",
        "\r\n",
        "\r\n"
      ],
      "execution_count": 144,
      "outputs": [
        {
          "output_type": "stream",
          "text": [
            "--------------------------------------------------------------------\n",
            "First rows\n",
            "        date  ...                                   voltageHarmonics\n",
            "0 2020-03-15  ...  [[], [], [], [], [], [], [], [], [], [], [], [...\n",
            "1 2020-03-16  ...  [[], [], [], [], [], [], [], [], [], [], [], [...\n",
            "2 2020-03-17  ...  [[], [], [], [], [], [], [], [], [], [], [], [...\n",
            "3 2020-03-18  ...  [[], [], [], [], [], [], [], [], [], [], [], [...\n",
            "4 2020-03-19  ...  [[], [], [], [], [], [], [], [], [], [], [], [...\n",
            "\n",
            "[5 rows x 26 columns]\n",
            "--------------------------------------------------------------------\n",
            "Dimension of the data\n",
            "This data has 335 rows and 26 variables\n",
            "None\n"
          ],
          "name": "stdout"
        }
      ]
    },
    {
      "cell_type": "code",
      "metadata": {
        "colab": {
          "base_uri": "https://localhost:8080/"
        },
        "id": "fAm7l4BXTF9j",
        "outputId": "3bd7ebed-4082-4987-f2f2-10b4247cbf40"
      },
      "source": [
        "print(check_missing_values_table(df_daily))"
      ],
      "execution_count": 145,
      "outputs": [
        {
          "output_type": "stream",
          "text": [
            "Your selected dataframe has 26 columns.\n",
            "There are 0 columns that have missing values.\n",
            "Empty DataFrame\n",
            "Columns: [Missing Values, % of Total Values]\n",
            "Index: []\n"
          ],
          "name": "stdout"
        }
      ]
    },
    {
      "cell_type": "code",
      "metadata": {
        "colab": {
          "base_uri": "https://localhost:8080/"
        },
        "id": "KPQF1-ESTKYv",
        "outputId": "82c527e1-a4b4-4521-c09d-5b5b24ff2d53"
      },
      "source": [
        "print(do_nunique_value(df_daily))"
      ],
      "execution_count": 146,
      "outputs": [
        {
          "output_type": "stream",
          "text": [
            "The Numver of unique values per columns are as follows\n",
            "                  nunique\n",
            "date                  335\n",
            "timestamp             335\n",
            "year                    2\n",
            "quarter                 4\n",
            "month                  12\n",
            "dayofyear             335\n",
            "day                    31\n",
            "day_name                7\n",
            "hour                    1\n",
            "minute                  1\n",
            "season                  4\n",
            "day_section             1\n",
            "Public_Holiday         14\n",
            "consumption           335\n",
            "solar                 333\n",
            "alwaysOn              333\n",
            "gridImport            335\n",
            "gridExport              1\n",
            "selfConsumption         2\n",
            "selfSufficiency       310\n",
            "active                335\n",
            "reactive              335\n",
            "voltages               95\n",
            "phaseVoltages          95\n",
            "currentHarmonics        1\n",
            "voltageHarmonics        1\n",
            "None\n"
          ],
          "name": "stdout"
        }
      ]
    },
    {
      "cell_type": "code",
      "metadata": {
        "id": "i2A1o8ZqSQBI"
      },
      "source": [
        "#Feature Engineering\r\n",
        "df_daily=do_datepart_extraction(df_daily)"
      ],
      "execution_count": 147,
      "outputs": []
    },
    {
      "cell_type": "code",
      "metadata": {
        "colab": {
          "base_uri": "https://localhost:8080/"
        },
        "id": "ZWT5TX8KSVfR",
        "outputId": "e9920356-a5c9-49f0-acea-8cbfacaebd0f"
      },
      "source": [
        "df_daily.date.min(),df_daily.date.max()"
      ],
      "execution_count": 138,
      "outputs": [
        {
          "output_type": "execute_result",
          "data": {
            "text/plain": [
              "(Timestamp('2020-03-15 00:00:00'), Timestamp('2021-02-12 00:00:00'))"
            ]
          },
          "metadata": {
            "tags": []
          },
          "execution_count": 138
        }
      ]
    },
    {
      "cell_type": "code",
      "metadata": {
        "colab": {
          "base_uri": "https://localhost:8080/"
        },
        "id": "UbSvqUJqSd1p",
        "outputId": "52d2a48c-8e7a-47e6-e1d8-034978b7da58"
      },
      "source": [
        "df_daily.consumption.min(),df_daily.consumption.max()"
      ],
      "execution_count": 139,
      "outputs": [
        {
          "output_type": "execute_result",
          "data": {
            "text/plain": [
              "(3482.0, 122179.38)"
            ]
          },
          "metadata": {
            "tags": []
          },
          "execution_count": 139
        }
      ]
    },
    {
      "cell_type": "code",
      "metadata": {
        "colab": {
          "base_uri": "https://localhost:8080/"
        },
        "id": "mPvAPinDSk6M",
        "outputId": "9a17aff7-9944-4f64-8f9a-b5c68bcefea7"
      },
      "source": [
        "df_daily[df_daily.consumption==0].value_counts().count(),df_daily[df_daily.consumption==0].value_counts()"
      ],
      "execution_count": 140,
      "outputs": [
        {
          "output_type": "execute_result",
          "data": {
            "text/plain": [
              "(0, Series([], dtype: int64))"
            ]
          },
          "metadata": {
            "tags": []
          },
          "execution_count": 140
        }
      ]
    },
    {
      "cell_type": "code",
      "metadata": {
        "id": "YvK-D7B-St2D"
      },
      "source": [
        "df_daily['Public_Holiday'] =df_daily['dateOnly'].map(mapping)"
      ],
      "execution_count": 141,
      "outputs": []
    },
    {
      "cell_type": "code",
      "metadata": {
        "id": "0HD4bK2aS17s"
      },
      "source": [
        "df_daily['Public_Holiday']=df_daily['Public_Holiday'].apply(lambda x:np.NaN if isinstance(x, str) and (x.isspace() or not x) else x).replace(np.NaN,'Non_Holiday')"
      ],
      "execution_count": 142,
      "outputs": []
    },
    {
      "cell_type": "code",
      "metadata": {
        "id": "SgTazEoTS-Vg"
      },
      "source": [
        "df_daily=df_daily[['date','timestamp','year','quarter','month','dayofyear','day','day_name','hour','minute','season','day_section','Public_Holiday','consumption','solar','alwaysOn','gridImport','gridExport','selfConsumption','selfSufficiency','active','reactive','voltages','phaseVoltages','currentHarmonics','voltageHarmonics']]"
      ],
      "execution_count": 143,
      "outputs": []
    },
    {
      "cell_type": "markdown",
      "metadata": {
        "id": "Xj15ezx5Pf_C"
      },
      "source": [
        "MonthLy Wrangling"
      ]
    },
    {
      "cell_type": "code",
      "metadata": {
        "colab": {
          "base_uri": "https://localhost:8080/"
        },
        "id": "33NYt3HWOVfw",
        "outputId": "ffe6d81b-11bb-4fa3-8cb7-88dcd7864056"
      },
      "source": [
        "print(do_data_information(df_monthly))\r\n",
        "\r\n"
      ],
      "execution_count": 148,
      "outputs": [
        {
          "output_type": "stream",
          "text": [
            "--------------------------------------------------------------------\n",
            "First rows\n",
            "         date  ...                                   voltageHarmonics\n",
            "0  2020-03-01  ...  [[], [], [], [], [], [], [], [], [], [], [], [...\n",
            "1  2020-04-01  ...  [[], [], [], [], [], [], [], [], [], [], [], [...\n",
            "2  2020-05-01  ...  [[], [], [], [], [], [], [], [], [], [], [], [...\n",
            "3  2020-06-01  ...  [[], [], [], [], [], [], [], [], [], [], [], [...\n",
            "4  2020-07-01  ...  [[], [], [], [], [], [], [], [], [], [], [], [...\n",
            "\n",
            "[5 rows x 15 columns]\n",
            "--------------------------------------------------------------------\n",
            "Dimension of the data\n",
            "This data has 12 rows and 15 variables\n",
            "None\n"
          ],
          "name": "stdout"
        }
      ]
    },
    {
      "cell_type": "code",
      "metadata": {
        "colab": {
          "base_uri": "https://localhost:8080/"
        },
        "id": "kVmaH_AGTZLa",
        "outputId": "4f2de387-d968-4852-affa-2f73bea99ef8"
      },
      "source": [
        "print(check_missing_values_table(df_monthly))"
      ],
      "execution_count": 149,
      "outputs": [
        {
          "output_type": "stream",
          "text": [
            "Your selected dataframe has 15 columns.\n",
            "There are 0 columns that have missing values.\n",
            "Empty DataFrame\n",
            "Columns: [Missing Values, % of Total Values]\n",
            "Index: []\n"
          ],
          "name": "stdout"
        }
      ]
    },
    {
      "cell_type": "code",
      "metadata": {
        "colab": {
          "base_uri": "https://localhost:8080/"
        },
        "id": "DiJdLG99TZXZ",
        "outputId": "36f55023-1c5e-479d-843d-eded53a76fe9"
      },
      "source": [
        "print(do_nunique_value(df_monthly))"
      ],
      "execution_count": 150,
      "outputs": [
        {
          "output_type": "stream",
          "text": [
            "The Numver of unique values per columns are as follows\n",
            "                  nunique\n",
            "date                   12\n",
            "timestamp              12\n",
            "consumption            12\n",
            "solar                  12\n",
            "alwaysOn               12\n",
            "gridImport             12\n",
            "gridExport              1\n",
            "selfConsumption         1\n",
            "selfSufficiency        12\n",
            "active                 12\n",
            "reactive               12\n",
            "voltages               10\n",
            "phaseVoltages          10\n",
            "currentHarmonics        1\n",
            "voltageHarmonics        1\n",
            "None\n"
          ],
          "name": "stdout"
        }
      ]
    },
    {
      "cell_type": "code",
      "metadata": {
        "id": "xQtd4-4QTZiM"
      },
      "source": [
        "#Feature Engineering\r\n",
        "df_monthly=do_datepart_extraction(df_monthly)"
      ],
      "execution_count": 151,
      "outputs": []
    },
    {
      "cell_type": "code",
      "metadata": {
        "colab": {
          "base_uri": "https://localhost:8080/"
        },
        "id": "5bhS-Al6TZrr",
        "outputId": "af02bdce-8538-444c-d144-7287ae92e3d4"
      },
      "source": [
        "df_monthly.date.min(),df_monthly.date.max()"
      ],
      "execution_count": 152,
      "outputs": [
        {
          "output_type": "execute_result",
          "data": {
            "text/plain": [
              "(Timestamp('2020-03-01 00:00:00'), Timestamp('2021-02-01 00:00:00'))"
            ]
          },
          "metadata": {
            "tags": []
          },
          "execution_count": 152
        }
      ]
    },
    {
      "cell_type": "code",
      "metadata": {
        "colab": {
          "base_uri": "https://localhost:8080/"
        },
        "id": "2-iBQucvTZzZ",
        "outputId": "424aac47-5f6b-455c-bb01-5c4c5a43a84e"
      },
      "source": [
        "df_monthly.consumption.min(),df_monthly.consumption.max()"
      ],
      "execution_count": 153,
      "outputs": [
        {
          "output_type": "execute_result",
          "data": {
            "text/plain": [
              "(928220.438, 2535679.307)"
            ]
          },
          "metadata": {
            "tags": []
          },
          "execution_count": 153
        }
      ]
    },
    {
      "cell_type": "code",
      "metadata": {
        "colab": {
          "base_uri": "https://localhost:8080/"
        },
        "id": "EZn1jpopTaBP",
        "outputId": "a3aea2d8-859f-45ab-db35-506292a3071a"
      },
      "source": [
        "#checking for days where there weere no consumptions\r\n",
        "df_monthly[df_daily.consumption==0].value_counts().count(),df_monthly[df_monthly.consumption==0].value_counts()"
      ],
      "execution_count": 154,
      "outputs": [
        {
          "output_type": "stream",
          "text": [
            "/usr/local/lib/python3.6/dist-packages/ipykernel_launcher.py:2: UserWarning: Boolean Series key will be reindexed to match DataFrame index.\n",
            "  \n"
          ],
          "name": "stderr"
        },
        {
          "output_type": "execute_result",
          "data": {
            "text/plain": [
              "(0, Series([], dtype: int64))"
            ]
          },
          "metadata": {
            "tags": []
          },
          "execution_count": 154
        }
      ]
    },
    {
      "cell_type": "code",
      "metadata": {
        "id": "ysu6a_kbTaNy"
      },
      "source": [
        "df_monthly['Public_Holiday'] =df_monthly['dateOnly'].map(mapping)"
      ],
      "execution_count": 155,
      "outputs": []
    },
    {
      "cell_type": "code",
      "metadata": {
        "id": "lbDkMm6KT3cG"
      },
      "source": [
        "df_monthly['Public_Holiday']=df_monthly['Public_Holiday'].apply(lambda x:np.NaN if isinstance(x, str) and (x.isspace() or not x) else x).replace(np.NaN,'Non_Holiday')"
      ],
      "execution_count": 156,
      "outputs": []
    },
    {
      "cell_type": "code",
      "metadata": {
        "id": "DYSUOvOULacy"
      },
      "source": [
        "df_monthly=df_monthly[['date','timestamp','year','quarter','month','dayofyear','day','day_name','hour','minute','season','day_section','Public_Holiday','consumption','solar','alwaysOn','gridImport','gridExport','selfConsumption','selfSufficiency','active','reactive','voltages','phaseVoltages','currentHarmonics','voltageHarmonics']]"
      ],
      "execution_count": 157,
      "outputs": []
    },
    {
      "cell_type": "code",
      "metadata": {
        "id": "rW3s3ELqUqpC"
      },
      "source": [
        "#to CSV\r\n",
        "df_5min.to_csv('NeedEnergyAPI_5min.csv',index=False)\r\n",
        "df_hourly.to_csv('NeedEnergyAPI_hourly.csv',index=False)\r\n",
        "df_daily.to_csv('NeedEnergyAPI_daily.csv',index=False)\r\n",
        "df_monthly.to_csv('NeedEnergyAPI_monthly.csv',index=False)\r\n"
      ],
      "execution_count": 158,
      "outputs": []
    },
    {
      "cell_type": "markdown",
      "metadata": {
        "id": "UJ-Yh2997i1q"
      },
      "source": [
        "#DATA QUALITY CHECK:\r\n",
        "*Data summary:\r\n",
        "* Raw_NeedEnergyApi_5min :\r\n",
        "Raw_Records: 95649 with 15 columns\r\n",
        "Cleaned(Current) :95649,\r\n",
        "\r\n",
        "* Raw_NeedEnergyApi_hourly :\r\n",
        "Raw_Record :7979 with 15 columns\r\n",
        "Cleaned(Current) :7979,\r\n",
        "* Raw_NeedEnergyApi_Daily :\r\n",
        "Raw_Records: 335 with 15 columns\r\n",
        "Cleaned (current):335\r\n",
        "* Raw_NeedEnergyApi_Monthly :\r\n",
        "Raw_records:12 with 15 columns\r\n",
        "cleaned =12\r\n",
        "* BASED ON THE FOLLOWING QUALITY DIMENSIONS:(ACCURACY,COMPELETENESS,VALUES FREE FROM CONTRADICTION)\r\n",
        "THE NEEDENERGY API 5MIN,HOURLY,DAILTY,MONTHLY DATASET has zero missing values.More data required for predictive analysis,\r\n",
        "\r\n",
        "## Feature Engineering:\r\n",
        "More features were extracted and created from the date column feature:\r\n",
        "* New features Generated :day,hour,month,year,day_name,\r\n",
        "seasons(winter,autumn,spring),day sections(Night,Evening,Afternoon)\r\n",
        "\r\n",
        "* Others:Jupyter starter files for \r\n",
        "Generalized Helper functions were created to generate seasons,day_sections,day,month,year,hour,quarter,were created for use for anyone willing to start-up cleaning or other task activities\r\n",
        "\r\n",
        "* In-Progress Helper function\r\n",
        "Public-holiday and many more for solar-iiradiance dataset.\r\n"
      ]
    },
    {
      "cell_type": "code",
      "metadata": {
        "id": "RpSvERxV7oqx"
      },
      "source": [
        ""
      ],
      "execution_count": null,
      "outputs": []
    }
  ]
}