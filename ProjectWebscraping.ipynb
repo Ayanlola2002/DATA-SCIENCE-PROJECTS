{
  "nbformat": 4,
  "nbformat_minor": 0,
  "metadata": {
    "kernelspec": {
      "display_name": "Python 3",
      "language": "python",
      "name": "python3"
    },
    "language_info": {
      "codemirror_mode": {
        "name": "ipython",
        "version": 3
      },
      "file_extension": ".py",
      "mimetype": "text/x-python",
      "name": "python",
      "nbconvert_exporter": "python",
      "pygments_lexer": "ipython3",
      "version": "3.7.1"
    },
    "colab": {
      "name": "ProjectWebscraping.ipynb",
      "provenance": [],
      "toc_visible": true,
      "include_colab_link": true
    }
  },
  "cells": [
    {
      "cell_type": "markdown",
      "metadata": {
        "id": "view-in-github",
        "colab_type": "text"
      },
      "source": [
        "<a href=\"https://colab.research.google.com/github/Ayanlola2002/DATA-SCIENCE-PROJECTS/blob/master/ProjectWebscraping.ipynb\" target=\"_parent\"><img src=\"https://colab.research.google.com/assets/colab-badge.svg\" alt=\"Open In Colab\"/></a>"
      ]
    },
    {
      "cell_type": "markdown",
      "metadata": {
        "id": "qzemvf-YlRtB",
        "colab_type": "text"
      },
      "source": [
        "### Web Scraping 101 "
      ]
    },
    {
      "cell_type": "markdown",
      "metadata": {
        "id": "r0zmq0sGlRtE",
        "colab_type": "text"
      },
      "source": [
        "#### Kindly ensure you have the legal rights to scrape and use data from a site before doing so. Propertypro is more flexible about this as seen in the terms and conditions page however Nigeria Property center is not. Check below for more: \n",
        "\n",
        "#### https://www.propertypro.ng/terms\n",
        "#### https://nigeriapropertycentre.com/terms-of-use "
      ]
    },
    {
      "cell_type": "markdown",
      "metadata": {
        "id": "Y691Nov7lRtG",
        "colab_type": "text"
      },
      "source": [
        "."
      ]
    },
    {
      "cell_type": "markdown",
      "metadata": {
        "id": "w0gbQZSklRtH",
        "colab_type": "text"
      },
      "source": [
        "#### Import Beautiful Soup for scraping, requests for making request to a website and re for regular expressions"
      ]
    },
    {
      "cell_type": "code",
      "metadata": {
        "id": "Q_zCU5XolRtI",
        "colab_type": "code",
        "colab": {}
      },
      "source": [
        "import requests, re\n",
        "from bs4 import BeautifulSoup"
      ],
      "execution_count": 0,
      "outputs": []
    },
    {
      "cell_type": "markdown",
      "metadata": {
        "id": "5B1tcnkElRtQ",
        "colab_type": "text"
      },
      "source": [
        "#### Make a request to the website and extract its content (page source)"
      ]
    },
    {
      "cell_type": "code",
      "metadata": {
        "id": "OjZGXXh5lRtR",
        "colab_type": "code",
        "colab": {}
      },
      "source": [
        "r=requests.get(\"https://www.propertypro.ng/property-for-rent?search=gbagada\")\n",
        "c=r.content"
      ],
      "execution_count": 0,
      "outputs": []
    },
    {
      "cell_type": "markdown",
      "metadata": {
        "id": "mNOim4IqlRtV",
        "colab_type": "text"
      },
      "source": [
        "#### Parse the page source using the Beautiful soup HTML parser\n",
        "#### Find all property features on the page"
      ]
    },
    {
      "cell_type": "code",
      "metadata": {
        "id": "1Of1xvijlRtW",
        "colab_type": "code",
        "colab": {}
      },
      "source": [
        "soup=BeautifulSoup(c,\"html.parser\")\n",
        "\n",
        "real=soup.find_all(\"div\",{\"class\":\"prop-features\"})"
      ],
      "execution_count": 0,
      "outputs": []
    },
    {
      "cell_type": "markdown",
      "metadata": {
        "id": "z1oRiOl0lRtb",
        "colab_type": "text"
      },
      "source": [
        "#### Collect property features on the page.For this add the index of the feature at the end of the code e.g. [0] for bed, [2] for bath.\n",
        "#### This first method is not ideal because the location of the specific feature might change "
      ]
    },
    {
      "cell_type": "code",
      "metadata": {
        "id": "zcctiuyTlRtc",
        "colab_type": "code",
        "colab": {
          "base_uri": "https://localhost:8080/",
          "height": 34
        },
        "outputId": "e98d460f-686e-4df0-aa4d-114697d5078a"
      },
      "source": [
        "real[0].get_text().strip().split()"
      ],
      "execution_count": 48,
      "outputs": [
        {
          "output_type": "execute_result",
          "data": {
            "text/plain": [
              "['4', 'bed', '4', 'bath', '5', 'toilet']"
            ]
          },
          "metadata": {
            "tags": []
          },
          "execution_count": 48
        }
      ]
    },
    {
      "cell_type": "markdown",
      "metadata": {
        "id": "v_oJJstElRtj",
        "colab_type": "text"
      },
      "source": [
        "#### This second method uses regular expressions and is a better way to collect feature information, because it checks for the feature before collecting. If the feature does not exist it will give a none. For more on regular expressions check https://www.w3schools.com/python/python_regex.asp "
      ]
    },
    {
      "cell_type": "code",
      "metadata": {
        "id": "Yu8r0MNylRtk",
        "colab_type": "code",
        "colab": {
          "base_uri": "https://localhost:8080/",
          "height": 34
        },
        "outputId": "5208cff8-e7f1-448b-d515-ed898689bc5e"
      },
      "source": [
        "re.findall(\"..bath\",real[0].get_text().strip())#[0][0]"
      ],
      "execution_count": 49,
      "outputs": [
        {
          "output_type": "execute_result",
          "data": {
            "text/plain": [
              "['4 bath']"
            ]
          },
          "metadata": {
            "tags": []
          },
          "execution_count": 49
        }
      ]
    },
    {
      "cell_type": "markdown",
      "metadata": {
        "id": "Y3i7oQ3VlRtq",
        "colab_type": "text"
      },
      "source": [
        "#### You can change div and class below to search for something else. "
      ]
    },
    {
      "cell_type": "code",
      "metadata": {
        "id": "Na1fwAgKlRtr",
        "colab_type": "code",
        "colab": {}
      },
      "source": [
        "real=soup.find_all(\"div\",{\"class\":\"prop-features\"})"
      ],
      "execution_count": 0,
      "outputs": []
    },
    {
      "cell_type": "code",
      "metadata": {
        "id": "JbnuFgTjlRtw",
        "colab_type": "code",
        "colab": {}
      },
      "source": [
        ""
      ],
      "execution_count": 0,
      "outputs": []
    },
    {
      "cell_type": "markdown",
      "metadata": {
        "id": "vYryueHilRt0",
        "colab_type": "text"
      },
      "source": [
        "#### Websites typically have a structure which allows for easy automation. For example location and page number can eaasily be changed and the website will respond accordingly. Try changing the location below and page number to surulere and page 2 respectively."
      ]
    },
    {
      "cell_type": "code",
      "metadata": {
        "id": "Tal7dRe4lRt1",
        "colab_type": "code",
        "colab": {}
      },
      "source": [
        "#https://www.propertypro.ng/property-for-rent?search=gbagada&page=1"
      ],
      "execution_count": 0,
      "outputs": []
    },
    {
      "cell_type": "markdown",
      "metadata": {
        "id": "rBeiwL9WlRt6",
        "colab_type": "text"
      },
      "source": [
        "#### There is a slight challenge from above. You will need to get the total number of pages. This can be calculated using total number of items divided by number of listing on each page. The listing is written within a paragraph of text so this has to be extracted using regular expressions. "
      ]
    },
    {
      "cell_type": "code",
      "metadata": {
        "id": "LoxTyodtlRt6",
        "colab_type": "code",
        "colab": {
          "base_uri": "https://localhost:8080/",
          "height": 34
        },
        "outputId": "f5f01161-2e00-41c7-82bb-6c6c8ee9dbf0"
      },
      "source": [
        "items = int(re.findall(\"\\d+\",soup.find_all(\"div\",{\"class\":\"jumbotron m-hide\"})[0].text.split(\"total of\")[1][:6].replace(\",\",\"\").strip())[0])\n",
        "listings = 20\n",
        "page_nr = int(items/listings)\n",
        "page_nr"
      ],
      "execution_count": 52,
      "outputs": [
        {
          "output_type": "execute_result",
          "data": {
            "text/plain": [
              "30"
            ]
          },
          "metadata": {
            "tags": []
          },
          "execution_count": 52
        }
      ]
    },
    {
      "cell_type": "markdown",
      "metadata": {
        "id": "mW_b0abBlRuG",
        "colab_type": "text"
      },
      "source": [
        "#### This is the full code below, the first for loop is used to extract the details on a page, the second is to extract across multiple pages while the last is to extract across locations. Please as indicated in the instructions, do not scrape multiple locations or pages until off peak hours (>6pm) to avoid overloading the site."
      ]
    },
    {
      "cell_type": "code",
      "metadata": {
        "id": "e54y9ldplRuH",
        "colab_type": "code",
        "colab": {}
      },
      "source": [
        "l=[]\n",
        "location = [\"gbagada\",\"ikeja\",\"surulere\",\"ikeja\",\"ogba\",\"iyana ipaja\",\"lekki\",\"ajah\",\"ikorodu\"]\n",
        "\n",
        "\n",
        "for place in location:\n",
        "    base_url=\"https://www.propertypro.ng/property-for-rent?search=\"+place+ \"&auto=&type=&bedroom=&max_price=\"\n",
        "    r=requests.get(base_url+\".html\")\n",
        "    c=r.content\n",
        "    soup=BeautifulSoup(c,\"html.parser\")\n",
        "\n",
        "    items = int(re.findall(\"\\d+\",soup.find_all(\"div\",{\"class\":\"jumbotron m-hide\"})[0].text.split(\"total of\")[1][:6].replace(\",\",\"\").strip())[0])\n",
        "    listings = 20 #This can be edited back to 20 items as stated on site. However your code will take a while to run\n",
        "    page_nr = int(items/listings)\n",
        "    \n",
        "    #base_url=\"https://www.propertypro.ng/property-for-rent?search=\"+place+ \"&auto=&type=&bedroom=&max_price=\"\n",
        "    for page in range(1,int(page_nr),1):\n",
        "\n",
        "        r=requests.get(base_url+\".html\"+\"&page=\"+str(page))\n",
        "        c=r.content\n",
        "\n",
        "        soup=BeautifulSoup(c,\"html.parser\")\n",
        "        \n",
        "        classes = [\"col-lg-6 col-md-6 col-sm-6 col-xs-12 prop-meta-data\",\"col-lg-8 col-md-8 col-sm-7 col-xs-12 prop-meta-data text-left\",\n",
        "                   \"col-lg-9 col-md-9 col-sm-12 col-xs-12 main-listing-cont\"]\n",
        "        for class_ in classes:\n",
        "            real=soup.find_all(\"div\",{\"class\":class_})\n",
        "\n",
        "            for i in list(range(0,len(real))):\n",
        "                d={}\n",
        "                d['page']= page\n",
        "                try:\n",
        "                    d[\"location\"] = real[i].find(\"h3\",{\"class\":\"pro-location\"}).text.strip()\n",
        "                except (IndexError,TypeError,AttributeError):\n",
        "                    d[\"location\"] = None\n",
        "                try:\n",
        "                    d[\"specific_location\"] = real[i].find(\"h3\",{\"class\":\"pro-location\"}).text.strip().split(\"gbagada\")[0].replace(\"-\",\"\").strip()\n",
        "                except(IndexError,TypeError,AttributeError):\n",
        "                    d['specific_location'] = None\n",
        "                try:\n",
        "                    d[\"features\"]=real[i].find(\"span\",{\"class\":\"prop-aminities float-left\"}).text.strip()  \n",
        "                except (AttributeError,IndexError) as e:\n",
        "                    d[\"features\"]= None\n",
        "                try:\n",
        "                    d[\"bedrooms\"]= re.findall(\"..bed\",real[i].find(\"span\",{\"class\":\"prop-aminities float-left\"}).text.strip())[0][0]\n",
        "                except (IndexError,TypeError,AttributeError) as e:\n",
        "                    d[\"bedrooms\"]= None \n",
        "                try:\n",
        "                    d[\"bathrooms\"]= re.findall(\"..bath\",real[i].find(\"span\",{\"class\":\"prop-aminities float-left\"}).text.strip())[0][0]\n",
        "                except (IndexError,TypeError,AttributeError) as e:\n",
        "                    d[\"bathrooms\"]= None\n",
        "                try:\n",
        "                    d[\"toilets\"]= re.findall(\"..toilet\",real[i].find(\"span\",{\"class\":\"prop-aminities float-left\"}).text.strip())[0][0]\n",
        "                except (IndexError,TypeError,AttributeError) as e:\n",
        "                    d[\"toilets\"]=None\n",
        "                try:\n",
        "                    d[\"description\"]=real[i].find(\"p\",{\"class\":\"pro-description\"}).text.strip()\n",
        "                except (IndexError,TypeError,AttributeError) as e:\n",
        "                    d[\"description\"]= None\n",
        "                try:\n",
        "                    d[\"other_description\"]=real[i].find(\"p\",{\"class\":\"pro-description readmore\"}).text.strip()\n",
        "                except (IndexError,TypeError,AttributeError) as e:\n",
        "                    d[\"other_description\"]= None     \n",
        "                \n",
        "                try:\n",
        "                    d[\"price\"]=real[i].find(\"p\",{\"class\":\"prop-price\"}).text.strip().replace(\"₦\",\"\").replace(\",\",\"\")\n",
        "                except (IndexError,TypeError,AttributeError) as e:\n",
        "                    d[\"price\"] = None\n",
        "                l.append(d)\n",
        "                #print(l)\n",
        "                #print(\" \""
      ],
      "execution_count": 0,
      "outputs": []
    },
    {
      "cell_type": "markdown",
      "metadata": {
        "id": "NAHQ_ApTlRuL",
        "colab_type": "text"
      },
      "source": [
        "#### Convert output to dataframe"
      ]
    },
    {
      "cell_type": "code",
      "metadata": {
        "id": "4xZY_XcelRuM",
        "colab_type": "code",
        "colab": {
          "base_uri": "https://localhost:8080/",
          "height": 745
        },
        "outputId": "f141f703-f7dd-40bb-975c-f8966278c05f"
      },
      "source": [
        "import pandas as pd\n",
        "ld = pd.DataFrame(l)\n",
        "ld"
      ],
      "execution_count": 55,
      "outputs": [
        {
          "output_type": "execute_result",
          "data": {
            "text/html": [
              "<div>\n",
              "<style scoped>\n",
              "    .dataframe tbody tr th:only-of-type {\n",
              "        vertical-align: middle;\n",
              "    }\n",
              "\n",
              "    .dataframe tbody tr th {\n",
              "        vertical-align: top;\n",
              "    }\n",
              "\n",
              "    .dataframe thead th {\n",
              "        text-align: right;\n",
              "    }\n",
              "</style>\n",
              "<table border=\"1\" class=\"dataframe\">\n",
              "  <thead>\n",
              "    <tr style=\"text-align: right;\">\n",
              "      <th></th>\n",
              "      <th>page</th>\n",
              "      <th>location</th>\n",
              "      <th>specific_location</th>\n",
              "      <th>features</th>\n",
              "      <th>bedrooms</th>\n",
              "      <th>bathrooms</th>\n",
              "      <th>toilets</th>\n",
              "      <th>description</th>\n",
              "      <th>other_description</th>\n",
              "      <th>price</th>\n",
              "    </tr>\n",
              "  </thead>\n",
              "  <tbody>\n",
              "    <tr>\n",
              "      <th>0</th>\n",
              "      <td>1</td>\n",
              "      <td>gbagada lagos</td>\n",
              "      <td></td>\n",
              "      <td>1 bed 1 bath  toilet</td>\n",
              "      <td>1</td>\n",
              "      <td>1</td>\n",
              "      <td></td>\n",
              "      <td>1 bedroom mini flat Mini flat Flat / Apartment...</td>\n",
              "      <td>1 bedroom mini flat Mini flat Flat / Apartment...</td>\n",
              "      <td>450000</td>\n",
              "    </tr>\n",
              "    <tr>\n",
              "      <th>1</th>\n",
              "      <td>1</td>\n",
              "      <td>phase 2 gbagada lagos</td>\n",
              "      <td>phase 2</td>\n",
              "      <td>3 bed 3 bath 4 toilet</td>\n",
              "      <td>3</td>\n",
              "      <td>3</td>\n",
              "      <td>4</td>\n",
              "      <td>3 bedroom flat upstairs apartment ... ...</td>\n",
              "      <td>3 bedroom flat upstairs apartment ... ...</td>\n",
              "      <td>1500000</td>\n",
              "    </tr>\n",
              "    <tr>\n",
              "      <th>2</th>\n",
              "      <td>1</td>\n",
              "      <td>ifako gbagada gbagada lagos</td>\n",
              "      <td>ifako</td>\n",
              "      <td>2 bed 2 bath 2 toilet</td>\n",
              "      <td>2</td>\n",
              "      <td>2</td>\n",
              "      <td>2</td>\n",
              "      <td>Decent 2 bedrooms ground flat in a block of 4,...</td>\n",
              "      <td>Decent 2 bedrooms ground flat in a block of 4,...</td>\n",
              "      <td>800000</td>\n",
              "    </tr>\n",
              "    <tr>\n",
              "      <th>3</th>\n",
              "      <td>1</td>\n",
              "      <td>ifako ifako gbagada gbagada lagos</td>\n",
              "      <td>ifako ifako</td>\n",
              "      <td>2 bed 2 bath 3 toilet</td>\n",
              "      <td>2</td>\n",
              "      <td>2</td>\n",
              "      <td>3</td>\n",
              "      <td>2 bedroom apartment in a block of 4, upstairs ...</td>\n",
              "      <td>2 bedroom apartment in a block of 4, upstairs ...</td>\n",
              "      <td>1000000</td>\n",
              "    </tr>\n",
              "    <tr>\n",
              "      <th>4</th>\n",
              "      <td>1</td>\n",
              "      <td>millenuim ups gbagada lagos</td>\n",
              "      <td>millenuim ups</td>\n",
              "      <td>3 bed 3 bath 4 toilet</td>\n",
              "      <td>3</td>\n",
              "      <td>3</td>\n",
              "      <td>4</td>\n",
              "      <td>two tenants in the compound ... Security. Park...</td>\n",
              "      <td>two tenants in the compound ... Security. Park...</td>\n",
              "      <td>1800000</td>\n",
              "    </tr>\n",
              "    <tr>\n",
              "      <th>...</th>\n",
              "      <td>...</td>\n",
              "      <td>...</td>\n",
              "      <td>...</td>\n",
              "      <td>...</td>\n",
              "      <td>...</td>\n",
              "      <td>...</td>\n",
              "      <td>...</td>\n",
              "      <td>...</td>\n",
              "      <td>...</td>\n",
              "      <td>...</td>\n",
              "    </tr>\n",
              "    <tr>\n",
              "      <th>5116</th>\n",
              "      <td>11</td>\n",
              "      <td>None</td>\n",
              "      <td>None</td>\n",
              "      <td>None</td>\n",
              "      <td>None</td>\n",
              "      <td>None</td>\n",
              "      <td>None</td>\n",
              "      <td>None</td>\n",
              "      <td>None</td>\n",
              "      <td>None</td>\n",
              "    </tr>\n",
              "    <tr>\n",
              "      <th>5117</th>\n",
              "      <td>12</td>\n",
              "      <td>None</td>\n",
              "      <td>None</td>\n",
              "      <td>None</td>\n",
              "      <td>None</td>\n",
              "      <td>None</td>\n",
              "      <td>None</td>\n",
              "      <td>None</td>\n",
              "      <td>None</td>\n",
              "      <td>None</td>\n",
              "    </tr>\n",
              "    <tr>\n",
              "      <th>5118</th>\n",
              "      <td>13</td>\n",
              "      <td>None</td>\n",
              "      <td>None</td>\n",
              "      <td>None</td>\n",
              "      <td>None</td>\n",
              "      <td>None</td>\n",
              "      <td>None</td>\n",
              "      <td>None</td>\n",
              "      <td>None</td>\n",
              "      <td>None</td>\n",
              "    </tr>\n",
              "    <tr>\n",
              "      <th>5119</th>\n",
              "      <td>14</td>\n",
              "      <td>None</td>\n",
              "      <td>None</td>\n",
              "      <td>None</td>\n",
              "      <td>None</td>\n",
              "      <td>None</td>\n",
              "      <td>None</td>\n",
              "      <td>None</td>\n",
              "      <td>None</td>\n",
              "      <td>None</td>\n",
              "    </tr>\n",
              "    <tr>\n",
              "      <th>5120</th>\n",
              "      <td>15</td>\n",
              "      <td>None</td>\n",
              "      <td>None</td>\n",
              "      <td>None</td>\n",
              "      <td>None</td>\n",
              "      <td>None</td>\n",
              "      <td>None</td>\n",
              "      <td>None</td>\n",
              "      <td>None</td>\n",
              "      <td>None</td>\n",
              "    </tr>\n",
              "  </tbody>\n",
              "</table>\n",
              "<p>5121 rows × 10 columns</p>\n",
              "</div>"
            ],
            "text/plain": [
              "      page  ...     price\n",
              "0        1  ...    450000\n",
              "1        1  ...   1500000\n",
              "2        1  ...    800000\n",
              "3        1  ...   1000000\n",
              "4        1  ...   1800000\n",
              "...    ...  ...       ...\n",
              "5116    11  ...      None\n",
              "5117    12  ...      None\n",
              "5118    13  ...      None\n",
              "5119    14  ...      None\n",
              "5120    15  ...      None\n",
              "\n",
              "[5121 rows x 10 columns]"
            ]
          },
          "metadata": {
            "tags": []
          },
          "execution_count": 55
        }
      ]
    },
    {
      "cell_type": "code",
      "metadata": {
        "id": "UC6Ayxbsp8mH",
        "colab_type": "code",
        "colab": {}
      },
      "source": [
        "scrapedata=ld.to_csv(\"data1.csv\",index=False)"
      ],
      "execution_count": 0,
      "outputs": []
    },
    {
      "cell_type": "code",
      "metadata": {
        "id": "TWDtHIGQq9rn",
        "colab_type": "code",
        "colab": {
          "base_uri": "https://localhost:8080/",
          "height": 1000
        },
        "outputId": "deb46ae7-d605-4c36-dfcf-c23f97babae4"
      },
      "source": [
        "ld.head(10)"
      ],
      "execution_count": 57,
      "outputs": [
        {
          "output_type": "execute_result",
          "data": {
            "text/html": [
              "<div>\n",
              "<style scoped>\n",
              "    .dataframe tbody tr th:only-of-type {\n",
              "        vertical-align: middle;\n",
              "    }\n",
              "\n",
              "    .dataframe tbody tr th {\n",
              "        vertical-align: top;\n",
              "    }\n",
              "\n",
              "    .dataframe thead th {\n",
              "        text-align: right;\n",
              "    }\n",
              "</style>\n",
              "<table border=\"1\" class=\"dataframe\">\n",
              "  <thead>\n",
              "    <tr style=\"text-align: right;\">\n",
              "      <th></th>\n",
              "      <th>page</th>\n",
              "      <th>location</th>\n",
              "      <th>specific_location</th>\n",
              "      <th>features</th>\n",
              "      <th>bedrooms</th>\n",
              "      <th>bathrooms</th>\n",
              "      <th>toilets</th>\n",
              "      <th>description</th>\n",
              "      <th>other_description</th>\n",
              "      <th>price</th>\n",
              "    </tr>\n",
              "  </thead>\n",
              "  <tbody>\n",
              "    <tr>\n",
              "      <th>0</th>\n",
              "      <td>1</td>\n",
              "      <td>gbagada lagos</td>\n",
              "      <td></td>\n",
              "      <td>1 bed 1 bath  toilet</td>\n",
              "      <td>1</td>\n",
              "      <td>1</td>\n",
              "      <td></td>\n",
              "      <td>1 bedroom mini flat Mini flat Flat / Apartment...</td>\n",
              "      <td>1 bedroom mini flat Mini flat Flat / Apartment...</td>\n",
              "      <td>450000</td>\n",
              "    </tr>\n",
              "    <tr>\n",
              "      <th>1</th>\n",
              "      <td>1</td>\n",
              "      <td>phase 2 gbagada lagos</td>\n",
              "      <td>phase 2</td>\n",
              "      <td>3 bed 3 bath 4 toilet</td>\n",
              "      <td>3</td>\n",
              "      <td>3</td>\n",
              "      <td>4</td>\n",
              "      <td>3 bedroom flat upstairs apartment ... ...</td>\n",
              "      <td>3 bedroom flat upstairs apartment ... ...</td>\n",
              "      <td>1500000</td>\n",
              "    </tr>\n",
              "    <tr>\n",
              "      <th>2</th>\n",
              "      <td>1</td>\n",
              "      <td>ifako gbagada gbagada lagos</td>\n",
              "      <td>ifako</td>\n",
              "      <td>2 bed 2 bath 2 toilet</td>\n",
              "      <td>2</td>\n",
              "      <td>2</td>\n",
              "      <td>2</td>\n",
              "      <td>Decent 2 bedrooms ground flat in a block of 4,...</td>\n",
              "      <td>Decent 2 bedrooms ground flat in a block of 4,...</td>\n",
              "      <td>800000</td>\n",
              "    </tr>\n",
              "    <tr>\n",
              "      <th>3</th>\n",
              "      <td>1</td>\n",
              "      <td>ifako ifako gbagada gbagada lagos</td>\n",
              "      <td>ifako ifako</td>\n",
              "      <td>2 bed 2 bath 3 toilet</td>\n",
              "      <td>2</td>\n",
              "      <td>2</td>\n",
              "      <td>3</td>\n",
              "      <td>2 bedroom apartment in a block of 4, upstairs ...</td>\n",
              "      <td>2 bedroom apartment in a block of 4, upstairs ...</td>\n",
              "      <td>1000000</td>\n",
              "    </tr>\n",
              "    <tr>\n",
              "      <th>4</th>\n",
              "      <td>1</td>\n",
              "      <td>millenuim ups gbagada lagos</td>\n",
              "      <td>millenuim ups</td>\n",
              "      <td>3 bed 3 bath 4 toilet</td>\n",
              "      <td>3</td>\n",
              "      <td>3</td>\n",
              "      <td>4</td>\n",
              "      <td>two tenants in the compound ... Security. Park...</td>\n",
              "      <td>two tenants in the compound ... Security. Park...</td>\n",
              "      <td>1800000</td>\n",
              "    </tr>\n",
              "    <tr>\n",
              "      <th>5</th>\n",
              "      <td>1</td>\n",
              "      <td>ifako gbagada gbagada lagos</td>\n",
              "      <td>ifako</td>\n",
              "      <td>3 bed 3 bath 4 toilet</td>\n",
              "      <td>3</td>\n",
              "      <td>3</td>\n",
              "      <td>4</td>\n",
              "      <td>3 bedroom Self Contain Flat / Apartment for re...</td>\n",
              "      <td>3 bedroom Self Contain Flat / Apartment for re...</td>\n",
              "      <td>1600000</td>\n",
              "    </tr>\n",
              "    <tr>\n",
              "      <th>6</th>\n",
              "      <td>1</td>\n",
              "      <td>odo-eran iyana orowo gbagada oworonshoki gbaga...</td>\n",
              "      <td>odoeran iyana orowo</td>\n",
              "      <td>2 bed 2 bath 3 toilet</td>\n",
              "      <td>2</td>\n",
              "      <td>2</td>\n",
              "      <td>3</td>\n",
              "      <td>Newly built two bedroom flat with all rooms en...</td>\n",
              "      <td>Newly built two bedroom flat with all rooms en...</td>\n",
              "      <td>550000</td>\n",
              "    </tr>\n",
              "    <tr>\n",
              "      <th>7</th>\n",
              "      <td>1</td>\n",
              "      <td>after deperlife church gbagada lagos</td>\n",
              "      <td>after deperlife church</td>\n",
              "      <td>1 bed 1 bath 1 toilet</td>\n",
              "      <td>1</td>\n",
              "      <td>1</td>\n",
              "      <td>1</td>\n",
              "      <td>Mini flat (1bedroom Apartment with kitchen toi...</td>\n",
              "      <td>Mini flat (1bedroom Apartment with kitchen toi...</td>\n",
              "      <td>450000</td>\n",
              "    </tr>\n",
              "    <tr>\n",
              "      <th>8</th>\n",
              "      <td>1</td>\n",
              "      <td>soluyi gbagada lagos</td>\n",
              "      <td>soluyi</td>\n",
              "      <td>1 bed 1 bath 1 toilet</td>\n",
              "      <td>1</td>\n",
              "      <td>1</td>\n",
              "      <td>1</td>\n",
              "      <td>Mini flat with kitchen and prepaid metre plus ...</td>\n",
              "      <td>Mini flat with kitchen and prepaid metre plus ...</td>\n",
              "      <td>450000</td>\n",
              "    </tr>\n",
              "    <tr>\n",
              "      <th>9</th>\n",
              "      <td>1</td>\n",
              "      <td>off gbagada phase2 estate, gbagada, phase 2 gb...</td>\n",
              "      <td>off</td>\n",
              "      <td>2 bed 3 bath 3 toilet</td>\n",
              "      <td>2</td>\n",
              "      <td>3</td>\n",
              "      <td>3</td>\n",
              "      <td>A newly built classical luxuriously built 2bed...</td>\n",
              "      <td>A newly built classical luxuriously built 2bed...</td>\n",
              "      <td>1300000</td>\n",
              "    </tr>\n",
              "  </tbody>\n",
              "</table>\n",
              "</div>"
            ],
            "text/plain": [
              "   page  ...     price\n",
              "0     1  ...    450000\n",
              "1     1  ...   1500000\n",
              "2     1  ...    800000\n",
              "3     1  ...   1000000\n",
              "4     1  ...   1800000\n",
              "5     1  ...   1600000\n",
              "6     1  ...    550000\n",
              "7     1  ...    450000\n",
              "8     1  ...    450000\n",
              "9     1  ...   1300000\n",
              "\n",
              "[10 rows x 10 columns]"
            ]
          },
          "metadata": {
            "tags": []
          },
          "execution_count": 57
        }
      ]
    },
    {
      "cell_type": "code",
      "metadata": {
        "id": "ooN2rMQp9L_f",
        "colab_type": "code",
        "colab": {
          "base_uri": "https://localhost:8080/",
          "height": 34
        },
        "outputId": "a36a2c2a-83bc-4565-bf30-4a2df093d31e"
      },
      "source": [
        "sum(ld.apply(lambda x: sum(x.isnull().values), axis = 0)>0)"
      ],
      "execution_count": 58,
      "outputs": [
        {
          "output_type": "execute_result",
          "data": {
            "text/plain": [
              "9"
            ]
          },
          "metadata": {
            "tags": []
          },
          "execution_count": 58
        }
      ]
    },
    {
      "cell_type": "code",
      "metadata": {
        "id": "-M-kABtz93mW",
        "colab_type": "code",
        "colab": {}
      },
      "source": [
        "#removing all null values\n",
        "ld = ld.dropna(how='any',axis=0) "
      ],
      "execution_count": 0,
      "outputs": []
    },
    {
      "cell_type": "code",
      "metadata": {
        "id": "X7wO22ae99Nv",
        "colab_type": "code",
        "colab": {
          "base_uri": "https://localhost:8080/",
          "height": 204
        },
        "outputId": "89f96c94-3db3-4e78-a539-1d8dc102bc8a"
      },
      "source": [
        "#checking for null values\n",
        "ld.isnull().sum()"
      ],
      "execution_count": 60,
      "outputs": [
        {
          "output_type": "execute_result",
          "data": {
            "text/plain": [
              "page                 0\n",
              "location             0\n",
              "specific_location    0\n",
              "features             0\n",
              "bedrooms             0\n",
              "bathrooms            0\n",
              "toilets              0\n",
              "description          0\n",
              "other_description    0\n",
              "price                0\n",
              "dtype: int64"
            ]
          },
          "metadata": {
            "tags": []
          },
          "execution_count": 60
        }
      ]
    },
    {
      "cell_type": "code",
      "metadata": {
        "id": "ZJOiTAMJ-nFw",
        "colab_type": "code",
        "colab": {}
      },
      "source": [
        "#ld['location'] = ld['location'].str.extract(r'(gbagada|ikeja|surulere|ogba|iyana ipaja|lekki|ajah|ikorodu)').map({'gbagada':'gbagada','ikeja':'ikeja','ogba':'ogba','iyana ipaja':'iyana ipaja','lekki':'lekki','ajah':'ajah','ikorodu':'ikorodu'})"
      ],
      "execution_count": 0,
      "outputs": []
    },
    {
      "cell_type": "code",
      "metadata": {
        "id": "UbH9o62AF41U",
        "colab_type": "code",
        "colab": {
          "base_uri": "https://localhost:8080/",
          "height": 802
        },
        "outputId": "e4cc95c8-26ed-4497-9db0-c1b9ed643993"
      },
      "source": [
        "ld[\"location\"][ld['location'].str.contains(\"gbagada\")] =\"gbagada\"\n",
        "ld[\"location\"][ld['location'].str.contains(\"ikeja\")] =\"ikeja\"\n",
        "ld[\"location\"][ld['location'].str.contains(\"iyana ipaja\")] =\"iyana ipaja\"\n",
        "ld[\"location\"][ld['location'].str.contains(\"surulere\")] =\"surulere\"\n",
        "ld[\"location\"][ld['location'].str.contains(\"ogba\")] =\"ogba\"\n",
        "ld[\"location\"][ld['location'].str.contains(\"lekki\")] =\"lekki\"\n",
        "ld[\"location\"][ld['location'].str.contains(\"ajah\")] =\"ajah\"\n",
        "ld[\"location\"][ld['location'].str.contains(\"ikorodu\")] =\"ikorodu\""
      ],
      "execution_count": 61,
      "outputs": [
        {
          "output_type": "stream",
          "text": [
            "/usr/local/lib/python3.6/dist-packages/ipykernel_launcher.py:1: SettingWithCopyWarning: \n",
            "A value is trying to be set on a copy of a slice from a DataFrame\n",
            "\n",
            "See the caveats in the documentation: https://pandas.pydata.org/pandas-docs/stable/user_guide/indexing.html#returning-a-view-versus-a-copy\n",
            "  \"\"\"Entry point for launching an IPython kernel.\n",
            "/usr/local/lib/python3.6/dist-packages/pandas/core/generic.py:8765: SettingWithCopyWarning: \n",
            "A value is trying to be set on a copy of a slice from a DataFrame\n",
            "\n",
            "See the caveats in the documentation: https://pandas.pydata.org/pandas-docs/stable/user_guide/indexing.html#returning-a-view-versus-a-copy\n",
            "  self._update_inplace(new_data)\n",
            "/usr/local/lib/python3.6/dist-packages/ipykernel_launcher.py:2: SettingWithCopyWarning: \n",
            "A value is trying to be set on a copy of a slice from a DataFrame\n",
            "\n",
            "See the caveats in the documentation: https://pandas.pydata.org/pandas-docs/stable/user_guide/indexing.html#returning-a-view-versus-a-copy\n",
            "  \n",
            "/usr/local/lib/python3.6/dist-packages/ipykernel_launcher.py:3: SettingWithCopyWarning: \n",
            "A value is trying to be set on a copy of a slice from a DataFrame\n",
            "\n",
            "See the caveats in the documentation: https://pandas.pydata.org/pandas-docs/stable/user_guide/indexing.html#returning-a-view-versus-a-copy\n",
            "  This is separate from the ipykernel package so we can avoid doing imports until\n",
            "/usr/local/lib/python3.6/dist-packages/ipykernel_launcher.py:4: SettingWithCopyWarning: \n",
            "A value is trying to be set on a copy of a slice from a DataFrame\n",
            "\n",
            "See the caveats in the documentation: https://pandas.pydata.org/pandas-docs/stable/user_guide/indexing.html#returning-a-view-versus-a-copy\n",
            "  after removing the cwd from sys.path.\n",
            "/usr/local/lib/python3.6/dist-packages/ipykernel_launcher.py:5: SettingWithCopyWarning: \n",
            "A value is trying to be set on a copy of a slice from a DataFrame\n",
            "\n",
            "See the caveats in the documentation: https://pandas.pydata.org/pandas-docs/stable/user_guide/indexing.html#returning-a-view-versus-a-copy\n",
            "  \"\"\"\n",
            "/usr/local/lib/python3.6/dist-packages/ipykernel_launcher.py:6: SettingWithCopyWarning: \n",
            "A value is trying to be set on a copy of a slice from a DataFrame\n",
            "\n",
            "See the caveats in the documentation: https://pandas.pydata.org/pandas-docs/stable/user_guide/indexing.html#returning-a-view-versus-a-copy\n",
            "  \n",
            "/usr/local/lib/python3.6/dist-packages/ipykernel_launcher.py:7: SettingWithCopyWarning: \n",
            "A value is trying to be set on a copy of a slice from a DataFrame\n",
            "\n",
            "See the caveats in the documentation: https://pandas.pydata.org/pandas-docs/stable/user_guide/indexing.html#returning-a-view-versus-a-copy\n",
            "  import sys\n",
            "/usr/local/lib/python3.6/dist-packages/ipykernel_launcher.py:8: SettingWithCopyWarning: \n",
            "A value is trying to be set on a copy of a slice from a DataFrame\n",
            "\n",
            "See the caveats in the documentation: https://pandas.pydata.org/pandas-docs/stable/user_guide/indexing.html#returning-a-view-versus-a-copy\n",
            "  \n"
          ],
          "name": "stderr"
        }
      ]
    },
    {
      "cell_type": "code",
      "metadata": {
        "id": "uaaKHYHrHA9P",
        "colab_type": "code",
        "colab": {
          "base_uri": "https://localhost:8080/",
          "height": 221
        },
        "outputId": "d8366444-3030-4e1b-9423-cd070c4d4a2a"
      },
      "source": [
        "#testing the values\n",
        "ld['location'][ld['location']=='ogba']"
      ],
      "execution_count": 62,
      "outputs": [
        {
          "output_type": "execute_result",
          "data": {
            "text/plain": [
              "1673    ogba\n",
              "1675    ogba\n",
              "1676    ogba\n",
              "1679    ogba\n",
              "1680    ogba\n",
              "        ... \n",
              "1790    ogba\n",
              "4994    ogba\n",
              "5001    ogba\n",
              "5111    ogba\n",
              "5113    ogba\n",
              "Name: location, Length: 97, dtype: object"
            ]
          },
          "metadata": {
            "tags": []
          },
          "execution_count": 62
        }
      ]
    },
    {
      "cell_type": "code",
      "metadata": {
        "id": "Mk903KXbH0wa",
        "colab_type": "code",
        "colab": {
          "base_uri": "https://localhost:8080/",
          "height": 513
        },
        "outputId": "252b4953-9877-4347-f04c-ff0cb0722587"
      },
      "source": [
        "ld.head()"
      ],
      "execution_count": 63,
      "outputs": [
        {
          "output_type": "execute_result",
          "data": {
            "text/html": [
              "<div>\n",
              "<style scoped>\n",
              "    .dataframe tbody tr th:only-of-type {\n",
              "        vertical-align: middle;\n",
              "    }\n",
              "\n",
              "    .dataframe tbody tr th {\n",
              "        vertical-align: top;\n",
              "    }\n",
              "\n",
              "    .dataframe thead th {\n",
              "        text-align: right;\n",
              "    }\n",
              "</style>\n",
              "<table border=\"1\" class=\"dataframe\">\n",
              "  <thead>\n",
              "    <tr style=\"text-align: right;\">\n",
              "      <th></th>\n",
              "      <th>page</th>\n",
              "      <th>location</th>\n",
              "      <th>specific_location</th>\n",
              "      <th>features</th>\n",
              "      <th>bedrooms</th>\n",
              "      <th>bathrooms</th>\n",
              "      <th>toilets</th>\n",
              "      <th>description</th>\n",
              "      <th>other_description</th>\n",
              "      <th>price</th>\n",
              "    </tr>\n",
              "  </thead>\n",
              "  <tbody>\n",
              "    <tr>\n",
              "      <th>0</th>\n",
              "      <td>1</td>\n",
              "      <td>gbagada</td>\n",
              "      <td></td>\n",
              "      <td>1 bed 1 bath  toilet</td>\n",
              "      <td>1</td>\n",
              "      <td>1</td>\n",
              "      <td></td>\n",
              "      <td>1 bedroom mini flat Mini flat Flat / Apartment...</td>\n",
              "      <td>1 bedroom mini flat Mini flat Flat / Apartment...</td>\n",
              "      <td>450000</td>\n",
              "    </tr>\n",
              "    <tr>\n",
              "      <th>1</th>\n",
              "      <td>1</td>\n",
              "      <td>gbagada</td>\n",
              "      <td>phase 2</td>\n",
              "      <td>3 bed 3 bath 4 toilet</td>\n",
              "      <td>3</td>\n",
              "      <td>3</td>\n",
              "      <td>4</td>\n",
              "      <td>3 bedroom flat upstairs apartment ... ...</td>\n",
              "      <td>3 bedroom flat upstairs apartment ... ...</td>\n",
              "      <td>1500000</td>\n",
              "    </tr>\n",
              "    <tr>\n",
              "      <th>2</th>\n",
              "      <td>1</td>\n",
              "      <td>gbagada</td>\n",
              "      <td>ifako</td>\n",
              "      <td>2 bed 2 bath 2 toilet</td>\n",
              "      <td>2</td>\n",
              "      <td>2</td>\n",
              "      <td>2</td>\n",
              "      <td>Decent 2 bedrooms ground flat in a block of 4,...</td>\n",
              "      <td>Decent 2 bedrooms ground flat in a block of 4,...</td>\n",
              "      <td>800000</td>\n",
              "    </tr>\n",
              "    <tr>\n",
              "      <th>3</th>\n",
              "      <td>1</td>\n",
              "      <td>gbagada</td>\n",
              "      <td>ifako ifako</td>\n",
              "      <td>2 bed 2 bath 3 toilet</td>\n",
              "      <td>2</td>\n",
              "      <td>2</td>\n",
              "      <td>3</td>\n",
              "      <td>2 bedroom apartment in a block of 4, upstairs ...</td>\n",
              "      <td>2 bedroom apartment in a block of 4, upstairs ...</td>\n",
              "      <td>1000000</td>\n",
              "    </tr>\n",
              "    <tr>\n",
              "      <th>4</th>\n",
              "      <td>1</td>\n",
              "      <td>gbagada</td>\n",
              "      <td>millenuim ups</td>\n",
              "      <td>3 bed 3 bath 4 toilet</td>\n",
              "      <td>3</td>\n",
              "      <td>3</td>\n",
              "      <td>4</td>\n",
              "      <td>two tenants in the compound ... Security. Park...</td>\n",
              "      <td>two tenants in the compound ... Security. Park...</td>\n",
              "      <td>1800000</td>\n",
              "    </tr>\n",
              "  </tbody>\n",
              "</table>\n",
              "</div>"
            ],
            "text/plain": [
              "   page location  ...                                  other_description     price\n",
              "0     1  gbagada  ...  1 bedroom mini flat Mini flat Flat / Apartment...    450000\n",
              "1     1  gbagada  ...          3 bedroom flat upstairs apartment ... ...   1500000\n",
              "2     1  gbagada  ...  Decent 2 bedrooms ground flat in a block of 4,...    800000\n",
              "3     1  gbagada  ...  2 bedroom apartment in a block of 4, upstairs ...   1000000\n",
              "4     1  gbagada  ...  two tenants in the compound ... Security. Park...   1800000\n",
              "\n",
              "[5 rows x 10 columns]"
            ]
          },
          "metadata": {
            "tags": []
          },
          "execution_count": 63
        }
      ]
    }
  ]
}