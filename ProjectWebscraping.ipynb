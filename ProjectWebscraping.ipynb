{
  "nbformat": 4,
  "nbformat_minor": 0,
  "metadata": {
    "kernelspec": {
      "display_name": "Python 3",
      "language": "python",
      "name": "python3"
    },
    "language_info": {
      "codemirror_mode": {
        "name": "ipython",
        "version": 3
      },
      "file_extension": ".py",
      "mimetype": "text/x-python",
      "name": "python",
      "nbconvert_exporter": "python",
      "pygments_lexer": "ipython3",
      "version": "3.7.1"
    },
    "colab": {
      "name": "ProjectWebscraping.ipynb",
      "provenance": [],
      "include_colab_link": true
    }
  },
  "cells": [
    {
      "cell_type": "markdown",
      "metadata": {
        "id": "view-in-github",
        "colab_type": "text"
      },
      "source": [
        "<a href=\"https://colab.research.google.com/github/Ayanlola2002/DATA-SCIENCE-PROJECTS/blob/master/ProjectWebscraping.ipynb\" target=\"_parent\"><img src=\"https://colab.research.google.com/assets/colab-badge.svg\" alt=\"Open In Colab\"/></a>"
      ]
    },
    {
      "cell_type": "markdown",
      "metadata": {
        "id": "qzemvf-YlRtB",
        "colab_type": "text"
      },
      "source": [
        "### Web Scraping 101 "
      ]
    },
    {
      "cell_type": "markdown",
      "metadata": {
        "id": "r0zmq0sGlRtE",
        "colab_type": "text"
      },
      "source": [
        "#### Kindly ensure you have the legal rights to scrape and use data from a site before doing so. Propertypro is more flexible about this as seen in the terms and conditions page however Nigeria Property center is not. Check below for more: \n",
        "\n",
        "#### https://www.propertypro.ng/terms\n",
        "#### https://nigeriapropertycentre.com/terms-of-use "
      ]
    },
    {
      "cell_type": "markdown",
      "metadata": {
        "id": "Y691Nov7lRtG",
        "colab_type": "text"
      },
      "source": [
        "."
      ]
    },
    {
      "cell_type": "markdown",
      "metadata": {
        "id": "w0gbQZSklRtH",
        "colab_type": "text"
      },
      "source": [
        "#### Import Beautiful Soup for scraping, requests for making request to a website and re for regular expressions"
      ]
    },
    {
      "cell_type": "code",
      "metadata": {
        "id": "Q_zCU5XolRtI",
        "colab_type": "code",
        "colab": {}
      },
      "source": [
        "import requests, re\n",
        "from bs4 import BeautifulSoup"
      ],
      "execution_count": 0,
      "outputs": []
    },
    {
      "cell_type": "markdown",
      "metadata": {
        "id": "5B1tcnkElRtQ",
        "colab_type": "text"
      },
      "source": [
        "#### Make a request to the website and extract its content (page source)"
      ]
    },
    {
      "cell_type": "code",
      "metadata": {
        "id": "OjZGXXh5lRtR",
        "colab_type": "code",
        "colab": {}
      },
      "source": [
        "r=requests.get(\"https://www.propertypro.ng/property-for-rent?search=gbagada\")\n",
        "c=r.content"
      ],
      "execution_count": 0,
      "outputs": []
    },
    {
      "cell_type": "markdown",
      "metadata": {
        "id": "mNOim4IqlRtV",
        "colab_type": "text"
      },
      "source": [
        "#### Parse the page source using the Beautiful soup HTML parser\n",
        "#### Find all property features on the page"
      ]
    },
    {
      "cell_type": "code",
      "metadata": {
        "id": "1Of1xvijlRtW",
        "colab_type": "code",
        "colab": {}
      },
      "source": [
        "soup=BeautifulSoup(c,\"html.parser\")\n",
        "\n",
        "real=soup.find_all(\"div\",{\"class\":\"prop-features\"})"
      ],
      "execution_count": 0,
      "outputs": []
    },
    {
      "cell_type": "markdown",
      "metadata": {
        "id": "z1oRiOl0lRtb",
        "colab_type": "text"
      },
      "source": [
        "#### Collect property features on the page.For this add the index of the feature at the end of the code e.g. [0] for bed, [2] for bath.\n",
        "#### This first method is not ideal because the location of the specific feature might change "
      ]
    },
    {
      "cell_type": "code",
      "metadata": {
        "id": "zcctiuyTlRtc",
        "colab_type": "code",
        "outputId": "aca2eb61-7c3b-482e-bec8-11db1f6ec2bc",
        "colab": {
          "base_uri": "https://localhost:8080/",
          "height": 34
        }
      },
      "source": [
        "real[0].get_text().strip().split()"
      ],
      "execution_count": 119,
      "outputs": [
        {
          "output_type": "execute_result",
          "data": {
            "text/plain": [
              "['3', 'bed', '3', 'bath', '4', 'toilet']"
            ]
          },
          "metadata": {
            "tags": []
          },
          "execution_count": 119
        }
      ]
    },
    {
      "cell_type": "markdown",
      "metadata": {
        "id": "v_oJJstElRtj",
        "colab_type": "text"
      },
      "source": [
        "#### This second method uses regular expressions and is a better way to collect feature information, because it checks for the feature before collecting. If the feature does not exist it will give a none. For more on regular expressions check https://www.w3schools.com/python/python_regex.asp "
      ]
    },
    {
      "cell_type": "code",
      "metadata": {
        "id": "Yu8r0MNylRtk",
        "colab_type": "code",
        "outputId": "6f53d00c-a6cb-4736-b246-59df7d548573",
        "colab": {
          "base_uri": "https://localhost:8080/",
          "height": 34
        }
      },
      "source": [
        "re.findall(\"..bath\",real[0].get_text().strip())#[0][0]"
      ],
      "execution_count": 120,
      "outputs": [
        {
          "output_type": "execute_result",
          "data": {
            "text/plain": [
              "['3 bath']"
            ]
          },
          "metadata": {
            "tags": []
          },
          "execution_count": 120
        }
      ]
    },
    {
      "cell_type": "markdown",
      "metadata": {
        "id": "Y3i7oQ3VlRtq",
        "colab_type": "text"
      },
      "source": [
        "#### You can change div and class below to search for something else. "
      ]
    },
    {
      "cell_type": "code",
      "metadata": {
        "id": "Na1fwAgKlRtr",
        "colab_type": "code",
        "colab": {}
      },
      "source": [
        "real=soup.find_all(\"div\",{\"class\":\"prop-features\"})"
      ],
      "execution_count": 0,
      "outputs": []
    },
    {
      "cell_type": "code",
      "metadata": {
        "id": "JbnuFgTjlRtw",
        "colab_type": "code",
        "colab": {}
      },
      "source": [
        ""
      ],
      "execution_count": 0,
      "outputs": []
    },
    {
      "cell_type": "markdown",
      "metadata": {
        "id": "vYryueHilRt0",
        "colab_type": "text"
      },
      "source": [
        "#### Websites typically have a structure which allows for easy automation. For example location and page number can eaasily be changed and the website will respond accordingly. Try changing the location below and page number to surulere and page 2 respectively."
      ]
    },
    {
      "cell_type": "code",
      "metadata": {
        "id": "Tal7dRe4lRt1",
        "colab_type": "code",
        "colab": {}
      },
      "source": [
        "#https://www.propertypro.ng/property-for-rent?search=gbagada&page=1"
      ],
      "execution_count": 0,
      "outputs": []
    },
    {
      "cell_type": "markdown",
      "metadata": {
        "id": "rBeiwL9WlRt6",
        "colab_type": "text"
      },
      "source": [
        "#### There is a slight challenge from above. You will need to get the total number of pages. This can be calculated using total number of items divided by number of listing on each page. The listing is written within a paragraph of text so this has to be extracted using regular expressions. "
      ]
    },
    {
      "cell_type": "code",
      "metadata": {
        "id": "LoxTyodtlRt6",
        "colab_type": "code",
        "outputId": "2b2d56e3-fa15-49c4-91bd-5d18c6a927a3",
        "colab": {
          "base_uri": "https://localhost:8080/",
          "height": 34
        }
      },
      "source": [
        "items = int(re.findall(\"\\d+\",soup.find_all(\"div\",{\"class\":\"jumbotron m-hide\"})[0].text.split(\"total of\")[1][:6].replace(\",\",\"\").strip())[0])\n",
        "listings = 20\n",
        "page_nr = int(items/listings)\n",
        "page_nr"
      ],
      "execution_count": 123,
      "outputs": [
        {
          "output_type": "execute_result",
          "data": {
            "text/plain": [
              "31"
            ]
          },
          "metadata": {
            "tags": []
          },
          "execution_count": 123
        }
      ]
    },
    {
      "cell_type": "markdown",
      "metadata": {
        "id": "mW_b0abBlRuG",
        "colab_type": "text"
      },
      "source": [
        "#### This is the full code below, the first for loop is used to extract the details on a page, the second is to extract across multiple pages while the last is to extract across locations. Please as indicated in the instructions, do not scrape multiple locations or pages until off peak hours (>6pm) to avoid overloading the site."
      ]
    },
    {
      "cell_type": "code",
      "metadata": {
        "id": "e54y9ldplRuH",
        "colab_type": "code",
        "colab": {}
      },
      "source": [
        "l=[]\n",
        "location = [\"gbagada\",\"ikeja\",\"surulere\",\"ikeja\",\"ogba\",\"iyana ipaja\",\"lekki\",\"ajah\",\"ikorodu\"]\n",
        "\n",
        "\n",
        "for place in location:\n",
        "    base_url=\"https://www.propertypro.ng/property-for-rent?search=\"+place+ \"&auto=&type=&bedroom=&max_price=\"\n",
        "    r=requests.get(base_url+\".html\")\n",
        "    c=r.content\n",
        "    soup=BeautifulSoup(c,\"html.parser\")\n",
        "\n",
        "    items = int(re.findall(\"\\d+\",soup.find_all(\"div\",{\"class\":\"jumbotron m-hide\"})[0].text.split(\"total of\")[1][:6].replace(\",\",\"\").strip())[0])\n",
        "    listings = 20 #This can be edited back to 20 items as stated on site. However your code will take a while to run\n",
        "    page_nr = int(items/listings)\n",
        "    \n",
        "    #base_url=\"https://www.propertypro.ng/property-for-rent?search=\"+place+ \"&auto=&type=&bedroom=&max_price=\"\n",
        "    for page in range(1,int(page_nr),1):\n",
        "\n",
        "        r=requests.get(base_url+\".html\"+\"&page=\"+str(page))\n",
        "        c=r.content\n",
        "\n",
        "        soup=BeautifulSoup(c,\"html.parser\")\n",
        "        \n",
        "        classes = [\"col-lg-6 col-md-6 col-sm-6 col-xs-12 prop-meta-data\",\"col-lg-8 col-md-8 col-sm-7 col-xs-12 prop-meta-data text-left\",\n",
        "                   \"col-lg-9 col-md-9 col-sm-12 col-xs-12 main-listing-cont\"]\n",
        "        for class_ in classes:\n",
        "            real=soup.find_all(\"div\",{\"class\":class_})\n",
        "\n",
        "            for i in list(range(0,len(real))):\n",
        "                d={}\n",
        "                d['page']= page\n",
        "                try:\n",
        "                    d[\"location\"] = real[i].find(\"h3\",{\"class\":\"pro-location\"}).text.strip()\n",
        "                except (IndexError,TypeError,AttributeError):\n",
        "                    d[\"location\"] = None\n",
        "                try:\n",
        "                    d[\"specific_location\"] = real[i].find(\"h3\",{\"class\":\"pro-location\"}).text.strip().split(\"gbagada\")[0].replace(\"-\",\"\").strip()\n",
        "                except(IndexError,TypeError,AttributeError):\n",
        "                    d['specific_location'] = None\n",
        "                try:\n",
        "                    d[\"features\"]=real[i].find(\"span\",{\"class\":\"prop-aminities float-left\"}).text.strip()  \n",
        "                except (AttributeError,IndexError) as e:\n",
        "                    d[\"features\"]= None\n",
        "                try:\n",
        "                    d[\"bedrooms\"]= re.findall(\"..bed\",real[i].find(\"span\",{\"class\":\"prop-aminities float-left\"}).text.strip())[0][0]\n",
        "                except (IndexError,TypeError,AttributeError) as e:\n",
        "                    d[\"bedrooms\"]= None \n",
        "                try:\n",
        "                    d[\"bathrooms\"]= re.findall(\"..bath\",real[i].find(\"span\",{\"class\":\"prop-aminities float-left\"}).text.strip())[0][0]\n",
        "                except (IndexError,TypeError,AttributeError) as e:\n",
        "                    d[\"bathrooms\"]= None\n",
        "                try:\n",
        "                    d[\"toilets\"]= re.findall(\"..toilet\",real[i].find(\"span\",{\"class\":\"prop-aminities float-left\"}).text.strip())[0][0]\n",
        "                except (IndexError,TypeError,AttributeError) as e:\n",
        "                    d[\"toilets\"]=None\n",
        "                try:\n",
        "                    d[\"description\"]=real[i].find(\"p\",{\"class\":\"pro-description\"}).text.strip()\n",
        "                except (IndexError,TypeError,AttributeError) as e:\n",
        "                    d[\"description\"]= None\n",
        "                try:\n",
        "                    d[\"other_description\"]=real[i].find(\"p\",{\"class\":\"pro-description readmore\"}).text.strip()\n",
        "                except (IndexError,TypeError,AttributeError) as e:\n",
        "                    d[\"other_description\"]= None     \n",
        "                \n",
        "                try:\n",
        "                    d[\"price\"]=real[i].find(\"p\",{\"class\":\"prop-price\"}).text.strip().replace(\"₦\",\"\").replace(\",\",\"\")\n",
        "                except (IndexError,TypeError,AttributeError) as e:\n",
        "                    d[\"price\"] = None\n",
        "                l.append(d)\n",
        "                #print(l)\n",
        "                #print(\" \""
      ],
      "execution_count": 0,
      "outputs": []
    },
    {
      "cell_type": "markdown",
      "metadata": {
        "id": "NAHQ_ApTlRuL",
        "colab_type": "text"
      },
      "source": [
        "#### Convert output to dataframe"
      ]
    },
    {
      "cell_type": "code",
      "metadata": {
        "id": "4xZY_XcelRuM",
        "colab_type": "code",
        "outputId": "e246012f-00f6-48ec-9e54-cf8d08a3fc91",
        "colab": {
          "base_uri": "https://localhost:8080/",
          "height": 762
        }
      },
      "source": [
        "import pandas as pd\n",
        "ld = pd.DataFrame(l)\n",
        "ld"
      ],
      "execution_count": 125,
      "outputs": [
        {
          "output_type": "execute_result",
          "data": {
            "text/html": [
              "<div>\n",
              "<style scoped>\n",
              "    .dataframe tbody tr th:only-of-type {\n",
              "        vertical-align: middle;\n",
              "    }\n",
              "\n",
              "    .dataframe tbody tr th {\n",
              "        vertical-align: top;\n",
              "    }\n",
              "\n",
              "    .dataframe thead th {\n",
              "        text-align: right;\n",
              "    }\n",
              "</style>\n",
              "<table border=\"1\" class=\"dataframe\">\n",
              "  <thead>\n",
              "    <tr style=\"text-align: right;\">\n",
              "      <th></th>\n",
              "      <th>page</th>\n",
              "      <th>location</th>\n",
              "      <th>specific_location</th>\n",
              "      <th>features</th>\n",
              "      <th>bedrooms</th>\n",
              "      <th>bathrooms</th>\n",
              "      <th>toilets</th>\n",
              "      <th>description</th>\n",
              "      <th>other_description</th>\n",
              "      <th>price</th>\n",
              "    </tr>\n",
              "  </thead>\n",
              "  <tbody>\n",
              "    <tr>\n",
              "      <th>0</th>\n",
              "      <td>1</td>\n",
              "      <td>ifako josland area ifako gbagada gbagada lagos</td>\n",
              "      <td>ifako josland area ifako</td>\n",
              "      <td>2 bed 2 bath 3 toilet</td>\n",
              "      <td>2</td>\n",
              "      <td>2</td>\n",
              "      <td>3</td>\n",
              "      <td>2 bedroom Flat / Apartment for rent Ifako josl...</td>\n",
              "      <td>2 bedroom Flat / Apartment for rent Ifako josl...</td>\n",
              "      <td>750000</td>\n",
              "    </tr>\n",
              "    <tr>\n",
              "      <th>1</th>\n",
              "      <td>1</td>\n",
              "      <td>sosanya soluyi gbagada lagos</td>\n",
              "      <td>sosanya soluyi</td>\n",
              "      <td>3 bed 2 bath 3 toilet</td>\n",
              "      <td>3</td>\n",
              "      <td>2</td>\n",
              "      <td>3</td>\n",
              "      <td>3 bedroom Flat / Apartment for rent Sosanya So...</td>\n",
              "      <td>3 bedroom Flat / Apartment for rent Sosanya So...</td>\n",
              "      <td>850000</td>\n",
              "    </tr>\n",
              "    <tr>\n",
              "      <th>2</th>\n",
              "      <td>1</td>\n",
              "      <td>medina gbagada lagos</td>\n",
              "      <td>medina</td>\n",
              "      <td>3 bed 3 bath 4 toilet</td>\n",
              "      <td>3</td>\n",
              "      <td>3</td>\n",
              "      <td>4</td>\n",
              "      <td>3 bedroom Flat / Apartment for rent Medina Gba...</td>\n",
              "      <td>3 bedroom Flat / Apartment for rent Medina Gba...</td>\n",
              "      <td>1500000</td>\n",
              "    </tr>\n",
              "    <tr>\n",
              "      <th>3</th>\n",
              "      <td>1</td>\n",
              "      <td>alapere gbagada lagos</td>\n",
              "      <td>alapere</td>\n",
              "      <td>2 bed 2 bath 2 toilet</td>\n",
              "      <td>2</td>\n",
              "      <td>2</td>\n",
              "      <td>2</td>\n",
              "      <td>2bed at Alapere, all rooms ensuit ... ...</td>\n",
              "      <td>2bed at Alapere, all rooms ensuit ... ...</td>\n",
              "      <td>600000</td>\n",
              "    </tr>\n",
              "    <tr>\n",
              "      <th>4</th>\n",
              "      <td>1</td>\n",
              "      <td>millenuim ups gbagada lagos</td>\n",
              "      <td>millenuim ups</td>\n",
              "      <td>1 bed 1 bath 1 toilet</td>\n",
              "      <td>1</td>\n",
              "      <td>1</td>\n",
              "      <td>1</td>\n",
              "      <td>1 bedroom mini flat Mini flat Flat / Apartment...</td>\n",
              "      <td>1 bedroom mini flat Mini flat Flat / Apartment...</td>\n",
              "      <td>650000</td>\n",
              "    </tr>\n",
              "    <tr>\n",
              "      <th>...</th>\n",
              "      <td>...</td>\n",
              "      <td>...</td>\n",
              "      <td>...</td>\n",
              "      <td>...</td>\n",
              "      <td>...</td>\n",
              "      <td>...</td>\n",
              "      <td>...</td>\n",
              "      <td>...</td>\n",
              "      <td>...</td>\n",
              "      <td>...</td>\n",
              "    </tr>\n",
              "    <tr>\n",
              "      <th>5205</th>\n",
              "      <td>11</td>\n",
              "      <td>None</td>\n",
              "      <td>None</td>\n",
              "      <td>None</td>\n",
              "      <td>None</td>\n",
              "      <td>None</td>\n",
              "      <td>None</td>\n",
              "      <td>None</td>\n",
              "      <td>None</td>\n",
              "      <td>None</td>\n",
              "    </tr>\n",
              "    <tr>\n",
              "      <th>5206</th>\n",
              "      <td>12</td>\n",
              "      <td>None</td>\n",
              "      <td>None</td>\n",
              "      <td>None</td>\n",
              "      <td>None</td>\n",
              "      <td>None</td>\n",
              "      <td>None</td>\n",
              "      <td>None</td>\n",
              "      <td>None</td>\n",
              "      <td>None</td>\n",
              "    </tr>\n",
              "    <tr>\n",
              "      <th>5207</th>\n",
              "      <td>13</td>\n",
              "      <td>None</td>\n",
              "      <td>None</td>\n",
              "      <td>None</td>\n",
              "      <td>None</td>\n",
              "      <td>None</td>\n",
              "      <td>None</td>\n",
              "      <td>None</td>\n",
              "      <td>None</td>\n",
              "      <td>None</td>\n",
              "    </tr>\n",
              "    <tr>\n",
              "      <th>5208</th>\n",
              "      <td>14</td>\n",
              "      <td>None</td>\n",
              "      <td>None</td>\n",
              "      <td>None</td>\n",
              "      <td>None</td>\n",
              "      <td>None</td>\n",
              "      <td>None</td>\n",
              "      <td>None</td>\n",
              "      <td>None</td>\n",
              "      <td>None</td>\n",
              "    </tr>\n",
              "    <tr>\n",
              "      <th>5209</th>\n",
              "      <td>15</td>\n",
              "      <td>None</td>\n",
              "      <td>None</td>\n",
              "      <td>None</td>\n",
              "      <td>None</td>\n",
              "      <td>None</td>\n",
              "      <td>None</td>\n",
              "      <td>None</td>\n",
              "      <td>None</td>\n",
              "      <td>None</td>\n",
              "    </tr>\n",
              "  </tbody>\n",
              "</table>\n",
              "<p>5210 rows × 10 columns</p>\n",
              "</div>"
            ],
            "text/plain": [
              "      page  ...     price\n",
              "0        1  ...    750000\n",
              "1        1  ...    850000\n",
              "2        1  ...   1500000\n",
              "3        1  ...    600000\n",
              "4        1  ...    650000\n",
              "...    ...  ...       ...\n",
              "5205    11  ...      None\n",
              "5206    12  ...      None\n",
              "5207    13  ...      None\n",
              "5208    14  ...      None\n",
              "5209    15  ...      None\n",
              "\n",
              "[5210 rows x 10 columns]"
            ]
          },
          "metadata": {
            "tags": []
          },
          "execution_count": 125
        }
      ]
    },
    {
      "cell_type": "code",
      "metadata": {
        "id": "TWDtHIGQq9rn",
        "colab_type": "code",
        "outputId": "f2ad5b5e-230b-4fb4-e6db-c9a8195d7f69",
        "colab": {
          "base_uri": "https://localhost:8080/",
          "height": 1000
        }
      },
      "source": [
        "ld.head(10)"
      ],
      "execution_count": 126,
      "outputs": [
        {
          "output_type": "execute_result",
          "data": {
            "text/html": [
              "<div>\n",
              "<style scoped>\n",
              "    .dataframe tbody tr th:only-of-type {\n",
              "        vertical-align: middle;\n",
              "    }\n",
              "\n",
              "    .dataframe tbody tr th {\n",
              "        vertical-align: top;\n",
              "    }\n",
              "\n",
              "    .dataframe thead th {\n",
              "        text-align: right;\n",
              "    }\n",
              "</style>\n",
              "<table border=\"1\" class=\"dataframe\">\n",
              "  <thead>\n",
              "    <tr style=\"text-align: right;\">\n",
              "      <th></th>\n",
              "      <th>page</th>\n",
              "      <th>location</th>\n",
              "      <th>specific_location</th>\n",
              "      <th>features</th>\n",
              "      <th>bedrooms</th>\n",
              "      <th>bathrooms</th>\n",
              "      <th>toilets</th>\n",
              "      <th>description</th>\n",
              "      <th>other_description</th>\n",
              "      <th>price</th>\n",
              "    </tr>\n",
              "  </thead>\n",
              "  <tbody>\n",
              "    <tr>\n",
              "      <th>0</th>\n",
              "      <td>1</td>\n",
              "      <td>ifako josland area ifako gbagada gbagada lagos</td>\n",
              "      <td>ifako josland area ifako</td>\n",
              "      <td>2 bed 2 bath 3 toilet</td>\n",
              "      <td>2</td>\n",
              "      <td>2</td>\n",
              "      <td>3</td>\n",
              "      <td>2 bedroom Flat / Apartment for rent Ifako josl...</td>\n",
              "      <td>2 bedroom Flat / Apartment for rent Ifako josl...</td>\n",
              "      <td>750000</td>\n",
              "    </tr>\n",
              "    <tr>\n",
              "      <th>1</th>\n",
              "      <td>1</td>\n",
              "      <td>sosanya soluyi gbagada lagos</td>\n",
              "      <td>sosanya soluyi</td>\n",
              "      <td>3 bed 2 bath 3 toilet</td>\n",
              "      <td>3</td>\n",
              "      <td>2</td>\n",
              "      <td>3</td>\n",
              "      <td>3 bedroom Flat / Apartment for rent Sosanya So...</td>\n",
              "      <td>3 bedroom Flat / Apartment for rent Sosanya So...</td>\n",
              "      <td>850000</td>\n",
              "    </tr>\n",
              "    <tr>\n",
              "      <th>2</th>\n",
              "      <td>1</td>\n",
              "      <td>medina gbagada lagos</td>\n",
              "      <td>medina</td>\n",
              "      <td>3 bed 3 bath 4 toilet</td>\n",
              "      <td>3</td>\n",
              "      <td>3</td>\n",
              "      <td>4</td>\n",
              "      <td>3 bedroom Flat / Apartment for rent Medina Gba...</td>\n",
              "      <td>3 bedroom Flat / Apartment for rent Medina Gba...</td>\n",
              "      <td>1500000</td>\n",
              "    </tr>\n",
              "    <tr>\n",
              "      <th>3</th>\n",
              "      <td>1</td>\n",
              "      <td>alapere gbagada lagos</td>\n",
              "      <td>alapere</td>\n",
              "      <td>2 bed 2 bath 2 toilet</td>\n",
              "      <td>2</td>\n",
              "      <td>2</td>\n",
              "      <td>2</td>\n",
              "      <td>2bed at Alapere, all rooms ensuit ... ...</td>\n",
              "      <td>2bed at Alapere, all rooms ensuit ... ...</td>\n",
              "      <td>600000</td>\n",
              "    </tr>\n",
              "    <tr>\n",
              "      <th>4</th>\n",
              "      <td>1</td>\n",
              "      <td>millenuim ups gbagada lagos</td>\n",
              "      <td>millenuim ups</td>\n",
              "      <td>1 bed 1 bath 1 toilet</td>\n",
              "      <td>1</td>\n",
              "      <td>1</td>\n",
              "      <td>1</td>\n",
              "      <td>1 bedroom mini flat Mini flat Flat / Apartment...</td>\n",
              "      <td>1 bedroom mini flat Mini flat Flat / Apartment...</td>\n",
              "      <td>650000</td>\n",
              "    </tr>\n",
              "    <tr>\n",
              "      <th>5</th>\n",
              "      <td>1</td>\n",
              "      <td>gbagada lagos</td>\n",
              "      <td></td>\n",
              "      <td>1 bed 1 bath  toilet</td>\n",
              "      <td>1</td>\n",
              "      <td>1</td>\n",
              "      <td></td>\n",
              "      <td>1 bedroom mini flat Mini flat Flat / Apartment...</td>\n",
              "      <td>1 bedroom mini flat Mini flat Flat / Apartment...</td>\n",
              "      <td>450000</td>\n",
              "    </tr>\n",
              "    <tr>\n",
              "      <th>6</th>\n",
              "      <td>1</td>\n",
              "      <td>phase 2 gbagada lagos</td>\n",
              "      <td>phase 2</td>\n",
              "      <td>3 bed 3 bath 4 toilet</td>\n",
              "      <td>3</td>\n",
              "      <td>3</td>\n",
              "      <td>4</td>\n",
              "      <td>3 bedroom flat upstairs apartment ... ...</td>\n",
              "      <td>3 bedroom flat upstairs apartment ... ...</td>\n",
              "      <td>1500000</td>\n",
              "    </tr>\n",
              "    <tr>\n",
              "      <th>7</th>\n",
              "      <td>1</td>\n",
              "      <td>ifako gbagada gbagada lagos</td>\n",
              "      <td>ifako</td>\n",
              "      <td>2 bed 2 bath 2 toilet</td>\n",
              "      <td>2</td>\n",
              "      <td>2</td>\n",
              "      <td>2</td>\n",
              "      <td>Decent 2 bedrooms ground flat in a block of 4,...</td>\n",
              "      <td>Decent 2 bedrooms ground flat in a block of 4,...</td>\n",
              "      <td>800000</td>\n",
              "    </tr>\n",
              "    <tr>\n",
              "      <th>8</th>\n",
              "      <td>1</td>\n",
              "      <td>ifako ifako gbagada gbagada lagos</td>\n",
              "      <td>ifako ifako</td>\n",
              "      <td>2 bed 2 bath 3 toilet</td>\n",
              "      <td>2</td>\n",
              "      <td>2</td>\n",
              "      <td>3</td>\n",
              "      <td>2 bedroom apartment in a block of 4, upstairs ...</td>\n",
              "      <td>2 bedroom apartment in a block of 4, upstairs ...</td>\n",
              "      <td>1000000</td>\n",
              "    </tr>\n",
              "    <tr>\n",
              "      <th>9</th>\n",
              "      <td>1</td>\n",
              "      <td>millenuim ups gbagada lagos</td>\n",
              "      <td>millenuim ups</td>\n",
              "      <td>3 bed 3 bath 4 toilet</td>\n",
              "      <td>3</td>\n",
              "      <td>3</td>\n",
              "      <td>4</td>\n",
              "      <td>two tenants in the compound ... Security. Park...</td>\n",
              "      <td>two tenants in the compound ... Security. Park...</td>\n",
              "      <td>1800000</td>\n",
              "    </tr>\n",
              "  </tbody>\n",
              "</table>\n",
              "</div>"
            ],
            "text/plain": [
              "   page  ...     price\n",
              "0     1  ...    750000\n",
              "1     1  ...    850000\n",
              "2     1  ...   1500000\n",
              "3     1  ...    600000\n",
              "4     1  ...    650000\n",
              "5     1  ...    450000\n",
              "6     1  ...   1500000\n",
              "7     1  ...    800000\n",
              "8     1  ...   1000000\n",
              "9     1  ...   1800000\n",
              "\n",
              "[10 rows x 10 columns]"
            ]
          },
          "metadata": {
            "tags": []
          },
          "execution_count": 126
        }
      ]
    },
    {
      "cell_type": "code",
      "metadata": {
        "id": "ooN2rMQp9L_f",
        "colab_type": "code",
        "outputId": "d8d49ab4-bfb0-48fe-d126-f1ba0dcf69b5",
        "colab": {
          "base_uri": "https://localhost:8080/",
          "height": 34
        }
      },
      "source": [
        "sum(ld.apply(lambda x: sum(x.isnull().values), axis = 0)>0)"
      ],
      "execution_count": 127,
      "outputs": [
        {
          "output_type": "execute_result",
          "data": {
            "text/plain": [
              "9"
            ]
          },
          "metadata": {
            "tags": []
          },
          "execution_count": 127
        }
      ]
    },
    {
      "cell_type": "code",
      "metadata": {
        "id": "-M-kABtz93mW",
        "colab_type": "code",
        "colab": {}
      },
      "source": [
        "#removing all null values\n",
        "ld = ld.dropna(how='any',axis=0) "
      ],
      "execution_count": 0,
      "outputs": []
    },
    {
      "cell_type": "code",
      "metadata": {
        "id": "X7wO22ae99Nv",
        "colab_type": "code",
        "outputId": "69baf707-3f46-4f0a-d10b-99beec4663d2",
        "colab": {
          "base_uri": "https://localhost:8080/",
          "height": 204
        }
      },
      "source": [
        "#checking for null values\n",
        "ld.isnull().sum()"
      ],
      "execution_count": 129,
      "outputs": [
        {
          "output_type": "execute_result",
          "data": {
            "text/plain": [
              "page                 0\n",
              "location             0\n",
              "specific_location    0\n",
              "features             0\n",
              "bedrooms             0\n",
              "bathrooms            0\n",
              "toilets              0\n",
              "description          0\n",
              "other_description    0\n",
              "price                0\n",
              "dtype: int64"
            ]
          },
          "metadata": {
            "tags": []
          },
          "execution_count": 129
        }
      ]
    },
    {
      "cell_type": "code",
      "metadata": {
        "id": "ZJOiTAMJ-nFw",
        "colab_type": "code",
        "colab": {}
      },
      "source": [
        "#ld['location'] = ld['location'].str.extract(r'(gbagada|ikeja|surulere|ogba|iyana ipaja|lekki|ajah|ikorodu)').map({'gbagada':'gbagada','ikeja':'ikeja','ogba':'ogba','iyana ipaja':'iyana ipaja','lekki':'lekki','ajah':'ajah','ikorodu':'ikorodu'})"
      ],
      "execution_count": 0,
      "outputs": []
    },
    {
      "cell_type": "code",
      "metadata": {
        "id": "UbH9o62AF41U",
        "colab_type": "code",
        "outputId": "0ece7bda-2d92-42d9-c0a9-4759593fec60",
        "colab": {
          "base_uri": "https://localhost:8080/",
          "height": 802
        }
      },
      "source": [
        "ld[\"location\"][ld['location'].str.contains(\"gbagada\")] =\"gbagada\"\n",
        "ld[\"location\"][ld['location'].str.contains(\"ikeja\")] =\"ikeja\"\n",
        "ld[\"location\"][ld['location'].str.contains(\"iyana ipaja\")] =\"iyana ipaja\"\n",
        "ld[\"location\"][ld['location'].str.contains(\"surulere\")] =\"surulere\"\n",
        "ld[\"location\"][ld['location'].str.contains(\"ogba\")] =\"ogba\"\n",
        "ld[\"location\"][ld['location'].str.contains(\"lekki\")] =\"lekki\"\n",
        "ld[\"location\"][ld['location'].str.contains(\"ajah\")] =\"ajah\"\n",
        "ld[\"location\"][ld['location'].str.contains(\"ikorodu\")] =\"ikorodu\""
      ],
      "execution_count": 131,
      "outputs": [
        {
          "output_type": "stream",
          "text": [
            "/usr/local/lib/python3.6/dist-packages/ipykernel_launcher.py:1: SettingWithCopyWarning: \n",
            "A value is trying to be set on a copy of a slice from a DataFrame\n",
            "\n",
            "See the caveats in the documentation: https://pandas.pydata.org/pandas-docs/stable/user_guide/indexing.html#returning-a-view-versus-a-copy\n",
            "  \"\"\"Entry point for launching an IPython kernel.\n",
            "/usr/local/lib/python3.6/dist-packages/pandas/core/generic.py:8765: SettingWithCopyWarning: \n",
            "A value is trying to be set on a copy of a slice from a DataFrame\n",
            "\n",
            "See the caveats in the documentation: https://pandas.pydata.org/pandas-docs/stable/user_guide/indexing.html#returning-a-view-versus-a-copy\n",
            "  self._update_inplace(new_data)\n",
            "/usr/local/lib/python3.6/dist-packages/ipykernel_launcher.py:2: SettingWithCopyWarning: \n",
            "A value is trying to be set on a copy of a slice from a DataFrame\n",
            "\n",
            "See the caveats in the documentation: https://pandas.pydata.org/pandas-docs/stable/user_guide/indexing.html#returning-a-view-versus-a-copy\n",
            "  \n",
            "/usr/local/lib/python3.6/dist-packages/ipykernel_launcher.py:3: SettingWithCopyWarning: \n",
            "A value is trying to be set on a copy of a slice from a DataFrame\n",
            "\n",
            "See the caveats in the documentation: https://pandas.pydata.org/pandas-docs/stable/user_guide/indexing.html#returning-a-view-versus-a-copy\n",
            "  This is separate from the ipykernel package so we can avoid doing imports until\n",
            "/usr/local/lib/python3.6/dist-packages/ipykernel_launcher.py:4: SettingWithCopyWarning: \n",
            "A value is trying to be set on a copy of a slice from a DataFrame\n",
            "\n",
            "See the caveats in the documentation: https://pandas.pydata.org/pandas-docs/stable/user_guide/indexing.html#returning-a-view-versus-a-copy\n",
            "  after removing the cwd from sys.path.\n",
            "/usr/local/lib/python3.6/dist-packages/ipykernel_launcher.py:5: SettingWithCopyWarning: \n",
            "A value is trying to be set on a copy of a slice from a DataFrame\n",
            "\n",
            "See the caveats in the documentation: https://pandas.pydata.org/pandas-docs/stable/user_guide/indexing.html#returning-a-view-versus-a-copy\n",
            "  \"\"\"\n",
            "/usr/local/lib/python3.6/dist-packages/ipykernel_launcher.py:6: SettingWithCopyWarning: \n",
            "A value is trying to be set on a copy of a slice from a DataFrame\n",
            "\n",
            "See the caveats in the documentation: https://pandas.pydata.org/pandas-docs/stable/user_guide/indexing.html#returning-a-view-versus-a-copy\n",
            "  \n",
            "/usr/local/lib/python3.6/dist-packages/ipykernel_launcher.py:7: SettingWithCopyWarning: \n",
            "A value is trying to be set on a copy of a slice from a DataFrame\n",
            "\n",
            "See the caveats in the documentation: https://pandas.pydata.org/pandas-docs/stable/user_guide/indexing.html#returning-a-view-versus-a-copy\n",
            "  import sys\n",
            "/usr/local/lib/python3.6/dist-packages/ipykernel_launcher.py:8: SettingWithCopyWarning: \n",
            "A value is trying to be set on a copy of a slice from a DataFrame\n",
            "\n",
            "See the caveats in the documentation: https://pandas.pydata.org/pandas-docs/stable/user_guide/indexing.html#returning-a-view-versus-a-copy\n",
            "  \n"
          ],
          "name": "stderr"
        }
      ]
    },
    {
      "cell_type": "code",
      "metadata": {
        "id": "eoINwQWlwN-4",
        "colab_type": "code",
        "colab": {}
      },
      "source": [
        "scrapedata=ld.to_csv(\"/content/drive/My Drive/Technidus/data1.csv\",index=False)"
      ],
      "execution_count": 0,
      "outputs": []
    },
    {
      "cell_type": "code",
      "metadata": {
        "id": "2ZkPI0nlkboV",
        "colab_type": "code",
        "colab": {
          "base_uri": "https://localhost:8080/",
          "height": 54
        },
        "outputId": "b66c6ff8-0659-4cbf-c357-7d75e8ce7a4d"
      },
      "source": [
        "from google.colab import drive\n",
        "drive.mount('/content/drive')"
      ],
      "execution_count": 133,
      "outputs": [
        {
          "output_type": "stream",
          "text": [
            "Drive already mounted at /content/drive; to attempt to forcibly remount, call drive.mount(\"/content/drive\", force_remount=True).\n"
          ],
          "name": "stdout"
        }
      ]
    },
    {
      "cell_type": "code",
      "metadata": {
        "id": "V81Gs-V3_9IC",
        "colab_type": "code",
        "colab": {}
      },
      "source": [
        "from sklearn.ensemble import RandomForestClassifier\n",
        "from sklearn.ensemble import RandomForestRegressor\n",
        "from sklearn import preprocessing\n",
        "import sklearn.model_selection as ms\n",
        "#from xgboost import XGBClassifier\n",
        "#from xgboost import XGBRegressor\n",
        "#from sklearn.ensemble import GradientBoostingRegressor\n",
        "#import lightgbm as lgbm\n",
        "import sklearn.metrics as sklm\n",
        "import matplotlib.pyplot as plt\n",
        "import pandas as pd\n",
        "import numpy as np\n",
        "import warnings\n",
        "warnings.filterwarnings('ignore')\n",
        "import seaborn as sns\n",
        "%matplotlib inline"
      ],
      "execution_count": 0,
      "outputs": []
    },
    {
      "cell_type": "code",
      "metadata": {
        "id": "RwLpKBeQpCYI",
        "colab_type": "code",
        "colab": {}
      },
      "source": [
        "train = pd.read_csv(\"/content/drive/My Drive/Technidus/data1.csv\",encoding = \"ISO-8859-1\")"
      ],
      "execution_count": 0,
      "outputs": []
    },
    {
      "cell_type": "code",
      "metadata": {
        "id": "3LVhXeqJqlAC",
        "colab_type": "code",
        "colab": {
          "base_uri": "https://localhost:8080/",
          "height": 306
        },
        "outputId": "e388f385-dc76-4b41-c321-3039143e5a20"
      },
      "source": [
        "train.info()"
      ],
      "execution_count": 135,
      "outputs": [
        {
          "output_type": "stream",
          "text": [
            "<class 'pandas.core.frame.DataFrame'>\n",
            "RangeIndex: 4389 entries, 0 to 4388\n",
            "Data columns (total 10 columns):\n",
            " #   Column             Non-Null Count  Dtype \n",
            "---  ------             --------------  ----- \n",
            " 0   page               4389 non-null   int64 \n",
            " 1   location           4389 non-null   object\n",
            " 2   specific_location  4358 non-null   object\n",
            " 3   features           4389 non-null   object\n",
            " 4   bedrooms           4389 non-null   int64 \n",
            " 5   bathrooms          4389 non-null   object\n",
            " 6   toilets            4389 non-null   object\n",
            " 7   description        4389 non-null   object\n",
            " 8   other_description  4389 non-null   object\n",
            " 9   price              4389 non-null   object\n",
            "dtypes: int64(2), object(8)\n",
            "memory usage: 343.0+ KB\n"
          ],
          "name": "stdout"
        }
      ]
    },
    {
      "cell_type": "code",
      "metadata": {
        "id": "oLfy9ST_pggI",
        "colab_type": "code",
        "colab": {
          "base_uri": "https://localhost:8080/",
          "height": 204
        },
        "outputId": "1586081f-53c5-4e44-9755-d705b2e62aac"
      },
      "source": [
        "train.isnull().sum()"
      ],
      "execution_count": 136,
      "outputs": [
        {
          "output_type": "execute_result",
          "data": {
            "text/plain": [
              "page                  0\n",
              "location              0\n",
              "specific_location    31\n",
              "features              0\n",
              "bedrooms              0\n",
              "bathrooms             0\n",
              "toilets               0\n",
              "description           0\n",
              "other_description     0\n",
              "price                 0\n",
              "dtype: int64"
            ]
          },
          "metadata": {
            "tags": []
          },
          "execution_count": 136
        }
      ]
    },
    {
      "cell_type": "code",
      "metadata": {
        "id": "f-pWPeHEz_c_",
        "colab_type": "code",
        "colab": {
          "base_uri": "https://localhost:8080/",
          "height": 221
        },
        "outputId": "e07a7b58-e131-455d-ce71-c7f21a307d3d"
      },
      "source": [
        "train['specific_location'].value_counts()"
      ],
      "execution_count": 137,
      "outputs": [
        {
          "output_type": "execute_result",
          "data": {
            "text/plain": [
              "lekki phase 1 lekki lagos                                         270\n",
              "chevron lekki lagos                                                88\n",
              "osapa london lekki lagos                                           82\n",
              "lekki lagos                                                        78\n",
              "ikeja lagos                                                        78\n",
              "                                                                 ... \n",
              "awoyaya, ajah lagos                                                 1\n",
              "palm spring road ikate lekki lagos                                  1\n",
              "inside estate in ologolo opp agungi  lekki ologolo lekki lagos      1\n",
              "adeba road lakowe ajah lagos                                        1\n",
              "ologolo, ologolo lekki lagos                                        1\n",
              "Name: specific_location, Length: 1691, dtype: int64"
            ]
          },
          "metadata": {
            "tags": []
          },
          "execution_count": 137
        }
      ]
    },
    {
      "cell_type": "code",
      "metadata": {
        "id": "fAva_W6Q1wUc",
        "colab_type": "code",
        "colab": {}
      },
      "source": [
        "#train[train['specific_location'].isnull()].head()\n",
        "train['specific_location'].fillna('unspecified',inplace=True)"
      ],
      "execution_count": 0,
      "outputs": []
    },
    {
      "cell_type": "code",
      "metadata": {
        "id": "IFoLgJ-w33PB",
        "colab_type": "code",
        "colab": {
          "base_uri": "https://localhost:8080/",
          "height": 204
        },
        "outputId": "b47cd367-bcce-4b43-8766-c71e667a1afc"
      },
      "source": [
        "#checking for NaN values again\n",
        "train.isnull().sum()"
      ],
      "execution_count": 139,
      "outputs": [
        {
          "output_type": "execute_result",
          "data": {
            "text/plain": [
              "page                 0\n",
              "location             0\n",
              "specific_location    0\n",
              "features             0\n",
              "bedrooms             0\n",
              "bathrooms            0\n",
              "toilets              0\n",
              "description          0\n",
              "other_description    0\n",
              "price                0\n",
              "dtype: int64"
            ]
          },
          "metadata": {
            "tags": []
          },
          "execution_count": 139
        }
      ]
    },
    {
      "cell_type": "code",
      "metadata": {
        "id": "4GYB0kshus9g",
        "colab_type": "code",
        "colab": {
          "base_uri": "https://localhost:8080/",
          "height": 646
        },
        "outputId": "d5bb8112-6abe-4396-da05-8cfec731c773"
      },
      "source": [
        "#checking toilet \n",
        "print(train['bedrooms'].unique())\n",
        "print(train['bedrooms'].nunique())\n",
        "\n",
        "print(train['toilets'].unique())\n",
        "print(train['toilets'].nunique())\n",
        "\n",
        "print(train['bathrooms'].unique())\n",
        "print(train['bathrooms'].nunique())\n",
        "\n",
        "print(train['price'].unique())\n",
        "print(train['price'].nunique())"
      ],
      "execution_count": 140,
      "outputs": [
        {
          "output_type": "stream",
          "text": [
            "[2 3 1 0 4 5 6 7 8 9]\n",
            "10\n",
            "['3' '4' '2' '1' ' ' '0' '5' '6' '8' '7' '9']\n",
            "11\n",
            "['2' '3' '1' ' ' '0' '4' '6' '5' '7' '8' '9']\n",
            "11\n",
            "[' 750000' ' 850000' ' 1500000' ' 600000' ' 650000' ' 450000' ' 800000'\n",
            " ' 1000000' ' 1800000' ' 500000' ' 1300000' ' 2500000' ' 550000'\n",
            " ' 2300000' ' 1200000' ' 1700000' ' 3000000' ' 700000' ' 400000' ' 300000'\n",
            " ' 1100000' ' 2700000' ' 900000' ' 2000000' ' 45000' ' 250000' ' 3000'\n",
            " ' 350000' ' 280000' ' 18500000' ' 1600000' ' 3500000' ' 200000' ' 220000'\n",
            " ' 65000000' ' 150' ' 400' ' 150000' ' 7000000' ' 6500000' ' 4000000'\n",
            " ' 70000' ' 5000000' ' 24000000' ' 70000000' ' 2800000' ' 5500000'\n",
            " ' 10000000' ' 10500000' ' 7500000' ' 6000000' ' 4500000' ' 8000000'\n",
            " ' 15000000' ' 12000000' ' 14000000' ' 4160000' ' 1400000' ' 15774000'\n",
            " ' 85000000' ' 1200' ' 30000000' ' 58000000' ' 20000000' ' 9585000'\n",
            " ' 3200000' ' 8500000' ' 6800000' ' 60000' ' 15000' ' 35000' ' 20000'\n",
            " ' 25000' ' 25000000' ' 16000000' ' 13000000' ' 2200000' ' 31344300'\n",
            " ' 3800000' ' 300000000' ' 41600000' ' 4800000' ' 2000000000' ' 110000000'\n",
            " ' 55000000' ' 950000' ' 180000' ' 40000' ' 1250000' '$ 800000'\n",
            " ' 40000000' ' 25000000000' ' 32000000' ' 120000' ' 170000' ' 380000'\n",
            " ' 10000' ' 96000' ' 320000' ' 700' ' 1500000000' ' 370000' ' 36000'\n",
            " ' 2600000' ' 2400000' ' 2750000' ' 33000' ' 3600000' ' 3300000'\n",
            " ' 45000000' ' 11000000' ' 90000000' ' 3700000' ' 37000000' ' 1900000'\n",
            " ' 4950000' ' 250000000' ' 870000' ' 1435000' ' 0' ' 2100000' ' 80000'\n",
            " ' 200000000' ' 35000000' ' 96000000' ' 825000' ' 79000000' ' 50000'\n",
            " ' 13500000' ' 60000000' ' 7700000' ' 80000000' ' 56000000' ' 4120000'\n",
            " ' 36000000' ' 18000000' ' 160000' ' 4300000' ' 33000000' ' 6600000'\n",
            " ' 9000000' ' 1850000' ' 185000000' ' 100000000' ' 400000000' ' 2900000'\n",
            " ' 28000000' ' 4600000' ' 815000' '$ 4000000' ' 9500000' ' 120000000'\n",
            " ' 150000000' ' 5200000' ' 75000000' ' 2350000' ' 455000' ' 69000000'\n",
            " ' 30000' ' 230000' ' 5750000' ' 38000000' ' 275000' ' 7000000000'\n",
            " ' 2730000' ' 4200000' ' 47000000' ' 50000000' ' 52000000' ' 3510750'\n",
            " ' 140000' ' 570000' ' 270000' ' 105000000' ' 600' ' 750' ' 110000'\n",
            " ' 100000' ' 330000' ' 84000' ' 130000' ' 72000' ' 350' ' 300' ' 250'\n",
            " ' 85000']\n",
            "186\n"
          ],
          "name": "stdout"
        }
      ]
    },
    {
      "cell_type": "code",
      "metadata": {
        "id": "vVPpO2Ql4Q3v",
        "colab_type": "code",
        "colab": {}
      },
      "source": [
        "#removing string $ from the prices\n",
        "import re\n",
        "train['price']=train['price'].apply(lambda x:re.sub('\\D',\"\",x))"
      ],
      "execution_count": 0,
      "outputs": []
    },
    {
      "cell_type": "code",
      "metadata": {
        "id": "ZnSYNQB0rlyI",
        "colab_type": "code",
        "colab": {}
      },
      "source": [
        "#train['bathrooms']=train['bathrooms'].apply(lambda x: '0' if x=='' else 'unspecified')\n",
        "train.loc[train['bathrooms']==' ','bathrooms']='0'\n",
        "train.loc[train['toilets']==' ','toilets']='0'"
      ],
      "execution_count": 0,
      "outputs": []
    },
    {
      "cell_type": "code",
      "metadata": {
        "id": "8V0-qi_0pNqn",
        "colab_type": "code",
        "colab": {}
      },
      "source": [
        "#convert price to integer\n",
        "train['price'] = train['price'].astype(int)\n",
        "train['bedrooms'] = train['bedrooms'].astype(int)\n",
        "train['bathrooms'] = train['bathrooms'].astype(int)\n",
        "train['toilets'] = train['toilets'].astype(int)"
      ],
      "execution_count": 0,
      "outputs": []
    },
    {
      "cell_type": "code",
      "metadata": {
        "id": "vaF0pCZ78o2t",
        "colab_type": "code",
        "colab": {
          "base_uri": "https://localhost:8080/",
          "height": 306
        },
        "outputId": "90e2138e-ded5-42f5-e707-f4e1ce792e9c"
      },
      "source": [
        "#checking for NaN values again\n",
        "train.info()"
      ],
      "execution_count": 144,
      "outputs": [
        {
          "output_type": "stream",
          "text": [
            "<class 'pandas.core.frame.DataFrame'>\n",
            "RangeIndex: 4389 entries, 0 to 4388\n",
            "Data columns (total 10 columns):\n",
            " #   Column             Non-Null Count  Dtype \n",
            "---  ------             --------------  ----- \n",
            " 0   page               4389 non-null   int64 \n",
            " 1   location           4389 non-null   object\n",
            " 2   specific_location  4389 non-null   object\n",
            " 3   features           4389 non-null   object\n",
            " 4   bedrooms           4389 non-null   int64 \n",
            " 5   bathrooms          4389 non-null   int64 \n",
            " 6   toilets            4389 non-null   int64 \n",
            " 7   description        4389 non-null   object\n",
            " 8   other_description  4389 non-null   object\n",
            " 9   price              4389 non-null   int64 \n",
            "dtypes: int64(5), object(5)\n",
            "memory usage: 343.0+ KB\n"
          ],
          "name": "stdout"
        }
      ]
    },
    {
      "cell_type": "code",
      "metadata": {
        "id": "iTHT0jOH-uYR",
        "colab_type": "code",
        "colab": {}
      },
      "source": [
        "train=train.drop(['page','features'],axis=1)"
      ],
      "execution_count": 0,
      "outputs": []
    },
    {
      "cell_type": "code",
      "metadata": {
        "id": "bAe3VtDb_ECd",
        "colab_type": "code",
        "colab": {
          "base_uri": "https://localhost:8080/",
          "height": 272
        },
        "outputId": "94e517bf-cf07-4f71-81dd-62a942b5d43b"
      },
      "source": [
        "train.info()"
      ],
      "execution_count": 147,
      "outputs": [
        {
          "output_type": "stream",
          "text": [
            "<class 'pandas.core.frame.DataFrame'>\n",
            "RangeIndex: 4389 entries, 0 to 4388\n",
            "Data columns (total 8 columns):\n",
            " #   Column             Non-Null Count  Dtype \n",
            "---  ------             --------------  ----- \n",
            " 0   location           4389 non-null   object\n",
            " 1   specific_location  4389 non-null   object\n",
            " 2   bedrooms           4389 non-null   int64 \n",
            " 3   bathrooms          4389 non-null   int64 \n",
            " 4   toilets            4389 non-null   int64 \n",
            " 5   description        4389 non-null   object\n",
            " 6   other_description  4389 non-null   object\n",
            " 7   price              4389 non-null   int64 \n",
            "dtypes: int64(4), object(4)\n",
            "memory usage: 274.4+ KB\n"
          ],
          "name": "stdout"
        }
      ]
    },
    {
      "cell_type": "code",
      "metadata": {
        "id": "u8VYyKiw_RUb",
        "colab_type": "code",
        "colab": {}
      },
      "source": [
        "#create new features\n",
        "train['estate_flag'] = train['specific_location'].apply(lambda x: len([c for c in str(x).lower().split() if \"estate\" in c]))\n",
        "train['terrace_flag'] = train['other_description'].apply(lambda x: len([c for c in str(x).lower().split() if \"terraced\" \n",
        "                                                                  in c or \"terrace\" in c or \"detached\" in c\n",
        "                                                                 or \"duplex\" in c]))\n",
        "train['new_flag'] = train['other_description'].apply(lambda x: len([c for c in str(x).lower().split()\n",
        "                                                              if \"new\" in c or \"luxur\" in c \n",
        "                                                              or \"executive\" in c]))\n",
        "train['serviced_flag'] = train['other_description'].apply(lambda x: len([c for c in str(x).lower().split() if \"service\" in c]))"
      ],
      "execution_count": 0,
      "outputs": []
    },
    {
      "cell_type": "code",
      "metadata": {
        "id": "O5wRMbE__n4w",
        "colab_type": "code",
        "colab": {
          "base_uri": "https://localhost:8080/",
          "height": 221
        },
        "outputId": "0306b310-8cb9-4717-8b62-17d5c838a7dc"
      },
      "source": [
        "corr= train.corr()\n",
        "#corr\n",
        "f, ax = plt.subplots(figsize=(20, 5))\n",
        "sns.heatmap(corr,cmap='coolwarm',linewidths=2.0, annot=True)"
      ],
      "execution_count": 152,
      "outputs": [
        {
          "output_type": "execute_result",
          "data": {
            "text/plain": [
              "<matplotlib.axes._subplots.AxesSubplot at 0x7f103d91e2e8>"
            ]
          },
          "metadata": {
            "tags": []
          },
          "execution_count": 152
        },
        {
          "output_type": "display_data",
          "data": {
            "image/png": "[encoded data removed]",
            "text/plain": [
              "<Figure size 1440x360 with 2 Axes>"
            ]
          },
          "metadata": {
            "tags": [],
            "needs_background": "light"
          }
        }
      ]
    },
    {
      "cell_type": "code",
      "metadata": {
        "id": "Zr1R-FWdAD1p",
        "colab_type": "code",
        "colab": {
          "base_uri": "https://localhost:8080/",
          "height": 317
        },
        "outputId": "9066cff9-2de9-4058-f34b-4c6cb25be12c"
      },
      "source": [
        "corr"
      ],
      "execution_count": 153,
      "outputs": [
        {
          "output_type": "execute_result",
          "data": {
            "text/html": [
              "<div>\n",
              "<style scoped>\n",
              "    .dataframe tbody tr th:only-of-type {\n",
              "        vertical-align: middle;\n",
              "    }\n",
              "\n",
              "    .dataframe tbody tr th {\n",
              "        vertical-align: top;\n",
              "    }\n",
              "\n",
              "    .dataframe thead th {\n",
              "        text-align: right;\n",
              "    }\n",
              "</style>\n",
              "<table border=\"1\" class=\"dataframe\">\n",
              "  <thead>\n",
              "    <tr style=\"text-align: right;\">\n",
              "      <th></th>\n",
              "      <th>bedrooms</th>\n",
              "      <th>bathrooms</th>\n",
              "      <th>toilets</th>\n",
              "      <th>price</th>\n",
              "      <th>estate_flag</th>\n",
              "      <th>terrace_flag</th>\n",
              "      <th>new_flag</th>\n",
              "      <th>serviced_flag</th>\n",
              "    </tr>\n",
              "  </thead>\n",
              "  <tbody>\n",
              "    <tr>\n",
              "      <th>bedrooms</th>\n",
              "      <td>1.000000</td>\n",
              "      <td>0.715328</td>\n",
              "      <td>0.678101</td>\n",
              "      <td>-0.010864</td>\n",
              "      <td>0.053506</td>\n",
              "      <td>0.518781</td>\n",
              "      <td>0.052317</td>\n",
              "      <td>0.012942</td>\n",
              "    </tr>\n",
              "    <tr>\n",
              "      <th>bathrooms</th>\n",
              "      <td>0.715328</td>\n",
              "      <td>1.000000</td>\n",
              "      <td>0.934530</td>\n",
              "      <td>0.004021</td>\n",
              "      <td>0.045388</td>\n",
              "      <td>0.392247</td>\n",
              "      <td>0.161874</td>\n",
              "      <td>0.061394</td>\n",
              "    </tr>\n",
              "    <tr>\n",
              "      <th>toilets</th>\n",
              "      <td>0.678101</td>\n",
              "      <td>0.934530</td>\n",
              "      <td>1.000000</td>\n",
              "      <td>-0.001077</td>\n",
              "      <td>0.045264</td>\n",
              "      <td>0.367605</td>\n",
              "      <td>0.168036</td>\n",
              "      <td>0.114866</td>\n",
              "    </tr>\n",
              "    <tr>\n",
              "      <th>price</th>\n",
              "      <td>-0.010864</td>\n",
              "      <td>0.004021</td>\n",
              "      <td>-0.001077</td>\n",
              "      <td>1.000000</td>\n",
              "      <td>-0.009110</td>\n",
              "      <td>-0.001004</td>\n",
              "      <td>0.018450</td>\n",
              "      <td>-0.012345</td>\n",
              "    </tr>\n",
              "    <tr>\n",
              "      <th>estate_flag</th>\n",
              "      <td>0.053506</td>\n",
              "      <td>0.045388</td>\n",
              "      <td>0.045264</td>\n",
              "      <td>-0.009110</td>\n",
              "      <td>1.000000</td>\n",
              "      <td>0.025871</td>\n",
              "      <td>0.057457</td>\n",
              "      <td>-0.006546</td>\n",
              "    </tr>\n",
              "    <tr>\n",
              "      <th>terrace_flag</th>\n",
              "      <td>0.518781</td>\n",
              "      <td>0.392247</td>\n",
              "      <td>0.367605</td>\n",
              "      <td>-0.001004</td>\n",
              "      <td>0.025871</td>\n",
              "      <td>1.000000</td>\n",
              "      <td>0.100553</td>\n",
              "      <td>-0.022149</td>\n",
              "    </tr>\n",
              "    <tr>\n",
              "      <th>new_flag</th>\n",
              "      <td>0.052317</td>\n",
              "      <td>0.161874</td>\n",
              "      <td>0.168036</td>\n",
              "      <td>0.018450</td>\n",
              "      <td>0.057457</td>\n",
              "      <td>0.100553</td>\n",
              "      <td>1.000000</td>\n",
              "      <td>0.091136</td>\n",
              "    </tr>\n",
              "    <tr>\n",
              "      <th>serviced_flag</th>\n",
              "      <td>0.012942</td>\n",
              "      <td>0.061394</td>\n",
              "      <td>0.114866</td>\n",
              "      <td>-0.012345</td>\n",
              "      <td>-0.006546</td>\n",
              "      <td>-0.022149</td>\n",
              "      <td>0.091136</td>\n",
              "      <td>1.000000</td>\n",
              "    </tr>\n",
              "  </tbody>\n",
              "</table>\n",
              "</div>"
            ],
            "text/plain": [
              "               bedrooms  bathrooms  ...  new_flag  serviced_flag\n",
              "bedrooms       1.000000   0.715328  ...  0.052317       0.012942\n",
              "bathrooms      0.715328   1.000000  ...  0.161874       0.061394\n",
              "toilets        0.678101   0.934530  ...  0.168036       0.114866\n",
              "price         -0.010864   0.004021  ...  0.018450      -0.012345\n",
              "estate_flag    0.053506   0.045388  ...  0.057457      -0.006546\n",
              "terrace_flag   0.518781   0.392247  ...  0.100553      -0.022149\n",
              "new_flag       0.052317   0.161874  ...  1.000000       0.091136\n",
              "serviced_flag  0.012942   0.061394  ...  0.091136       1.000000\n",
              "\n",
              "[8 rows x 8 columns]"
            ]
          },
          "metadata": {
            "tags": []
          },
          "execution_count": 153
        }
      ]
    },
    {
      "cell_type": "code",
      "metadata": {
        "id": "f8vPfjb4AInC",
        "colab_type": "code",
        "colab": {
          "base_uri": "https://localhost:8080/",
          "height": 295
        },
        "outputId": "ce4196fb-09fb-4ba2-cadf-f75efedebc94"
      },
      "source": [
        "#Examine distribution of all houses to identify outliers\n",
        "train['price'].plot(kind=\"hist\")"
      ],
      "execution_count": 155,
      "outputs": [
        {
          "output_type": "execute_result",
          "data": {
            "text/plain": [
              "<matplotlib.axes._subplots.AxesSubplot at 0x7f103de57160>"
            ]
          },
          "metadata": {
            "tags": []
          },
          "execution_count": 155
        },
        {
          "output_type": "display_data",
          "data": {
            "image/png": "[encoded data removed]",
            "text/plain": [
              "<Figure size 432x288 with 1 Axes>"
            ]
          },
          "metadata": {
            "tags": [],
            "needs_background": "light"
          }
        }
      ]
    },
    {
      "cell_type": "code",
      "metadata": {
        "id": "5U4mKq72AooK",
        "colab_type": "code",
        "colab": {
          "base_uri": "https://localhost:8080/",
          "height": 345
        },
        "outputId": "5631b9d5-e147-4e1b-ca4c-24bf2acda9bd"
      },
      "source": [
        "#Inspect the distribution of houses per location and size of house\n",
        "import matplotlib.pyplot as plt\n",
        "fig = plt.figure(figsize=(15,7))\n",
        "fig.add_subplot(1, 3, 1)\n",
        "train['price'][(train['location']==\"gbagada\")&(train['bedrooms']==1)].plot(kind=\"hist\")\n",
        "fig.add_subplot(1, 3, 2)\n",
        "train['price'][(train['location']==\"surulere\")&(train['bedrooms']==1)].plot(kind=\"hist\")\n",
        "fig.add_subplot(1, 3, 3)\n",
        "train['price'][(train['location']==\"yaba\")&(train['bedrooms']==1)].plot(kind=\"hist\")\n",
        "\n",
        "\n"
      ],
      "execution_count": 173,
      "outputs": [
        {
          "output_type": "execute_result",
          "data": {
            "text/plain": [
              "<matplotlib.axes._subplots.AxesSubplot at 0x7f10274a9978>"
            ]
          },
          "metadata": {
            "tags": []
          },
          "execution_count": 173
        },
        {
          "output_type": "display_data",
          "data": {
            "image/png": "[encoded data removed]",
            "text/plain": [
              "<Figure size 1080x504 with 3 Axes>"
            ]
          },
          "metadata": {
            "tags": [],
            "needs_background": "light"
          }
        }
      ]
    },
    {
      "cell_type": "code",
      "metadata": {
        "id": "sXZoqkVqDADZ",
        "colab_type": "code",
        "colab": {
          "base_uri": "https://localhost:8080/",
          "height": 266
        },
        "outputId": "9e406fbc-c2d5-4d33-d636-ac88543dd1da"
      },
      "source": [
        "fig = plt.figure(figsize=(15,5))\n",
        "fig.add_subplot(1, 3, 1)\n",
        "train['price'][(train['location']==\"ikeja\")&(train['bedrooms']==1)].plot(kind=\"hist\")\n",
        "fig.add_subplot(1, 3, 2)\n",
        "train['price'][(train['location']==\"ajah\")&(train['bedrooms']==1)].plot(kind=\"hist\")\n",
        "fig.add_subplot(1, 3, 3)\n",
        "train['price'][(train['location']==\"iyana ipaja\")&(train['bedrooms']==1)].plot(kind=\"hist\")\n"
      ],
      "execution_count": 174,
      "outputs": [
        {
          "output_type": "execute_result",
          "data": {
            "text/plain": [
              "<matplotlib.axes._subplots.AxesSubplot at 0x7f102730f080>"
            ]
          },
          "metadata": {
            "tags": []
          },
          "execution_count": 174
        },
        {
          "output_type": "display_data",
          "data": {
            "image/png": "[encoded data removed]",
            "text/plain": [
              "<Figure size 1080x360 with 3 Axes>"
            ]
          },
          "metadata": {
            "tags": [],
            "needs_background": "light"
          }
        }
      ]
    },
    {
      "cell_type": "code",
      "metadata": {
        "id": "_5SkHM2gDGCk",
        "colab_type": "code",
        "colab": {
          "base_uri": "https://localhost:8080/",
          "height": 265
        },
        "outputId": "b51609e0-6bd7-45d9-c741-6cc04f57bef6"
      },
      "source": [
        "fig = plt.figure(figsize=(15,5))\n",
        "fig.add_subplot(1, 3, 1)\n",
        "train['price'][(train['location']==\"lekki\")&(train['bedrooms']==1)].plot(kind=\"hist\")\n",
        "fig.add_subplot(1, 3, 2)\n",
        "train['price'][(train['location']==\"ikorodu\")&(train['bedrooms']==1)].plot(kind=\"hist\")\n",
        "fig.add_subplot(1, 3, 3)\n",
        "train['price'][(train['location']==\"ogba\")&(train['bedrooms']==1)].plot(kind=\"hist\")"
      ],
      "execution_count": 175,
      "outputs": [
        {
          "output_type": "execute_result",
          "data": {
            "text/plain": [
              "<matplotlib.axes._subplots.AxesSubplot at 0x7f10271e5160>"
            ]
          },
          "metadata": {
            "tags": []
          },
          "execution_count": 175
        },
        {
          "output_type": "display_data",
          "data": {
            "image/png": "[encoded data removed]",
            "text/plain": [
              "<Figure size 1080x360 with 3 Axes>"
            ]
          },
          "metadata": {
            "tags": [],
            "needs_background": "light"
          }
        }
      ]
    },
    {
      "cell_type": "code",
      "metadata": {
        "id": "KxsK7bH5ErAQ",
        "colab_type": "code",
        "colab": {
          "base_uri": "https://localhost:8080/",
          "height": 782
        },
        "outputId": "b5a8f236-b9dc-42ad-c0d9-a01f7847c150"
      },
      "source": [
        "#Since some houses may have missing info it means some estate/serviced houses are not called estate/serviced houses. \n",
        "#Assumptions are made around houses which are not identified as estate/ service houses. \n",
        "#The median/50th percentile of those houses is identified and any house above the median is considered as estate.\n",
        "#Houses higher than 80th percentile are classified as serviced\n",
        "\n",
        "\n",
        "estate_price = []\n",
        "import numpy as np\n",
        "for location in [\"gbagada\",\"surulere\",\"yaba\",\"ogba\",\"lekki\",\"ikeja\",\"iyana ipaja\",\"ikorodu\",\"ajah\"]:\n",
        "    for i in range(1,6):\n",
        "        d = {}\n",
        "        d['location'] = location\n",
        "        d['bedspace'] = i\n",
        "        try:\n",
        "            d['estate_price'] = np.percentile(train['price'][(train['location']==location)&(train['bedrooms']==i)&(train['estate_flag']==0)],50)\n",
        "            d['serviced_price'] = np.percentile(train['price'][(train['location']==location)&(train['bedrooms']==i)&(train['estate_flag']==0)],80)\n",
        "        except (IndexError,TypeError) as e:\n",
        "            d['serviced_price'] = 0\n",
        "            d['estate_price'] = 0\n",
        "        estate_price.append(d)\n",
        "        try:\n",
        "            print(\"This is the median for {bed} bedroom in {location} : \".format(bed = i,location = location) ,np.percentile(train['price'][(train['location']==location)&(train['bedrooms']==i)&(train['estate_flag']==0)],50))\n",
        "        except (IndexError,TypeError) as e:\n",
        "            print(\"This is the median for {bed} bedroom in {location} : \".format(bed = i,location = location) ,0)"
      ],
      "execution_count": 176,
      "outputs": [
        {
          "output_type": "stream",
          "text": [
            "This is the median for 1 bedroom in gbagada :  450000.0\n",
            "This is the median for 2 bedroom in gbagada :  850000.0\n",
            "This is the median for 3 bedroom in gbagada :  1300000.0\n",
            "This is the median for 4 bedroom in gbagada :  2750000.0\n",
            "This is the median for 5 bedroom in gbagada :  2000000.0\n",
            "This is the median for 1 bedroom in surulere :  450000.0\n",
            "This is the median for 2 bedroom in surulere :  800000.0\n",
            "This is the median for 3 bedroom in surulere :  1250000.0\n",
            "This is the median for 4 bedroom in surulere :  2500000.0\n",
            "This is the median for 5 bedroom in surulere :  0\n",
            "This is the median for 1 bedroom in yaba :  0\n",
            "This is the median for 2 bedroom in yaba :  0\n",
            "This is the median for 3 bedroom in yaba :  0\n",
            "This is the median for 4 bedroom in yaba :  0\n",
            "This is the median for 5 bedroom in yaba :  0\n",
            "This is the median for 1 bedroom in ogba :  350000.0\n",
            "This is the median for 2 bedroom in ogba :  625000.0\n",
            "This is the median for 3 bedroom in ogba :  750000.0\n",
            "This is the median for 4 bedroom in ogba :  1500000.0\n",
            "This is the median for 5 bedroom in ogba :  0\n",
            "This is the median for 1 bedroom in lekki :  1000000.0\n",
            "This is the median for 2 bedroom in lekki :  2000000.0\n",
            "This is the median for 3 bedroom in lekki :  2500000.0\n",
            "This is the median for 4 bedroom in lekki :  3500000.0\n",
            "This is the median for 5 bedroom in lekki :  5500000.0\n",
            "This is the median for 1 bedroom in ikeja :  650000.0\n",
            "This is the median for 2 bedroom in ikeja :  1300000.0\n",
            "This is the median for 3 bedroom in ikeja :  2500000.0\n",
            "This is the median for 4 bedroom in ikeja :  4000000.0\n",
            "This is the median for 5 bedroom in ikeja :  7000000.0\n",
            "This is the median for 1 bedroom in iyana ipaja :  150000.0\n",
            "This is the median for 2 bedroom in iyana ipaja :  475000.0\n",
            "This is the median for 3 bedroom in iyana ipaja :  575000.0\n",
            "This is the median for 4 bedroom in iyana ipaja :  0\n",
            "This is the median for 5 bedroom in iyana ipaja :  0\n",
            "This is the median for 1 bedroom in ikorodu :  120000.0\n",
            "This is the median for 2 bedroom in ikorodu :  210000.0\n",
            "This is the median for 3 bedroom in ikorodu :  350000.0\n",
            "This is the median for 4 bedroom in ikorodu :  600000.0\n",
            "This is the median for 5 bedroom in ikorodu :  0\n",
            "This is the median for 1 bedroom in ajah :  350000.0\n",
            "This is the median for 2 bedroom in ajah :  800000.0\n",
            "This is the median for 3 bedroom in ajah :  1100000.0\n",
            "This is the median for 4 bedroom in ajah :  2000000.0\n",
            "This is the median for 5 bedroom in ajah :  3250000.0\n"
          ],
          "name": "stdout"
        }
      ]
    }
  ]
}