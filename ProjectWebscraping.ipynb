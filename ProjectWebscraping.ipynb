{
  "nbformat": 4,
  "nbformat_minor": 0,
  "metadata": {
    "kernelspec": {
      "display_name": "Python 3",
      "language": "python",
      "name": "python3"
    },
    "language_info": {
      "codemirror_mode": {
        "name": "ipython",
        "version": 3
      },
      "file_extension": ".py",
      "mimetype": "text/x-python",
      "name": "python",
      "nbconvert_exporter": "python",
      "pygments_lexer": "ipython3",
      "version": "3.7.1"
    },
    "colab": {
      "name": "ProjectWebscraping.ipynb",
      "provenance": [],
      "include_colab_link": true
    }
  },
  "cells": [
    {
      "cell_type": "markdown",
      "metadata": {
        "id": "view-in-github",
        "colab_type": "text"
      },
      "source": [
        "<a href=\"https://colab.research.google.com/github/Ayanlola2002/DATA-SCIENCE-PROJECTS/blob/master/ProjectWebscraping.ipynb\" target=\"_parent\"><img src=\"https://colab.research.google.com/assets/colab-badge.svg\" alt=\"Open In Colab\"/></a>"
      ]
    },
    {
      "cell_type": "markdown",
      "metadata": {
        "id": "qzemvf-YlRtB",
        "colab_type": "text"
      },
      "source": [
        "### Web Scraping 101 "
      ]
    },
    {
      "cell_type": "markdown",
      "metadata": {
        "id": "r0zmq0sGlRtE",
        "colab_type": "text"
      },
      "source": [
        "#### Kindly ensure you have the legal rights to scrape and use data from a site before doing so. Propertypro is more flexible about this as seen in the terms and conditions page however Nigeria Property center is not. Check below for more: \n",
        "\n",
        "#### https://www.propertypro.ng/terms\n",
        "#### https://nigeriapropertycentre.com/terms-of-use "
      ]
    },
    {
      "cell_type": "markdown",
      "metadata": {
        "id": "Y691Nov7lRtG",
        "colab_type": "text"
      },
      "source": [
        "."
      ]
    },
    {
      "cell_type": "markdown",
      "metadata": {
        "id": "w0gbQZSklRtH",
        "colab_type": "text"
      },
      "source": [
        "#### Import Beautiful Soup for scraping, requests for making request to a website and re for regular expressions"
      ]
    },
    {
      "cell_type": "code",
      "metadata": {
        "id": "Q_zCU5XolRtI",
        "colab_type": "code",
        "colab": {}
      },
      "source": [
        "import requests, re\n",
        "from bs4 import BeautifulSoup"
      ],
      "execution_count": 0,
      "outputs": []
    },
    {
      "cell_type": "markdown",
      "metadata": {
        "id": "5B1tcnkElRtQ",
        "colab_type": "text"
      },
      "source": [
        "#### Make a request to the website and extract its content (page source)"
      ]
    },
    {
      "cell_type": "code",
      "metadata": {
        "id": "OjZGXXh5lRtR",
        "colab_type": "code",
        "colab": {}
      },
      "source": [
        "\n",
        "r=requests.get(\"https://www.propertypro.ng/property-for-rent?search=gbagada\")\n",
        "c=r.content"
      ],
      "execution_count": 0,
      "outputs": []
    },
    {
      "cell_type": "markdown",
      "metadata": {
        "id": "mNOim4IqlRtV",
        "colab_type": "text"
      },
      "source": [
        "#### Parse the page source using the Beautiful soup HTML parser\n",
        "#### Find all property features on the page"
      ]
    },
    {
      "cell_type": "code",
      "metadata": {
        "id": "1Of1xvijlRtW",
        "colab_type": "code",
        "colab": {}
      },
      "source": [
        "soup=BeautifulSoup(c,\"html.parser\")\n",
        "\n",
        "real=soup.find_all(\"div\",{\"class\":\"prop-features\"})"
      ],
      "execution_count": 0,
      "outputs": []
    },
    {
      "cell_type": "markdown",
      "metadata": {
        "id": "z1oRiOl0lRtb",
        "colab_type": "text"
      },
      "source": [
        "#### Collect property features on the page.For this add the index of the feature at the end of the code e.g. [0] for bed, [2] for bath.\n",
        "#### This first method is not ideal because the location of the specific feature might change "
      ]
    },
    {
      "cell_type": "code",
      "metadata": {
        "id": "zcctiuyTlRtc",
        "colab_type": "code",
        "outputId": "a9d7c8e7-795e-48f9-fcdf-192fcf3bc2f1",
        "colab": {
          "base_uri": "https://localhost:8080/",
          "height": 34
        }
      },
      "source": [
        "real[0].get_text().strip().split()"
      ],
      "execution_count": 61,
      "outputs": [
        {
          "output_type": "execute_result",
          "data": {
            "text/plain": [
              "['3', 'bed', '3', 'bath', '4', 'toilet']"
            ]
          },
          "metadata": {
            "tags": []
          },
          "execution_count": 61
        }
      ]
    },
    {
      "cell_type": "markdown",
      "metadata": {
        "id": "v_oJJstElRtj",
        "colab_type": "text"
      },
      "source": [
        "#### This second method uses regular expressions and is a better way to collect feature information, because it checks for the feature before collecting. If the feature does not exist it will give a none. For more on regular expressions check https://www.w3schools.com/python/python_regex.asp "
      ]
    },
    {
      "cell_type": "code",
      "metadata": {
        "id": "Yu8r0MNylRtk",
        "colab_type": "code",
        "outputId": "92d2bf73-be82-449b-8bd7-5493eba85d42",
        "colab": {
          "base_uri": "https://localhost:8080/",
          "height": 34
        }
      },
      "source": [
        "re.findall(\"..bath\",real[0].get_text().strip())#[0][0]"
      ],
      "execution_count": 62,
      "outputs": [
        {
          "output_type": "execute_result",
          "data": {
            "text/plain": [
              "['3 bath']"
            ]
          },
          "metadata": {
            "tags": []
          },
          "execution_count": 62
        }
      ]
    },
    {
      "cell_type": "markdown",
      "metadata": {
        "id": "Y3i7oQ3VlRtq",
        "colab_type": "text"
      },
      "source": [
        "#### You can change div and class below to search for something else. "
      ]
    },
    {
      "cell_type": "code",
      "metadata": {
        "id": "Na1fwAgKlRtr",
        "colab_type": "code",
        "colab": {}
      },
      "source": [
        "real=soup.find_all(\"div\",{\"class\":\"prop-features\"})"
      ],
      "execution_count": 0,
      "outputs": []
    },
    {
      "cell_type": "code",
      "metadata": {
        "id": "JbnuFgTjlRtw",
        "colab_type": "code",
        "colab": {}
      },
      "source": [
        ""
      ],
      "execution_count": 0,
      "outputs": []
    },
    {
      "cell_type": "markdown",
      "metadata": {
        "id": "vYryueHilRt0",
        "colab_type": "text"
      },
      "source": [
        "#### Websites typically have a structure which allows for easy automation. For example location and page number can eaasily be changed and the website will respond accordingly. Try changing the location below and page number to surulere and page 2 respectively."
      ]
    },
    {
      "cell_type": "code",
      "metadata": {
        "id": "Tal7dRe4lRt1",
        "colab_type": "code",
        "colab": {}
      },
      "source": [
        "#https://www.propertypro.ng/property-for-rent?search=gbagada&page=1"
      ],
      "execution_count": 0,
      "outputs": []
    },
    {
      "cell_type": "markdown",
      "metadata": {
        "id": "rBeiwL9WlRt6",
        "colab_type": "text"
      },
      "source": [
        "#### There is a slight challenge from above. You will need to get the total number of pages. This can be calculated using total number of items divided by number of listing on each page. The listing is written within a paragraph of text so this has to be extracted using regular expressions. "
      ]
    },
    {
      "cell_type": "code",
      "metadata": {
        "id": "LoxTyodtlRt6",
        "colab_type": "code",
        "outputId": "73f5642c-7f53-4c95-a858-8f659ea6e008",
        "colab": {
          "base_uri": "https://localhost:8080/",
          "height": 34
        }
      },
      "source": [
        "items = int(re.findall(\"\\d+\",soup.find_all(\"div\",{\"class\":\"jumbotron m-hide\"})[0].text.split(\"total of\")[1][:6].replace(\",\",\"\").strip())[0])\n",
        "listings = 20\n",
        "page_nr = int(items/listings)\n",
        "page_nr"
      ],
      "execution_count": 65,
      "outputs": [
        {
          "output_type": "execute_result",
          "data": {
            "text/plain": [
              "33"
            ]
          },
          "metadata": {
            "tags": []
          },
          "execution_count": 65
        }
      ]
    },
    {
      "cell_type": "markdown",
      "metadata": {
        "id": "mW_b0abBlRuG",
        "colab_type": "text"
      },
      "source": [
        "#### This is the full code below, the first for loop is used to extract the details on a page, the second is to extract across multiple pages while the last is to extract across locations. Please as indicated in the instructions, do not scrape multiple locations or pages until off peak hours (>6pm) to avoid overloading the site."
      ]
    },
    {
      "cell_type": "code",
      "metadata": {
        "id": "e54y9ldplRuH",
        "colab_type": "code",
        "colab": {}
      },
      "source": [
        "l=[]\n",
        "location = [\"gbagada\",\"ikeja\",\"surulere\",\"ikeja\",\"ogba\",\"iyana ipaja\",\"lekki\",\"ajah\",\"ikorodu\"]\n",
        "\n",
        "\n",
        "for place in location:\n",
        "    base_url=\"https://www.propertypro.ng/property-for-rent?search=\"+place+ \"&auto=&type=&bedroom=&max_price=\"\n",
        "    r=requests.get(base_url+\".html\")\n",
        "    c=r.content\n",
        "    soup=BeautifulSoup(c,\"html.parser\")\n",
        "\n",
        "    items = int(re.findall(\"\\d+\",soup.find_all(\"div\",{\"class\":\"jumbotron m-hide\"})[0].text.split(\"total of\")[1][:6].replace(\",\",\"\").strip())[0])\n",
        "    listings = 20 #This can be edited back to 20 items as stated on site. However your code will take a while to run\n",
        "    page_nr = int(items/listings)\n",
        "    \n",
        "    #base_url=\"https://www.propertypro.ng/property-for-rent?search=\"+place+ \"&auto=&type=&bedroom=&max_price=\"\n",
        "    for page in range(1,int(page_nr),1):\n",
        "\n",
        "        r=requests.get(base_url+\".html\"+\"&page=\"+str(page))\n",
        "        c=r.content\n",
        "\n",
        "        soup=BeautifulSoup(c,\"html.parser\")\n",
        "        \n",
        "        classes = [\"col-lg-6 col-md-6 col-sm-6 col-xs-12 prop-meta-data\",\"col-lg-8 col-md-8 col-sm-7 col-xs-12 prop-meta-data text-left\",\n",
        "                   \"col-lg-9 col-md-9 col-sm-12 col-xs-12 main-listing-cont\"]\n",
        "        for class_ in classes:\n",
        "            real=soup.find_all(\"div\",{\"class\":class_})\n",
        "\n",
        "            for i in list(range(0,len(real))):\n",
        "                d={}\n",
        "                d['page']= page\n",
        "                try:\n",
        "                    d[\"location\"] = real[i].find(\"h3\",{\"class\":\"pro-location\"}).text.strip()\n",
        "                except (IndexError,TypeError,AttributeError):\n",
        "                    d[\"location\"] = None\n",
        "                try:\n",
        "                    d[\"specific_location\"] = real[i].find(\"h3\",{\"class\":\"pro-location\"}).text.strip().split(\"gbagada\")[0].replace(\"-\",\"\").strip()\n",
        "                except(IndexError,TypeError,AttributeError):\n",
        "                    d['specific_location'] = None\n",
        "                try:\n",
        "                    d[\"features\"]=real[i].find(\"span\",{\"class\":\"prop-aminities float-left\"}).text.strip()  \n",
        "                except (AttributeError,IndexError) as e:\n",
        "                    d[\"features\"]= None\n",
        "                try:\n",
        "                    d[\"bedrooms\"]= re.findall(\"..bed\",real[i].find(\"span\",{\"class\":\"prop-aminities float-left\"}).text.strip())[0][0]\n",
        "                except (IndexError,TypeError,AttributeError) as e:\n",
        "                    d[\"bedrooms\"]= None \n",
        "                try:\n",
        "                    d[\"bathrooms\"]= re.findall(\"..bath\",real[i].find(\"span\",{\"class\":\"prop-aminities float-left\"}).text.strip())[0][0]\n",
        "                except (IndexError,TypeError,AttributeError) as e:\n",
        "                    d[\"bathrooms\"]= None\n",
        "                try:\n",
        "                    d[\"toilets\"]= re.findall(\"..toilet\",real[i].find(\"span\",{\"class\":\"prop-aminities float-left\"}).text.strip())[0][0]\n",
        "                except (IndexError,TypeError,AttributeError) as e:\n",
        "                    d[\"toilets\"]=None\n",
        "                try:\n",
        "                    d[\"description\"]=real[i].find(\"p\",{\"class\":\"pro-description\"}).text.strip()\n",
        "                except (IndexError,TypeError,AttributeError) as e:\n",
        "                    d[\"description\"]= None\n",
        "                try:\n",
        "                    d[\"other_description\"]=real[i].find(\"p\",{\"class\":\"pro-description readmore\"}).text.strip()\n",
        "                except (IndexError,TypeError,AttributeError) as e:\n",
        "                    d[\"other_description\"]= None     \n",
        "                \n",
        "                try:\n",
        "                    d[\"price\"]=real[i].find(\"p\",{\"class\":\"prop-price\"}).text.strip().replace(\"₦\",\"\").replace(\",\",\"\")\n",
        "                except (IndexError,TypeError,AttributeError) as e:\n",
        "                    d[\"price\"] = None\n",
        "                l.append(d)\n",
        "                #print(l)\n",
        "                #print(\" \""
      ],
      "execution_count": 0,
      "outputs": []
    },
    {
      "cell_type": "markdown",
      "metadata": {
        "id": "NAHQ_ApTlRuL",
        "colab_type": "text"
      },
      "source": [
        "#### Convert output to dataframe"
      ]
    },
    {
      "cell_type": "code",
      "metadata": {
        "id": "4xZY_XcelRuM",
        "colab_type": "code",
        "outputId": "1b5e6c74-d506-4989-eee0-fc9d7108ce90",
        "colab": {
          "base_uri": "https://localhost:8080/",
          "height": 796
        }
      },
      "source": [
        "import pandas as pd\n",
        "ld = pd.DataFrame(l)\n",
        "ld"
      ],
      "execution_count": 67,
      "outputs": [
        {
          "output_type": "execute_result",
          "data": {
            "text/html": [
              "<div>\n",
              "<style scoped>\n",
              "    .dataframe tbody tr th:only-of-type {\n",
              "        vertical-align: middle;\n",
              "    }\n",
              "\n",
              "    .dataframe tbody tr th {\n",
              "        vertical-align: top;\n",
              "    }\n",
              "\n",
              "    .dataframe thead th {\n",
              "        text-align: right;\n",
              "    }\n",
              "</style>\n",
              "<table border=\"1\" class=\"dataframe\">\n",
              "  <thead>\n",
              "    <tr style=\"text-align: right;\">\n",
              "      <th></th>\n",
              "      <th>page</th>\n",
              "      <th>location</th>\n",
              "      <th>specific_location</th>\n",
              "      <th>features</th>\n",
              "      <th>bedrooms</th>\n",
              "      <th>bathrooms</th>\n",
              "      <th>toilets</th>\n",
              "      <th>description</th>\n",
              "      <th>other_description</th>\n",
              "      <th>price</th>\n",
              "    </tr>\n",
              "  </thead>\n",
              "  <tbody>\n",
              "    <tr>\n",
              "      <th>0</th>\n",
              "      <td>1</td>\n",
              "      <td>ifako gbagada gbagada lagos</td>\n",
              "      <td>ifako</td>\n",
              "      <td>2 bed 2 bath 2 toilet</td>\n",
              "      <td>2</td>\n",
              "      <td>2</td>\n",
              "      <td>2</td>\n",
              "      <td>Decent 2 bedrooms ground flat in a block of 4,...</td>\n",
              "      <td>Decent 2 bedrooms ground flat in a block of 4,...</td>\n",
              "      <td>800000</td>\n",
              "    </tr>\n",
              "    <tr>\n",
              "      <th>1</th>\n",
              "      <td>1</td>\n",
              "      <td>ifako ifako gbagada gbagada lagos</td>\n",
              "      <td>ifako ifako</td>\n",
              "      <td>2 bed 2 bath 3 toilet</td>\n",
              "      <td>2</td>\n",
              "      <td>2</td>\n",
              "      <td>3</td>\n",
              "      <td>2 bedroom apartment in a block of 4, upstairs ...</td>\n",
              "      <td>2 bedroom apartment in a block of 4, upstairs ...</td>\n",
              "      <td>1000000</td>\n",
              "    </tr>\n",
              "    <tr>\n",
              "      <th>2</th>\n",
              "      <td>1</td>\n",
              "      <td>millenuim ups gbagada lagos</td>\n",
              "      <td>millenuim ups</td>\n",
              "      <td>3 bed 3 bath 4 toilet</td>\n",
              "      <td>3</td>\n",
              "      <td>3</td>\n",
              "      <td>4</td>\n",
              "      <td>two tenants in the compound ... Security. Park...</td>\n",
              "      <td>two tenants in the compound ... Security. Park...</td>\n",
              "      <td>1800000</td>\n",
              "    </tr>\n",
              "    <tr>\n",
              "      <th>3</th>\n",
              "      <td>1</td>\n",
              "      <td>pedro-gbagada area gbagada lagos</td>\n",
              "      <td>pedro</td>\n",
              "      <td>2 bed 2 bath 3 toilet</td>\n",
              "      <td>2</td>\n",
              "      <td>2</td>\n",
              "      <td>3</td>\n",
              "      <td>Serviced 2 Bedroom all rooms en-suite flat wit...</td>\n",
              "      <td>Serviced 2 Bedroom all rooms en-suite flat wit...</td>\n",
              "      <td>1300000</td>\n",
              "    </tr>\n",
              "    <tr>\n",
              "      <th>4</th>\n",
              "      <td>1</td>\n",
              "      <td>back of mobil filling station by domino soluyi...</td>\n",
              "      <td>back of mobil filling station by domino soluyi</td>\n",
              "      <td>3 bed 3 bath 3 toilet</td>\n",
              "      <td>3</td>\n",
              "      <td>3</td>\n",
              "      <td>3</td>\n",
              "      <td>Very Decent 3brm Flat with 3t, 3b, 2 rooms are...</td>\n",
              "      <td>Very Decent 3brm Flat with 3t, 3b, 2 rooms are...</td>\n",
              "      <td>900000</td>\n",
              "    </tr>\n",
              "    <tr>\n",
              "      <th>...</th>\n",
              "      <td>...</td>\n",
              "      <td>...</td>\n",
              "      <td>...</td>\n",
              "      <td>...</td>\n",
              "      <td>...</td>\n",
              "      <td>...</td>\n",
              "      <td>...</td>\n",
              "      <td>...</td>\n",
              "      <td>...</td>\n",
              "      <td>...</td>\n",
              "    </tr>\n",
              "    <tr>\n",
              "      <th>5144</th>\n",
              "      <td>11</td>\n",
              "      <td>None</td>\n",
              "      <td>None</td>\n",
              "      <td>None</td>\n",
              "      <td>None</td>\n",
              "      <td>None</td>\n",
              "      <td>None</td>\n",
              "      <td>None</td>\n",
              "      <td>None</td>\n",
              "      <td>None</td>\n",
              "    </tr>\n",
              "    <tr>\n",
              "      <th>5145</th>\n",
              "      <td>12</td>\n",
              "      <td>None</td>\n",
              "      <td>None</td>\n",
              "      <td>None</td>\n",
              "      <td>None</td>\n",
              "      <td>None</td>\n",
              "      <td>None</td>\n",
              "      <td>None</td>\n",
              "      <td>None</td>\n",
              "      <td>None</td>\n",
              "    </tr>\n",
              "    <tr>\n",
              "      <th>5146</th>\n",
              "      <td>13</td>\n",
              "      <td>None</td>\n",
              "      <td>None</td>\n",
              "      <td>None</td>\n",
              "      <td>None</td>\n",
              "      <td>None</td>\n",
              "      <td>None</td>\n",
              "      <td>None</td>\n",
              "      <td>None</td>\n",
              "      <td>None</td>\n",
              "    </tr>\n",
              "    <tr>\n",
              "      <th>5147</th>\n",
              "      <td>14</td>\n",
              "      <td>None</td>\n",
              "      <td>None</td>\n",
              "      <td>None</td>\n",
              "      <td>None</td>\n",
              "      <td>None</td>\n",
              "      <td>None</td>\n",
              "      <td>None</td>\n",
              "      <td>None</td>\n",
              "      <td>None</td>\n",
              "    </tr>\n",
              "    <tr>\n",
              "      <th>5148</th>\n",
              "      <td>15</td>\n",
              "      <td>None</td>\n",
              "      <td>None</td>\n",
              "      <td>None</td>\n",
              "      <td>None</td>\n",
              "      <td>None</td>\n",
              "      <td>None</td>\n",
              "      <td>None</td>\n",
              "      <td>None</td>\n",
              "      <td>None</td>\n",
              "    </tr>\n",
              "  </tbody>\n",
              "</table>\n",
              "<p>5149 rows × 10 columns</p>\n",
              "</div>"
            ],
            "text/plain": [
              "      page  ...     price\n",
              "0        1  ...    800000\n",
              "1        1  ...   1000000\n",
              "2        1  ...   1800000\n",
              "3        1  ...   1300000\n",
              "4        1  ...    900000\n",
              "...    ...  ...       ...\n",
              "5144    11  ...      None\n",
              "5145    12  ...      None\n",
              "5146    13  ...      None\n",
              "5147    14  ...      None\n",
              "5148    15  ...      None\n",
              "\n",
              "[5149 rows x 10 columns]"
            ]
          },
          "metadata": {
            "tags": []
          },
          "execution_count": 67
        }
      ]
    },
    {
      "cell_type": "code",
      "metadata": {
        "id": "TWDtHIGQq9rn",
        "colab_type": "code",
        "outputId": "78cb07b8-1e0d-4426-bbba-1f8f11e8bd32",
        "colab": {
          "base_uri": "https://localhost:8080/",
          "height": 1000
        }
      },
      "source": [
        "ld.head(10)"
      ],
      "execution_count": 68,
      "outputs": [
        {
          "output_type": "execute_result",
          "data": {
            "text/html": [
              "<div>\n",
              "<style scoped>\n",
              "    .dataframe tbody tr th:only-of-type {\n",
              "        vertical-align: middle;\n",
              "    }\n",
              "\n",
              "    .dataframe tbody tr th {\n",
              "        vertical-align: top;\n",
              "    }\n",
              "\n",
              "    .dataframe thead th {\n",
              "        text-align: right;\n",
              "    }\n",
              "</style>\n",
              "<table border=\"1\" class=\"dataframe\">\n",
              "  <thead>\n",
              "    <tr style=\"text-align: right;\">\n",
              "      <th></th>\n",
              "      <th>page</th>\n",
              "      <th>location</th>\n",
              "      <th>specific_location</th>\n",
              "      <th>features</th>\n",
              "      <th>bedrooms</th>\n",
              "      <th>bathrooms</th>\n",
              "      <th>toilets</th>\n",
              "      <th>description</th>\n",
              "      <th>other_description</th>\n",
              "      <th>price</th>\n",
              "    </tr>\n",
              "  </thead>\n",
              "  <tbody>\n",
              "    <tr>\n",
              "      <th>0</th>\n",
              "      <td>1</td>\n",
              "      <td>ifako gbagada gbagada lagos</td>\n",
              "      <td>ifako</td>\n",
              "      <td>2 bed 2 bath 2 toilet</td>\n",
              "      <td>2</td>\n",
              "      <td>2</td>\n",
              "      <td>2</td>\n",
              "      <td>Decent 2 bedrooms ground flat in a block of 4,...</td>\n",
              "      <td>Decent 2 bedrooms ground flat in a block of 4,...</td>\n",
              "      <td>800000</td>\n",
              "    </tr>\n",
              "    <tr>\n",
              "      <th>1</th>\n",
              "      <td>1</td>\n",
              "      <td>ifako ifako gbagada gbagada lagos</td>\n",
              "      <td>ifako ifako</td>\n",
              "      <td>2 bed 2 bath 3 toilet</td>\n",
              "      <td>2</td>\n",
              "      <td>2</td>\n",
              "      <td>3</td>\n",
              "      <td>2 bedroom apartment in a block of 4, upstairs ...</td>\n",
              "      <td>2 bedroom apartment in a block of 4, upstairs ...</td>\n",
              "      <td>1000000</td>\n",
              "    </tr>\n",
              "    <tr>\n",
              "      <th>2</th>\n",
              "      <td>1</td>\n",
              "      <td>millenuim ups gbagada lagos</td>\n",
              "      <td>millenuim ups</td>\n",
              "      <td>3 bed 3 bath 4 toilet</td>\n",
              "      <td>3</td>\n",
              "      <td>3</td>\n",
              "      <td>4</td>\n",
              "      <td>two tenants in the compound ... Security. Park...</td>\n",
              "      <td>two tenants in the compound ... Security. Park...</td>\n",
              "      <td>1800000</td>\n",
              "    </tr>\n",
              "    <tr>\n",
              "      <th>3</th>\n",
              "      <td>1</td>\n",
              "      <td>pedro-gbagada area gbagada lagos</td>\n",
              "      <td>pedro</td>\n",
              "      <td>2 bed 2 bath 3 toilet</td>\n",
              "      <td>2</td>\n",
              "      <td>2</td>\n",
              "      <td>3</td>\n",
              "      <td>Serviced 2 Bedroom all rooms en-suite flat wit...</td>\n",
              "      <td>Serviced 2 Bedroom all rooms en-suite flat wit...</td>\n",
              "      <td>1300000</td>\n",
              "    </tr>\n",
              "    <tr>\n",
              "      <th>4</th>\n",
              "      <td>1</td>\n",
              "      <td>back of mobil filling station by domino soluyi...</td>\n",
              "      <td>back of mobil filling station by domino soluyi</td>\n",
              "      <td>3 bed 3 bath 3 toilet</td>\n",
              "      <td>3</td>\n",
              "      <td>3</td>\n",
              "      <td>3</td>\n",
              "      <td>Very Decent 3brm Flat with 3t, 3b, 2 rooms are...</td>\n",
              "      <td>Very Decent 3brm Flat with 3t, 3b, 2 rooms are...</td>\n",
              "      <td>900000</td>\n",
              "    </tr>\n",
              "    <tr>\n",
              "      <th>5</th>\n",
              "      <td>1</td>\n",
              "      <td>shadia estate behind chevron staff club soluyi...</td>\n",
              "      <td>shadia estate behind chevron staff club soluyi</td>\n",
              "      <td>2 bed 2 bath 2 toilet</td>\n",
              "      <td>2</td>\n",
              "      <td>2</td>\n",
              "      <td>2</td>\n",
              "      <td>Very nice 2brm flat bungalow with 2t, 2b, 1roo...</td>\n",
              "      <td>Very nice 2brm flat bungalow with 2t, 2b, 1roo...</td>\n",
              "      <td>1000000</td>\n",
              "    </tr>\n",
              "    <tr>\n",
              "      <th>6</th>\n",
              "      <td>1</td>\n",
              "      <td>iyana oworo oworonshoki gbagada lagos</td>\n",
              "      <td>iyana oworo oworonshoki</td>\n",
              "      <td>bed 1 bath 1 toilet</td>\n",
              "      <td>None</td>\n",
              "      <td>1</td>\n",
              "      <td>1</td>\n",
              "      <td>Newly built room self contain with kitchen,toi...</td>\n",
              "      <td>Newly built room self contain with kitchen,toi...</td>\n",
              "      <td>300000</td>\n",
              "    </tr>\n",
              "    <tr>\n",
              "      <th>7</th>\n",
              "      <td>1</td>\n",
              "      <td>after deperlife church gbagada lagos</td>\n",
              "      <td>after deperlife church</td>\n",
              "      <td>1 bed 1 bath 1 toilet</td>\n",
              "      <td>1</td>\n",
              "      <td>1</td>\n",
              "      <td>1</td>\n",
              "      <td>Mini flat (1bedroom Apartment with kitchen toi...</td>\n",
              "      <td>Mini flat (1bedroom Apartment with kitchen toi...</td>\n",
              "      <td>450000</td>\n",
              "    </tr>\n",
              "    <tr>\n",
              "      <th>8</th>\n",
              "      <td>1</td>\n",
              "      <td>odo-eran iyana orowo gbagada oworonshoki gbaga...</td>\n",
              "      <td>odoeran iyana orowo</td>\n",
              "      <td>2 bed 2 bath 3 toilet</td>\n",
              "      <td>2</td>\n",
              "      <td>2</td>\n",
              "      <td>3</td>\n",
              "      <td>Newly built two bedroom flat with all rooms en...</td>\n",
              "      <td>Newly built two bedroom flat with all rooms en...</td>\n",
              "      <td>550000</td>\n",
              "    </tr>\n",
              "    <tr>\n",
              "      <th>9</th>\n",
              "      <td>1</td>\n",
              "      <td>community street ,odo eran,iyana oworo gbagada...</td>\n",
              "      <td>community street ,odo eran,iyana oworo</td>\n",
              "      <td>1 bed 1 bath 1 toilet</td>\n",
              "      <td>1</td>\n",
              "      <td>1</td>\n",
              "      <td>1</td>\n",
              "      <td>For lease: Newly built mini flat with kitchen,...</td>\n",
              "      <td>For lease: Newly built mini flat with kitchen,...</td>\n",
              "      <td>400000</td>\n",
              "    </tr>\n",
              "  </tbody>\n",
              "</table>\n",
              "</div>"
            ],
            "text/plain": [
              "   page  ...     price\n",
              "0     1  ...    800000\n",
              "1     1  ...   1000000\n",
              "2     1  ...   1800000\n",
              "3     1  ...   1300000\n",
              "4     1  ...    900000\n",
              "5     1  ...   1000000\n",
              "6     1  ...    300000\n",
              "7     1  ...    450000\n",
              "8     1  ...    550000\n",
              "9     1  ...    400000\n",
              "\n",
              "[10 rows x 10 columns]"
            ]
          },
          "metadata": {
            "tags": []
          },
          "execution_count": 68
        }
      ]
    },
    {
      "cell_type": "code",
      "metadata": {
        "id": "ooN2rMQp9L_f",
        "colab_type": "code",
        "outputId": "c79e163e-5e6e-4285-b8ca-f5faca2b1551",
        "colab": {
          "base_uri": "https://localhost:8080/",
          "height": 34
        }
      },
      "source": [
        "sum(ld.apply(lambda x: sum(x.isnull().values), axis = 0)>0)"
      ],
      "execution_count": 69,
      "outputs": [
        {
          "output_type": "execute_result",
          "data": {
            "text/plain": [
              "9"
            ]
          },
          "metadata": {
            "tags": []
          },
          "execution_count": 69
        }
      ]
    },
    {
      "cell_type": "code",
      "metadata": {
        "id": "-M-kABtz93mW",
        "colab_type": "code",
        "colab": {}
      },
      "source": [
        "#removing all null values\n",
        "ld = ld.dropna(how='any',axis=0) "
      ],
      "execution_count": 0,
      "outputs": []
    },
    {
      "cell_type": "code",
      "metadata": {
        "id": "X7wO22ae99Nv",
        "colab_type": "code",
        "outputId": "03020092-fa22-422c-9e49-4e91cced5e5a",
        "colab": {
          "base_uri": "https://localhost:8080/",
          "height": 204
        }
      },
      "source": [
        "#checking for null values\n",
        "ld.isnull().sum()"
      ],
      "execution_count": 71,
      "outputs": [
        {
          "output_type": "execute_result",
          "data": {
            "text/plain": [
              "page                 0\n",
              "location             0\n",
              "specific_location    0\n",
              "features             0\n",
              "bedrooms             0\n",
              "bathrooms            0\n",
              "toilets              0\n",
              "description          0\n",
              "other_description    0\n",
              "price                0\n",
              "dtype: int64"
            ]
          },
          "metadata": {
            "tags": []
          },
          "execution_count": 71
        }
      ]
    },
    {
      "cell_type": "code",
      "metadata": {
        "id": "ZJOiTAMJ-nFw",
        "colab_type": "code",
        "colab": {}
      },
      "source": [
        "#ld['location'] = ld['location'].str.extract(r'(gbagada|ikeja|surulere|ogba|iyana ipaja|lekki|ajah|ikorodu)').map({'gbagada':'gbagada','ikeja':'ikeja','ogba':'ogba','iyana ipaja':'iyana ipaja','lekki':'lekki','ajah':'ajah','ikorodu':'ikorodu'})"
      ],
      "execution_count": 0,
      "outputs": []
    },
    {
      "cell_type": "code",
      "metadata": {
        "id": "UbH9o62AF41U",
        "colab_type": "code",
        "colab": {}
      },
      "source": [
        "ld[\"location\"][ld['location'].str.contains(\"gbagada\")] =\"gbagada\"\n",
        "ld[\"location\"][ld['location'].str.contains(\"ikeja\")] =\"ikeja\"\n",
        "ld[\"location\"][ld['location'].str.contains(\"iyana ipaja\")] =\"iyana ipaja\"\n",
        "ld[\"location\"][ld['location'].str.contains(\"surulere\")] =\"surulere\"\n",
        "ld[\"location\"][ld['location'].str.contains(\"ogba\")] =\"ogba\"\n",
        "ld[\"location\"][ld['location'].str.contains(\"lekki\")] =\"lekki\"\n",
        "ld[\"location\"][ld['location'].str.contains(\"ajah\")] =\"ajah\"\n",
        "ld[\"location\"][ld['location'].str.contains(\"ikorodu\")] =\"ikorodu\""
      ],
      "execution_count": 0,
      "outputs": []
    },
    {
      "cell_type": "code",
      "metadata": {
        "id": "eoINwQWlwN-4",
        "colab_type": "code",
        "colab": {}
      },
      "source": [
        "scrapedata=ld.to_csv(\"/content/drive/My Drive/Technidus/data1.csv\",index=False)"
      ],
      "execution_count": 0,
      "outputs": []
    },
    {
      "cell_type": "code",
      "metadata": {
        "id": "2ZkPI0nlkboV",
        "colab_type": "code",
        "outputId": "02049c54-c048-4c77-d2c3-3034a5b6d933",
        "colab": {
          "base_uri": "https://localhost:8080/",
          "height": 54
        }
      },
      "source": [
        "from google.colab import drive\n",
        "drive.mount('/content/drive')"
      ],
      "execution_count": 74,
      "outputs": [
        {
          "output_type": "stream",
          "text": [
            "Drive already mounted at /content/drive; to attempt to forcibly remount, call drive.mount(\"/content/drive\", force_remount=True).\n"
          ],
          "name": "stdout"
        }
      ]
    },
    {
      "cell_type": "code",
      "metadata": {
        "id": "V81Gs-V3_9IC",
        "colab_type": "code",
        "colab": {}
      },
      "source": [
        "from sklearn.ensemble import RandomForestClassifier\n",
        "from sklearn.ensemble import RandomForestRegressor\n",
        "from sklearn import preprocessing\n",
        "import sklearn.model_selection as ms\n",
        "#from xgboost import XGBClassifier\n",
        "#from xgboost import XGBRegressor\n",
        "#from sklearn.ensemble import GradientBoostingRegressor\n",
        "#import lightgbm as lgbm\n",
        "import sklearn.metrics as sklm\n",
        "import matplotlib.pyplot as plt\n",
        "import pandas as pd\n",
        "import numpy as np\n",
        "import warnings\n",
        "warnings.filterwarnings('ignore')\n",
        "import seaborn as sns\n",
        "%matplotlib inline"
      ],
      "execution_count": 0,
      "outputs": []
    },
    {
      "cell_type": "code",
      "metadata": {
        "id": "RwLpKBeQpCYI",
        "colab_type": "code",
        "colab": {}
      },
      "source": [
        "train = pd.read_csv(\"/content/drive/My Drive/Technidus/data1.csv\",encoding = \"ISO-8859-1\")"
      ],
      "execution_count": 0,
      "outputs": []
    },
    {
      "cell_type": "code",
      "metadata": {
        "id": "3LVhXeqJqlAC",
        "colab_type": "code",
        "outputId": "85b72b67-0865-47fb-f668-a4a74dccfcc2",
        "colab": {
          "base_uri": "https://localhost:8080/",
          "height": 306
        }
      },
      "source": [
        "train.info()"
      ],
      "execution_count": 89,
      "outputs": [
        {
          "output_type": "stream",
          "text": [
            "<class 'pandas.core.frame.DataFrame'>\n",
            "RangeIndex: 4354 entries, 0 to 4353\n",
            "Data columns (total 10 columns):\n",
            " #   Column             Non-Null Count  Dtype \n",
            "---  ------             --------------  ----- \n",
            " 0   page               4354 non-null   int64 \n",
            " 1   location           4354 non-null   object\n",
            " 2   specific_location  4317 non-null   object\n",
            " 3   features           4354 non-null   object\n",
            " 4   bedrooms           4354 non-null   int64 \n",
            " 5   bathrooms          4354 non-null   object\n",
            " 6   toilets            4354 non-null   object\n",
            " 7   description        4354 non-null   object\n",
            " 8   other_description  4354 non-null   object\n",
            " 9   price              4354 non-null   object\n",
            "dtypes: int64(2), object(8)\n",
            "memory usage: 340.3+ KB\n"
          ],
          "name": "stdout"
        }
      ]
    },
    {
      "cell_type": "code",
      "metadata": {
        "id": "oLfy9ST_pggI",
        "colab_type": "code",
        "outputId": "07746ab5-2ea0-4422-a0ab-e1634286df39",
        "colab": {
          "base_uri": "https://localhost:8080/",
          "height": 204
        }
      },
      "source": [
        "train.isnull().sum()"
      ],
      "execution_count": 90,
      "outputs": [
        {
          "output_type": "execute_result",
          "data": {
            "text/plain": [
              "page                  0\n",
              "location              0\n",
              "specific_location    37\n",
              "features              0\n",
              "bedrooms              0\n",
              "bathrooms             0\n",
              "toilets               0\n",
              "description           0\n",
              "other_description     0\n",
              "price                 0\n",
              "dtype: int64"
            ]
          },
          "metadata": {
            "tags": []
          },
          "execution_count": 90
        }
      ]
    },
    {
      "cell_type": "code",
      "metadata": {
        "id": "f-pWPeHEz_c_",
        "colab_type": "code",
        "outputId": "e39e4a08-9010-4506-a687-168468c0ead0",
        "colab": {
          "base_uri": "https://localhost:8080/",
          "height": 221
        }
      },
      "source": [
        "train['specific_location'].value_counts()"
      ],
      "execution_count": 91,
      "outputs": [
        {
          "output_type": "execute_result",
          "data": {
            "text/plain": [
              "lekki phase 1 lekki lagos                                        268\n",
              "ikeja lagos                                                      104\n",
              "chevron lekki lagos                                               91\n",
              "lekki lagos                                                       86\n",
              "osapa london lekki lagos                                          76\n",
              "                                                                ... \n",
              "new lekki horizon phase 2, ikate lekki lagos                       1\n",
              "5 street estate osapa london lekki lagos                           1\n",
              "sawmill ifako ifako                                                1\n",
              "off dsc, lekki right. lekki phase 1 lekki lagos                    1\n",
              "ocean bay estate, lekki peninsula 2 lekki phase 2 lekki lagos      1\n",
              "Name: specific_location, Length: 1633, dtype: int64"
            ]
          },
          "metadata": {
            "tags": []
          },
          "execution_count": 91
        }
      ]
    },
    {
      "cell_type": "code",
      "metadata": {
        "id": "XeXFrGOChE6N",
        "colab_type": "code",
        "colab": {
          "base_uri": "https://localhost:8080/",
          "height": 34
        },
        "outputId": "0b7e2285-8e0d-49bc-ee6f-cd80bf8214de"
      },
      "source": [
        "train['specific_location'].isnull().sum()"
      ],
      "execution_count": 92,
      "outputs": [
        {
          "output_type": "execute_result",
          "data": {
            "text/plain": [
              "37"
            ]
          },
          "metadata": {
            "tags": []
          },
          "execution_count": 92
        }
      ]
    },
    {
      "cell_type": "code",
      "metadata": {
        "id": "fAva_W6Q1wUc",
        "colab_type": "code",
        "colab": {}
      },
      "source": [
        "#train[train['specific_location'].isnull()].head()\n",
        "#train['specific_location'].fillna('unspecified',inplace=True)\n",
        "train['specific_location']=train['specific_location'].dropna(how='any',axis=0)"
      ],
      "execution_count": 0,
      "outputs": []
    },
    {
      "cell_type": "code",
      "metadata": {
        "id": "wDw6BX8ciRbb",
        "colab_type": "code",
        "colab": {
          "base_uri": "https://localhost:8080/",
          "height": 85
        },
        "outputId": "5e18307c-8955-46a2-a8df-085113d66e75"
      },
      "source": [
        "#rows with null values\n",
        "train.loc[train['specific_location'].isnull()].index"
      ],
      "execution_count": 96,
      "outputs": [
        {
          "output_type": "execute_result",
          "data": {
            "text/plain": [
              "Int64Index([  9,  15,  18,  20,  40,  42,  70,  76,  80,  86,  92, 105, 123,\n",
              "            137, 140, 146, 159, 169, 170, 174, 182, 189, 203, 204, 206, 220,\n",
              "            235, 238, 242, 252, 258, 259, 268, 269, 278, 286, 294],\n",
              "           dtype='int64')"
            ]
          },
          "metadata": {
            "tags": []
          },
          "execution_count": 96
        }
      ]
    },
    {
      "cell_type": "code",
      "metadata": {
        "id": "Dc3SpSHRipSN",
        "colab_type": "code",
        "colab": {}
      },
      "source": [
        "#drop row index with null values\n",
        "train=train.drop([  9,  15,  18,  20,  40,  42,  70,  76,  80,  86,  92, 105, 123,\n",
        "            137, 140, 146, 159, 169, 170, 174, 182, 189, 203, 204, 206, 220,\n",
        "            235, 238, 242, 252, 258, 259, 268, 269, 278, 286, 294])"
      ],
      "execution_count": 0,
      "outputs": []
    },
    {
      "cell_type": "code",
      "metadata": {
        "id": "IFoLgJ-w33PB",
        "colab_type": "code",
        "outputId": "436a422d-c882-4c8a-c357-1a99021100eb",
        "colab": {
          "base_uri": "https://localhost:8080/",
          "height": 204
        }
      },
      "source": [
        "#checking for NaN values again\n",
        "train.isnull().sum()"
      ],
      "execution_count": 98,
      "outputs": [
        {
          "output_type": "execute_result",
          "data": {
            "text/plain": [
              "page                 0\n",
              "location             0\n",
              "specific_location    0\n",
              "features             0\n",
              "bedrooms             0\n",
              "bathrooms            0\n",
              "toilets              0\n",
              "description          0\n",
              "other_description    0\n",
              "price                0\n",
              "dtype: int64"
            ]
          },
          "metadata": {
            "tags": []
          },
          "execution_count": 98
        }
      ]
    },
    {
      "cell_type": "code",
      "metadata": {
        "id": "4GYB0kshus9g",
        "colab_type": "code",
        "outputId": "2f843b69-0352-4608-93d8-426e2ed9cf2d",
        "colab": {
          "base_uri": "https://localhost:8080/",
          "height": 629
        }
      },
      "source": [
        "#checking toilet \n",
        "print(train['bedrooms'].unique())\n",
        "print(train['bedrooms'].nunique())\n",
        "\n",
        "print(train['toilets'].unique())\n",
        "print(train['toilets'].nunique())\n",
        "\n",
        "print(train['bathrooms'].unique())\n",
        "print(train['bathrooms'].nunique())\n",
        "\n",
        "print(train['price'].unique())\n",
        "print(train['price'].nunique())"
      ],
      "execution_count": 99,
      "outputs": [
        {
          "output_type": "stream",
          "text": [
            "[2 3 1 5 4 0 6 8 7 9]\n",
            "10\n",
            "['2' '3' '4' '1' '6' '5' '0' ' ' '7' '8' '9']\n",
            "11\n",
            "['2' '3' '1' '5' '4' '0' ' ' '6' '8' '7' '9']\n",
            "11\n",
            "[' 800000' ' 1000000' ' 1800000' ' 1300000' ' 900000' ' 450000' ' 550000'\n",
            " ' 400000' ' 600000' ' 2000000' ' 1500000' ' 1600000' ' 2700000'\n",
            " ' 3500000' ' 1200000' ' 1100000' ' 950000' ' 250000' ' 280000' ' 2300000'\n",
            " ' 500000' ' 3000000' ' 2500000' ' 700000' ' 750000' ' 300000' ' 650000'\n",
            " ' 850000' ' 3000' ' 45000' ' 350000' ' 200000' ' 220000' ' 65000000'\n",
            " ' 150' ' 400' ' 150000' ' 6000000' ' 6500000' ' 5500000' ' 7500000'\n",
            " ' 3200000' ' 7000000' ' 24000000' ' 4000000' ' 5000000' ' 70000000'\n",
            " ' 2800000' ' 60000' ' 15000' ' 35000' ' 20000' ' 25000' ' 20000000'\n",
            " ' 8000000' ' 3800000' ' 28000000' ' 85000' ' 12000000' ' 10500000'\n",
            " ' 14000000' ' 4500000' ' 15000000' ' 4160000' ' 10000000' ' 1400000'\n",
            " ' 85000000' ' 30000000' ' 9585000' ' 58000000' ' 1200' ' 6800000'\n",
            " ' 8500000' ' 1700000' ' 25000000' ' 16000000' ' 13000000' ' 2200000'\n",
            " ' 31344300' ' 300000000' ' 41600000' ' 4800000' ' 2000000000'\n",
            " ' 110000000' ' 55000000' ' 180000' ' 40000' ' 1250000' '$ 800000'\n",
            " ' 40000000' ' 25000000000' ' 32000000' ' 120000' ' 170000' ' 380000'\n",
            " ' 320000' ' 700' ' 1500000000' ' 370000' ' 36000' ' 2600000' ' 3600000'\n",
            " ' 50000' ' 3300000' ' 45000000' ' 90000000' ' 11000000' ' 250000000'\n",
            " ' 2750000' ' 2400000' ' 33000' ' 37000000' ' 1900000' ' 4950000'\n",
            " ' 2900000' ' 33000000' ' 75000000' ' 2350000' ' 2500000000' ' 870000'\n",
            " ' 1435000' ' 48000000' ' 200000000' ' 96000000' ' 35000000' ' 2100000'\n",
            " ' 79000000' ' 80000' ' 70000' ' 13500000' ' 7700000' ' 60000000'\n",
            " ' 80000000' ' 56000000' ' 18000000' ' 4120000' ' 36000000' ' 3700000'\n",
            " ' 160000' ' 4300000' ' 6600000' ' 185000000' ' 100000000' ' 400000000'\n",
            " ' 9000000' ' 1850000' ' 4600000' '$ 4000000' ' 815000' ' 9500000'\n",
            " ' 120000000' ' 150000000' ' 5200000' ' 455000' ' 30000' ' 230000'\n",
            " ' 5750000' ' 38000000' ' 7000000000' ' 2730000' ' 4200000' ' 47000000'\n",
            " ' 330000' ' 105000000' ' 52000000' ' 3510750' ' 140000' ' 570000'\n",
            " ' 270000' ' 600' ' 750' ' 110000' ' 100000' ' 84000' ' 130000' ' 72000'\n",
            " ' 350' ' 300' ' 250']\n",
            "179\n"
          ],
          "name": "stdout"
        }
      ]
    },
    {
      "cell_type": "code",
      "metadata": {
        "id": "vVPpO2Ql4Q3v",
        "colab_type": "code",
        "colab": {}
      },
      "source": [
        "#removing string $ from the prices\n",
        "import re\n",
        "train['price']=train['price'].apply(lambda x:re.sub('\\D',\"\",x))"
      ],
      "execution_count": 0,
      "outputs": []
    },
    {
      "cell_type": "code",
      "metadata": {
        "id": "ZnSYNQB0rlyI",
        "colab_type": "code",
        "colab": {}
      },
      "source": [
        "#train['bathrooms']=train['bathrooms'].apply(lambda x: '0' if x=='' else 'unspecified')\n",
        "train.loc[train['bathrooms']==' ','bathrooms']='0'\n",
        "train.loc[train['toilets']==' ','toilets']='0'"
      ],
      "execution_count": 0,
      "outputs": []
    },
    {
      "cell_type": "code",
      "metadata": {
        "id": "8V0-qi_0pNqn",
        "colab_type": "code",
        "colab": {}
      },
      "source": [
        "#convert price to integer\n",
        "train['price'] = train['price'].astype(int)\n",
        "train['bedrooms'] = train['bedrooms'].astype(int)\n",
        "train['bathrooms'] = train['bathrooms'].astype(int)\n",
        "train['toilets'] = train['toilets'].astype(int)"
      ],
      "execution_count": 0,
      "outputs": []
    },
    {
      "cell_type": "code",
      "metadata": {
        "id": "vaF0pCZ78o2t",
        "colab_type": "code",
        "outputId": "54151276-cf28-48a7-c870-03060ff5eb49",
        "colab": {
          "base_uri": "https://localhost:8080/",
          "height": 306
        }
      },
      "source": [
        "#checking for NaN values again\n",
        "train.info()"
      ],
      "execution_count": 103,
      "outputs": [
        {
          "output_type": "stream",
          "text": [
            "<class 'pandas.core.frame.DataFrame'>\n",
            "Int64Index: 4317 entries, 0 to 4353\n",
            "Data columns (total 10 columns):\n",
            " #   Column             Non-Null Count  Dtype \n",
            "---  ------             --------------  ----- \n",
            " 0   page               4317 non-null   int64 \n",
            " 1   location           4317 non-null   object\n",
            " 2   specific_location  4317 non-null   object\n",
            " 3   features           4317 non-null   object\n",
            " 4   bedrooms           4317 non-null   int64 \n",
            " 5   bathrooms          4317 non-null   int64 \n",
            " 6   toilets            4317 non-null   int64 \n",
            " 7   description        4317 non-null   object\n",
            " 8   other_description  4317 non-null   object\n",
            " 9   price              4317 non-null   int64 \n",
            "dtypes: int64(5), object(5)\n",
            "memory usage: 371.0+ KB\n"
          ],
          "name": "stdout"
        }
      ]
    },
    {
      "cell_type": "code",
      "metadata": {
        "id": "iTHT0jOH-uYR",
        "colab_type": "code",
        "colab": {}
      },
      "source": [
        "train=train.drop(['page','features'],axis=1)"
      ],
      "execution_count": 0,
      "outputs": []
    },
    {
      "cell_type": "code",
      "metadata": {
        "id": "bAe3VtDb_ECd",
        "colab_type": "code",
        "outputId": "41f4ceb4-0727-4fb8-8ad6-9ca156350f08",
        "colab": {
          "base_uri": "https://localhost:8080/",
          "height": 272
        }
      },
      "source": [
        "train.info()"
      ],
      "execution_count": 105,
      "outputs": [
        {
          "output_type": "stream",
          "text": [
            "<class 'pandas.core.frame.DataFrame'>\n",
            "Int64Index: 4317 entries, 0 to 4353\n",
            "Data columns (total 8 columns):\n",
            " #   Column             Non-Null Count  Dtype \n",
            "---  ------             --------------  ----- \n",
            " 0   location           4317 non-null   object\n",
            " 1   specific_location  4317 non-null   object\n",
            " 2   bedrooms           4317 non-null   int64 \n",
            " 3   bathrooms          4317 non-null   int64 \n",
            " 4   toilets            4317 non-null   int64 \n",
            " 5   description        4317 non-null   object\n",
            " 6   other_description  4317 non-null   object\n",
            " 7   price              4317 non-null   int64 \n",
            "dtypes: int64(4), object(4)\n",
            "memory usage: 303.5+ KB\n"
          ],
          "name": "stdout"
        }
      ]
    },
    {
      "cell_type": "code",
      "metadata": {
        "id": "u8VYyKiw_RUb",
        "colab_type": "code",
        "colab": {}
      },
      "source": [
        "#create new features\n",
        "train['estate_flag'] = train['specific_location'].apply(lambda x: len([c for c in str(x).lower().split() if \"estate\" in c]))\n",
        "train['terrace_flag'] = train['other_description'].apply(lambda x: len([c for c in str(x).lower().split() if \"terraced\" \n",
        "                                                                  in c or \"terrace\" in c or \"detached\" in c\n",
        "                                                                 or \"duplex\" in c]))\n",
        "train['new_flag'] = train['other_description'].apply(lambda x: len([c for c in str(x).lower().split()\n",
        "                                                              if \"new\" in c or \"luxur\" in c \n",
        "                                                              or \"executive\" in c]))\n",
        "train['serviced_flag'] = train['other_description'].apply(lambda x: len([c for c in str(x).lower().split() if \"service\" in c]))"
      ],
      "execution_count": 0,
      "outputs": []
    },
    {
      "cell_type": "code",
      "metadata": {
        "id": "O5wRMbE__n4w",
        "colab_type": "code",
        "outputId": "2c313f6d-6dd0-4894-9a8e-ccc75662c93c",
        "colab": {
          "base_uri": "https://localhost:8080/",
          "height": 222
        }
      },
      "source": [
        "corr= train.corr()\n",
        "#corr\n",
        "f, ax = plt.subplots(figsize=(20, 5))\n",
        "sns.heatmap(corr,cmap='coolwarm',linewidths=2.0, annot=True)"
      ],
      "execution_count": 107,
      "outputs": [
        {
          "output_type": "execute_result",
          "data": {
            "text/plain": [
              "<matplotlib.axes._subplots.AxesSubplot at 0x7f8da4e965f8>"
            ]
          },
          "metadata": {
            "tags": []
          },
          "execution_count": 107
        },
        {
          "output_type": "display_data",
          "data": {
            "image/png": "[encoded data removed]",
            "text/plain": [
              "<Figure size 1440x360 with 2 Axes>"
            ]
          },
          "metadata": {
            "tags": [],
            "needs_background": "light"
          }
        }
      ]
    },
    {
      "cell_type": "code",
      "metadata": {
        "id": "Zr1R-FWdAD1p",
        "colab_type": "code",
        "outputId": "ee2633f2-0d1a-444d-ddc2-b27f4a71e9e6",
        "colab": {
          "base_uri": "https://localhost:8080/",
          "height": 317
        }
      },
      "source": [
        "corr"
      ],
      "execution_count": 108,
      "outputs": [
        {
          "output_type": "execute_result",
          "data": {
            "text/html": [
              "<div>\n",
              "<style scoped>\n",
              "    .dataframe tbody tr th:only-of-type {\n",
              "        vertical-align: middle;\n",
              "    }\n",
              "\n",
              "    .dataframe tbody tr th {\n",
              "        vertical-align: top;\n",
              "    }\n",
              "\n",
              "    .dataframe thead th {\n",
              "        text-align: right;\n",
              "    }\n",
              "</style>\n",
              "<table border=\"1\" class=\"dataframe\">\n",
              "  <thead>\n",
              "    <tr style=\"text-align: right;\">\n",
              "      <th></th>\n",
              "      <th>bedrooms</th>\n",
              "      <th>bathrooms</th>\n",
              "      <th>toilets</th>\n",
              "      <th>price</th>\n",
              "      <th>estate_flag</th>\n",
              "      <th>terrace_flag</th>\n",
              "      <th>new_flag</th>\n",
              "      <th>serviced_flag</th>\n",
              "    </tr>\n",
              "  </thead>\n",
              "  <tbody>\n",
              "    <tr>\n",
              "      <th>bedrooms</th>\n",
              "      <td>1.000000</td>\n",
              "      <td>0.733738</td>\n",
              "      <td>0.693778</td>\n",
              "      <td>-0.010873</td>\n",
              "      <td>0.048101</td>\n",
              "      <td>0.527859</td>\n",
              "      <td>0.033334</td>\n",
              "      <td>0.019594</td>\n",
              "    </tr>\n",
              "    <tr>\n",
              "      <th>bathrooms</th>\n",
              "      <td>0.733738</td>\n",
              "      <td>1.000000</td>\n",
              "      <td>0.932390</td>\n",
              "      <td>0.003934</td>\n",
              "      <td>0.055874</td>\n",
              "      <td>0.396368</td>\n",
              "      <td>0.142175</td>\n",
              "      <td>0.057231</td>\n",
              "    </tr>\n",
              "    <tr>\n",
              "      <th>toilets</th>\n",
              "      <td>0.693778</td>\n",
              "      <td>0.932390</td>\n",
              "      <td>1.000000</td>\n",
              "      <td>-0.000856</td>\n",
              "      <td>0.058165</td>\n",
              "      <td>0.371068</td>\n",
              "      <td>0.153788</td>\n",
              "      <td>0.113352</td>\n",
              "    </tr>\n",
              "    <tr>\n",
              "      <th>price</th>\n",
              "      <td>-0.010873</td>\n",
              "      <td>0.003934</td>\n",
              "      <td>-0.000856</td>\n",
              "      <td>1.000000</td>\n",
              "      <td>-0.009570</td>\n",
              "      <td>0.001652</td>\n",
              "      <td>0.020373</td>\n",
              "      <td>-0.013368</td>\n",
              "    </tr>\n",
              "    <tr>\n",
              "      <th>estate_flag</th>\n",
              "      <td>0.048101</td>\n",
              "      <td>0.055874</td>\n",
              "      <td>0.058165</td>\n",
              "      <td>-0.009570</td>\n",
              "      <td>1.000000</td>\n",
              "      <td>0.025155</td>\n",
              "      <td>0.062286</td>\n",
              "      <td>-0.000632</td>\n",
              "    </tr>\n",
              "    <tr>\n",
              "      <th>terrace_flag</th>\n",
              "      <td>0.527859</td>\n",
              "      <td>0.396368</td>\n",
              "      <td>0.371068</td>\n",
              "      <td>0.001652</td>\n",
              "      <td>0.025155</td>\n",
              "      <td>1.000000</td>\n",
              "      <td>0.076345</td>\n",
              "      <td>-0.020046</td>\n",
              "    </tr>\n",
              "    <tr>\n",
              "      <th>new_flag</th>\n",
              "      <td>0.033334</td>\n",
              "      <td>0.142175</td>\n",
              "      <td>0.153788</td>\n",
              "      <td>0.020373</td>\n",
              "      <td>0.062286</td>\n",
              "      <td>0.076345</td>\n",
              "      <td>1.000000</td>\n",
              "      <td>0.089289</td>\n",
              "    </tr>\n",
              "    <tr>\n",
              "      <th>serviced_flag</th>\n",
              "      <td>0.019594</td>\n",
              "      <td>0.057231</td>\n",
              "      <td>0.113352</td>\n",
              "      <td>-0.013368</td>\n",
              "      <td>-0.000632</td>\n",
              "      <td>-0.020046</td>\n",
              "      <td>0.089289</td>\n",
              "      <td>1.000000</td>\n",
              "    </tr>\n",
              "  </tbody>\n",
              "</table>\n",
              "</div>"
            ],
            "text/plain": [
              "               bedrooms  bathrooms  ...  new_flag  serviced_flag\n",
              "bedrooms       1.000000   0.733738  ...  0.033334       0.019594\n",
              "bathrooms      0.733738   1.000000  ...  0.142175       0.057231\n",
              "toilets        0.693778   0.932390  ...  0.153788       0.113352\n",
              "price         -0.010873   0.003934  ...  0.020373      -0.013368\n",
              "estate_flag    0.048101   0.055874  ...  0.062286      -0.000632\n",
              "terrace_flag   0.527859   0.396368  ...  0.076345      -0.020046\n",
              "new_flag       0.033334   0.142175  ...  1.000000       0.089289\n",
              "serviced_flag  0.019594   0.057231  ...  0.089289       1.000000\n",
              "\n",
              "[8 rows x 8 columns]"
            ]
          },
          "metadata": {
            "tags": []
          },
          "execution_count": 108
        }
      ]
    },
    {
      "cell_type": "code",
      "metadata": {
        "id": "f8vPfjb4AInC",
        "colab_type": "code",
        "outputId": "7b70baab-1a50-43bf-df9a-be5b468e7403",
        "colab": {
          "base_uri": "https://localhost:8080/",
          "height": 295
        }
      },
      "source": [
        "#Examine distribution of all houses to identify outliers\n",
        "train['price'].plot(kind=\"hist\")"
      ],
      "execution_count": 109,
      "outputs": [
        {
          "output_type": "execute_result",
          "data": {
            "text/plain": [
              "<matplotlib.axes._subplots.AxesSubplot at 0x7f8da523fb00>"
            ]
          },
          "metadata": {
            "tags": []
          },
          "execution_count": 109
        },
        {
          "output_type": "display_data",
          "data": {
            "image/png": "[encoded data removed]",
            "text/plain": [
              "<Figure size 432x288 with 1 Axes>"
            ]
          },
          "metadata": {
            "tags": [],
            "needs_background": "light"
          }
        }
      ]
    },
    {
      "cell_type": "code",
      "metadata": {
        "id": "5U4mKq72AooK",
        "colab_type": "code",
        "outputId": "4f23192f-582d-4873-a2b9-14d070dfef94",
        "colab": {
          "base_uri": "https://localhost:8080/",
          "height": 347
        }
      },
      "source": [
        "#Inspect the distribution of houses per location and size of house\n",
        "import matplotlib.pyplot as plt\n",
        "fig = plt.figure(figsize=(15,7))\n",
        "fig.add_subplot(1, 3, 1)\n",
        "train['price'][(train['location']==\"gbagada\")&(train['bedrooms']==1)].plot(kind=\"hist\")\n",
        "fig.add_subplot(1, 3, 2)\n",
        "train['price'][(train['location']==\"surulere\")&(train['bedrooms']==1)].plot(kind=\"hist\")\n",
        "fig.add_subplot(1, 3, 3)\n",
        "train['price'][(train['location']==\"yaba\")&(train['bedrooms']==1)].plot(kind=\"hist\")\n",
        "\n",
        "\n"
      ],
      "execution_count": 110,
      "outputs": [
        {
          "output_type": "execute_result",
          "data": {
            "text/plain": [
              "<matplotlib.axes._subplots.AxesSubplot at 0x7f8da4af3358>"
            ]
          },
          "metadata": {
            "tags": []
          },
          "execution_count": 110
        },
        {
          "output_type": "display_data",
          "data": {
            "image/png": "[encoded data removed]",
            "text/plain": [
              "<Figure size 1080x504 with 3 Axes>"
            ]
          },
          "metadata": {
            "tags": [],
            "needs_background": "light"
          }
        }
      ]
    },
    {
      "cell_type": "code",
      "metadata": {
        "id": "sXZoqkVqDADZ",
        "colab_type": "code",
        "outputId": "e80c2b9e-aa3a-4a02-c2c7-bffc93a6446d",
        "colab": {
          "base_uri": "https://localhost:8080/",
          "height": 267
        }
      },
      "source": [
        "fig = plt.figure(figsize=(15,5))\n",
        "fig.add_subplot(1, 3, 1)\n",
        "train['price'][(train['location']==\"ikeja\")&(train['bedrooms']==1)].plot(kind=\"hist\")\n",
        "fig.add_subplot(1, 3, 2)\n",
        "train['price'][(train['location']==\"ajah\")&(train['bedrooms']==1)].plot(kind=\"hist\")\n",
        "fig.add_subplot(1, 3, 3)\n",
        "train['price'][(train['location']==\"iyana ipaja\")&(train['bedrooms']==1)].plot(kind=\"hist\")\n"
      ],
      "execution_count": 111,
      "outputs": [
        {
          "output_type": "execute_result",
          "data": {
            "text/plain": [
              "<matplotlib.axes._subplots.AxesSubplot at 0x7f8da59651d0>"
            ]
          },
          "metadata": {
            "tags": []
          },
          "execution_count": 111
        },
        {
          "output_type": "display_data",
          "data": {
            "image/png": "[encoded data removed]",
            "text/plain": [
              "<Figure size 1080x360 with 3 Axes>"
            ]
          },
          "metadata": {
            "tags": [],
            "needs_background": "light"
          }
        }
      ]
    },
    {
      "cell_type": "code",
      "metadata": {
        "id": "_5SkHM2gDGCk",
        "colab_type": "code",
        "outputId": "3e5d0d3b-23ce-4409-ac8c-b912662fcdb5",
        "colab": {
          "base_uri": "https://localhost:8080/",
          "height": 266
        }
      },
      "source": [
        "fig = plt.figure(figsize=(15,5))\n",
        "fig.add_subplot(1, 3, 1)\n",
        "train['price'][(train['location']==\"lekki\")&(train['bedrooms']==1)].plot(kind=\"hist\")\n",
        "fig.add_subplot(1, 3, 2)\n",
        "train['price'][(train['location']==\"ikorodu\")&(train['bedrooms']==1)].plot(kind=\"hist\")\n",
        "fig.add_subplot(1, 3, 3)\n",
        "train['price'][(train['location']==\"ogba\")&(train['bedrooms']==1)].plot(kind=\"hist\")"
      ],
      "execution_count": 112,
      "outputs": [
        {
          "output_type": "execute_result",
          "data": {
            "text/plain": [
              "<matplotlib.axes._subplots.AxesSubplot at 0x7f8da4f8bf28>"
            ]
          },
          "metadata": {
            "tags": []
          },
          "execution_count": 112
        },
        {
          "output_type": "display_data",
          "data": {
            "image/png": "[encoded data removed]",
            "text/plain": [
              "<Figure size 1080x360 with 3 Axes>"
            ]
          },
          "metadata": {
            "tags": [],
            "needs_background": "light"
          }
        }
      ]
    },
    {
      "cell_type": "code",
      "metadata": {
        "id": "KxsK7bH5ErAQ",
        "colab_type": "code",
        "outputId": "38025228-e428-470d-fffa-e8145d172245",
        "colab": {
          "base_uri": "https://localhost:8080/",
          "height": 782
        }
      },
      "source": [
        "#Since some houses may have missing info it means some estate/serviced houses are not called estate/serviced houses. \n",
        "#Assumptions are made around houses which are not identified as estate/ service houses. \n",
        "#The median/50th percentile of those houses is identified and any house above the median is considered as estate.\n",
        "#Houses higher than 80th percentile are classified as serviced\n",
        "\n",
        "\n",
        "estate_price = []\n",
        "import numpy as np\n",
        "for location in [\"gbagada\",\"surulere\",\"yaba\",\"ogba\",\"lekki\",\"ikeja\",\"iyana ipaja\",\"ikorodu\",\"ajah\"]:\n",
        "    for i in range(1,6):\n",
        "        d = {}\n",
        "        d['location'] = location\n",
        "        d['bedspace'] = i\n",
        "        try:\n",
        "            d['estate_price'] = np.percentile(train['price'][(train['location']==location)&(train['bedrooms']==i)&(train['estate_flag']==0)],50)\n",
        "            d['serviced_price'] = np.percentile(train['price'][(train['location']==location)&(train['bedrooms']==i)&(train['estate_flag']==0)],80)\n",
        "        except (IndexError,TypeError) as e:\n",
        "            d['serviced_price'] = 0\n",
        "            d['estate_price'] = 0\n",
        "        estate_price.append(d)\n",
        "        try:\n",
        "            print(\"This is the median for {bed} bedroom in {location} : \".format(bed = i,location = location) ,np.percentile(train['price'][(train['location']==location)&(train['bedrooms']==i)&(train['estate_flag']==0)],50))\n",
        "        except (IndexError,TypeError) as e:\n",
        "            print(\"This is the median for {bed} bedroom in {location} : \".format(bed = i,location = location) ,0)"
      ],
      "execution_count": 113,
      "outputs": [
        {
          "output_type": "stream",
          "text": [
            "This is the median for 1 bedroom in gbagada :  450000.0\n",
            "This is the median for 2 bedroom in gbagada :  925000.0\n",
            "This is the median for 3 bedroom in gbagada :  1300000.0\n",
            "This is the median for 4 bedroom in gbagada :  2750000.0\n",
            "This is the median for 5 bedroom in gbagada :  2000000.0\n",
            "This is the median for 1 bedroom in surulere :  450000.0\n",
            "This is the median for 2 bedroom in surulere :  800000.0\n",
            "This is the median for 3 bedroom in surulere :  1250000.0\n",
            "This is the median for 4 bedroom in surulere :  2500000.0\n",
            "This is the median for 5 bedroom in surulere :  4000000.0\n",
            "This is the median for 1 bedroom in yaba :  0\n",
            "This is the median for 2 bedroom in yaba :  0\n",
            "This is the median for 3 bedroom in yaba :  0\n",
            "This is the median for 4 bedroom in yaba :  0\n",
            "This is the median for 5 bedroom in yaba :  0\n",
            "This is the median for 1 bedroom in ogba :  350000.0\n",
            "This is the median for 2 bedroom in ogba :  600000.0\n",
            "This is the median for 3 bedroom in ogba :  750000.0\n",
            "This is the median for 4 bedroom in ogba :  1125000.0\n",
            "This is the median for 5 bedroom in ogba :  3000000.0\n",
            "This is the median for 1 bedroom in lekki :  1000000.0\n",
            "This is the median for 2 bedroom in lekki :  2000000.0\n",
            "This is the median for 3 bedroom in lekki :  2500000.0\n",
            "This is the median for 4 bedroom in lekki :  3500000.0\n",
            "This is the median for 5 bedroom in lekki :  5500000.0\n",
            "This is the median for 1 bedroom in ikeja :  800000.0\n",
            "This is the median for 2 bedroom in ikeja :  1300000.0\n",
            "This is the median for 3 bedroom in ikeja :  2500000.0\n",
            "This is the median for 4 bedroom in ikeja :  4500000.0\n",
            "This is the median for 5 bedroom in ikeja :  6500000.0\n",
            "This is the median for 1 bedroom in iyana ipaja :  150000.0\n",
            "This is the median for 2 bedroom in iyana ipaja :  400000.0\n",
            "This is the median for 3 bedroom in iyana ipaja :  575000.0\n",
            "This is the median for 4 bedroom in iyana ipaja :  0\n",
            "This is the median for 5 bedroom in iyana ipaja :  0\n",
            "This is the median for 1 bedroom in ikorodu :  120000.0\n",
            "This is the median for 2 bedroom in ikorodu :  250000.0\n",
            "This is the median for 3 bedroom in ikorodu :  350000.0\n",
            "This is the median for 4 bedroom in ikorodu :  600000.0\n",
            "This is the median for 5 bedroom in ikorodu :  0\n",
            "This is the median for 1 bedroom in ajah :  350000.0\n",
            "This is the median for 2 bedroom in ajah :  800000.0\n",
            "This is the median for 3 bedroom in ajah :  1100000.0\n",
            "This is the median for 4 bedroom in ajah :  2200000.0\n",
            "This is the median for 5 bedroom in ajah :  3000000.0\n"
          ],
          "name": "stdout"
        }
      ]
    },
    {
      "cell_type": "code",
      "metadata": {
        "id": "EkbRLRu1XwRo",
        "colab_type": "code",
        "colab": {}
      },
      "source": [
        "#save the output in a dataframe and in order to merge with original dataframe\n",
        "estate_price=pd.DataFrame(estate_price)\n",
        "estate_price['locationbed'] = estate_price['location'] + estate_price['bedspace'].astype(str)\n",
        "estate_price = estate_price.drop([\"location\",\"bedspace\"],axis=1)"
      ],
      "execution_count": 0,
      "outputs": []
    },
    {
      "cell_type": "code",
      "metadata": {
        "id": "eLEAgL7eaGHe",
        "colab_type": "code",
        "colab": {
          "base_uri": "https://localhost:8080/",
          "height": 204
        },
        "outputId": "625f09ca-dc56-4d9c-f921-6b810cf6c5f7"
      },
      "source": [
        "estate_price.head()"
      ],
      "execution_count": 115,
      "outputs": [
        {
          "output_type": "execute_result",
          "data": {
            "text/html": [
              "<div>\n",
              "<style scoped>\n",
              "    .dataframe tbody tr th:only-of-type {\n",
              "        vertical-align: middle;\n",
              "    }\n",
              "\n",
              "    .dataframe tbody tr th {\n",
              "        vertical-align: top;\n",
              "    }\n",
              "\n",
              "    .dataframe thead th {\n",
              "        text-align: right;\n",
              "    }\n",
              "</style>\n",
              "<table border=\"1\" class=\"dataframe\">\n",
              "  <thead>\n",
              "    <tr style=\"text-align: right;\">\n",
              "      <th></th>\n",
              "      <th>estate_price</th>\n",
              "      <th>serviced_price</th>\n",
              "      <th>locationbed</th>\n",
              "    </tr>\n",
              "  </thead>\n",
              "  <tbody>\n",
              "    <tr>\n",
              "      <th>0</th>\n",
              "      <td>450000.0</td>\n",
              "      <td>600000.0</td>\n",
              "      <td>gbagada1</td>\n",
              "    </tr>\n",
              "    <tr>\n",
              "      <th>1</th>\n",
              "      <td>925000.0</td>\n",
              "      <td>1000000.0</td>\n",
              "      <td>gbagada2</td>\n",
              "    </tr>\n",
              "    <tr>\n",
              "      <th>2</th>\n",
              "      <td>1300000.0</td>\n",
              "      <td>2460000.0</td>\n",
              "      <td>gbagada3</td>\n",
              "    </tr>\n",
              "    <tr>\n",
              "      <th>3</th>\n",
              "      <td>2750000.0</td>\n",
              "      <td>3000000.0</td>\n",
              "      <td>gbagada4</td>\n",
              "    </tr>\n",
              "    <tr>\n",
              "      <th>4</th>\n",
              "      <td>2000000.0</td>\n",
              "      <td>2600000.0</td>\n",
              "      <td>gbagada5</td>\n",
              "    </tr>\n",
              "  </tbody>\n",
              "</table>\n",
              "</div>"
            ],
            "text/plain": [
              "   estate_price  serviced_price locationbed\n",
              "0      450000.0        600000.0    gbagada1\n",
              "1      925000.0       1000000.0    gbagada2\n",
              "2     1300000.0       2460000.0    gbagada3\n",
              "3     2750000.0       3000000.0    gbagada4\n",
              "4     2000000.0       2600000.0    gbagada5"
            ]
          },
          "metadata": {
            "tags": []
          },
          "execution_count": 115
        }
      ]
    },
    {
      "cell_type": "code",
      "metadata": {
        "id": "Bw0oOAkaaZNT",
        "colab_type": "code",
        "colab": {}
      },
      "source": [
        "#merge to original dataframe to create new dataframe\n",
        "train['locationbed']  = train ['location'] + train ['bedrooms'].astype(str)\n",
        "train1 = pd.merge(train,estate_price, on =\"locationbed\", how = \"left\")"
      ],
      "execution_count": 0,
      "outputs": []
    },
    {
      "cell_type": "code",
      "metadata": {
        "id": "kaZHWa-xajtH",
        "colab_type": "code",
        "colab": {}
      },
      "source": [
        "#identify estate houses that were not called estate houses by assigning houses greater than median as estate houses\n",
        "#identify serviced houses that were not called serviced houses by assigning houses greater than 80th percentile as serviced houses\n",
        "#terrace houses are typically greater than 1.8m based on distribution\n",
        "train1['estate_flag'][(train1['bedrooms']==1)&(train1['price'] > train1['estate_price'])] = 1\n",
        "train1['estate_flag'][(train1['bedrooms']==2)&(train1['price'] > train1['estate_price'])] = 1\n",
        "train1['estate_flag'][(train1['bedrooms']==3)&(train1['price'] > train1['estate_price'])] = 1\n",
        "train1['estate_flag'][(train1['bedrooms']==4)&(train1['price'] > train1['estate_price'])] = 1\n",
        "train1['estate_flag'][(train1['bedrooms']==5)&(train1['price'] > train1['estate_price'])] = 1\n",
        "train1['serviced_flag'][(train1['bedrooms']==1)&(train1['price'] > train1['serviced_price'])] = 1\n",
        "train1['serviced_flag'][(train1['bedrooms']==2)&(train1['price'] > train1['serviced_price'])] = 1\n",
        "train1['serviced_flag'][(train1['bedrooms']==3)&(train1['price'] > train1['serviced_price'])] = 1\n",
        "train1['serviced_flag'][(train1['bedrooms']==4)&(train1['price'] > train1['serviced_price'])] = 1\n",
        "train1['serviced_flag'][(train1['bedrooms']==5)&(train1['price'] > train1['serviced_price'])] = 1"
      ],
      "execution_count": 0,
      "outputs": []
    },
    {
      "cell_type": "code",
      "metadata": {
        "id": "T54DDi8ZbQpC",
        "colab_type": "code",
        "colab": {
          "base_uri": "https://localhost:8080/",
          "height": 194
        },
        "outputId": "6a47d212-0393-499d-d138-5b773b1f2c89"
      },
      "source": [
        "#inspect houses that are terrace/duplex/detached to see if they are typically higher \n",
        "fig = plt.figure(figsize=(30,7))\n",
        "fig.add_subplot(1, 2, 1)\n",
        "train1['price'][train1['terrace_flag']==0].plot(kind=\"hist\")\n",
        "fig.add_subplot(1, 2, 2)\n",
        "train1['price'][train1['terrace_flag']==1].plot(kind=\"hist\")"
      ],
      "execution_count": 118,
      "outputs": [
        {
          "output_type": "execute_result",
          "data": {
            "text/plain": [
              "<matplotlib.axes._subplots.AxesSubplot at 0x7f8da3f0b978>"
            ]
          },
          "metadata": {
            "tags": []
          },
          "execution_count": 118
        },
        {
          "output_type": "display_data",
          "data": {
            "image/png": "[encoded data removed]",
            "text/plain": [
              "<Figure size 2160x504 with 2 Axes>"
            ]
          },
          "metadata": {
            "tags": [],
            "needs_background": "light"
          }
        }
      ]
    },
    {
      "cell_type": "code",
      "metadata": {
        "id": "o2JXt54obxj2",
        "colab_type": "code",
        "colab": {}
      },
      "source": [
        "#terrace houses are typically>1.8m from the above chart\n",
        "train1['terrace_flag'][train1['price'] > 1800000] = 1"
      ],
      "execution_count": 0,
      "outputs": []
    },
    {
      "cell_type": "code",
      "metadata": {
        "id": "s_hZCEoxb1mr",
        "colab_type": "code",
        "colab": {
          "base_uri": "https://localhost:8080/",
          "height": 419
        },
        "outputId": "aa4a08d0-cf4d-495f-9588-23b3c7a2e985"
      },
      "source": [
        "#Location is not giving the best results as a feature, however merging location and number of beds and ranking that \n",
        "#gives your model a better and stronger feature because the lower the rank, the lower the price.\n",
        "g = train1.groupby(['location','bedrooms'])['price'].median().reset_index().sort_values('price')\n",
        "g['location_rank']= g['price'].rank()#np.linspace(1,14,14)\n",
        "g['location_rank'] = g['location_rank'].astype(int)\n",
        "g['locationbed'] = g['location'] + g ['bedrooms'].astype(str)\n",
        "g = g.drop([\"price\",\"location\",\"bedrooms\"],axis=1)\n",
        "g\n",
        "#.columns"
      ],
      "execution_count": 120,
      "outputs": [
        {
          "output_type": "execute_result",
          "data": {
            "text/html": [
              "<div>\n",
              "<style scoped>\n",
              "    .dataframe tbody tr th:only-of-type {\n",
              "        vertical-align: middle;\n",
              "    }\n",
              "\n",
              "    .dataframe tbody tr th {\n",
              "        vertical-align: top;\n",
              "    }\n",
              "\n",
              "    .dataframe thead th {\n",
              "        text-align: right;\n",
              "    }\n",
              "</style>\n",
              "<table border=\"1\" class=\"dataframe\">\n",
              "  <thead>\n",
              "    <tr style=\"text-align: right;\">\n",
              "      <th></th>\n",
              "      <th>location_rank</th>\n",
              "      <th>locationbed</th>\n",
              "    </tr>\n",
              "  </thead>\n",
              "  <tbody>\n",
              "    <tr>\n",
              "      <th>27</th>\n",
              "      <td>1</td>\n",
              "      <td>ikorodu1</td>\n",
              "    </tr>\n",
              "    <tr>\n",
              "      <th>32</th>\n",
              "      <td>2</td>\n",
              "      <td>iyana ipaja1</td>\n",
              "    </tr>\n",
              "    <tr>\n",
              "      <th>26</th>\n",
              "      <td>4</td>\n",
              "      <td>ikorodu0</td>\n",
              "    </tr>\n",
              "    <tr>\n",
              "      <th>15</th>\n",
              "      <td>4</td>\n",
              "      <td>governors road alimosho iyana-ipaja extension ...</td>\n",
              "    </tr>\n",
              "    <tr>\n",
              "      <th>28</th>\n",
              "      <td>4</td>\n",
              "      <td>ikorodu2</td>\n",
              "    </tr>\n",
              "    <tr>\n",
              "      <th>...</th>\n",
              "      <td>...</td>\n",
              "      <td>...</td>\n",
              "    </tr>\n",
              "    <tr>\n",
              "      <th>41</th>\n",
              "      <td>57</td>\n",
              "      <td>lekki6</td>\n",
              "    </tr>\n",
              "    <tr>\n",
              "      <th>23</th>\n",
              "      <td>57</td>\n",
              "      <td>ikeja6</td>\n",
              "    </tr>\n",
              "    <tr>\n",
              "      <th>51</th>\n",
              "      <td>59</td>\n",
              "      <td>oniru victoria island lagos5</td>\n",
              "    </tr>\n",
              "    <tr>\n",
              "      <th>42</th>\n",
              "      <td>60</td>\n",
              "      <td>lekki7</td>\n",
              "    </tr>\n",
              "    <tr>\n",
              "      <th>24</th>\n",
              "      <td>61</td>\n",
              "      <td>ikeja7</td>\n",
              "    </tr>\n",
              "  </tbody>\n",
              "</table>\n",
              "<p>61 rows × 2 columns</p>\n",
              "</div>"
            ],
            "text/plain": [
              "    location_rank                                        locationbed\n",
              "27              1                                           ikorodu1\n",
              "32              2                                       iyana ipaja1\n",
              "26              4                                           ikorodu0\n",
              "15              4  governors road alimosho iyana-ipaja extension ...\n",
              "28              4                                           ikorodu2\n",
              "..            ...                                                ...\n",
              "41             57                                             lekki6\n",
              "23             57                                             ikeja6\n",
              "51             59                       oniru victoria island lagos5\n",
              "42             60                                             lekki7\n",
              "24             61                                             ikeja7\n",
              "\n",
              "[61 rows x 2 columns]"
            ]
          },
          "metadata": {
            "tags": []
          },
          "execution_count": 120
        }
      ]
    },
    {
      "cell_type": "code",
      "metadata": {
        "id": "MV0TkZ-TjcgV",
        "colab_type": "code",
        "colab": {}
      },
      "source": [
        ""
      ],
      "execution_count": 0,
      "outputs": []
    }
  ]
}