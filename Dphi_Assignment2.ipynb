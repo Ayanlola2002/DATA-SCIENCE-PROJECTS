{
  "nbformat": 4,
  "nbformat_minor": 0,
  "metadata": {
    "colab": {
      "name": "Dphi_Assignment2.ipynb",
      "provenance": [],
      "collapsed_sections": [],
      "authorship_tag": "ABX9TyMUxZGpH8XdAs0+pZs0Ftgg",
      "include_colab_link": true
    },
    "kernelspec": {
      "name": "python3",
      "display_name": "Python 3"
    }
  },
  "cells": [
    {
      "cell_type": "markdown",
      "metadata": {
        "id": "view-in-github",
        "colab_type": "text"
      },
      "source": [
        "<a href=\"https://colab.research.google.com/github/Ayanlola2002/DATA-SCIENCE-PROJECTS/blob/master/Dphi_Assignment2.ipynb\" target=\"_parent\"><img src=\"https://colab.research.google.com/assets/colab-badge.svg\" alt=\"Open In Colab\"/></a>"
      ]
    },
    {
      "cell_type": "code",
      "metadata": {
        "id": "YHLA-py0Q3ub"
      },
      "source": [
        "import pandas as pd\r\n",
        "import numpy as np\r\n",
        "import datetime\r\n",
        " \r\n",
        "import seaborn as sns\r\n",
        "import matplotlib.pyplot as plt\r\n",
        "from sklearn.metrics import accuracy_score,f1_score\r\n",
        "import warnings\r\n",
        "warnings.filterwarnings('ignore')"
      ],
      "execution_count": 105,
      "outputs": []
    },
    {
      "cell_type": "code",
      "metadata": {
        "id": "HUKoGM9QNj6v"
      },
      "source": [
        "train_data  = pd.read_csv(\"https://raw.githubusercontent.com/dphi-official/Datasets/master/Heart_Disease/Training_set_heart.csv\" )\r\n",
        "test_data = pd.read_csv('https://raw.githubusercontent.com/dphi-official/Datasets/master/Heart_Disease/Testing_set_heart.csv')"
      ],
      "execution_count": 106,
      "outputs": []
    },
    {
      "cell_type": "code",
      "metadata": {
        "colab": {
          "base_uri": "https://localhost:8080/",
          "height": 195
        },
        "id": "iwpiPrmgRmev",
        "outputId": "c779fb85-d164-4229-8cfb-2fd1ea41a058"
      },
      "source": [
        "train_data.head()"
      ],
      "execution_count": 107,
      "outputs": [
        {
          "output_type": "execute_result",
          "data": {
            "text/html": [
              "<div>\n",
              "<style scoped>\n",
              "    .dataframe tbody tr th:only-of-type {\n",
              "        vertical-align: middle;\n",
              "    }\n",
              "\n",
              "    .dataframe tbody tr th {\n",
              "        vertical-align: top;\n",
              "    }\n",
              "\n",
              "    .dataframe thead th {\n",
              "        text-align: right;\n",
              "    }\n",
              "</style>\n",
              "<table border=\"1\" class=\"dataframe\">\n",
              "  <thead>\n",
              "    <tr style=\"text-align: right;\">\n",
              "      <th></th>\n",
              "      <th>age</th>\n",
              "      <th>sex</th>\n",
              "      <th>cp</th>\n",
              "      <th>trestbps</th>\n",
              "      <th>chol</th>\n",
              "      <th>fbs</th>\n",
              "      <th>restecg</th>\n",
              "      <th>thalach</th>\n",
              "      <th>exang</th>\n",
              "      <th>oldpeak</th>\n",
              "      <th>slope</th>\n",
              "      <th>ca</th>\n",
              "      <th>thal</th>\n",
              "      <th>target</th>\n",
              "    </tr>\n",
              "  </thead>\n",
              "  <tbody>\n",
              "    <tr>\n",
              "      <th>0</th>\n",
              "      <td>48</td>\n",
              "      <td>1</td>\n",
              "      <td>2</td>\n",
              "      <td>124</td>\n",
              "      <td>255</td>\n",
              "      <td>1</td>\n",
              "      <td>1</td>\n",
              "      <td>175</td>\n",
              "      <td>0</td>\n",
              "      <td>0.0</td>\n",
              "      <td>2</td>\n",
              "      <td>2</td>\n",
              "      <td>2</td>\n",
              "      <td>1</td>\n",
              "    </tr>\n",
              "    <tr>\n",
              "      <th>1</th>\n",
              "      <td>68</td>\n",
              "      <td>0</td>\n",
              "      <td>2</td>\n",
              "      <td>120</td>\n",
              "      <td>211</td>\n",
              "      <td>0</td>\n",
              "      <td>0</td>\n",
              "      <td>115</td>\n",
              "      <td>0</td>\n",
              "      <td>1.5</td>\n",
              "      <td>1</td>\n",
              "      <td>0</td>\n",
              "      <td>2</td>\n",
              "      <td>1</td>\n",
              "    </tr>\n",
              "    <tr>\n",
              "      <th>2</th>\n",
              "      <td>46</td>\n",
              "      <td>1</td>\n",
              "      <td>0</td>\n",
              "      <td>120</td>\n",
              "      <td>249</td>\n",
              "      <td>0</td>\n",
              "      <td>0</td>\n",
              "      <td>144</td>\n",
              "      <td>0</td>\n",
              "      <td>0.8</td>\n",
              "      <td>2</td>\n",
              "      <td>0</td>\n",
              "      <td>3</td>\n",
              "      <td>0</td>\n",
              "    </tr>\n",
              "    <tr>\n",
              "      <th>3</th>\n",
              "      <td>60</td>\n",
              "      <td>1</td>\n",
              "      <td>0</td>\n",
              "      <td>130</td>\n",
              "      <td>253</td>\n",
              "      <td>0</td>\n",
              "      <td>1</td>\n",
              "      <td>144</td>\n",
              "      <td>1</td>\n",
              "      <td>1.4</td>\n",
              "      <td>2</td>\n",
              "      <td>1</td>\n",
              "      <td>3</td>\n",
              "      <td>0</td>\n",
              "    </tr>\n",
              "    <tr>\n",
              "      <th>4</th>\n",
              "      <td>43</td>\n",
              "      <td>1</td>\n",
              "      <td>0</td>\n",
              "      <td>115</td>\n",
              "      <td>303</td>\n",
              "      <td>0</td>\n",
              "      <td>1</td>\n",
              "      <td>181</td>\n",
              "      <td>0</td>\n",
              "      <td>1.2</td>\n",
              "      <td>1</td>\n",
              "      <td>0</td>\n",
              "      <td>2</td>\n",
              "      <td>1</td>\n",
              "    </tr>\n",
              "  </tbody>\n",
              "</table>\n",
              "</div>"
            ],
            "text/plain": [
              "   age  sex  cp  trestbps  chol  fbs  ...  exang  oldpeak  slope  ca  thal  target\n",
              "0   48    1   2       124   255    1  ...      0      0.0      2   2     2       1\n",
              "1   68    0   2       120   211    0  ...      0      1.5      1   0     2       1\n",
              "2   46    1   0       120   249    0  ...      0      0.8      2   0     3       0\n",
              "3   60    1   0       130   253    0  ...      1      1.4      2   1     3       0\n",
              "4   43    1   0       115   303    0  ...      0      1.2      1   0     2       1\n",
              "\n",
              "[5 rows x 14 columns]"
            ]
          },
          "metadata": {
            "tags": []
          },
          "execution_count": 107
        }
      ]
    },
    {
      "cell_type": "code",
      "metadata": {
        "colab": {
          "base_uri": "https://localhost:8080/"
        },
        "id": "yESrqr9iRvEH",
        "outputId": "f746cf7b-67d8-43d4-8d24-f8c917131220"
      },
      "source": [
        "train_data.isnull().sum()"
      ],
      "execution_count": 108,
      "outputs": [
        {
          "output_type": "execute_result",
          "data": {
            "text/plain": [
              "age         0\n",
              "sex         0\n",
              "cp          0\n",
              "trestbps    0\n",
              "chol        0\n",
              "fbs         0\n",
              "restecg     0\n",
              "thalach     0\n",
              "exang       0\n",
              "oldpeak     0\n",
              "slope       0\n",
              "ca          0\n",
              "thal        0\n",
              "target      0\n",
              "dtype: int64"
            ]
          },
          "metadata": {
            "tags": []
          },
          "execution_count": 108
        }
      ]
    },
    {
      "cell_type": "code",
      "metadata": {
        "colab": {
          "base_uri": "https://localhost:8080/"
        },
        "id": "SydyUaQ5RzEl",
        "outputId": "dc15143f-ac5e-4c96-e959-e95daef80bea"
      },
      "source": [
        "test_data.isnull().sum()"
      ],
      "execution_count": 109,
      "outputs": [
        {
          "output_type": "execute_result",
          "data": {
            "text/plain": [
              "age         0\n",
              "sex         0\n",
              "cp          0\n",
              "trestbps    0\n",
              "chol        0\n",
              "fbs         0\n",
              "restecg     0\n",
              "thalach     0\n",
              "exang       0\n",
              "oldpeak     0\n",
              "slope       0\n",
              "ca          0\n",
              "thal        0\n",
              "dtype: int64"
            ]
          },
          "metadata": {
            "tags": []
          },
          "execution_count": 109
        }
      ]
    },
    {
      "cell_type": "code",
      "metadata": {
        "colab": {
          "base_uri": "https://localhost:8080/"
        },
        "id": "YP5RhH78SGCe",
        "outputId": "5cbec5fa-f3b9-4d42-b9e3-8bf8076dfdad"
      },
      "source": [
        "train_data.skew()"
      ],
      "execution_count": 110,
      "outputs": [
        {
          "output_type": "execute_result",
          "data": {
            "text/plain": [
              "age        -0.268034\n",
              "sex        -0.820789\n",
              "cp          0.535785\n",
              "trestbps    0.571733\n",
              "chol        1.302705\n",
              "fbs         1.817011\n",
              "restecg     0.141633\n",
              "thalach    -0.474609\n",
              "exang       0.727326\n",
              "oldpeak     1.249342\n",
              "slope      -0.588684\n",
              "ca          1.224102\n",
              "thal       -0.634908\n",
              "target     -0.171644\n",
              "dtype: float64"
            ]
          },
          "metadata": {
            "tags": []
          },
          "execution_count": 110
        }
      ]
    },
    {
      "cell_type": "code",
      "metadata": {
        "colab": {
          "base_uri": "https://localhost:8080/",
          "height": 304
        },
        "id": "P84su4uuSPHm",
        "outputId": "c0676c80-14aa-434a-8ffd-d8e069d318c2"
      },
      "source": [
        "train_data.describe()"
      ],
      "execution_count": 111,
      "outputs": [
        {
          "output_type": "execute_result",
          "data": {
            "text/html": [
              "<div>\n",
              "<style scoped>\n",
              "    .dataframe tbody tr th:only-of-type {\n",
              "        vertical-align: middle;\n",
              "    }\n",
              "\n",
              "    .dataframe tbody tr th {\n",
              "        vertical-align: top;\n",
              "    }\n",
              "\n",
              "    .dataframe thead th {\n",
              "        text-align: right;\n",
              "    }\n",
              "</style>\n",
              "<table border=\"1\" class=\"dataframe\">\n",
              "  <thead>\n",
              "    <tr style=\"text-align: right;\">\n",
              "      <th></th>\n",
              "      <th>age</th>\n",
              "      <th>sex</th>\n",
              "      <th>cp</th>\n",
              "      <th>trestbps</th>\n",
              "      <th>chol</th>\n",
              "      <th>fbs</th>\n",
              "      <th>restecg</th>\n",
              "      <th>thalach</th>\n",
              "      <th>exang</th>\n",
              "      <th>oldpeak</th>\n",
              "      <th>slope</th>\n",
              "      <th>ca</th>\n",
              "      <th>thal</th>\n",
              "      <th>target</th>\n",
              "    </tr>\n",
              "  </thead>\n",
              "  <tbody>\n",
              "    <tr>\n",
              "      <th>count</th>\n",
              "      <td>212.000000</td>\n",
              "      <td>212.000000</td>\n",
              "      <td>212.000000</td>\n",
              "      <td>212.000000</td>\n",
              "      <td>212.000000</td>\n",
              "      <td>212.000000</td>\n",
              "      <td>212.000000</td>\n",
              "      <td>212.000000</td>\n",
              "      <td>212.000000</td>\n",
              "      <td>212.000000</td>\n",
              "      <td>212.000000</td>\n",
              "      <td>212.000000</td>\n",
              "      <td>212.000000</td>\n",
              "      <td>212.000000</td>\n",
              "    </tr>\n",
              "    <tr>\n",
              "      <th>mean</th>\n",
              "      <td>54.561321</td>\n",
              "      <td>0.688679</td>\n",
              "      <td>0.915094</td>\n",
              "      <td>132.127358</td>\n",
              "      <td>247.830189</td>\n",
              "      <td>0.165094</td>\n",
              "      <td>0.537736</td>\n",
              "      <td>148.995283</td>\n",
              "      <td>0.330189</td>\n",
              "      <td>1.008491</td>\n",
              "      <td>1.448113</td>\n",
              "      <td>0.783019</td>\n",
              "      <td>2.320755</td>\n",
              "      <td>0.542453</td>\n",
              "    </tr>\n",
              "    <tr>\n",
              "      <th>std</th>\n",
              "      <td>9.493376</td>\n",
              "      <td>0.464130</td>\n",
              "      <td>1.008193</td>\n",
              "      <td>17.440700</td>\n",
              "      <td>53.199877</td>\n",
              "      <td>0.372144</td>\n",
              "      <td>0.527437</td>\n",
              "      <td>23.332645</td>\n",
              "      <td>0.471394</td>\n",
              "      <td>1.141681</td>\n",
              "      <td>0.601850</td>\n",
              "      <td>1.066551</td>\n",
              "      <td>0.646495</td>\n",
              "      <td>0.499374</td>\n",
              "    </tr>\n",
              "    <tr>\n",
              "      <th>min</th>\n",
              "      <td>29.000000</td>\n",
              "      <td>0.000000</td>\n",
              "      <td>0.000000</td>\n",
              "      <td>94.000000</td>\n",
              "      <td>126.000000</td>\n",
              "      <td>0.000000</td>\n",
              "      <td>0.000000</td>\n",
              "      <td>71.000000</td>\n",
              "      <td>0.000000</td>\n",
              "      <td>0.000000</td>\n",
              "      <td>0.000000</td>\n",
              "      <td>0.000000</td>\n",
              "      <td>0.000000</td>\n",
              "      <td>0.000000</td>\n",
              "    </tr>\n",
              "    <tr>\n",
              "      <th>25%</th>\n",
              "      <td>47.000000</td>\n",
              "      <td>0.000000</td>\n",
              "      <td>0.000000</td>\n",
              "      <td>120.000000</td>\n",
              "      <td>211.750000</td>\n",
              "      <td>0.000000</td>\n",
              "      <td>0.000000</td>\n",
              "      <td>132.000000</td>\n",
              "      <td>0.000000</td>\n",
              "      <td>0.000000</td>\n",
              "      <td>1.000000</td>\n",
              "      <td>0.000000</td>\n",
              "      <td>2.000000</td>\n",
              "      <td>0.000000</td>\n",
              "    </tr>\n",
              "    <tr>\n",
              "      <th>50%</th>\n",
              "      <td>57.000000</td>\n",
              "      <td>1.000000</td>\n",
              "      <td>1.000000</td>\n",
              "      <td>130.000000</td>\n",
              "      <td>240.500000</td>\n",
              "      <td>0.000000</td>\n",
              "      <td>1.000000</td>\n",
              "      <td>151.500000</td>\n",
              "      <td>0.000000</td>\n",
              "      <td>0.650000</td>\n",
              "      <td>2.000000</td>\n",
              "      <td>0.000000</td>\n",
              "      <td>2.000000</td>\n",
              "      <td>1.000000</td>\n",
              "    </tr>\n",
              "    <tr>\n",
              "      <th>75%</th>\n",
              "      <td>61.250000</td>\n",
              "      <td>1.000000</td>\n",
              "      <td>2.000000</td>\n",
              "      <td>140.000000</td>\n",
              "      <td>277.000000</td>\n",
              "      <td>0.000000</td>\n",
              "      <td>1.000000</td>\n",
              "      <td>165.250000</td>\n",
              "      <td>1.000000</td>\n",
              "      <td>1.600000</td>\n",
              "      <td>2.000000</td>\n",
              "      <td>1.000000</td>\n",
              "      <td>3.000000</td>\n",
              "      <td>1.000000</td>\n",
              "    </tr>\n",
              "    <tr>\n",
              "      <th>max</th>\n",
              "      <td>77.000000</td>\n",
              "      <td>1.000000</td>\n",
              "      <td>3.000000</td>\n",
              "      <td>192.000000</td>\n",
              "      <td>564.000000</td>\n",
              "      <td>1.000000</td>\n",
              "      <td>2.000000</td>\n",
              "      <td>202.000000</td>\n",
              "      <td>1.000000</td>\n",
              "      <td>5.600000</td>\n",
              "      <td>2.000000</td>\n",
              "      <td>4.000000</td>\n",
              "      <td>3.000000</td>\n",
              "      <td>1.000000</td>\n",
              "    </tr>\n",
              "  </tbody>\n",
              "</table>\n",
              "</div>"
            ],
            "text/plain": [
              "              age         sex          cp  ...          ca        thal      target\n",
              "count  212.000000  212.000000  212.000000  ...  212.000000  212.000000  212.000000\n",
              "mean    54.561321    0.688679    0.915094  ...    0.783019    2.320755    0.542453\n",
              "std      9.493376    0.464130    1.008193  ...    1.066551    0.646495    0.499374\n",
              "min     29.000000    0.000000    0.000000  ...    0.000000    0.000000    0.000000\n",
              "25%     47.000000    0.000000    0.000000  ...    0.000000    2.000000    0.000000\n",
              "50%     57.000000    1.000000    1.000000  ...    0.000000    2.000000    1.000000\n",
              "75%     61.250000    1.000000    2.000000  ...    1.000000    3.000000    1.000000\n",
              "max     77.000000    1.000000    3.000000  ...    4.000000    3.000000    1.000000\n",
              "\n",
              "[8 rows x 14 columns]"
            ]
          },
          "metadata": {
            "tags": []
          },
          "execution_count": 111
        }
      ]
    },
    {
      "cell_type": "code",
      "metadata": {
        "colab": {
          "base_uri": "https://localhost:8080/",
          "height": 422
        },
        "id": "BkxZambRUVoN",
        "outputId": "6455501a-e4ca-412b-8ad5-b07115173003"
      },
      "source": [
        "#checking features that correllate with target\r\n",
        "train_data.corr()['target'].sort_values().plot(kind='bar', figsize=(7, 6))"
      ],
      "execution_count": 112,
      "outputs": [
        {
          "output_type": "execute_result",
          "data": {
            "text/plain": [
              "<matplotlib.axes._subplots.AxesSubplot at 0x7ff0352d5390>"
            ]
          },
          "metadata": {
            "tags": []
          },
          "execution_count": 112
        },
        {
          "output_type": "display_data",
          "data": {
            "image/png": "[encoded data removed]",
            "text/plain": [
              "<Figure size 504x432 with 1 Axes>"
            ]
          },
          "metadata": {
            "tags": [],
            "needs_background": "light"
          }
        }
      ]
    },
    {
      "cell_type": "code",
      "metadata": {
        "id": "SIU_E-P2Sim0"
      },
      "source": [
        "s=train_data.iloc[:, (np.where((train_data.dtypes == np.int64) | (train_data.dtypes == np.float64)))[0]].columns"
      ],
      "execution_count": 113,
      "outputs": []
    },
    {
      "cell_type": "code",
      "metadata": {
        "colab": {
          "base_uri": "https://localhost:8080/"
        },
        "id": "s2iNqo3bSsBN",
        "outputId": "3789736e-75b9-42a3-afd5-c9abca19ca28"
      },
      "source": [
        "train_data.info()"
      ],
      "execution_count": 114,
      "outputs": [
        {
          "output_type": "stream",
          "text": [
            "<class 'pandas.core.frame.DataFrame'>\n",
            "RangeIndex: 212 entries, 0 to 211\n",
            "Data columns (total 14 columns):\n",
            " #   Column    Non-Null Count  Dtype  \n",
            "---  ------    --------------  -----  \n",
            " 0   age       212 non-null    int64  \n",
            " 1   sex       212 non-null    int64  \n",
            " 2   cp        212 non-null    int64  \n",
            " 3   trestbps  212 non-null    int64  \n",
            " 4   chol      212 non-null    int64  \n",
            " 5   fbs       212 non-null    int64  \n",
            " 6   restecg   212 non-null    int64  \n",
            " 7   thalach   212 non-null    int64  \n",
            " 8   exang     212 non-null    int64  \n",
            " 9   oldpeak   212 non-null    float64\n",
            " 10  slope     212 non-null    int64  \n",
            " 11  ca        212 non-null    int64  \n",
            " 12  thal      212 non-null    int64  \n",
            " 13  target    212 non-null    int64  \n",
            "dtypes: float64(1), int64(13)\n",
            "memory usage: 23.3 KB\n"
          ],
          "name": "stdout"
        }
      ]
    },
    {
      "cell_type": "code",
      "metadata": {
        "colab": {
          "base_uri": "https://localhost:8080/",
          "height": 299
        },
        "id": "XpqOIOIQUojT",
        "outputId": "e68f6785-c894-4fd1-81d9-4a62c4e09786"
      },
      "source": [
        "#target distribution\r\n",
        "sns.countplot(train_data.target)\r\n",
        "#Surely not an inbalance challenge"
      ],
      "execution_count": 115,
      "outputs": [
        {
          "output_type": "execute_result",
          "data": {
            "text/plain": [
              "<matplotlib.axes._subplots.AxesSubplot at 0x7ff034a33240>"
            ]
          },
          "metadata": {
            "tags": []
          },
          "execution_count": 115
        },
        {
          "output_type": "display_data",
          "data": {
            "image/png": "[encoded data removed]",
            "text/plain": [
              "<Figure size 432x288 with 1 Axes>"
            ]
          },
          "metadata": {
            "tags": [],
            "needs_background": "light"
          }
        }
      ]
    },
    {
      "cell_type": "code",
      "metadata": {
        "id": "ctbAIXBLTV4h"
      },
      "source": [
        "#save and drop target varriable\r\n",
        "y = train_data.target\r\n",
        "train_data = train_data.drop(\"target\", axis = 1)"
      ],
      "execution_count": 116,
      "outputs": []
    },
    {
      "cell_type": "code",
      "metadata": {
        "id": "KfzxU1qxVMrP"
      },
      "source": [
        "#Feature Engineering/ merging train and test data\r\n",
        "data=train_data.append(test_data)"
      ],
      "execution_count": 117,
      "outputs": []
    },
    {
      "cell_type": "code",
      "metadata": {
        "colab": {
          "base_uri": "https://localhost:8080/"
        },
        "id": "bYZD4vNFVeU2",
        "outputId": "5aefd48c-ed90-4b80-ab09-cc9a5e144fe0"
      },
      "source": [
        "#checking for nans\r\n",
        "data.isnull().sum()"
      ],
      "execution_count": 118,
      "outputs": [
        {
          "output_type": "execute_result",
          "data": {
            "text/plain": [
              "age         0\n",
              "sex         0\n",
              "cp          0\n",
              "trestbps    0\n",
              "chol        0\n",
              "fbs         0\n",
              "restecg     0\n",
              "thalach     0\n",
              "exang       0\n",
              "oldpeak     0\n",
              "slope       0\n",
              "ca          0\n",
              "thal        0\n",
              "dtype: int64"
            ]
          },
          "metadata": {
            "tags": []
          },
          "execution_count": 118
        }
      ]
    },
    {
      "cell_type": "code",
      "metadata": {
        "id": "3RBo4CyjVwRn"
      },
      "source": [
        "# Feature binning for age\r\n",
        "from sklearn.preprocessing import KBinsDiscretizer\r\n",
        "age_discretizer = KBinsDiscretizer(n_bins=10, encode='ordinal', strategy='quantile')\r\n",
        "\r\n",
        "data['Age_Bins'] =age_discretizer.fit_transform(data['age'].values.reshape(-1,1)).astype(int)"
      ],
      "execution_count": 119,
      "outputs": []
    },
    {
      "cell_type": "code",
      "metadata": {
        "id": "wDmU19HrV4pU"
      },
      "source": [
        "data.drop('age',axis=1,inplace=True)"
      ],
      "execution_count": 120,
      "outputs": []
    },
    {
      "cell_type": "code",
      "metadata": {
        "colab": {
          "base_uri": "https://localhost:8080/"
        },
        "id": "9nAB6Gb3WDWM",
        "outputId": "6a771b8d-aa7a-44b5-ff52-6572b8eb689a"
      },
      "source": [
        "data.shape"
      ],
      "execution_count": 121,
      "outputs": [
        {
          "output_type": "execute_result",
          "data": {
            "text/plain": [
              "(303, 13)"
            ]
          },
          "metadata": {
            "tags": []
          },
          "execution_count": 121
        }
      ]
    },
    {
      "cell_type": "code",
      "metadata": {
        "id": "6bhacgYfWHYe"
      },
      "source": [
        "#splitting back into train and test sets\r\n",
        "train=data.iloc[:212,]\r\n",
        "test= data.iloc[212:,]"
      ],
      "execution_count": 122,
      "outputs": []
    },
    {
      "cell_type": "code",
      "metadata": {
        "colab": {
          "base_uri": "https://localhost:8080/"
        },
        "id": "Etm8Rj_wWTWt",
        "outputId": "25bcfe36-33b7-4de6-9190-f4fb54397001"
      },
      "source": [
        "train.shape,test.shape"
      ],
      "execution_count": 123,
      "outputs": [
        {
          "output_type": "execute_result",
          "data": {
            "text/plain": [
              "((212, 13), (91, 13))"
            ]
          },
          "metadata": {
            "tags": []
          },
          "execution_count": 123
        }
      ]
    },
    {
      "cell_type": "code",
      "metadata": {
        "id": "3yel-0SAWWwp"
      },
      "source": [
        "X=train.copy()"
      ],
      "execution_count": 124,
      "outputs": []
    },
    {
      "cell_type": "code",
      "metadata": {
        "id": "86egG3yyWagY"
      },
      "source": [
        "#Splitting data into train data into train and validation sets\r\n",
        "from sklearn.model_selection import train_test_split\r\n",
        "X_train, X_test, y_train, y_test = train_test_split(X, y, test_size=0.3, random_state=101)"
      ],
      "execution_count": 125,
      "outputs": []
    },
    {
      "cell_type": "code",
      "metadata": {
        "id": "sv9SOR5RWfnU"
      },
      "source": [
        "X_train_copy=X_train.copy()"
      ],
      "execution_count": 126,
      "outputs": []
    },
    {
      "cell_type": "code",
      "metadata": {
        "id": "6VVuC7sEWpl6"
      },
      "source": [
        "#Model definition Forest\r\n",
        "from xgboost.sklearn import XGBClassifier\r\n",
        "#from sklearn.feature_selection import RFE\r\n",
        "#forest_rfe = RandomForestClassifier(random_state=1)\r\n",
        "xgb = XGBClassifier(learning_rate=0.02, n_estimators=600, objective='binary:logistic',\r\n",
        "                    silent=True, nthread=1)\r\n",
        "#forest=RandomForestClassifier(random_state=1)"
      ],
      "execution_count": 127,
      "outputs": []
    },
    {
      "cell_type": "code",
      "metadata": {
        "id": "TP4iFCyZW5RK"
      },
      "source": [
        "params = {\r\n",
        "        'min_child_weight': [1, 5, 10],\r\n",
        "        'gamma': [0.5, 1, 1.5, 2, 5],\r\n",
        "        'subsample': [0.6, 0.8, 1.0],\r\n",
        "        'colsample_bytree': [0.6, 0.8, 1.0],\r\n",
        "        'max_depth': [3, 4, 5]\r\n",
        "        }"
      ],
      "execution_count": 128,
      "outputs": []
    },
    {
      "cell_type": "code",
      "metadata": {
        "id": "K-47-mRxW8e6"
      },
      "source": [
        "# Grid search cv\r\n",
        "from sklearn.model_selection import GridSearchCV\r\n",
        "grid_search = GridSearchCV(estimator =xgb, param_grid = params, cv = 3, n_jobs = -1, verbose = 2)"
      ],
      "execution_count": 129,
      "outputs": []
    },
    {
      "cell_type": "code",
      "metadata": {
        "colab": {
          "base_uri": "https://localhost:8080/"
        },
        "id": "nSwi4rUKW_Bw",
        "outputId": "8be01234-9dac-485c-9a74-67ccd2b86b07"
      },
      "source": [
        "grid_search.fit(X_train, y_train)"
      ],
      "execution_count": 130,
      "outputs": [
        {
          "output_type": "stream",
          "text": [
            "Fitting 3 folds for each of 405 candidates, totalling 1215 fits\n"
          ],
          "name": "stdout"
        },
        {
          "output_type": "stream",
          "text": [
            "[Parallel(n_jobs=-1)]: Using backend LokyBackend with 2 concurrent workers.\n",
            "[Parallel(n_jobs=-1)]: Done  50 tasks      | elapsed:    3.5s\n",
            "[Parallel(n_jobs=-1)]: Done 292 tasks      | elapsed:   14.7s\n",
            "[Parallel(n_jobs=-1)]: Done 698 tasks      | elapsed:   34.7s\n",
            "[Parallel(n_jobs=-1)]: Done 1215 out of 1215 | elapsed:  1.0min finished\n"
          ],
          "name": "stderr"
        },
        {
          "output_type": "execute_result",
          "data": {
            "text/plain": [
              "GridSearchCV(cv=3, error_score=nan,\n",
              "             estimator=XGBClassifier(base_score=0.5, booster='gbtree',\n",
              "                                     colsample_bylevel=1, colsample_bynode=1,\n",
              "                                     colsample_bytree=1, gamma=0,\n",
              "                                     learning_rate=0.02, max_delta_step=0,\n",
              "                                     max_depth=3, min_child_weight=1,\n",
              "                                     missing=None, n_estimators=600, n_jobs=1,\n",
              "                                     nthread=1, objective='binary:logistic',\n",
              "                                     random_state=0, reg_alpha=0, reg_lambda=1,\n",
              "                                     scale_pos_weight=1, seed=None, silent=True,\n",
              "                                     subsample=1, verbosity=1),\n",
              "             iid='deprecated', n_jobs=-1,\n",
              "             param_grid={'colsample_bytree': [0.6, 0.8, 1.0],\n",
              "                         'gamma': [0.5, 1, 1.5, 2, 5], 'max_depth': [3, 4, 5],\n",
              "                         'min_child_weight': [1, 5, 10],\n",
              "                         'subsample': [0.6, 0.8, 1.0]},\n",
              "             pre_dispatch='2*n_jobs', refit=True, return_train_score=False,\n",
              "             scoring=None, verbose=2)"
            ]
          },
          "metadata": {
            "tags": []
          },
          "execution_count": 130
        }
      ]
    },
    {
      "cell_type": "code",
      "metadata": {
        "colab": {
          "base_uri": "https://localhost:8080/"
        },
        "id": "-gMp6tNeXB8i",
        "outputId": "56096a04-1ea5-4081-bea6-17dfb55c5f0d"
      },
      "source": [
        "grid_search.best_params_"
      ],
      "execution_count": 131,
      "outputs": [
        {
          "output_type": "execute_result",
          "data": {
            "text/plain": [
              "{'colsample_bytree': 0.6,\n",
              " 'gamma': 5,\n",
              " 'max_depth': 3,\n",
              " 'min_child_weight': 5,\n",
              " 'subsample': 0.6}"
            ]
          },
          "metadata": {
            "tags": []
          },
          "execution_count": 131
        }
      ]
    },
    {
      "cell_type": "code",
      "metadata": {
        "id": "yrGPmrh-XB_W"
      },
      "source": [
        "xgb = XGBClassifier(learning_rate=0.02, n_estimators=600, objective='binary:logistic',\r\n",
        "                    silent=True, nthread=1,colsample_bytree= 0.6,gamma= 5,max_depth= 3,\r\n",
        "                    min_child_weight= 5,\r\n",
        "                    subsample= 0.6)"
      ],
      "execution_count": 132,
      "outputs": []
    },
    {
      "cell_type": "code",
      "metadata": {
        "colab": {
          "base_uri": "https://localhost:8080/"
        },
        "id": "jtCHwT4ZY15j",
        "outputId": "888b0527-a274-44b8-e372-352276e5ce86"
      },
      "source": [
        "xgb.fit(X_train,y_train)"
      ],
      "execution_count": 133,
      "outputs": [
        {
          "output_type": "execute_result",
          "data": {
            "text/plain": [
              "XGBClassifier(base_score=0.5, booster='gbtree', colsample_bylevel=1,\n",
              "              colsample_bynode=1, colsample_bytree=0.6, gamma=5,\n",
              "              learning_rate=0.02, max_delta_step=0, max_depth=3,\n",
              "              min_child_weight=5, missing=None, n_estimators=600, n_jobs=1,\n",
              "              nthread=1, objective='binary:logistic', random_state=0,\n",
              "              reg_alpha=0, reg_lambda=1, scale_pos_weight=1, seed=None,\n",
              "              silent=True, subsample=0.6, verbosity=1)"
            ]
          },
          "metadata": {
            "tags": []
          },
          "execution_count": 133
        }
      ]
    },
    {
      "cell_type": "code",
      "metadata": {
        "id": "xNYEeRMIYrP_"
      },
      "source": [
        "#Predictions on the Test data\r\n",
        "predictions_xgb = xgb.predict(X_test)"
      ],
      "execution_count": 134,
      "outputs": []
    },
    {
      "cell_type": "code",
      "metadata": {
        "colab": {
          "base_uri": "https://localhost:8080/"
        },
        "id": "lL370c3tY9FW",
        "outputId": "e3f09b71-bd48-478c-c6a3-cf0aa16bbddf"
      },
      "source": [
        "accuracy_score(y_test, predictions_xgb)"
      ],
      "execution_count": 135,
      "outputs": [
        {
          "output_type": "execute_result",
          "data": {
            "text/plain": [
              "0.84375"
            ]
          },
          "metadata": {
            "tags": []
          },
          "execution_count": 135
        }
      ]
    },
    {
      "cell_type": "code",
      "metadata": {
        "colab": {
          "base_uri": "https://localhost:8080/"
        },
        "id": "Bd6ddAPLZEkN",
        "outputId": "3f870477-ed61-41e9-fd13-b081942a247e"
      },
      "source": [
        "f1_score(y_test, predictions_xgb)"
      ],
      "execution_count": 136,
      "outputs": [
        {
          "output_type": "execute_result",
          "data": {
            "text/plain": [
              "0.8437500000000001"
            ]
          },
          "metadata": {
            "tags": []
          },
          "execution_count": 136
        }
      ]
    },
    {
      "cell_type": "code",
      "metadata": {
        "id": "AdIKPFLAZWi8"
      },
      "source": [
        "y_predictions_xgb=xgb.predict(test)"
      ],
      "execution_count": 137,
      "outputs": []
    },
    {
      "cell_type": "code",
      "metadata": {
        "colab": {
          "base_uri": "https://localhost:8080/"
        },
        "id": "Xu4JH4d9Zp4L",
        "outputId": "8c2b3089-5b81-4818-e424-c58fc1750343"
      },
      "source": [
        "y_predictions_xgb"
      ],
      "execution_count": 138,
      "outputs": [
        {
          "output_type": "execute_result",
          "data": {
            "text/plain": [
              "array([1, 1, 1, 1, 1, 1, 0, 1, 1, 1, 0, 1, 1, 1, 1, 0, 1, 1, 1, 0, 1, 0,\n",
              "       0, 0, 0, 1, 1, 1, 0, 0, 1, 0, 1, 0, 1, 0, 1, 0, 0, 1, 0, 1, 1, 0,\n",
              "       0, 0, 1, 0, 0, 1, 0, 0, 0, 0, 0, 0, 1, 1, 1, 0, 1, 0, 1, 1, 1, 1,\n",
              "       0, 0, 1, 0, 1, 1, 0, 1, 1, 1, 1, 1, 1, 1, 0, 1, 1, 1, 0, 0, 1, 1,\n",
              "       1, 1, 1])"
            ]
          },
          "metadata": {
            "tags": []
          },
          "execution_count": 138
        }
      ]
    },
    {
      "cell_type": "code",
      "metadata": {
        "id": "H0v1w5tzZix5"
      },
      "source": [
        "#Prepare our Submission file\r\n",
        "my_submission = pd.DataFrame({'prediction': y_predictions_xgb })\r\n",
        "my_submission.to_csv('submission_ayanlola_assign2.csv', index=False)"
      ],
      "execution_count": 139,
      "outputs": []
    }
  ]
}