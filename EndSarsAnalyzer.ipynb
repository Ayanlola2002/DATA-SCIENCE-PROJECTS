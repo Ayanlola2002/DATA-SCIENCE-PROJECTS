{
  "nbformat": 4,
  "nbformat_minor": 0,
  "metadata": {
    "colab": {
      "name": "EndSarsAnalyzer.ipynb",
      "provenance": [],
      "collapsed_sections": [],
      "authorship_tag": "ABX9TyP0OgRboSSb5xg9xUw9S2I5",
      "include_colab_link": true
    },
    "kernelspec": {
      "name": "python3",
      "display_name": "Python 3"
    }
  },
  "cells": [
    {
      "cell_type": "markdown",
      "metadata": {
        "id": "view-in-github",
        "colab_type": "text"
      },
      "source": [
        "<a href=\"https://colab.research.google.com/github/Ayanlola2002/DATA-SCIENCE-PROJECTS/blob/master/EndSarsAnalyzer.ipynb\" target=\"_parent\"><img src=\"https://colab.research.google.com/assets/colab-badge.svg\" alt=\"Open In Colab\"/></a>"
      ]
    },
    {
      "cell_type": "code",
      "metadata": {
        "colab": {
          "base_uri": "https://localhost:8080/"
        },
        "id": "jSbsfusiGL_9",
        "outputId": "24eef5ff-e136-4531-ee46-c8bd93de8846"
      },
      "source": [
        "from google.colab import drive\r\n",
        "drive.mount('/gdrive')"
      ],
      "execution_count": 1,
      "outputs": [
        {
          "output_type": "stream",
          "text": [
            "Mounted at /gdrive\n"
          ],
          "name": "stdout"
        }
      ]
    },
    {
      "cell_type": "code",
      "metadata": {
        "colab": {
          "base_uri": "https://localhost:8080/",
          "height": 1000
        },
        "id": "y9MYTA06833Q",
        "outputId": "94ad4db0-a459-4bda-ce31-b475eed1a5c4"
      },
      "source": [
        "!pip install --user -r /gdrive/MyDrive/EndsarsAnalyzerPro/requirements.txt"
      ],
      "execution_count": 2,
      "outputs": [
        {
          "output_type": "stream",
          "text": [
            "Collecting optimuspyspark\n",
            "\u001b[?25l  Downloading https://files.pythonhosted.org/packages/80/1d/24ab8c3b22ace1b812b9928ac8279b1066595777edfbd75d53787b1bc4da/optimuspyspark-2.2.32-py3-none-any.whl (65.1MB)\n",
            "\u001b[K     |████████████████████████████████| 65.1MB 70kB/s \n",
            "\u001b[?25hCollecting aiohttp\n",
            "\u001b[?25l  Downloading https://files.pythonhosted.org/packages/ad/e6/d4b6235d776c9b33f853e603efede5aac5a34f71ca9d3877adb30492eb4e/aiohttp-3.7.3-cp36-cp36m-manylinux2014_x86_64.whl (1.3MB)\n",
            "\u001b[K     |████████████████████████████████| 1.3MB 34.5MB/s \n",
            "\u001b[?25hCollecting aiodns\n",
            "  Downloading https://files.pythonhosted.org/packages/da/01/8f2d49b441573fd2478833bdba91cf0b853b4c750a1fbb9e98de1b94bb22/aiodns-2.0.0-py2.py3-none-any.whl\n",
            "Requirement already satisfied: beautifulsoup4 in /usr/local/lib/python3.6/dist-packages (from -r /gdrive/MyDrive/EndsarsAnalyzerPro/requirements.txt (line 4)) (4.6.3)\n",
            "Collecting cchardet\n",
            "\u001b[?25l  Downloading https://files.pythonhosted.org/packages/a0/e5/a0b9edd8664ea3b0d3270c451ebbf86655ed9fc4c3e4c45b9afae9c2e382/cchardet-2.1.7-cp36-cp36m-manylinux2010_x86_64.whl (263kB)\n",
            "\u001b[K     |████████████████████████████████| 266kB 63.5MB/s \n",
            "\u001b[?25hCollecting elasticsearch\n",
            "\u001b[?25l  Downloading https://files.pythonhosted.org/packages/86/74/054342aa07121f7c82e30ae63e3f257a793a69ddc11c5065449252dcd8af/elasticsearch-7.10.1-py2.py3-none-any.whl (322kB)\n",
            "\u001b[K     |████████████████████████████████| 327kB 67.7MB/s \n",
            "\u001b[?25hRequirement already satisfied: pysocks in /usr/local/lib/python3.6/dist-packages (from -r /gdrive/MyDrive/EndsarsAnalyzerPro/requirements.txt (line 7)) (1.7.1)\n",
            "Requirement already satisfied: pandas>=0.23.0 in /usr/local/lib/python3.6/dist-packages (from -r /gdrive/MyDrive/EndsarsAnalyzerPro/requirements.txt (line 8)) (1.1.5)\n",
            "Collecting aiohttp_socks\n",
            "  Downloading https://files.pythonhosted.org/packages/14/11/67750d2d6ba48eae602392b55513441058a2a004e5271276df03d3ed6393/aiohttp_socks-0.5.5-py3-none-any.whl\n",
            "Collecting schedule\n",
            "  Downloading https://files.pythonhosted.org/packages/57/22/3a709462eb02412bd1145f6e53604f36bba191e3e4e397bea4a718fec38c/schedule-0.6.0-py2.py3-none-any.whl\n",
            "Requirement already satisfied: geopy in /usr/local/lib/python3.6/dist-packages (from -r /gdrive/MyDrive/EndsarsAnalyzerPro/requirements.txt (line 11)) (1.17.0)\n",
            "Requirement already satisfied: nest_asyncio in /usr/local/lib/python3.6/dist-packages (from -r /gdrive/MyDrive/EndsarsAnalyzerPro/requirements.txt (line 12)) (1.4.3)\n",
            "Requirement already satisfied: TextBlob in /usr/local/lib/python3.6/dist-packages (from -r /gdrive/MyDrive/EndsarsAnalyzerPro/requirements.txt (line 13)) (0.15.3)\n",
            "Requirement already satisfied: wordcloud in /usr/local/lib/python3.6/dist-packages (from -r /gdrive/MyDrive/EndsarsAnalyzerPro/requirements.txt (line 14)) (1.5.0)\n",
            "Collecting findspark==1.3.0\n",
            "  Downloading https://files.pythonhosted.org/packages/b1/c8/e6e1f6a303ae5122dc28d131b5a67c5eb87cbf8f7ac5b9f87764ea1b1e1e/findspark-1.3.0-py2.py3-none-any.whl\n",
            "Collecting Jinja2==2.10.1\n",
            "\u001b[?25l  Downloading https://files.pythonhosted.org/packages/1d/e7/fd8b501e7a6dfe492a433deb7b9d833d39ca74916fa8bc63dd1a4947a671/Jinja2-2.10.1-py2.py3-none-any.whl (124kB)\n",
            "\u001b[K     |████████████████████████████████| 133kB 61.2MB/s \n",
            "\u001b[?25hCollecting keras==2.2.4\n",
            "\u001b[?25l  Downloading https://files.pythonhosted.org/packages/5e/10/aa32dad071ce52b5502266b5c659451cfd6ffcbf14e6c8c4f16c0ff5aaab/Keras-2.2.4-py2.py3-none-any.whl (312kB)\n",
            "\u001b[K     |████████████████████████████████| 317kB 51.6MB/s \n",
            "\u001b[?25hRequirement already satisfied: humanize==0.5.1 in /usr/local/lib/python3.6/dist-packages (from optimuspyspark->-r /gdrive/MyDrive/EndsarsAnalyzerPro/requirements.txt (line 1)) (0.5.1)\n",
            "Collecting backoff==1.10.0\n",
            "  Downloading https://files.pythonhosted.org/packages/f0/32/c5dd4f4b0746e9ec05ace2a5045c1fc375ae67ee94355344ad6c7005fd87/backoff-1.10.0-py2.py3-none-any.whl\n",
            "Collecting flask==1.0.2\n",
            "\u001b[?25l  Downloading https://files.pythonhosted.org/packages/7f/e7/08578774ed4536d3242b14dacb4696386634607af824ea997202cd0edb4b/Flask-1.0.2-py2.py3-none-any.whl (91kB)\n",
            "\u001b[K     |████████████████████████████████| 92kB 9.6MB/s \n",
            "\u001b[?25hCollecting matplotlib==3.0.3\n",
            "\u001b[?25l  Downloading https://files.pythonhosted.org/packages/e9/69/f5e05f578585ed9935247be3788b374f90701296a70c8871bcd6d21edb00/matplotlib-3.0.3-cp36-cp36m-manylinux1_x86_64.whl (13.0MB)\n",
            "\u001b[K     |████████████████████████████████| 13.0MB 262kB/s \n",
            "\u001b[?25hCollecting nltk==3.4.5\n",
            "\u001b[?25l  Downloading https://files.pythonhosted.org/packages/f6/1d/d925cfb4f324ede997f6d47bea4d9babba51b49e87a767c170b77005889d/nltk-3.4.5.zip (1.5MB)\n",
            "\u001b[K     |████████████████████████████████| 1.5MB 60.9MB/s \n",
            "\u001b[?25hCollecting fastnumbers==2.2.1\n",
            "\u001b[?25l  Downloading https://files.pythonhosted.org/packages/f9/85/907a9adee5b08af3d8529b845a9ab41d9a1ece94b114424a11811fc8ae08/fastnumbers-2.2.1-cp36-cp36m-manylinux1_x86_64.whl (55kB)\n",
            "\u001b[K     |████████████████████████████████| 61kB 6.0MB/s \n",
            "\u001b[?25hCollecting pyarrow==0.13.0\n",
            "\u001b[?25l  Downloading https://files.pythonhosted.org/packages/ad/25/094b122d828d24b58202712a74e661e36cd551ca62d331e388ff68bae91d/pyarrow-0.13.0-cp36-cp36m-manylinux1_x86_64.whl (48.5MB)\n",
            "\u001b[K     |████████████████████████████████| 48.5MB 183kB/s \n",
            "\u001b[?25hCollecting pypika==0.32.0\n",
            "\u001b[?25l  Downloading https://files.pythonhosted.org/packages/2c/95/4bde5976dc1fbf6d1f0cac894127f6e345e941a6f58efa5116497363e082/PyPika-0.32.0.tar.gz (42kB)\n",
            "\u001b[K     |████████████████████████████████| 51kB 4.5MB/s \n",
            "\u001b[?25hCollecting imgkit==1.0.1\n",
            "  Downloading https://files.pythonhosted.org/packages/e5/f1/d03e16756ee4c6b89d24ae596b180e23c7a54a997a8b8ed611eb9ce3cf12/imgkit-1.0.1.tar.gz\n",
            "Collecting seaborn==0.9.0\n",
            "\u001b[?25l  Downloading https://files.pythonhosted.org/packages/a8/76/220ba4420459d9c4c9c9587c6ce607bf56c25b3d3d2de62056efe482dadc/seaborn-0.9.0-py3-none-any.whl (208kB)\n",
            "\u001b[K     |████████████████████████████████| 215kB 46.9MB/s \n",
            "\u001b[?25hCollecting singleton-decorator==1.0.0\n",
            "  Downloading https://files.pythonhosted.org/packages/33/98/a8b5c919bee1152a9a1afd82014431f8db5882699754de50d1b3aba4d136/singleton-decorator-1.0.0.tar.gz\n",
            "Collecting packaging==19.0\n",
            "  Downloading https://files.pythonhosted.org/packages/91/32/58bc30e646e55eab8b21abf89e353f59c0cc02c417e42929f4a9546e1b1d/packaging-19.0-py2.py3-none-any.whl\n",
            "Collecting deprecated==1.2.5\n",
            "  Downloading https://files.pythonhosted.org/packages/9f/7a/003fa432f1e45625626549726c2fbb7a29baa764e9d1fdb2323a5d779f8a/Deprecated-1.2.5-py2.py3-none-any.whl\n",
            "Collecting deepdiff==4.0.6\n",
            "\u001b[?25l  Downloading https://files.pythonhosted.org/packages/f8/5c/a577c0279c36694c218988ff2e85c63b3d3b3b002034cd7f9dd361688570/deepdiff-4.0.6-py3-none-any.whl (47kB)\n",
            "\u001b[K     |████████████████████████████████| 51kB 6.2MB/s \n",
            "\u001b[?25hCollecting tensorflow==1.13.1\n",
            "\u001b[?25l  Downloading https://files.pythonhosted.org/packages/77/63/a9fa76de8dffe7455304c4ed635be4aa9c0bacef6e0633d87d5f54530c5c/tensorflow-1.13.1-cp36-cp36m-manylinux1_x86_64.whl (92.5MB)\n",
            "\u001b[K     |████████████████████████████████| 92.5MB 85kB/s \n",
            "\u001b[?25hCollecting h2o-pysparkling-2.4==2.4.10\n",
            "\u001b[?25l  Downloading https://files.pythonhosted.org/packages/13/f5/400c1232720c444e56a0e997aafb8932e6e1384e228191a5bd410b657512/h2o_pysparkling_2.4-2.4.10.tar.gz (82.0MB)\n",
            "\u001b[K     |████████████████████████████████| 82.0MB 74kB/s \n",
            "\u001b[?25hCollecting pymongo==3.9.0\n",
            "\u001b[?25l  Downloading https://files.pythonhosted.org/packages/6d/27/f30b90f40054948b32df04a8e6355946874d084ac73755986b28d3003578/pymongo-3.9.0-cp36-cp36m-manylinux1_x86_64.whl (446kB)\n",
            "\u001b[K     |████████████████████████████████| 450kB 35.9MB/s \n",
            "\u001b[?25hCollecting tqdm==4.28.1\n",
            "\u001b[?25l  Downloading https://files.pythonhosted.org/packages/91/55/8cb23a97301b177e9c8e3226dba45bb454411de2cbd25746763267f226c2/tqdm-4.28.1-py2.py3-none-any.whl (45kB)\n",
            "\u001b[K     |████████████████████████████████| 51kB 3.8MB/s \n",
            "\u001b[?25hCollecting psutil==5.7.2\n",
            "\u001b[?25l  Downloading https://files.pythonhosted.org/packages/aa/3e/d18f2c04cf2b528e18515999b0c8e698c136db78f62df34eee89cee205f1/psutil-5.7.2.tar.gz (460kB)\n",
            "\u001b[K     |████████████████████████████████| 460kB 64.9MB/s \n",
            "\u001b[?25hCollecting ratelimit==2.2.1\n",
            "  Downloading https://files.pythonhosted.org/packages/ab/38/ff60c8fc9e002d50d48822cc5095deb8ebbc5f91a6b8fdd9731c87a147c9/ratelimit-2.2.1.tar.gz\n",
            "Collecting statsmodels==0.10.1\n",
            "\u001b[?25l  Downloading https://files.pythonhosted.org/packages/60/d6/e9859e68e7d6c916fdff7d8e0958a7f5813485c52fc20d061273eaaddb0c/statsmodels-0.10.1-cp36-cp36m-manylinux1_x86_64.whl (8.1MB)\n",
            "\u001b[K     |████████████████████████████████| 8.1MB 24.9MB/s \n",
            "\u001b[?25hCollecting glom==19.10.0\n",
            "\u001b[?25l  Downloading https://files.pythonhosted.org/packages/c5/e2/f41ebac95f5fb8125883fd9f4ae8116b0f5815afd98d72dbe5734f590ee4/glom-19.10.0.tar.gz (146kB)\n",
            "\u001b[K     |████████████████████████████████| 153kB 55.1MB/s \n",
            "\u001b[?25hCollecting ipython==7.5.0\n",
            "\u001b[?25l  Downloading https://files.pythonhosted.org/packages/a9/2e/41dce4ed129057e05a555a7f9629aa2d5f81fdcd4d16568bc24b75a1d2c9/ipython-7.5.0-py3-none-any.whl (770kB)\n",
            "\u001b[K     |████████████████████████████████| 778kB 45.0MB/s \n",
            "\u001b[?25hRequirement already satisfied: pygments>=2.2.0 in /usr/local/lib/python3.6/dist-packages (from optimuspyspark->-r /gdrive/MyDrive/EndsarsAnalyzerPro/requirements.txt (line 1)) (2.6.1)\n",
            "Collecting setuptools==41.6.0\n",
            "\u001b[?25l  Downloading https://files.pythonhosted.org/packages/d9/de/554b6310ac87c5b921bc45634b07b11394fe63bc4cb5176f5240addf18ab/setuptools-41.6.0-py2.py3-none-any.whl (582kB)\n",
            "\u001b[K     |████████████████████████████████| 583kB 56.6MB/s \n",
            "\u001b[?25hCollecting requests==2.20.0\n",
            "\u001b[?25l  Downloading https://files.pythonhosted.org/packages/f1/ca/10332a30cb25b627192b4ea272c351bce3ca1091e541245cccbace6051d8/requests-2.20.0-py2.py3-none-any.whl (60kB)\n",
            "\u001b[K     |████████████████████████████████| 61kB 6.4MB/s \n",
            "\u001b[?25hCollecting pyspark==2.4.1\n",
            "\u001b[?25l  Downloading https://files.pythonhosted.org/packages/f2/64/a1df4440483df47381bbbf6a03119ef66515cf2e1a766d9369811575454b/pyspark-2.4.1.tar.gz (215.7MB)\n",
            "\u001b[K     |████████████████████████████████| 215.7MB 70kB/s \n",
            "\u001b[?25hCollecting ordered-set==3.1.1\n",
            "  Downloading https://files.pythonhosted.org/packages/a3/b7/d4d69641cbe707a45c23b190f2d717466ba5accc4c70b5f7a8a450387895/ordered-set-3.1.1.tar.gz\n",
            "Collecting numpy==1.17.2\n",
            "\u001b[?25l  Downloading https://files.pythonhosted.org/packages/e5/e6/c3fdc53aed9fa19d6ff3abf97dfad768ae3afce1b7431f7500000816bda5/numpy-1.17.2-cp36-cp36m-manylinux1_x86_64.whl (20.4MB)\n",
            "\u001b[K     |████████████████████████████████| 20.4MB 1.2MB/s \n",
            "\u001b[?25hCollecting multipledispatch==0.6.0\n",
            "  Downloading https://files.pythonhosted.org/packages/89/79/429ecef45fd5e4504f7474d4c3c3c4668c267be3370e4c2fd33e61506833/multipledispatch-0.6.0-py3-none-any.whl\n",
            "Collecting cryptography==2.7\n",
            "\u001b[?25l  Downloading https://files.pythonhosted.org/packages/97/18/c6557f63a6abde34707196fb2cad1c6dc0dbff25a200d5044922496668a4/cryptography-2.7-cp34-abi3-manylinux1_x86_64.whl (2.3MB)\n",
            "\u001b[K     |████████████████████████████████| 2.3MB 48.1MB/s \n",
            "\u001b[?25hCollecting kombu==4.6.1\n",
            "\u001b[?25l  Downloading https://files.pythonhosted.org/packages/5c/a4/1ae4a599112f5ea63a7535200a77ab5b4692b9c1e4ca1b7080a6a3cf85c1/kombu-4.6.1-py2.py3-none-any.whl (182kB)\n",
            "\u001b[K     |████████████████████████████████| 184kB 65.9MB/s \n",
            "\u001b[?25hCollecting simplejson==3.16.0\n",
            "\u001b[?25l  Downloading https://files.pythonhosted.org/packages/e3/24/c35fb1c1c315fc0fffe61ea00d3f88e85469004713dab488dee4f35b0aff/simplejson-3.16.0.tar.gz (81kB)\n",
            "\u001b[K     |████████████████████████████████| 81kB 7.3MB/s \n",
            "\u001b[?25hRequirement already satisfied: attrs>=17.3.0 in /usr/local/lib/python3.6/dist-packages (from aiohttp->-r /gdrive/MyDrive/EndsarsAnalyzerPro/requirements.txt (line 2)) (20.3.0)\n",
            "Collecting async-timeout<4.0,>=3.0\n",
            "  Downloading https://files.pythonhosted.org/packages/e1/1e/5a4441be21b0726c4464f3f23c8b19628372f606755a9d2e46c187e65ec4/async_timeout-3.0.1-py3-none-any.whl\n",
            "Requirement already satisfied: chardet<4.0,>=2.0 in /usr/local/lib/python3.6/dist-packages (from aiohttp->-r /gdrive/MyDrive/EndsarsAnalyzerPro/requirements.txt (line 2)) (3.0.4)\n",
            "Collecting yarl<2.0,>=1.0\n",
            "\u001b[?25l  Downloading https://files.pythonhosted.org/packages/da/08/52b26b44bce7b818b410aee37c5e424c9ea420c557bca97dc2adac29b151/yarl-1.6.3-cp36-cp36m-manylinux2014_x86_64.whl (293kB)\n",
            "\u001b[K     |████████████████████████████████| 296kB 55.2MB/s \n",
            "\u001b[?25hCollecting multidict<7.0,>=4.5\n",
            "\u001b[?25l  Downloading https://files.pythonhosted.org/packages/a1/35/b22524d6b9cacfb4c5eff413a069bbc17c6ea628e54da5c6c989998ced5f/multidict-5.1.0-cp36-cp36m-manylinux2014_x86_64.whl (141kB)\n",
            "\u001b[K     |████████████████████████████████| 143kB 32.6MB/s \n",
            "\u001b[?25hRequirement already satisfied: typing-extensions>=3.6.5 in /usr/local/lib/python3.6/dist-packages (from aiohttp->-r /gdrive/MyDrive/EndsarsAnalyzerPro/requirements.txt (line 2)) (3.7.4.3)\n",
            "Collecting idna-ssl>=1.0; python_version < \"3.7\"\n",
            "  Downloading https://files.pythonhosted.org/packages/46/03/07c4894aae38b0de52b52586b24bf189bb83e4ddabfe2e2c8f2419eec6f4/idna-ssl-1.1.0.tar.gz\n",
            "Collecting typing; python_version < \"3.7\"\n",
            "\u001b[?25l  Downloading https://files.pythonhosted.org/packages/05/d9/6eebe19d46bd05360c9a9aae822e67a80f9242aabbfc58b641b957546607/typing-3.7.4.3.tar.gz (78kB)\n",
            "\u001b[K     |████████████████████████████████| 81kB 7.2MB/s \n",
            "\u001b[?25hCollecting pycares>=3.0.0\n",
            "\u001b[?25l  Downloading https://files.pythonhosted.org/packages/43/2d/7f4984a23f6e99cf6a8b20ddc59308efb209fe81e79c97af65e9b30eefae/pycares-3.1.1-cp36-cp36m-manylinux2010_x86_64.whl (228kB)\n",
            "\u001b[K     |████████████████████████████████| 235kB 62.3MB/s \n",
            "\u001b[?25hRequirement already satisfied: certifi in /usr/local/lib/python3.6/dist-packages (from elasticsearch->-r /gdrive/MyDrive/EndsarsAnalyzerPro/requirements.txt (line 6)) (2020.12.5)\n",
            "Requirement already satisfied: urllib3<2,>=1.21.1 in /usr/local/lib/python3.6/dist-packages (from elasticsearch->-r /gdrive/MyDrive/EndsarsAnalyzerPro/requirements.txt (line 6)) (1.24.3)\n",
            "Requirement already satisfied: python-dateutil>=2.7.3 in /usr/local/lib/python3.6/dist-packages (from pandas>=0.23.0->-r /gdrive/MyDrive/EndsarsAnalyzerPro/requirements.txt (line 8)) (2.8.1)\n",
            "Requirement already satisfied: pytz>=2017.2 in /usr/local/lib/python3.6/dist-packages (from pandas>=0.23.0->-r /gdrive/MyDrive/EndsarsAnalyzerPro/requirements.txt (line 8)) (2018.9)\n",
            "Collecting python-socks[asyncio]>=1.0.1\n",
            "  Downloading https://files.pythonhosted.org/packages/b7/ce/82275ff2528b2ca3dfd397863005a79c35c832e11e0b85fce723c4ec0da7/python_socks-1.1.2-py3-none-any.whl\n",
            "Requirement already satisfied: geographiclib<2,>=1.49 in /usr/local/lib/python3.6/dist-packages (from geopy->-r /gdrive/MyDrive/EndsarsAnalyzerPro/requirements.txt (line 11)) (1.50)\n",
            "Requirement already satisfied: pillow in /usr/local/lib/python3.6/dist-packages (from wordcloud->-r /gdrive/MyDrive/EndsarsAnalyzerPro/requirements.txt (line 14)) (7.0.0)\n",
            "Requirement already satisfied: MarkupSafe>=0.23 in /usr/local/lib/python3.6/dist-packages (from Jinja2==2.10.1->optimuspyspark->-r /gdrive/MyDrive/EndsarsAnalyzerPro/requirements.txt (line 1)) (1.1.1)\n",
            "Requirement already satisfied: six>=1.9.0 in /usr/local/lib/python3.6/dist-packages (from keras==2.2.4->optimuspyspark->-r /gdrive/MyDrive/EndsarsAnalyzerPro/requirements.txt (line 1)) (1.15.0)\n",
            "Requirement already satisfied: keras-preprocessing>=1.0.5 in /usr/local/lib/python3.6/dist-packages (from keras==2.2.4->optimuspyspark->-r /gdrive/MyDrive/EndsarsAnalyzerPro/requirements.txt (line 1)) (1.1.2)\n",
            "Collecting keras-applications>=1.0.6\n",
            "\u001b[?25l  Downloading https://files.pythonhosted.org/packages/71/e3/19762fdfc62877ae9102edf6342d71b28fbfd9dea3d2f96a882ce099b03f/Keras_Applications-1.0.8-py3-none-any.whl (50kB)\n",
            "\u001b[K     |████████████████████████████████| 51kB 5.1MB/s \n",
            "\u001b[?25hRequirement already satisfied: h5py in /usr/local/lib/python3.6/dist-packages (from keras==2.2.4->optimuspyspark->-r /gdrive/MyDrive/EndsarsAnalyzerPro/requirements.txt (line 1)) (2.10.0)\n",
            "Requirement already satisfied: pyyaml in /usr/local/lib/python3.6/dist-packages (from keras==2.2.4->optimuspyspark->-r /gdrive/MyDrive/EndsarsAnalyzerPro/requirements.txt (line 1)) (3.13)\n",
            "Requirement already satisfied: scipy>=0.14 in /usr/local/lib/python3.6/dist-packages (from keras==2.2.4->optimuspyspark->-r /gdrive/MyDrive/EndsarsAnalyzerPro/requirements.txt (line 1)) (1.4.1)\n",
            "Requirement already satisfied: itsdangerous>=0.24 in /usr/local/lib/python3.6/dist-packages (from flask==1.0.2->optimuspyspark->-r /gdrive/MyDrive/EndsarsAnalyzerPro/requirements.txt (line 1)) (1.1.0)\n",
            "Requirement already satisfied: Werkzeug>=0.14 in /usr/local/lib/python3.6/dist-packages (from flask==1.0.2->optimuspyspark->-r /gdrive/MyDrive/EndsarsAnalyzerPro/requirements.txt (line 1)) (1.0.1)\n",
            "Requirement already satisfied: click>=5.1 in /usr/local/lib/python3.6/dist-packages (from flask==1.0.2->optimuspyspark->-r /gdrive/MyDrive/EndsarsAnalyzerPro/requirements.txt (line 1)) (7.1.2)\n",
            "Requirement already satisfied: pyparsing!=2.0.4,!=2.1.2,!=2.1.6,>=2.0.1 in /usr/local/lib/python3.6/dist-packages (from matplotlib==3.0.3->optimuspyspark->-r /gdrive/MyDrive/EndsarsAnalyzerPro/requirements.txt (line 1)) (2.4.7)\n",
            "Requirement already satisfied: cycler>=0.10 in /usr/local/lib/python3.6/dist-packages (from matplotlib==3.0.3->optimuspyspark->-r /gdrive/MyDrive/EndsarsAnalyzerPro/requirements.txt (line 1)) (0.10.0)\n",
            "Requirement already satisfied: kiwisolver>=1.0.1 in /usr/local/lib/python3.6/dist-packages (from matplotlib==3.0.3->optimuspyspark->-r /gdrive/MyDrive/EndsarsAnalyzerPro/requirements.txt (line 1)) (1.3.1)\n",
            "Requirement already satisfied: wrapt<2,>=1 in /usr/local/lib/python3.6/dist-packages (from deprecated==1.2.5->optimuspyspark->-r /gdrive/MyDrive/EndsarsAnalyzerPro/requirements.txt (line 1)) (1.12.1)\n",
            "Collecting jsonpickle>=1.0\n",
            "  Downloading https://files.pythonhosted.org/packages/ee/d5/1cc282dc23346a43aab461bf2e8c36593aacd34242bee1a13fa750db0cfe/jsonpickle-1.4.2-py2.py3-none-any.whl\n",
            "Requirement already satisfied: protobuf>=3.6.1 in /usr/local/lib/python3.6/dist-packages (from tensorflow==1.13.1->optimuspyspark->-r /gdrive/MyDrive/EndsarsAnalyzerPro/requirements.txt (line 1)) (3.12.4)\n",
            "Collecting tensorboard<1.14.0,>=1.13.0\n",
            "\u001b[?25l  Downloading https://files.pythonhosted.org/packages/0f/39/bdd75b08a6fba41f098b6cb091b9e8c7a80e1b4d679a581a0ccd17b10373/tensorboard-1.13.1-py3-none-any.whl (3.2MB)\n",
            "\u001b[K     |████████████████████████████████| 3.2MB 46.0MB/s \n",
            "\u001b[?25hRequirement already satisfied: grpcio>=1.8.6 in /usr/local/lib/python3.6/dist-packages (from tensorflow==1.13.1->optimuspyspark->-r /gdrive/MyDrive/EndsarsAnalyzerPro/requirements.txt (line 1)) (1.32.0)\n",
            "Requirement already satisfied: absl-py>=0.1.6 in /usr/local/lib/python3.6/dist-packages (from tensorflow==1.13.1->optimuspyspark->-r /gdrive/MyDrive/EndsarsAnalyzerPro/requirements.txt (line 1)) (0.10.0)\n",
            "Collecting tensorflow-estimator<1.14.0rc0,>=1.13.0\n",
            "\u001b[?25l  Downloading https://files.pythonhosted.org/packages/bb/48/13f49fc3fa0fdf916aa1419013bb8f2ad09674c275b4046d5ee669a46873/tensorflow_estimator-1.13.0-py2.py3-none-any.whl (367kB)\n",
            "\u001b[K     |████████████████████████████████| 368kB 72.3MB/s \n",
            "\u001b[?25hRequirement already satisfied: wheel>=0.26 in /usr/local/lib/python3.6/dist-packages (from tensorflow==1.13.1->optimuspyspark->-r /gdrive/MyDrive/EndsarsAnalyzerPro/requirements.txt (line 1)) (0.36.2)\n",
            "Requirement already satisfied: gast>=0.2.0 in /usr/local/lib/python3.6/dist-packages (from tensorflow==1.13.1->optimuspyspark->-r /gdrive/MyDrive/EndsarsAnalyzerPro/requirements.txt (line 1)) (0.3.3)\n",
            "Requirement already satisfied: termcolor>=1.1.0 in /usr/local/lib/python3.6/dist-packages (from tensorflow==1.13.1->optimuspyspark->-r /gdrive/MyDrive/EndsarsAnalyzerPro/requirements.txt (line 1)) (1.1.0)\n",
            "Requirement already satisfied: astor>=0.6.0 in /usr/local/lib/python3.6/dist-packages (from tensorflow==1.13.1->optimuspyspark->-r /gdrive/MyDrive/EndsarsAnalyzerPro/requirements.txt (line 1)) (0.8.1)\n",
            "Requirement already satisfied: tabulate in /usr/local/lib/python3.6/dist-packages (from h2o-pysparkling-2.4==2.4.10->optimuspyspark->-r /gdrive/MyDrive/EndsarsAnalyzerPro/requirements.txt (line 1)) (0.8.7)\n",
            "Requirement already satisfied: future in /usr/local/lib/python3.6/dist-packages (from h2o-pysparkling-2.4==2.4.10->optimuspyspark->-r /gdrive/MyDrive/EndsarsAnalyzerPro/requirements.txt (line 1)) (0.16.0)\n",
            "Collecting colorama>=0.3.8\n",
            "  Downloading https://files.pythonhosted.org/packages/44/98/5b86278fbbf250d239ae0ecb724f8572af1c91f4a11edf4d36a206189440/colorama-0.4.4-py2.py3-none-any.whl\n",
            "Requirement already satisfied: patsy>=0.4.0 in /usr/local/lib/python3.6/dist-packages (from statsmodels==0.10.1->optimuspyspark->-r /gdrive/MyDrive/EndsarsAnalyzerPro/requirements.txt (line 1)) (0.5.1)\n",
            "Collecting boltons>=19.3.0\n",
            "\u001b[?25l  Downloading https://files.pythonhosted.org/packages/71/e1/e7979a4a6d4b296b5935e926549fff540f7670ddaf09bbf137e2b022c039/boltons-20.2.1-py2.py3-none-any.whl (170kB)\n",
            "\u001b[K     |████████████████████████████████| 174kB 37.1MB/s \n",
            "\u001b[?25hCollecting face\n",
            "\u001b[?25l  Downloading https://files.pythonhosted.org/packages/ae/ab/2b18c4815f3db1e04bce325271fefda55d0893738ea84e3a655218944b03/face-20.1.1.tar.gz (46kB)\n",
            "\u001b[K     |████████████████████████████████| 51kB 4.9MB/s \n",
            "\u001b[?25hRequirement already satisfied: traitlets>=4.2 in /usr/local/lib/python3.6/dist-packages (from ipython==7.5.0->optimuspyspark->-r /gdrive/MyDrive/EndsarsAnalyzerPro/requirements.txt (line 1)) (4.3.3)\n",
            "Requirement already satisfied: backcall in /usr/local/lib/python3.6/dist-packages (from ipython==7.5.0->optimuspyspark->-r /gdrive/MyDrive/EndsarsAnalyzerPro/requirements.txt (line 1)) (0.2.0)\n",
            "Requirement already satisfied: pickleshare in /usr/local/lib/python3.6/dist-packages (from ipython==7.5.0->optimuspyspark->-r /gdrive/MyDrive/EndsarsAnalyzerPro/requirements.txt (line 1)) (0.7.5)\n",
            "Collecting prompt-toolkit<2.1.0,>=2.0.0\n",
            "\u001b[?25l  Downloading https://files.pythonhosted.org/packages/87/61/2dfea88583d5454e3a64f9308a686071d58d59a55db638268a6413e1eb6d/prompt_toolkit-2.0.10-py3-none-any.whl (340kB)\n",
            "\u001b[K     |████████████████████████████████| 348kB 41.5MB/s \n",
            "\u001b[?25hRequirement already satisfied: jedi>=0.10 in /usr/local/lib/python3.6/dist-packages (from ipython==7.5.0->optimuspyspark->-r /gdrive/MyDrive/EndsarsAnalyzerPro/requirements.txt (line 1)) (0.17.2)\n",
            "Requirement already satisfied: decorator in /usr/local/lib/python3.6/dist-packages (from ipython==7.5.0->optimuspyspark->-r /gdrive/MyDrive/EndsarsAnalyzerPro/requirements.txt (line 1)) (4.4.2)\n",
            "Requirement already satisfied: pexpect; sys_platform != \"win32\" in /usr/local/lib/python3.6/dist-packages (from ipython==7.5.0->optimuspyspark->-r /gdrive/MyDrive/EndsarsAnalyzerPro/requirements.txt (line 1)) (4.8.0)\n",
            "Collecting idna<2.8,>=2.5\n",
            "\u001b[?25l  Downloading https://files.pythonhosted.org/packages/4b/2a/0276479a4b3caeb8a8c1af2f8e4355746a97fab05a372e4a2c6a6b876165/idna-2.7-py2.py3-none-any.whl (58kB)\n",
            "\u001b[K     |████████████████████████████████| 61kB 4.5MB/s \n",
            "\u001b[?25hCollecting py4j==0.10.7\n",
            "\u001b[?25l  Downloading https://files.pythonhosted.org/packages/e3/53/c737818eb9a7dc32a7cd4f1396e787bd94200c3997c72c1dbe028587bd76/py4j-0.10.7-py2.py3-none-any.whl (197kB)\n",
            "\u001b[K     |████████████████████████████████| 204kB 53.2MB/s \n",
            "\u001b[?25hCollecting asn1crypto>=0.21.0\n",
            "\u001b[?25l  Downloading https://files.pythonhosted.org/packages/b5/a8/56be92dcd4a5bf1998705a9b4028249fe7c9a035b955fe93b6a3e5b829f8/asn1crypto-1.4.0-py2.py3-none-any.whl (104kB)\n",
            "\u001b[K     |████████████████████████████████| 112kB 39.6MB/s \n",
            "\u001b[?25hRequirement already satisfied: cffi!=1.11.3,>=1.8 in /usr/local/lib/python3.6/dist-packages (from cryptography==2.7->optimuspyspark->-r /gdrive/MyDrive/EndsarsAnalyzerPro/requirements.txt (line 1)) (1.14.4)\n",
            "Collecting amqp<3.0,>=2.5.0\n",
            "\u001b[?25l  Downloading https://files.pythonhosted.org/packages/bc/90/bb5ce93521772f083cb2d7a413bb82eda5afc62b4192adb7ea4c7b4858b9/amqp-2.6.1-py2.py3-none-any.whl (48kB)\n",
            "\u001b[K     |████████████████████████████████| 51kB 4.8MB/s \n",
            "\u001b[?25hRequirement already satisfied: importlib-metadata; python_version < \"3.8\" in /usr/local/lib/python3.6/dist-packages (from jsonpickle>=1.0->deepdiff==4.0.6->optimuspyspark->-r /gdrive/MyDrive/EndsarsAnalyzerPro/requirements.txt (line 1)) (3.3.0)\n",
            "Requirement already satisfied: markdown>=2.6.8 in /usr/local/lib/python3.6/dist-packages (from tensorboard<1.14.0,>=1.13.0->tensorflow==1.13.1->optimuspyspark->-r /gdrive/MyDrive/EndsarsAnalyzerPro/requirements.txt (line 1)) (3.3.3)\n",
            "Collecting mock>=2.0.0\n",
            "  Downloading https://files.pythonhosted.org/packages/5c/03/b7e605db4a57c0f6fba744b11ef3ddf4ddebcada35022927a2b5fc623fdf/mock-4.0.3-py3-none-any.whl\n",
            "Requirement already satisfied: ipython-genutils in /usr/local/lib/python3.6/dist-packages (from traitlets>=4.2->ipython==7.5.0->optimuspyspark->-r /gdrive/MyDrive/EndsarsAnalyzerPro/requirements.txt (line 1)) (0.2.0)\n",
            "Requirement already satisfied: wcwidth in /usr/local/lib/python3.6/dist-packages (from prompt-toolkit<2.1.0,>=2.0.0->ipython==7.5.0->optimuspyspark->-r /gdrive/MyDrive/EndsarsAnalyzerPro/requirements.txt (line 1)) (0.2.5)\n",
            "Requirement already satisfied: parso<0.8.0,>=0.7.0 in /usr/local/lib/python3.6/dist-packages (from jedi>=0.10->ipython==7.5.0->optimuspyspark->-r /gdrive/MyDrive/EndsarsAnalyzerPro/requirements.txt (line 1)) (0.7.1)\n",
            "Requirement already satisfied: ptyprocess>=0.5 in /usr/local/lib/python3.6/dist-packages (from pexpect; sys_platform != \"win32\"->ipython==7.5.0->optimuspyspark->-r /gdrive/MyDrive/EndsarsAnalyzerPro/requirements.txt (line 1)) (0.7.0)\n",
            "Requirement already satisfied: pycparser in /usr/local/lib/python3.6/dist-packages (from cffi!=1.11.3,>=1.8->cryptography==2.7->optimuspyspark->-r /gdrive/MyDrive/EndsarsAnalyzerPro/requirements.txt (line 1)) (2.20)\n",
            "Collecting vine<5.0.0a1,>=1.1.3\n",
            "  Downloading https://files.pythonhosted.org/packages/7f/60/82c03047396126c8331ceb64da1dc52d4f1317209f32e8fe286d0c07365a/vine-1.3.0-py2.py3-none-any.whl\n",
            "Requirement already satisfied: zipp>=0.5 in /usr/local/lib/python3.6/dist-packages (from importlib-metadata; python_version < \"3.8\"->jsonpickle>=1.0->deepdiff==4.0.6->optimuspyspark->-r /gdrive/MyDrive/EndsarsAnalyzerPro/requirements.txt (line 1)) (3.4.0)\n",
            "Building wheels for collected packages: nltk, pypika, imgkit, singleton-decorator, h2o-pysparkling-2.4, psutil, ratelimit, glom, pyspark, ordered-set, simplejson, idna-ssl, typing, face\n",
            "  Building wheel for nltk (setup.py) ... \u001b[?25l\u001b[?25hdone\n",
            "  Created wheel for nltk: filename=nltk-3.4.5-cp36-none-any.whl size=1449904 sha256=17fd6e34a6bae14f62cb3e8713d09e342f8376f0054bce256dda4803285eb308\n",
            "  Stored in directory: /root/.cache/pip/wheels/96/86/f6/68ab24c23f207c0077381a5e3904b2815136b879538a24b483\n",
            "  Building wheel for pypika (setup.py) ... \u001b[?25l\u001b[?25hdone\n",
            "  Created wheel for pypika: filename=PyPika-0.32.0-py2.py3-none-any.whl size=32744 sha256=9c127023f8b463ab4bfa5ec57021693e78793fe494ff2132d38ff5ddf4824d21\n",
            "  Stored in directory: /root/.cache/pip/wheels/5d/1c/3d/377b3c7efa620b6b3d22fe61a8b59782d23137efcac0d0e268\n",
            "  Building wheel for imgkit (setup.py) ... \u001b[?25l\u001b[?25hdone\n",
            "  Created wheel for imgkit: filename=imgkit-1.0.1-cp36-none-any.whl size=6587 sha256=3a4ab5d74401b522589839391103257102aae74798f6dd34ebbfd40e3721472f\n",
            "  Stored in directory: /root/.cache/pip/wheels/a9/c0/97/27fd05c0ebb9fbb689a9fa2fe36cf8e9ada756f4a84a3d3454\n",
            "  Building wheel for singleton-decorator (setup.py) ... \u001b[?25l\u001b[?25hdone\n",
            "  Created wheel for singleton-decorator: filename=singleton_decorator-1.0.0-cp36-none-any.whl size=3124 sha256=5134d4daf18867787691bfe7bf65e4aeddf51d7a081b29a82aa0d45d5f4f607d\n",
            "  Stored in directory: /root/.cache/pip/wheels/ce/43/87/9c4d65e727c32931aca54674ccf4f204e664306fbb507bcbd2\n",
            "  Building wheel for h2o-pysparkling-2.4 (setup.py) ... \u001b[?25l\u001b[?25hdone\n",
            "  Created wheel for h2o-pysparkling-2.4: filename=h2o_pysparkling_2.4-2.4.10-py2.py3-none-any.whl size=82017493 sha256=773f5ff64571f0ebe82c2f54fb0a50acb5cab0119e52b3336779389b351e703a\n",
            "  Stored in directory: /root/.cache/pip/wheels/40/a9/11/99d4bda173f1fef47f48f3371edd90ec8b8222ec03a738f190\n",
            "  Building wheel for psutil (setup.py) ... \u001b[?25l\u001b[?25hdone\n",
            "  Created wheel for psutil: filename=psutil-5.7.2-cp36-cp36m-linux_x86_64.whl size=279872 sha256=c048227a68dd1833e9354febc1bdc57b50ef6103ae8ee47695e4c97a0219aa51\n",
            "  Stored in directory: /root/.cache/pip/wheels/39/a0/f5/c4fa280463e29aea07797acb5312358fefb067c1f4f98e11b1\n",
            "  Building wheel for ratelimit (setup.py) ... \u001b[?25l\u001b[?25hdone\n",
            "  Created wheel for ratelimit: filename=ratelimit-2.2.1-cp36-none-any.whl size=5893 sha256=0899275e5dd60e08c3160fc9fe87a9b007cbb8c8162299af8f2ecee5a8544d33\n",
            "  Stored in directory: /root/.cache/pip/wheels/05/d9/82/3c6044cf1a54aab9151612458446d9b17a38416869e1b1d9b8\n",
            "  Building wheel for glom (setup.py) ... \u001b[?25l\u001b[?25hdone\n",
            "  Created wheel for glom: filename=glom-19.10.0-cp36-none-any.whl size=61722 sha256=4a66a625a909850e6c88974d465660f71970e4b0d414ae93d5a9fa974759725b\n",
            "  Stored in directory: /root/.cache/pip/wheels/6d/97/57/eb5b5a3c37e77bf5643a86db0a3bac80993ae3c5b70e1cc934\n",
            "  Building wheel for pyspark (setup.py) ... \u001b[?25l\u001b[?25hdone\n",
            "  Created wheel for pyspark: filename=pyspark-2.4.1-py2.py3-none-any.whl size=216054604 sha256=70fc3359460b38ae2e388d520f14848a6cd1947a71ebcf9806f70d142aa0bfa5\n",
            "  Stored in directory: /root/.cache/pip/wheels/47/9b/57/7984bf19763749a13eece44c3174adb6ae4bc95b920375ff50\n",
            "  Building wheel for ordered-set (setup.py) ... \u001b[?25l\u001b[?25hdone\n",
            "  Created wheel for ordered-set: filename=ordered_set-3.1.1-py2.py3-none-any.whl size=7812 sha256=8fefe50555b902de7204991bc83b2f2ced88377183d5f087e0328dabaa007cf5\n",
            "  Stored in directory: /root/.cache/pip/wheels/dd/70/f1/0a4953bd6d06e7dbffe8ef0197b558eaecb21fa6b043b50d73\n",
            "  Building wheel for simplejson (setup.py) ... \u001b[?25l\u001b[?25hdone\n",
            "  Created wheel for simplejson: filename=simplejson-3.16.0-cp36-cp36m-linux_x86_64.whl size=114017 sha256=9cd9339702d0f554cb1960b78a7139f82742561e1870b20c90a78d7dd4031cad\n",
            "  Stored in directory: /root/.cache/pip/wheels/5d/1a/1e/0350bb3df3e74215cd91325344cc86c2c691f5306eb4d22c77\n",
            "  Building wheel for idna-ssl (setup.py) ... \u001b[?25l\u001b[?25hdone\n",
            "  Created wheel for idna-ssl: filename=idna_ssl-1.1.0-cp36-none-any.whl size=3163 sha256=85002320bb33231702700a3fe070814f30664aae86881623db79fc735775a6fb\n",
            "  Stored in directory: /root/.cache/pip/wheels/d3/00/b3/32d613e19e08a739751dd6bf998cfed277728f8b2127ad4eb7\n",
            "  Building wheel for typing (setup.py) ... \u001b[?25l\u001b[?25hdone\n",
            "  Created wheel for typing: filename=typing-3.7.4.3-cp36-none-any.whl size=26310 sha256=beeff455242d8407d862fcd75404a40af0bcb201c952b6c43aff423570ed784b\n",
            "  Stored in directory: /root/.cache/pip/wheels/2d/04/41/8e1836e79581989c22eebac3f4e70aaac9af07b0908da173be\n",
            "  Building wheel for face (setup.py) ... \u001b[?25l\u001b[?25hdone\n",
            "  Created wheel for face: filename=face-20.1.1-cp36-none-any.whl size=51079 sha256=d100b1c1984844da39dabb13a076c741225fbcb69d63336bcbe98bcf9fda0b36\n",
            "  Stored in directory: /root/.cache/pip/wheels/4b/3c/80/b247eb8848bb1ee6cafc32cc03670ad3e9e8825086873cc830\n",
            "Successfully built nltk pypika imgkit singleton-decorator h2o-pysparkling-2.4 psutil ratelimit glom pyspark ordered-set simplejson idna-ssl typing face\n",
            "\u001b[31mERROR: spacy 2.2.4 has requirement tqdm<5.0.0,>=4.38.0, but you'll have tqdm 4.28.1 which is incompatible.\u001b[0m\n",
            "\u001b[31mERROR: plotnine 0.6.0 has requirement matplotlib>=3.1.1, but you'll have matplotlib 3.0.3 which is incompatible.\u001b[0m\n",
            "\u001b[31mERROR: mizani 0.6.0 has requirement matplotlib>=3.1.1, but you'll have matplotlib 3.0.3 which is incompatible.\u001b[0m\n",
            "\u001b[31mERROR: jupyter-console 5.2.0 has requirement prompt-toolkit<2.0.0,>=1.0.0, but you'll have prompt-toolkit 2.0.10 which is incompatible.\u001b[0m\n",
            "\u001b[31mERROR: google-colab 1.0.0 has requirement ipython~=5.5.0, but you'll have ipython 7.5.0 which is incompatible.\u001b[0m\n",
            "\u001b[31mERROR: google-colab 1.0.0 has requirement requests~=2.23.0, but you'll have requests 2.20.0 which is incompatible.\u001b[0m\n",
            "\u001b[31mERROR: fbprophet 0.7.1 has requirement tqdm>=4.36.1, but you'll have tqdm 4.28.1 which is incompatible.\u001b[0m\n",
            "\u001b[31mERROR: datascience 0.10.6 has requirement folium==0.2.1, but you'll have folium 0.8.3 which is incompatible.\u001b[0m\n",
            "\u001b[31mERROR: albumentations 0.1.12 has requirement imgaug<0.2.7,>=0.2.5, but you'll have imgaug 0.2.9 which is incompatible.\u001b[0m\n",
            "\u001b[31mERROR: h2o-pysparkling-2-4 2.4.10 has requirement pyspark<=2.4.0,>=2.4.0, but you'll have pyspark 2.4.1 which is incompatible.\u001b[0m\n",
            "\u001b[31mERROR: optimuspyspark 2.2.32 has requirement pandas==0.24.2, but you'll have pandas 1.1.5 which is incompatible.\u001b[0m\n",
            "Installing collected packages: findspark, Jinja2, numpy, keras-applications, keras, backoff, flask, matplotlib, nltk, fastnumbers, pyarrow, pypika, imgkit, seaborn, singleton-decorator, packaging, deprecated, jsonpickle, ordered-set, deepdiff, tensorboard, mock, tensorflow-estimator, tensorflow, idna, requests, colorama, py4j, pyspark, h2o-pysparkling-2.4, pymongo, tqdm, psutil, ratelimit, statsmodels, boltons, face, glom, prompt-toolkit, setuptools, ipython, multipledispatch, asn1crypto, cryptography, vine, amqp, kombu, simplejson, optimuspyspark, async-timeout, multidict, yarl, idna-ssl, aiohttp, typing, pycares, aiodns, cchardet, elasticsearch, python-socks, aiohttp-socks, schedule\n",
            "\u001b[33m  WARNING: The scripts f2py, f2py3 and f2py3.6 are installed in '/root/.local/bin' which is not on PATH.\n",
            "  Consider adding this directory to PATH or, if you prefer to suppress this warning, use --no-warn-script-location.\u001b[0m\n",
            "\u001b[33m  WARNING: The script flask is installed in '/root/.local/bin' which is not on PATH.\n",
            "  Consider adding this directory to PATH or, if you prefer to suppress this warning, use --no-warn-script-location.\u001b[0m\n",
            "\u001b[33m  WARNING: The script plasma_store is installed in '/root/.local/bin' which is not on PATH.\n",
            "  Consider adding this directory to PATH or, if you prefer to suppress this warning, use --no-warn-script-location.\u001b[0m\n",
            "\u001b[33m  WARNING: The script tensorboard is installed in '/root/.local/bin' which is not on PATH.\n",
            "  Consider adding this directory to PATH or, if you prefer to suppress this warning, use --no-warn-script-location.\u001b[0m\n",
            "\u001b[33m  WARNING: The scripts freeze_graph, saved_model_cli, tensorboard, tf_upgrade_v2, tflite_convert, toco and toco_from_protos are installed in '/root/.local/bin' which is not on PATH.\n",
            "  Consider adding this directory to PATH or, if you prefer to suppress this warning, use --no-warn-script-location.\u001b[0m\n",
            "\u001b[33m  WARNING: The script tqdm is installed in '/root/.local/bin' which is not on PATH.\n",
            "  Consider adding this directory to PATH or, if you prefer to suppress this warning, use --no-warn-script-location.\u001b[0m\n",
            "\u001b[33m  WARNING: The script glom is installed in '/root/.local/bin' which is not on PATH.\n",
            "  Consider adding this directory to PATH or, if you prefer to suppress this warning, use --no-warn-script-location.\u001b[0m\n",
            "\u001b[33m  WARNING: The scripts easy_install and easy_install-3.6 are installed in '/root/.local/bin' which is not on PATH.\n",
            "  Consider adding this directory to PATH or, if you prefer to suppress this warning, use --no-warn-script-location.\u001b[0m\n",
            "\u001b[33m  WARNING: The scripts iptest, iptest3, ipython and ipython3 are installed in '/root/.local/bin' which is not on PATH.\n",
            "  Consider adding this directory to PATH or, if you prefer to suppress this warning, use --no-warn-script-location.\u001b[0m\n",
            "Successfully installed Jinja2-2.10.1 aiodns-2.0.0 aiohttp-3.7.3 aiohttp-socks-0.5.5 amqp-2.6.1 asn1crypto-1.4.0 async-timeout-3.0.1 backoff-1.10.0 boltons-20.2.1 cchardet-2.1.7 colorama-0.4.4 cryptography-2.7 deepdiff-4.0.6 deprecated-1.2.5 elasticsearch-7.10.1 face-20.1.1 fastnumbers-2.2.1 findspark-1.3.0 flask-1.0.2 glom-19.10.0 h2o-pysparkling-2.4-2.4.10 idna-2.7 idna-ssl-1.1.0 imgkit-1.0.1 ipython-7.5.0 jsonpickle-1.4.2 keras-2.2.4 keras-applications-1.0.8 kombu-4.6.1 matplotlib-3.0.3 mock-4.0.3 multidict-5.1.0 multipledispatch-0.6.0 nltk-3.4.5 numpy-1.17.2 optimuspyspark-2.2.32 ordered-set-3.1.1 packaging-19.0 prompt-toolkit-2.0.10 psutil-5.7.2 py4j-0.10.7 pyarrow-0.13.0 pycares-3.1.1 pymongo-3.9.0 pypika-0.32.0 pyspark-2.4.1 python-socks-1.1.2 ratelimit-2.2.1 requests-2.20.0 schedule-0.6.0 seaborn-0.9.0 setuptools-41.6.0 simplejson-3.16.0 singleton-decorator-1.0.0 statsmodels-0.10.1 tensorboard-1.13.1 tensorflow-1.13.1 tensorflow-estimator-1.13.0 tqdm-4.28.1 typing-3.7.4.3 vine-1.3.0 yarl-1.6.3\n"
          ],
          "name": "stdout"
        },
        {
          "output_type": "display_data",
          "data": {
            "application/vnd.colab-display-data+json": {
              "pip_warning": {
                "packages": [
                  "IPython",
                  "matplotlib",
                  "mpl_toolkits",
                  "numpy",
                  "pkg_resources",
                  "prompt_toolkit",
                  "typing"
                ]
              }
            }
          },
          "metadata": {
            "tags": []
          }
        }
      ]
    },
    {
      "cell_type": "code",
      "metadata": {
        "colab": {
          "base_uri": "https://localhost:8080/"
        },
        "id": "buwZ90l8Hj-J",
        "outputId": "3ee4619c-d685-42e7-8a11-d4a36672df41"
      },
      "source": [
        "!git clone https://github.com/Ayanlola2002/twint.git\r\n",
        "!cd twint\r\n",
        "!pip install -r /gdrive/MyDrive/EndsarsAnalyzerPro/requirements.txt"
      ],
      "execution_count": 3,
      "outputs": [
        {
          "output_type": "stream",
          "text": [
            "Cloning into 'twint'...\n",
            "remote: Enumerating objects: 4, done.\u001b[K\n",
            "remote: Counting objects: 100% (4/4), done.\u001b[K\n",
            "remote: Compressing objects: 100% (4/4), done.\u001b[K\n",
            "remote: Total 4457 (delta 0), reused 0 (delta 0), pack-reused 4453\u001b[K\n",
            "Receiving objects: 100% (4457/4457), 4.47 MiB | 596.00 KiB/s, done.\n",
            "Resolving deltas: 100% (2634/2634), done.\n",
            "Requirement already satisfied: optimuspyspark in /root/.local/lib/python3.6/site-packages (from -r /gdrive/MyDrive/EndsarsAnalyzerPro/requirements.txt (line 1)) (2.2.32)\n",
            "Requirement already satisfied: aiohttp in /root/.local/lib/python3.6/site-packages (from -r /gdrive/MyDrive/EndsarsAnalyzerPro/requirements.txt (line 2)) (3.7.3)\n",
            "Requirement already satisfied: aiodns in /root/.local/lib/python3.6/site-packages (from -r /gdrive/MyDrive/EndsarsAnalyzerPro/requirements.txt (line 3)) (2.0.0)\n",
            "Requirement already satisfied: beautifulsoup4 in /usr/local/lib/python3.6/dist-packages (from -r /gdrive/MyDrive/EndsarsAnalyzerPro/requirements.txt (line 4)) (4.6.3)\n",
            "Requirement already satisfied: cchardet in /root/.local/lib/python3.6/site-packages (from -r /gdrive/MyDrive/EndsarsAnalyzerPro/requirements.txt (line 5)) (2.1.7)\n",
            "Requirement already satisfied: elasticsearch in /root/.local/lib/python3.6/site-packages (from -r /gdrive/MyDrive/EndsarsAnalyzerPro/requirements.txt (line 6)) (7.10.1)\n",
            "Requirement already satisfied: pysocks in /usr/local/lib/python3.6/dist-packages (from -r /gdrive/MyDrive/EndsarsAnalyzerPro/requirements.txt (line 7)) (1.7.1)\n",
            "Requirement already satisfied: pandas>=0.23.0 in /usr/local/lib/python3.6/dist-packages (from -r /gdrive/MyDrive/EndsarsAnalyzerPro/requirements.txt (line 8)) (1.1.5)\n",
            "Requirement already satisfied: aiohttp_socks in /root/.local/lib/python3.6/site-packages (from -r /gdrive/MyDrive/EndsarsAnalyzerPro/requirements.txt (line 9)) (0.5.5)\n",
            "Requirement already satisfied: schedule in /root/.local/lib/python3.6/site-packages (from -r /gdrive/MyDrive/EndsarsAnalyzerPro/requirements.txt (line 10)) (0.6.0)\n",
            "Requirement already satisfied: geopy in /usr/local/lib/python3.6/dist-packages (from -r /gdrive/MyDrive/EndsarsAnalyzerPro/requirements.txt (line 11)) (1.17.0)\n",
            "Requirement already satisfied: nest_asyncio in /usr/local/lib/python3.6/dist-packages (from -r /gdrive/MyDrive/EndsarsAnalyzerPro/requirements.txt (line 12)) (1.4.3)\n",
            "Requirement already satisfied: TextBlob in /usr/local/lib/python3.6/dist-packages (from -r /gdrive/MyDrive/EndsarsAnalyzerPro/requirements.txt (line 13)) (0.15.3)\n",
            "Requirement already satisfied: wordcloud in /usr/local/lib/python3.6/dist-packages (from -r /gdrive/MyDrive/EndsarsAnalyzerPro/requirements.txt (line 14)) (1.5.0)\n",
            "Requirement already satisfied: simplejson==3.16.0 in /root/.local/lib/python3.6/site-packages (from optimuspyspark->-r /gdrive/MyDrive/EndsarsAnalyzerPro/requirements.txt (line 1)) (3.16.0)\n",
            "Requirement already satisfied: ratelimit==2.2.1 in /root/.local/lib/python3.6/site-packages (from optimuspyspark->-r /gdrive/MyDrive/EndsarsAnalyzerPro/requirements.txt (line 1)) (2.2.1)\n",
            "Requirement already satisfied: deepdiff==4.0.6 in /root/.local/lib/python3.6/site-packages (from optimuspyspark->-r /gdrive/MyDrive/EndsarsAnalyzerPro/requirements.txt (line 1)) (4.0.6)\n",
            "Requirement already satisfied: h2o-pysparkling-2.4==2.4.10 in /root/.local/lib/python3.6/site-packages (from optimuspyspark->-r /gdrive/MyDrive/EndsarsAnalyzerPro/requirements.txt (line 1)) (2.4.10)\n",
            "Requirement already satisfied: pymongo==3.9.0 in /root/.local/lib/python3.6/site-packages (from optimuspyspark->-r /gdrive/MyDrive/EndsarsAnalyzerPro/requirements.txt (line 1)) (3.9.0)\n",
            "Requirement already satisfied: pygments>=2.2.0 in /usr/local/lib/python3.6/dist-packages (from optimuspyspark->-r /gdrive/MyDrive/EndsarsAnalyzerPro/requirements.txt (line 1)) (2.6.1)\n",
            "Requirement already satisfied: setuptools==41.6.0 in /root/.local/lib/python3.6/site-packages (from optimuspyspark->-r /gdrive/MyDrive/EndsarsAnalyzerPro/requirements.txt (line 1)) (41.6.0)\n",
            "Requirement already satisfied: imgkit==1.0.1 in /root/.local/lib/python3.6/site-packages (from optimuspyspark->-r /gdrive/MyDrive/EndsarsAnalyzerPro/requirements.txt (line 1)) (1.0.1)\n",
            "Requirement already satisfied: pyspark==2.4.1 in /root/.local/lib/python3.6/site-packages (from optimuspyspark->-r /gdrive/MyDrive/EndsarsAnalyzerPro/requirements.txt (line 1)) (2.4.1)\n",
            "Requirement already satisfied: singleton-decorator==1.0.0 in /root/.local/lib/python3.6/site-packages (from optimuspyspark->-r /gdrive/MyDrive/EndsarsAnalyzerPro/requirements.txt (line 1)) (1.0.0)\n",
            "Requirement already satisfied: numpy==1.17.2 in /root/.local/lib/python3.6/site-packages (from optimuspyspark->-r /gdrive/MyDrive/EndsarsAnalyzerPro/requirements.txt (line 1)) (1.17.2)\n",
            "Requirement already satisfied: statsmodels==0.10.1 in /root/.local/lib/python3.6/site-packages (from optimuspyspark->-r /gdrive/MyDrive/EndsarsAnalyzerPro/requirements.txt (line 1)) (0.10.1)\n",
            "Requirement already satisfied: ordered-set==3.1.1 in /root/.local/lib/python3.6/site-packages (from optimuspyspark->-r /gdrive/MyDrive/EndsarsAnalyzerPro/requirements.txt (line 1)) (3.1.1)\n",
            "Requirement already satisfied: cryptography==2.7 in /root/.local/lib/python3.6/site-packages (from optimuspyspark->-r /gdrive/MyDrive/EndsarsAnalyzerPro/requirements.txt (line 1)) (2.7)\n",
            "Requirement already satisfied: tqdm==4.28.1 in /root/.local/lib/python3.6/site-packages (from optimuspyspark->-r /gdrive/MyDrive/EndsarsAnalyzerPro/requirements.txt (line 1)) (4.28.1)\n",
            "Requirement already satisfied: ipython==7.5.0 in /root/.local/lib/python3.6/site-packages (from optimuspyspark->-r /gdrive/MyDrive/EndsarsAnalyzerPro/requirements.txt (line 1)) (7.5.0)\n",
            "Requirement already satisfied: fastnumbers==2.2.1 in /root/.local/lib/python3.6/site-packages (from optimuspyspark->-r /gdrive/MyDrive/EndsarsAnalyzerPro/requirements.txt (line 1)) (2.2.1)\n",
            "Requirement already satisfied: kombu==4.6.1 in /root/.local/lib/python3.6/site-packages (from optimuspyspark->-r /gdrive/MyDrive/EndsarsAnalyzerPro/requirements.txt (line 1)) (4.6.1)\n",
            "Requirement already satisfied: findspark==1.3.0 in /root/.local/lib/python3.6/site-packages (from optimuspyspark->-r /gdrive/MyDrive/EndsarsAnalyzerPro/requirements.txt (line 1)) (1.3.0)\n",
            "Requirement already satisfied: packaging==19.0 in /root/.local/lib/python3.6/site-packages (from optimuspyspark->-r /gdrive/MyDrive/EndsarsAnalyzerPro/requirements.txt (line 1)) (19.0)\n",
            "Requirement already satisfied: nltk==3.4.5 in /root/.local/lib/python3.6/site-packages (from optimuspyspark->-r /gdrive/MyDrive/EndsarsAnalyzerPro/requirements.txt (line 1)) (3.4.5)\n",
            "Requirement already satisfied: seaborn==0.9.0 in /root/.local/lib/python3.6/site-packages (from optimuspyspark->-r /gdrive/MyDrive/EndsarsAnalyzerPro/requirements.txt (line 1)) (0.9.0)\n",
            "Requirement already satisfied: flask==1.0.2 in /root/.local/lib/python3.6/site-packages (from optimuspyspark->-r /gdrive/MyDrive/EndsarsAnalyzerPro/requirements.txt (line 1)) (1.0.2)\n",
            "Requirement already satisfied: multipledispatch==0.6.0 in /root/.local/lib/python3.6/site-packages (from optimuspyspark->-r /gdrive/MyDrive/EndsarsAnalyzerPro/requirements.txt (line 1)) (0.6.0)\n",
            "Requirement already satisfied: pypika==0.32.0 in /root/.local/lib/python3.6/site-packages (from optimuspyspark->-r /gdrive/MyDrive/EndsarsAnalyzerPro/requirements.txt (line 1)) (0.32.0)\n",
            "Requirement already satisfied: backoff==1.10.0 in /root/.local/lib/python3.6/site-packages (from optimuspyspark->-r /gdrive/MyDrive/EndsarsAnalyzerPro/requirements.txt (line 1)) (1.10.0)\n",
            "Requirement already satisfied: glom==19.10.0 in /root/.local/lib/python3.6/site-packages (from optimuspyspark->-r /gdrive/MyDrive/EndsarsAnalyzerPro/requirements.txt (line 1)) (19.10.0)\n",
            "Requirement already satisfied: Jinja2==2.10.1 in /root/.local/lib/python3.6/site-packages (from optimuspyspark->-r /gdrive/MyDrive/EndsarsAnalyzerPro/requirements.txt (line 1)) (2.10.1)\n",
            "Requirement already satisfied: requests==2.20.0 in /root/.local/lib/python3.6/site-packages (from optimuspyspark->-r /gdrive/MyDrive/EndsarsAnalyzerPro/requirements.txt (line 1)) (2.20.0)\n",
            "Requirement already satisfied: humanize==0.5.1 in /usr/local/lib/python3.6/dist-packages (from optimuspyspark->-r /gdrive/MyDrive/EndsarsAnalyzerPro/requirements.txt (line 1)) (0.5.1)\n",
            "Requirement already satisfied: pyarrow==0.13.0 in /root/.local/lib/python3.6/site-packages (from optimuspyspark->-r /gdrive/MyDrive/EndsarsAnalyzerPro/requirements.txt (line 1)) (0.13.0)\n",
            "Requirement already satisfied: keras==2.2.4 in /root/.local/lib/python3.6/site-packages (from optimuspyspark->-r /gdrive/MyDrive/EndsarsAnalyzerPro/requirements.txt (line 1)) (2.2.4)\n",
            "Requirement already satisfied: psutil==5.7.2 in /root/.local/lib/python3.6/site-packages (from optimuspyspark->-r /gdrive/MyDrive/EndsarsAnalyzerPro/requirements.txt (line 1)) (5.7.2)\n",
            "Requirement already satisfied: deprecated==1.2.5 in /root/.local/lib/python3.6/site-packages (from optimuspyspark->-r /gdrive/MyDrive/EndsarsAnalyzerPro/requirements.txt (line 1)) (1.2.5)\n",
            "Requirement already satisfied: matplotlib==3.0.3 in /root/.local/lib/python3.6/site-packages (from optimuspyspark->-r /gdrive/MyDrive/EndsarsAnalyzerPro/requirements.txt (line 1)) (3.0.3)\n",
            "Requirement already satisfied: tensorflow==1.13.1 in /root/.local/lib/python3.6/site-packages (from optimuspyspark->-r /gdrive/MyDrive/EndsarsAnalyzerPro/requirements.txt (line 1)) (1.13.1)\n",
            "Requirement already satisfied: multidict<7.0,>=4.5 in /root/.local/lib/python3.6/site-packages (from aiohttp->-r /gdrive/MyDrive/EndsarsAnalyzerPro/requirements.txt (line 2)) (5.1.0)\n",
            "Requirement already satisfied: async-timeout<4.0,>=3.0 in /root/.local/lib/python3.6/site-packages (from aiohttp->-r /gdrive/MyDrive/EndsarsAnalyzerPro/requirements.txt (line 2)) (3.0.1)\n",
            "Requirement already satisfied: typing-extensions>=3.6.5 in /usr/local/lib/python3.6/dist-packages (from aiohttp->-r /gdrive/MyDrive/EndsarsAnalyzerPro/requirements.txt (line 2)) (3.7.4.3)\n",
            "Requirement already satisfied: attrs>=17.3.0 in /usr/local/lib/python3.6/dist-packages (from aiohttp->-r /gdrive/MyDrive/EndsarsAnalyzerPro/requirements.txt (line 2)) (20.3.0)\n",
            "Requirement already satisfied: yarl<2.0,>=1.0 in /root/.local/lib/python3.6/site-packages (from aiohttp->-r /gdrive/MyDrive/EndsarsAnalyzerPro/requirements.txt (line 2)) (1.6.3)\n",
            "Requirement already satisfied: idna-ssl>=1.0; python_version < \"3.7\" in /root/.local/lib/python3.6/site-packages (from aiohttp->-r /gdrive/MyDrive/EndsarsAnalyzerPro/requirements.txt (line 2)) (1.1.0)\n",
            "Requirement already satisfied: chardet<4.0,>=2.0 in /usr/local/lib/python3.6/dist-packages (from aiohttp->-r /gdrive/MyDrive/EndsarsAnalyzerPro/requirements.txt (line 2)) (3.0.4)\n",
            "Requirement already satisfied: pycares>=3.0.0 in /root/.local/lib/python3.6/site-packages (from aiodns->-r /gdrive/MyDrive/EndsarsAnalyzerPro/requirements.txt (line 3)) (3.1.1)\n",
            "Requirement already satisfied: typing; python_version < \"3.7\" in /root/.local/lib/python3.6/site-packages (from aiodns->-r /gdrive/MyDrive/EndsarsAnalyzerPro/requirements.txt (line 3)) (3.7.4.3)\n",
            "Requirement already satisfied: urllib3<2,>=1.21.1 in /usr/local/lib/python3.6/dist-packages (from elasticsearch->-r /gdrive/MyDrive/EndsarsAnalyzerPro/requirements.txt (line 6)) (1.24.3)\n",
            "Requirement already satisfied: certifi in /usr/local/lib/python3.6/dist-packages (from elasticsearch->-r /gdrive/MyDrive/EndsarsAnalyzerPro/requirements.txt (line 6)) (2020.12.5)\n",
            "Requirement already satisfied: pytz>=2017.2 in /usr/local/lib/python3.6/dist-packages (from pandas>=0.23.0->-r /gdrive/MyDrive/EndsarsAnalyzerPro/requirements.txt (line 8)) (2018.9)\n",
            "Requirement already satisfied: python-dateutil>=2.7.3 in /usr/local/lib/python3.6/dist-packages (from pandas>=0.23.0->-r /gdrive/MyDrive/EndsarsAnalyzerPro/requirements.txt (line 8)) (2.8.1)\n",
            "Requirement already satisfied: python-socks[asyncio]>=1.0.1 in /root/.local/lib/python3.6/site-packages (from aiohttp_socks->-r /gdrive/MyDrive/EndsarsAnalyzerPro/requirements.txt (line 9)) (1.1.2)\n",
            "Requirement already satisfied: geographiclib<2,>=1.49 in /usr/local/lib/python3.6/dist-packages (from geopy->-r /gdrive/MyDrive/EndsarsAnalyzerPro/requirements.txt (line 11)) (1.50)\n",
            "Requirement already satisfied: pillow in /usr/local/lib/python3.6/dist-packages (from wordcloud->-r /gdrive/MyDrive/EndsarsAnalyzerPro/requirements.txt (line 14)) (7.0.0)\n",
            "Requirement already satisfied: jsonpickle>=1.0 in /root/.local/lib/python3.6/site-packages (from deepdiff==4.0.6->optimuspyspark->-r /gdrive/MyDrive/EndsarsAnalyzerPro/requirements.txt (line 1)) (1.4.2)\n",
            "Requirement already satisfied: colorama>=0.3.8 in /root/.local/lib/python3.6/site-packages (from h2o-pysparkling-2.4==2.4.10->optimuspyspark->-r /gdrive/MyDrive/EndsarsAnalyzerPro/requirements.txt (line 1)) (0.4.4)\n",
            "Requirement already satisfied: tabulate in /usr/local/lib/python3.6/dist-packages (from h2o-pysparkling-2.4==2.4.10->optimuspyspark->-r /gdrive/MyDrive/EndsarsAnalyzerPro/requirements.txt (line 1)) (0.8.7)\n",
            "Requirement already satisfied: future in /usr/local/lib/python3.6/dist-packages (from h2o-pysparkling-2.4==2.4.10->optimuspyspark->-r /gdrive/MyDrive/EndsarsAnalyzerPro/requirements.txt (line 1)) (0.16.0)\n",
            "Requirement already satisfied: py4j==0.10.7 in /root/.local/lib/python3.6/site-packages (from pyspark==2.4.1->optimuspyspark->-r /gdrive/MyDrive/EndsarsAnalyzerPro/requirements.txt (line 1)) (0.10.7)\n",
            "Requirement already satisfied: scipy>=0.18 in /usr/local/lib/python3.6/dist-packages (from statsmodels==0.10.1->optimuspyspark->-r /gdrive/MyDrive/EndsarsAnalyzerPro/requirements.txt (line 1)) (1.4.1)\n",
            "Requirement already satisfied: patsy>=0.4.0 in /usr/local/lib/python3.6/dist-packages (from statsmodels==0.10.1->optimuspyspark->-r /gdrive/MyDrive/EndsarsAnalyzerPro/requirements.txt (line 1)) (0.5.1)\n",
            "Requirement already satisfied: cffi!=1.11.3,>=1.8 in /usr/local/lib/python3.6/dist-packages (from cryptography==2.7->optimuspyspark->-r /gdrive/MyDrive/EndsarsAnalyzerPro/requirements.txt (line 1)) (1.14.4)\n",
            "Requirement already satisfied: asn1crypto>=0.21.0 in /root/.local/lib/python3.6/site-packages (from cryptography==2.7->optimuspyspark->-r /gdrive/MyDrive/EndsarsAnalyzerPro/requirements.txt (line 1)) (1.4.0)\n",
            "Requirement already satisfied: six>=1.4.1 in /usr/local/lib/python3.6/dist-packages (from cryptography==2.7->optimuspyspark->-r /gdrive/MyDrive/EndsarsAnalyzerPro/requirements.txt (line 1)) (1.15.0)\n",
            "Requirement already satisfied: decorator in /usr/local/lib/python3.6/dist-packages (from ipython==7.5.0->optimuspyspark->-r /gdrive/MyDrive/EndsarsAnalyzerPro/requirements.txt (line 1)) (4.4.2)\n",
            "Requirement already satisfied: prompt-toolkit<2.1.0,>=2.0.0 in /root/.local/lib/python3.6/site-packages (from ipython==7.5.0->optimuspyspark->-r /gdrive/MyDrive/EndsarsAnalyzerPro/requirements.txt (line 1)) (2.0.10)\n",
            "Requirement already satisfied: pexpect; sys_platform != \"win32\" in /usr/local/lib/python3.6/dist-packages (from ipython==7.5.0->optimuspyspark->-r /gdrive/MyDrive/EndsarsAnalyzerPro/requirements.txt (line 1)) (4.8.0)\n",
            "Requirement already satisfied: jedi>=0.10 in /usr/local/lib/python3.6/dist-packages (from ipython==7.5.0->optimuspyspark->-r /gdrive/MyDrive/EndsarsAnalyzerPro/requirements.txt (line 1)) (0.17.2)\n",
            "Requirement already satisfied: pickleshare in /usr/local/lib/python3.6/dist-packages (from ipython==7.5.0->optimuspyspark->-r /gdrive/MyDrive/EndsarsAnalyzerPro/requirements.txt (line 1)) (0.7.5)\n",
            "Requirement already satisfied: backcall in /usr/local/lib/python3.6/dist-packages (from ipython==7.5.0->optimuspyspark->-r /gdrive/MyDrive/EndsarsAnalyzerPro/requirements.txt (line 1)) (0.2.0)\n",
            "Requirement already satisfied: traitlets>=4.2 in /usr/local/lib/python3.6/dist-packages (from ipython==7.5.0->optimuspyspark->-r /gdrive/MyDrive/EndsarsAnalyzerPro/requirements.txt (line 1)) (4.3.3)\n",
            "Requirement already satisfied: amqp<3.0,>=2.5.0 in /root/.local/lib/python3.6/site-packages (from kombu==4.6.1->optimuspyspark->-r /gdrive/MyDrive/EndsarsAnalyzerPro/requirements.txt (line 1)) (2.6.1)\n",
            "Requirement already satisfied: pyparsing>=2.0.2 in /usr/local/lib/python3.6/dist-packages (from packaging==19.0->optimuspyspark->-r /gdrive/MyDrive/EndsarsAnalyzerPro/requirements.txt (line 1)) (2.4.7)\n",
            "Requirement already satisfied: click>=5.1 in /usr/local/lib/python3.6/dist-packages (from flask==1.0.2->optimuspyspark->-r /gdrive/MyDrive/EndsarsAnalyzerPro/requirements.txt (line 1)) (7.1.2)\n",
            "Requirement already satisfied: Werkzeug>=0.14 in /usr/local/lib/python3.6/dist-packages (from flask==1.0.2->optimuspyspark->-r /gdrive/MyDrive/EndsarsAnalyzerPro/requirements.txt (line 1)) (1.0.1)\n",
            "Requirement already satisfied: itsdangerous>=0.24 in /usr/local/lib/python3.6/dist-packages (from flask==1.0.2->optimuspyspark->-r /gdrive/MyDrive/EndsarsAnalyzerPro/requirements.txt (line 1)) (1.1.0)\n",
            "Requirement already satisfied: face in /root/.local/lib/python3.6/site-packages (from glom==19.10.0->optimuspyspark->-r /gdrive/MyDrive/EndsarsAnalyzerPro/requirements.txt (line 1)) (20.1.1)\n",
            "Requirement already satisfied: boltons>=19.3.0 in /root/.local/lib/python3.6/site-packages (from glom==19.10.0->optimuspyspark->-r /gdrive/MyDrive/EndsarsAnalyzerPro/requirements.txt (line 1)) (20.2.1)\n",
            "Requirement already satisfied: MarkupSafe>=0.23 in /usr/local/lib/python3.6/dist-packages (from Jinja2==2.10.1->optimuspyspark->-r /gdrive/MyDrive/EndsarsAnalyzerPro/requirements.txt (line 1)) (1.1.1)\n",
            "Requirement already satisfied: idna<2.8,>=2.5 in /root/.local/lib/python3.6/site-packages (from requests==2.20.0->optimuspyspark->-r /gdrive/MyDrive/EndsarsAnalyzerPro/requirements.txt (line 1)) (2.7)\n",
            "Requirement already satisfied: keras-applications>=1.0.6 in /root/.local/lib/python3.6/site-packages (from keras==2.2.4->optimuspyspark->-r /gdrive/MyDrive/EndsarsAnalyzerPro/requirements.txt (line 1)) (1.0.8)\n",
            "Requirement already satisfied: h5py in /usr/local/lib/python3.6/dist-packages (from keras==2.2.4->optimuspyspark->-r /gdrive/MyDrive/EndsarsAnalyzerPro/requirements.txt (line 1)) (2.10.0)\n",
            "Requirement already satisfied: pyyaml in /usr/local/lib/python3.6/dist-packages (from keras==2.2.4->optimuspyspark->-r /gdrive/MyDrive/EndsarsAnalyzerPro/requirements.txt (line 1)) (3.13)\n",
            "Requirement already satisfied: keras-preprocessing>=1.0.5 in /usr/local/lib/python3.6/dist-packages (from keras==2.2.4->optimuspyspark->-r /gdrive/MyDrive/EndsarsAnalyzerPro/requirements.txt (line 1)) (1.1.2)\n",
            "Requirement already satisfied: wrapt<2,>=1 in /usr/local/lib/python3.6/dist-packages (from deprecated==1.2.5->optimuspyspark->-r /gdrive/MyDrive/EndsarsAnalyzerPro/requirements.txt (line 1)) (1.12.1)\n",
            "Requirement already satisfied: kiwisolver>=1.0.1 in /usr/local/lib/python3.6/dist-packages (from matplotlib==3.0.3->optimuspyspark->-r /gdrive/MyDrive/EndsarsAnalyzerPro/requirements.txt (line 1)) (1.3.1)\n",
            "Requirement already satisfied: cycler>=0.10 in /usr/local/lib/python3.6/dist-packages (from matplotlib==3.0.3->optimuspyspark->-r /gdrive/MyDrive/EndsarsAnalyzerPro/requirements.txt (line 1)) (0.10.0)\n",
            "Requirement already satisfied: absl-py>=0.1.6 in /usr/local/lib/python3.6/dist-packages (from tensorflow==1.13.1->optimuspyspark->-r /gdrive/MyDrive/EndsarsAnalyzerPro/requirements.txt (line 1)) (0.10.0)\n",
            "Requirement already satisfied: termcolor>=1.1.0 in /usr/local/lib/python3.6/dist-packages (from tensorflow==1.13.1->optimuspyspark->-r /gdrive/MyDrive/EndsarsAnalyzerPro/requirements.txt (line 1)) (1.1.0)\n",
            "Requirement already satisfied: wheel>=0.26 in /usr/local/lib/python3.6/dist-packages (from tensorflow==1.13.1->optimuspyspark->-r /gdrive/MyDrive/EndsarsAnalyzerPro/requirements.txt (line 1)) (0.36.2)\n",
            "Requirement already satisfied: astor>=0.6.0 in /usr/local/lib/python3.6/dist-packages (from tensorflow==1.13.1->optimuspyspark->-r /gdrive/MyDrive/EndsarsAnalyzerPro/requirements.txt (line 1)) (0.8.1)\n",
            "Requirement already satisfied: grpcio>=1.8.6 in /usr/local/lib/python3.6/dist-packages (from tensorflow==1.13.1->optimuspyspark->-r /gdrive/MyDrive/EndsarsAnalyzerPro/requirements.txt (line 1)) (1.32.0)\n",
            "Requirement already satisfied: gast>=0.2.0 in /usr/local/lib/python3.6/dist-packages (from tensorflow==1.13.1->optimuspyspark->-r /gdrive/MyDrive/EndsarsAnalyzerPro/requirements.txt (line 1)) (0.3.3)\n",
            "Requirement already satisfied: tensorboard<1.14.0,>=1.13.0 in /root/.local/lib/python3.6/site-packages (from tensorflow==1.13.1->optimuspyspark->-r /gdrive/MyDrive/EndsarsAnalyzerPro/requirements.txt (line 1)) (1.13.1)\n",
            "Requirement already satisfied: tensorflow-estimator<1.14.0rc0,>=1.13.0 in /root/.local/lib/python3.6/site-packages (from tensorflow==1.13.1->optimuspyspark->-r /gdrive/MyDrive/EndsarsAnalyzerPro/requirements.txt (line 1)) (1.13.0)\n",
            "Requirement already satisfied: protobuf>=3.6.1 in /usr/local/lib/python3.6/dist-packages (from tensorflow==1.13.1->optimuspyspark->-r /gdrive/MyDrive/EndsarsAnalyzerPro/requirements.txt (line 1)) (3.12.4)\n",
            "Requirement already satisfied: importlib-metadata; python_version < \"3.8\" in /usr/local/lib/python3.6/dist-packages (from jsonpickle>=1.0->deepdiff==4.0.6->optimuspyspark->-r /gdrive/MyDrive/EndsarsAnalyzerPro/requirements.txt (line 1)) (3.3.0)\n",
            "Requirement already satisfied: pycparser in /usr/local/lib/python3.6/dist-packages (from cffi!=1.11.3,>=1.8->cryptography==2.7->optimuspyspark->-r /gdrive/MyDrive/EndsarsAnalyzerPro/requirements.txt (line 1)) (2.20)\n",
            "Requirement already satisfied: wcwidth in /usr/local/lib/python3.6/dist-packages (from prompt-toolkit<2.1.0,>=2.0.0->ipython==7.5.0->optimuspyspark->-r /gdrive/MyDrive/EndsarsAnalyzerPro/requirements.txt (line 1)) (0.2.5)\n",
            "Requirement already satisfied: ptyprocess>=0.5 in /usr/local/lib/python3.6/dist-packages (from pexpect; sys_platform != \"win32\"->ipython==7.5.0->optimuspyspark->-r /gdrive/MyDrive/EndsarsAnalyzerPro/requirements.txt (line 1)) (0.7.0)\n",
            "Requirement already satisfied: parso<0.8.0,>=0.7.0 in /usr/local/lib/python3.6/dist-packages (from jedi>=0.10->ipython==7.5.0->optimuspyspark->-r /gdrive/MyDrive/EndsarsAnalyzerPro/requirements.txt (line 1)) (0.7.1)\n",
            "Requirement already satisfied: ipython-genutils in /usr/local/lib/python3.6/dist-packages (from traitlets>=4.2->ipython==7.5.0->optimuspyspark->-r /gdrive/MyDrive/EndsarsAnalyzerPro/requirements.txt (line 1)) (0.2.0)\n",
            "Requirement already satisfied: vine<5.0.0a1,>=1.1.3 in /root/.local/lib/python3.6/site-packages (from amqp<3.0,>=2.5.0->kombu==4.6.1->optimuspyspark->-r /gdrive/MyDrive/EndsarsAnalyzerPro/requirements.txt (line 1)) (1.3.0)\n",
            "Requirement already satisfied: markdown>=2.6.8 in /usr/local/lib/python3.6/dist-packages (from tensorboard<1.14.0,>=1.13.0->tensorflow==1.13.1->optimuspyspark->-r /gdrive/MyDrive/EndsarsAnalyzerPro/requirements.txt (line 1)) (3.3.3)\n",
            "Requirement already satisfied: mock>=2.0.0 in /root/.local/lib/python3.6/site-packages (from tensorflow-estimator<1.14.0rc0,>=1.13.0->tensorflow==1.13.1->optimuspyspark->-r /gdrive/MyDrive/EndsarsAnalyzerPro/requirements.txt (line 1)) (4.0.3)\n",
            "Requirement already satisfied: zipp>=0.5 in /usr/local/lib/python3.6/dist-packages (from importlib-metadata; python_version < \"3.8\"->jsonpickle>=1.0->deepdiff==4.0.6->optimuspyspark->-r /gdrive/MyDrive/EndsarsAnalyzerPro/requirements.txt (line 1)) (3.4.0)\n"
          ],
          "name": "stdout"
        }
      ]
    },
    {
      "cell_type": "code",
      "metadata": {
        "colab": {
          "base_uri": "https://localhost:8080/"
        },
        "id": "DhNoq3NLIBYY",
        "outputId": "201f9d46-335e-41e6-9709-2495fc941e33"
      },
      "source": [
        "!mv src/twint .\r\n",
        "!rm -r src"
      ],
      "execution_count": 4,
      "outputs": [
        {
          "output_type": "stream",
          "text": [
            "mv: cannot stat 'src/twint': No such file or directory\n",
            "rm: cannot remove 'src': No such file or directory\n"
          ],
          "name": "stdout"
        }
      ]
    },
    {
      "cell_type": "code",
      "metadata": {
        "id": "eLBVIP1WIC9A"
      },
      "source": [
        "%load_ext autoreload\r\n",
        "%autoreload 2\r\n",
        "\r\n",
        "import sys\r\n",
        "sys.path.append(\"twint/\")"
      ],
      "execution_count": 5,
      "outputs": []
    },
    {
      "cell_type": "code",
      "metadata": {
        "colab": {
          "base_uri": "https://localhost:8080/",
          "height": 438
        },
        "id": "jqU7-EyMINR7",
        "outputId": "42dfd56e-aba9-4cf8-e736-9e26673b2990"
      },
      "source": [
        "import twint"
      ],
      "execution_count": 6,
      "outputs": [
        {
          "output_type": "error",
          "ename": "ModuleNotFoundError",
          "evalue": "ignored",
          "traceback": [
            "\u001b[0;31m---------------------------------------------------------------------------\u001b[0m",
            "\u001b[0;31mModuleNotFoundError\u001b[0m                       Traceback (most recent call last)",
            "\u001b[0;32m<ipython-input-6-5772b804c290>\u001b[0m in \u001b[0;36m<module>\u001b[0;34m()\u001b[0m\n\u001b[0;32m----> 1\u001b[0;31m \u001b[0;32mimport\u001b[0m \u001b[0mtwint\u001b[0m\u001b[0;34m\u001b[0m\u001b[0;34m\u001b[0m\u001b[0m\n\u001b[0m",
            "\u001b[0;32m/content/twint/twint/__init__.py\u001b[0m in \u001b[0;36m<module>\u001b[0;34m()\u001b[0m\n\u001b[1;32m     12\u001b[0m \u001b[0;32mfrom\u001b[0m \u001b[0;34m.\u001b[0m\u001b[0mconfig\u001b[0m \u001b[0;32mimport\u001b[0m \u001b[0mConfig\u001b[0m\u001b[0;34m\u001b[0m\u001b[0;34m\u001b[0m\u001b[0m\n\u001b[1;32m     13\u001b[0m \u001b[0;32mfrom\u001b[0m \u001b[0;34m.\u001b[0m\u001b[0m__version__\u001b[0m \u001b[0;32mimport\u001b[0m \u001b[0m__version__\u001b[0m\u001b[0;34m\u001b[0m\u001b[0;34m\u001b[0m\u001b[0m\n\u001b[0;32m---> 14\u001b[0;31m \u001b[0;32mfrom\u001b[0m \u001b[0;34m.\u001b[0m \u001b[0;32mimport\u001b[0m \u001b[0mrun\u001b[0m\u001b[0;34m\u001b[0m\u001b[0;34m\u001b[0m\u001b[0m\n\u001b[0m\u001b[1;32m     15\u001b[0m \u001b[0;34m\u001b[0m\u001b[0m\n\u001b[1;32m     16\u001b[0m _levels = {\n",
            "\u001b[0;32m/content/twint/twint/run.py\u001b[0m in \u001b[0;36m<module>\u001b[0;34m()\u001b[0m\n\u001b[1;32m      2\u001b[0m \u001b[0;32mfrom\u001b[0m \u001b[0masyncio\u001b[0m \u001b[0;32mimport\u001b[0m \u001b[0mget_event_loop\u001b[0m\u001b[0;34m,\u001b[0m \u001b[0mTimeoutError\u001b[0m\u001b[0;34m,\u001b[0m \u001b[0mensure_future\u001b[0m\u001b[0;34m,\u001b[0m \u001b[0mnew_event_loop\u001b[0m\u001b[0;34m,\u001b[0m \u001b[0mset_event_loop\u001b[0m\u001b[0;34m\u001b[0m\u001b[0;34m\u001b[0m\u001b[0m\n\u001b[1;32m      3\u001b[0m \u001b[0;34m\u001b[0m\u001b[0m\n\u001b[0;32m----> 4\u001b[0;31m \u001b[0;32mfrom\u001b[0m \u001b[0;34m.\u001b[0m \u001b[0;32mimport\u001b[0m \u001b[0mdatelock\u001b[0m\u001b[0;34m,\u001b[0m \u001b[0mfeed\u001b[0m\u001b[0;34m,\u001b[0m \u001b[0mget\u001b[0m\u001b[0;34m,\u001b[0m \u001b[0moutput\u001b[0m\u001b[0;34m,\u001b[0m \u001b[0mverbose\u001b[0m\u001b[0;34m,\u001b[0m \u001b[0mstorage\u001b[0m\u001b[0;34m\u001b[0m\u001b[0;34m\u001b[0m\u001b[0m\n\u001b[0m\u001b[1;32m      5\u001b[0m \u001b[0;32mfrom\u001b[0m \u001b[0;34m.\u001b[0m\u001b[0mtoken\u001b[0m \u001b[0;32mimport\u001b[0m \u001b[0mTokenExpiryException\u001b[0m\u001b[0;34m\u001b[0m\u001b[0;34m\u001b[0m\u001b[0m\n\u001b[1;32m      6\u001b[0m \u001b[0;32mfrom\u001b[0m \u001b[0;34m.\u001b[0m \u001b[0;32mimport\u001b[0m \u001b[0mtoken\u001b[0m\u001b[0;34m\u001b[0m\u001b[0;34m\u001b[0m\u001b[0m\n",
            "\u001b[0;32m/content/twint/twint/datelock.py\u001b[0m in \u001b[0;36m<module>\u001b[0;34m()\u001b[0m\n\u001b[1;32m      3\u001b[0m \u001b[0;32mimport\u001b[0m \u001b[0mlogging\u001b[0m \u001b[0;32mas\u001b[0m \u001b[0mlogme\u001b[0m\u001b[0;34m\u001b[0m\u001b[0;34m\u001b[0m\u001b[0m\n\u001b[1;32m      4\u001b[0m \u001b[0;34m\u001b[0m\u001b[0m\n\u001b[0;32m----> 5\u001b[0;31m \u001b[0;32mfrom\u001b[0m \u001b[0;34m.\u001b[0m\u001b[0mtweet\u001b[0m \u001b[0;32mimport\u001b[0m \u001b[0mutc_to_local\u001b[0m\u001b[0;34m\u001b[0m\u001b[0;34m\u001b[0m\u001b[0m\n\u001b[0m\u001b[1;32m      6\u001b[0m \u001b[0;34m\u001b[0m\u001b[0m\n\u001b[1;32m      7\u001b[0m \u001b[0;34m\u001b[0m\u001b[0m\n",
            "\u001b[0;32m/content/twint/twint/tweet.py\u001b[0m in \u001b[0;36m<module>\u001b[0;34m()\u001b[0m\n\u001b[1;32m      3\u001b[0m \u001b[0;34m\u001b[0m\u001b[0m\n\u001b[1;32m      4\u001b[0m \u001b[0;32mimport\u001b[0m \u001b[0mlogging\u001b[0m \u001b[0;32mas\u001b[0m \u001b[0mlogme\u001b[0m\u001b[0;34m\u001b[0m\u001b[0;34m\u001b[0m\u001b[0m\n\u001b[0;32m----> 5\u001b[0;31m \u001b[0;32mfrom\u001b[0m \u001b[0mgoogletransx\u001b[0m \u001b[0;32mimport\u001b[0m \u001b[0mTranslator\u001b[0m\u001b[0;34m\u001b[0m\u001b[0;34m\u001b[0m\u001b[0m\n\u001b[0m\u001b[1;32m      6\u001b[0m \u001b[0;31m# ref.\u001b[0m\u001b[0;34m\u001b[0m\u001b[0;34m\u001b[0m\u001b[0;34m\u001b[0m\u001b[0m\n\u001b[1;32m      7\u001b[0m \u001b[0;31m# - https://github.com/x0rzkov/py-googletrans#basic-usage\u001b[0m\u001b[0;34m\u001b[0m\u001b[0;34m\u001b[0m\u001b[0;34m\u001b[0m\u001b[0m\n",
            "\u001b[0;31mModuleNotFoundError\u001b[0m: No module named 'googletransx'",
            "",
            "\u001b[0;31m---------------------------------------------------------------------------\u001b[0;32m\nNOTE: If your import is failing due to a missing package, you can\nmanually install dependencies using either !pip or !apt.\n\nTo view examples of installing some common dependencies, click the\n\"Open Examples\" button below.\n\u001b[0;31m---------------------------------------------------------------------------\u001b[0m\n"
          ]
        }
      ]
    },
    {
      "cell_type": "code",
      "metadata": {
        "id": "1L6ILaRnIWbx"
      },
      "source": [
        "from optimus import Optimus\r\n",
        "op = Optimus()"
      ],
      "execution_count": null,
      "outputs": []
    },
    {
      "cell_type": "code",
      "metadata": {
        "id": "loWZo7nFIe6_"
      },
      "source": [
        "# Set up TWINT config\r\n",
        "c = twint.Config()"
      ],
      "execution_count": null,
      "outputs": []
    },
    {
      "cell_type": "code",
      "metadata": {
        "id": "Fmd04x_YIlXK"
      },
      "source": [
        "# Solve compatibility issues with notebooks and RunTime errors.\r\n",
        "import nest_asyncio\r\n",
        "nest_asyncio.apply()"
      ],
      "execution_count": null,
      "outputs": []
    },
    {
      "cell_type": "code",
      "metadata": {
        "id": "QzJ07EMrJCYJ"
      },
      "source": [
        "c.Search = \"datascience\"\r\n",
        "\r\n",
        "\r\n",
        "\r\n"
      ],
      "execution_count": null,
      "outputs": []
    },
    {
      "cell_type": "code",
      "metadata": {
        "id": "O1TYu5xPKHa9"
      },
      "source": [
        "# Custom output format\r\n",
        "c.Format = \"Username: {username} |  Tweet: {tweet}\"\r\n",
        "c.Limit = 1\r\n",
        "c.Pandas = True"
      ],
      "execution_count": null,
      "outputs": []
    },
    {
      "cell_type": "code",
      "metadata": {
        "id": "lXhS-vR5KOFm"
      },
      "source": [
        "twint.run.Search(c)"
      ],
      "execution_count": null,
      "outputs": []
    }
  ]
}