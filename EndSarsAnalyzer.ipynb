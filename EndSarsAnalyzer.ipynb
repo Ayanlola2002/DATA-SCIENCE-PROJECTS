{
  "nbformat": 4,
  "nbformat_minor": 0,
  "metadata": {
    "colab": {
      "name": "EndSarsAnalyzer.ipynb",
      "provenance": [],
      "collapsed_sections": [],
      "authorship_tag": "ABX9TyPdKPSe15HTyTV1l7nIoNaT",
      "include_colab_link": true
    },
    "kernelspec": {
      "name": "python3",
      "display_name": "Python 3"
    }
  },
  "cells": [
    {
      "cell_type": "markdown",
      "metadata": {
        "id": "view-in-github",
        "colab_type": "text"
      },
      "source": [
        "<a href=\"https://colab.research.google.com/github/Ayanlola2002/DATA-SCIENCE-PROJECTS/blob/master/EndSarsAnalyzer.ipynb\" target=\"_parent\"><img src=\"https://colab.research.google.com/assets/colab-badge.svg\" alt=\"Open In Colab\"/></a>"
      ]
    },
    {
      "cell_type": "code",
      "metadata": {
        "colab": {
          "base_uri": "https://localhost:8080/"
        },
        "id": "jSbsfusiGL_9",
        "outputId": "f2c8e241-19d8-4654-d7b4-783f1eedcc8a"
      },
      "source": [
        "from google.colab import drive\r\n",
        "drive.mount('/gdrive')"
      ],
      "execution_count": 25,
      "outputs": [
        {
          "output_type": "stream",
          "text": [
            "Drive already mounted at /gdrive; to attempt to forcibly remount, call drive.mount(\"/gdrive\", force_remount=True).\n"
          ],
          "name": "stdout"
        }
      ]
    },
    {
      "cell_type": "code",
      "metadata": {
        "colab": {
          "base_uri": "https://localhost:8080/"
        },
        "id": "y9MYTA06833Q",
        "outputId": "27344ba4-e295-4be6-94ef-ed61f7c00469"
      },
      "source": [
        "!pip install --user -r /gdrive/MyDrive/EndsarsAnalyzerPro/requirements.txt"
      ],
      "execution_count": 26,
      "outputs": [
        {
          "output_type": "stream",
          "text": [
            "Requirement already satisfied: optimuspyspark in /root/.local/lib/python3.6/site-packages (from -r /gdrive/MyDrive/EndsarsAnalyzerPro/requirements.txt (line 1)) (2.2.32)\n",
            "Requirement already satisfied: aiohttp in /root/.local/lib/python3.6/site-packages (from -r /gdrive/MyDrive/EndsarsAnalyzerPro/requirements.txt (line 2)) (3.7.3)\n",
            "Requirement already satisfied: aiodns in /root/.local/lib/python3.6/site-packages (from -r /gdrive/MyDrive/EndsarsAnalyzerPro/requirements.txt (line 3)) (2.0.0)\n",
            "Requirement already satisfied: beautifulsoup4 in /usr/local/lib/python3.6/dist-packages (from -r /gdrive/MyDrive/EndsarsAnalyzerPro/requirements.txt (line 4)) (4.6.3)\n",
            "Requirement already satisfied: cchardet in /root/.local/lib/python3.6/site-packages (from -r /gdrive/MyDrive/EndsarsAnalyzerPro/requirements.txt (line 5)) (2.1.7)\n",
            "Requirement already satisfied: elasticsearch in /root/.local/lib/python3.6/site-packages (from -r /gdrive/MyDrive/EndsarsAnalyzerPro/requirements.txt (line 6)) (7.10.1)\n",
            "Requirement already satisfied: pysocks in /usr/local/lib/python3.6/dist-packages (from -r /gdrive/MyDrive/EndsarsAnalyzerPro/requirements.txt (line 7)) (1.7.1)\n",
            "Requirement already satisfied: pandas>=0.23.0 in /usr/local/lib/python3.6/dist-packages (from -r /gdrive/MyDrive/EndsarsAnalyzerPro/requirements.txt (line 8)) (1.1.5)\n",
            "Requirement already satisfied: aiohttp_socks in /root/.local/lib/python3.6/site-packages (from -r /gdrive/MyDrive/EndsarsAnalyzerPro/requirements.txt (line 9)) (0.5.5)\n",
            "Requirement already satisfied: schedule in /root/.local/lib/python3.6/site-packages (from -r /gdrive/MyDrive/EndsarsAnalyzerPro/requirements.txt (line 10)) (0.6.0)\n",
            "Requirement already satisfied: geopy in /usr/local/lib/python3.6/dist-packages (from -r /gdrive/MyDrive/EndsarsAnalyzerPro/requirements.txt (line 11)) (1.17.0)\n",
            "Requirement already satisfied: nest_asyncio in /usr/local/lib/python3.6/dist-packages (from -r /gdrive/MyDrive/EndsarsAnalyzerPro/requirements.txt (line 12)) (1.4.3)\n",
            "Requirement already satisfied: TextBlob in /usr/local/lib/python3.6/dist-packages (from -r /gdrive/MyDrive/EndsarsAnalyzerPro/requirements.txt (line 13)) (0.15.3)\n",
            "Requirement already satisfied: wordcloud in /usr/local/lib/python3.6/dist-packages (from -r /gdrive/MyDrive/EndsarsAnalyzerPro/requirements.txt (line 14)) (1.5.0)\n",
            "Requirement already satisfied: backoff==1.10.0 in /root/.local/lib/python3.6/site-packages (from optimuspyspark->-r /gdrive/MyDrive/EndsarsAnalyzerPro/requirements.txt (line 1)) (1.10.0)\n",
            "Requirement already satisfied: setuptools==41.6.0 in /root/.local/lib/python3.6/site-packages (from optimuspyspark->-r /gdrive/MyDrive/EndsarsAnalyzerPro/requirements.txt (line 1)) (41.6.0)\n",
            "Requirement already satisfied: pyarrow==0.13.0 in /root/.local/lib/python3.6/site-packages (from optimuspyspark->-r /gdrive/MyDrive/EndsarsAnalyzerPro/requirements.txt (line 1)) (0.13.0)\n",
            "Requirement already satisfied: Jinja2==2.10.1 in /root/.local/lib/python3.6/site-packages (from optimuspyspark->-r /gdrive/MyDrive/EndsarsAnalyzerPro/requirements.txt (line 1)) (2.10.1)\n",
            "Requirement already satisfied: seaborn==0.9.0 in /root/.local/lib/python3.6/site-packages (from optimuspyspark->-r /gdrive/MyDrive/EndsarsAnalyzerPro/requirements.txt (line 1)) (0.9.0)\n",
            "Requirement already satisfied: psutil==5.7.2 in /root/.local/lib/python3.6/site-packages (from optimuspyspark->-r /gdrive/MyDrive/EndsarsAnalyzerPro/requirements.txt (line 1)) (5.7.2)\n",
            "Requirement already satisfied: pypika==0.32.0 in /root/.local/lib/python3.6/site-packages (from optimuspyspark->-r /gdrive/MyDrive/EndsarsAnalyzerPro/requirements.txt (line 1)) (0.32.0)\n",
            "Requirement already satisfied: fastnumbers==2.2.1 in /root/.local/lib/python3.6/site-packages (from optimuspyspark->-r /gdrive/MyDrive/EndsarsAnalyzerPro/requirements.txt (line 1)) (2.2.1)\n",
            "Requirement already satisfied: pygments>=2.2.0 in /usr/local/lib/python3.6/dist-packages (from optimuspyspark->-r /gdrive/MyDrive/EndsarsAnalyzerPro/requirements.txt (line 1)) (2.6.1)\n",
            "Requirement already satisfied: tensorflow==1.13.1 in /root/.local/lib/python3.6/site-packages (from optimuspyspark->-r /gdrive/MyDrive/EndsarsAnalyzerPro/requirements.txt (line 1)) (1.13.1)\n",
            "Requirement already satisfied: matplotlib==3.0.3 in /root/.local/lib/python3.6/site-packages (from optimuspyspark->-r /gdrive/MyDrive/EndsarsAnalyzerPro/requirements.txt (line 1)) (3.0.3)\n",
            "Requirement already satisfied: pymongo==3.9.0 in /root/.local/lib/python3.6/site-packages (from optimuspyspark->-r /gdrive/MyDrive/EndsarsAnalyzerPro/requirements.txt (line 1)) (3.9.0)\n",
            "Requirement already satisfied: deepdiff==4.0.6 in /root/.local/lib/python3.6/site-packages (from optimuspyspark->-r /gdrive/MyDrive/EndsarsAnalyzerPro/requirements.txt (line 1)) (4.0.6)\n",
            "Requirement already satisfied: imgkit==1.0.1 in /root/.local/lib/python3.6/site-packages (from optimuspyspark->-r /gdrive/MyDrive/EndsarsAnalyzerPro/requirements.txt (line 1)) (1.0.1)\n",
            "Requirement already satisfied: ratelimit==2.2.1 in /root/.local/lib/python3.6/site-packages (from optimuspyspark->-r /gdrive/MyDrive/EndsarsAnalyzerPro/requirements.txt (line 1)) (2.2.1)\n",
            "Requirement already satisfied: multipledispatch==0.6.0 in /root/.local/lib/python3.6/site-packages (from optimuspyspark->-r /gdrive/MyDrive/EndsarsAnalyzerPro/requirements.txt (line 1)) (0.6.0)\n",
            "Requirement already satisfied: kombu==4.6.1 in /root/.local/lib/python3.6/site-packages (from optimuspyspark->-r /gdrive/MyDrive/EndsarsAnalyzerPro/requirements.txt (line 1)) (4.6.1)\n",
            "Requirement already satisfied: nltk==3.4.5 in /root/.local/lib/python3.6/site-packages (from optimuspyspark->-r /gdrive/MyDrive/EndsarsAnalyzerPro/requirements.txt (line 1)) (3.4.5)\n",
            "Requirement already satisfied: h2o-pysparkling-2.4==2.4.10 in /root/.local/lib/python3.6/site-packages (from optimuspyspark->-r /gdrive/MyDrive/EndsarsAnalyzerPro/requirements.txt (line 1)) (2.4.10)\n",
            "Requirement already satisfied: packaging==19.0 in /root/.local/lib/python3.6/site-packages (from optimuspyspark->-r /gdrive/MyDrive/EndsarsAnalyzerPro/requirements.txt (line 1)) (19.0)\n",
            "Requirement already satisfied: findspark==1.3.0 in /root/.local/lib/python3.6/site-packages (from optimuspyspark->-r /gdrive/MyDrive/EndsarsAnalyzerPro/requirements.txt (line 1)) (1.3.0)\n",
            "Requirement already satisfied: flask==1.0.2 in /root/.local/lib/python3.6/site-packages (from optimuspyspark->-r /gdrive/MyDrive/EndsarsAnalyzerPro/requirements.txt (line 1)) (1.0.2)\n",
            "Requirement already satisfied: tqdm==4.28.1 in /root/.local/lib/python3.6/site-packages (from optimuspyspark->-r /gdrive/MyDrive/EndsarsAnalyzerPro/requirements.txt (line 1)) (4.28.1)\n",
            "Requirement already satisfied: ipython==7.5.0 in /root/.local/lib/python3.6/site-packages (from optimuspyspark->-r /gdrive/MyDrive/EndsarsAnalyzerPro/requirements.txt (line 1)) (7.5.0)\n",
            "Requirement already satisfied: pyspark==2.4.1 in /root/.local/lib/python3.6/site-packages (from optimuspyspark->-r /gdrive/MyDrive/EndsarsAnalyzerPro/requirements.txt (line 1)) (2.4.1)\n",
            "Requirement already satisfied: deprecated==1.2.5 in /root/.local/lib/python3.6/site-packages (from optimuspyspark->-r /gdrive/MyDrive/EndsarsAnalyzerPro/requirements.txt (line 1)) (1.2.5)\n",
            "Requirement already satisfied: ordered-set==3.1.1 in /root/.local/lib/python3.6/site-packages (from optimuspyspark->-r /gdrive/MyDrive/EndsarsAnalyzerPro/requirements.txt (line 1)) (3.1.1)\n",
            "Requirement already satisfied: glom==19.10.0 in /root/.local/lib/python3.6/site-packages (from optimuspyspark->-r /gdrive/MyDrive/EndsarsAnalyzerPro/requirements.txt (line 1)) (19.10.0)\n",
            "Requirement already satisfied: singleton-decorator==1.0.0 in /root/.local/lib/python3.6/site-packages (from optimuspyspark->-r /gdrive/MyDrive/EndsarsAnalyzerPro/requirements.txt (line 1)) (1.0.0)\n",
            "Requirement already satisfied: humanize==0.5.1 in /usr/local/lib/python3.6/dist-packages (from optimuspyspark->-r /gdrive/MyDrive/EndsarsAnalyzerPro/requirements.txt (line 1)) (0.5.1)\n",
            "Requirement already satisfied: statsmodels==0.10.1 in /root/.local/lib/python3.6/site-packages (from optimuspyspark->-r /gdrive/MyDrive/EndsarsAnalyzerPro/requirements.txt (line 1)) (0.10.1)\n",
            "Requirement already satisfied: cryptography==2.7 in /root/.local/lib/python3.6/site-packages (from optimuspyspark->-r /gdrive/MyDrive/EndsarsAnalyzerPro/requirements.txt (line 1)) (2.7)\n",
            "Requirement already satisfied: numpy==1.17.2 in /root/.local/lib/python3.6/site-packages (from optimuspyspark->-r /gdrive/MyDrive/EndsarsAnalyzerPro/requirements.txt (line 1)) (1.17.2)\n",
            "Requirement already satisfied: simplejson==3.16.0 in /root/.local/lib/python3.6/site-packages (from optimuspyspark->-r /gdrive/MyDrive/EndsarsAnalyzerPro/requirements.txt (line 1)) (3.16.0)\n",
            "Requirement already satisfied: keras==2.2.4 in /root/.local/lib/python3.6/site-packages (from optimuspyspark->-r /gdrive/MyDrive/EndsarsAnalyzerPro/requirements.txt (line 1)) (2.2.4)\n",
            "Requirement already satisfied: requests==2.20.0 in /root/.local/lib/python3.6/site-packages (from optimuspyspark->-r /gdrive/MyDrive/EndsarsAnalyzerPro/requirements.txt (line 1)) (2.20.0)\n",
            "Requirement already satisfied: yarl<2.0,>=1.0 in /root/.local/lib/python3.6/site-packages (from aiohttp->-r /gdrive/MyDrive/EndsarsAnalyzerPro/requirements.txt (line 2)) (1.6.3)\n",
            "Requirement already satisfied: chardet<4.0,>=2.0 in /usr/local/lib/python3.6/dist-packages (from aiohttp->-r /gdrive/MyDrive/EndsarsAnalyzerPro/requirements.txt (line 2)) (3.0.4)\n",
            "Requirement already satisfied: async-timeout<4.0,>=3.0 in /root/.local/lib/python3.6/site-packages (from aiohttp->-r /gdrive/MyDrive/EndsarsAnalyzerPro/requirements.txt (line 2)) (3.0.1)\n",
            "Requirement already satisfied: typing-extensions>=3.6.5 in /usr/local/lib/python3.6/dist-packages (from aiohttp->-r /gdrive/MyDrive/EndsarsAnalyzerPro/requirements.txt (line 2)) (3.7.4.3)\n",
            "Requirement already satisfied: idna-ssl>=1.0; python_version < \"3.7\" in /root/.local/lib/python3.6/site-packages (from aiohttp->-r /gdrive/MyDrive/EndsarsAnalyzerPro/requirements.txt (line 2)) (1.1.0)\n",
            "Requirement already satisfied: multidict<7.0,>=4.5 in /root/.local/lib/python3.6/site-packages (from aiohttp->-r /gdrive/MyDrive/EndsarsAnalyzerPro/requirements.txt (line 2)) (5.1.0)\n",
            "Requirement already satisfied: attrs>=17.3.0 in /usr/local/lib/python3.6/dist-packages (from aiohttp->-r /gdrive/MyDrive/EndsarsAnalyzerPro/requirements.txt (line 2)) (20.3.0)\n",
            "Requirement already satisfied: typing; python_version < \"3.7\" in /root/.local/lib/python3.6/site-packages (from aiodns->-r /gdrive/MyDrive/EndsarsAnalyzerPro/requirements.txt (line 3)) (3.7.4.3)\n",
            "Requirement already satisfied: pycares>=3.0.0 in /root/.local/lib/python3.6/site-packages (from aiodns->-r /gdrive/MyDrive/EndsarsAnalyzerPro/requirements.txt (line 3)) (3.1.1)\n",
            "Requirement already satisfied: urllib3<2,>=1.21.1 in /usr/local/lib/python3.6/dist-packages (from elasticsearch->-r /gdrive/MyDrive/EndsarsAnalyzerPro/requirements.txt (line 6)) (1.24.3)\n",
            "Requirement already satisfied: certifi in /usr/local/lib/python3.6/dist-packages (from elasticsearch->-r /gdrive/MyDrive/EndsarsAnalyzerPro/requirements.txt (line 6)) (2020.12.5)\n",
            "Requirement already satisfied: python-dateutil>=2.7.3 in /usr/local/lib/python3.6/dist-packages (from pandas>=0.23.0->-r /gdrive/MyDrive/EndsarsAnalyzerPro/requirements.txt (line 8)) (2.8.1)\n",
            "Requirement already satisfied: pytz>=2017.2 in /usr/local/lib/python3.6/dist-packages (from pandas>=0.23.0->-r /gdrive/MyDrive/EndsarsAnalyzerPro/requirements.txt (line 8)) (2018.9)\n",
            "Requirement already satisfied: python-socks[asyncio]>=1.0.1 in /root/.local/lib/python3.6/site-packages (from aiohttp_socks->-r /gdrive/MyDrive/EndsarsAnalyzerPro/requirements.txt (line 9)) (1.1.2)\n",
            "Requirement already satisfied: geographiclib<2,>=1.49 in /usr/local/lib/python3.6/dist-packages (from geopy->-r /gdrive/MyDrive/EndsarsAnalyzerPro/requirements.txt (line 11)) (1.50)\n",
            "Requirement already satisfied: pillow in /usr/local/lib/python3.6/dist-packages (from wordcloud->-r /gdrive/MyDrive/EndsarsAnalyzerPro/requirements.txt (line 14)) (7.0.0)\n",
            "Requirement already satisfied: six>=1.0.0 in /usr/local/lib/python3.6/dist-packages (from pyarrow==0.13.0->optimuspyspark->-r /gdrive/MyDrive/EndsarsAnalyzerPro/requirements.txt (line 1)) (1.15.0)\n",
            "Requirement already satisfied: MarkupSafe>=0.23 in /usr/local/lib/python3.6/dist-packages (from Jinja2==2.10.1->optimuspyspark->-r /gdrive/MyDrive/EndsarsAnalyzerPro/requirements.txt (line 1)) (1.1.1)\n",
            "Requirement already satisfied: scipy>=0.14.0 in /usr/local/lib/python3.6/dist-packages (from seaborn==0.9.0->optimuspyspark->-r /gdrive/MyDrive/EndsarsAnalyzerPro/requirements.txt (line 1)) (1.4.1)\n",
            "Requirement already satisfied: termcolor>=1.1.0 in /usr/local/lib/python3.6/dist-packages (from tensorflow==1.13.1->optimuspyspark->-r /gdrive/MyDrive/EndsarsAnalyzerPro/requirements.txt (line 1)) (1.1.0)\n",
            "Requirement already satisfied: keras-preprocessing>=1.0.5 in /usr/local/lib/python3.6/dist-packages (from tensorflow==1.13.1->optimuspyspark->-r /gdrive/MyDrive/EndsarsAnalyzerPro/requirements.txt (line 1)) (1.1.2)\n",
            "Requirement already satisfied: protobuf>=3.6.1 in /usr/local/lib/python3.6/dist-packages (from tensorflow==1.13.1->optimuspyspark->-r /gdrive/MyDrive/EndsarsAnalyzerPro/requirements.txt (line 1)) (3.12.4)\n",
            "Requirement already satisfied: absl-py>=0.1.6 in /usr/local/lib/python3.6/dist-packages (from tensorflow==1.13.1->optimuspyspark->-r /gdrive/MyDrive/EndsarsAnalyzerPro/requirements.txt (line 1)) (0.10.0)\n",
            "Requirement already satisfied: wheel>=0.26 in /usr/local/lib/python3.6/dist-packages (from tensorflow==1.13.1->optimuspyspark->-r /gdrive/MyDrive/EndsarsAnalyzerPro/requirements.txt (line 1)) (0.36.2)\n",
            "Requirement already satisfied: astor>=0.6.0 in /usr/local/lib/python3.6/dist-packages (from tensorflow==1.13.1->optimuspyspark->-r /gdrive/MyDrive/EndsarsAnalyzerPro/requirements.txt (line 1)) (0.8.1)\n",
            "Requirement already satisfied: tensorboard<1.14.0,>=1.13.0 in /root/.local/lib/python3.6/site-packages (from tensorflow==1.13.1->optimuspyspark->-r /gdrive/MyDrive/EndsarsAnalyzerPro/requirements.txt (line 1)) (1.13.1)\n",
            "Requirement already satisfied: gast>=0.2.0 in /usr/local/lib/python3.6/dist-packages (from tensorflow==1.13.1->optimuspyspark->-r /gdrive/MyDrive/EndsarsAnalyzerPro/requirements.txt (line 1)) (0.3.3)\n",
            "Requirement already satisfied: tensorflow-estimator<1.14.0rc0,>=1.13.0 in /root/.local/lib/python3.6/site-packages (from tensorflow==1.13.1->optimuspyspark->-r /gdrive/MyDrive/EndsarsAnalyzerPro/requirements.txt (line 1)) (1.13.0)\n",
            "Requirement already satisfied: grpcio>=1.8.6 in /usr/local/lib/python3.6/dist-packages (from tensorflow==1.13.1->optimuspyspark->-r /gdrive/MyDrive/EndsarsAnalyzerPro/requirements.txt (line 1)) (1.32.0)\n",
            "Requirement already satisfied: keras-applications>=1.0.6 in /root/.local/lib/python3.6/site-packages (from tensorflow==1.13.1->optimuspyspark->-r /gdrive/MyDrive/EndsarsAnalyzerPro/requirements.txt (line 1)) (1.0.8)\n",
            "Requirement already satisfied: pyparsing!=2.0.4,!=2.1.2,!=2.1.6,>=2.0.1 in /usr/local/lib/python3.6/dist-packages (from matplotlib==3.0.3->optimuspyspark->-r /gdrive/MyDrive/EndsarsAnalyzerPro/requirements.txt (line 1)) (2.4.7)\n",
            "Requirement already satisfied: cycler>=0.10 in /usr/local/lib/python3.6/dist-packages (from matplotlib==3.0.3->optimuspyspark->-r /gdrive/MyDrive/EndsarsAnalyzerPro/requirements.txt (line 1)) (0.10.0)\n",
            "Requirement already satisfied: kiwisolver>=1.0.1 in /usr/local/lib/python3.6/dist-packages (from matplotlib==3.0.3->optimuspyspark->-r /gdrive/MyDrive/EndsarsAnalyzerPro/requirements.txt (line 1)) (1.3.1)\n",
            "Requirement already satisfied: jsonpickle>=1.0 in /root/.local/lib/python3.6/site-packages (from deepdiff==4.0.6->optimuspyspark->-r /gdrive/MyDrive/EndsarsAnalyzerPro/requirements.txt (line 1)) (1.4.2)\n",
            "Requirement already satisfied: amqp<3.0,>=2.5.0 in /root/.local/lib/python3.6/site-packages (from kombu==4.6.1->optimuspyspark->-r /gdrive/MyDrive/EndsarsAnalyzerPro/requirements.txt (line 1)) (2.6.1)\n",
            "Requirement already satisfied: future in /usr/local/lib/python3.6/dist-packages (from h2o-pysparkling-2.4==2.4.10->optimuspyspark->-r /gdrive/MyDrive/EndsarsAnalyzerPro/requirements.txt (line 1)) (0.16.0)\n",
            "Requirement already satisfied: colorama>=0.3.8 in /root/.local/lib/python3.6/site-packages (from h2o-pysparkling-2.4==2.4.10->optimuspyspark->-r /gdrive/MyDrive/EndsarsAnalyzerPro/requirements.txt (line 1)) (0.4.4)\n",
            "Requirement already satisfied: tabulate in /usr/local/lib/python3.6/dist-packages (from h2o-pysparkling-2.4==2.4.10->optimuspyspark->-r /gdrive/MyDrive/EndsarsAnalyzerPro/requirements.txt (line 1)) (0.8.7)\n",
            "Requirement already satisfied: click>=5.1 in /usr/local/lib/python3.6/dist-packages (from flask==1.0.2->optimuspyspark->-r /gdrive/MyDrive/EndsarsAnalyzerPro/requirements.txt (line 1)) (7.1.2)\n",
            "Requirement already satisfied: Werkzeug>=0.14 in /usr/local/lib/python3.6/dist-packages (from flask==1.0.2->optimuspyspark->-r /gdrive/MyDrive/EndsarsAnalyzerPro/requirements.txt (line 1)) (1.0.1)\n",
            "Requirement already satisfied: itsdangerous>=0.24 in /usr/local/lib/python3.6/dist-packages (from flask==1.0.2->optimuspyspark->-r /gdrive/MyDrive/EndsarsAnalyzerPro/requirements.txt (line 1)) (1.1.0)\n",
            "Requirement already satisfied: prompt-toolkit<2.1.0,>=2.0.0 in /root/.local/lib/python3.6/site-packages (from ipython==7.5.0->optimuspyspark->-r /gdrive/MyDrive/EndsarsAnalyzerPro/requirements.txt (line 1)) (2.0.10)\n",
            "Requirement already satisfied: pexpect; sys_platform != \"win32\" in /usr/local/lib/python3.6/dist-packages (from ipython==7.5.0->optimuspyspark->-r /gdrive/MyDrive/EndsarsAnalyzerPro/requirements.txt (line 1)) (4.8.0)\n",
            "Requirement already satisfied: decorator in /usr/local/lib/python3.6/dist-packages (from ipython==7.5.0->optimuspyspark->-r /gdrive/MyDrive/EndsarsAnalyzerPro/requirements.txt (line 1)) (4.4.2)\n",
            "Requirement already satisfied: traitlets>=4.2 in /usr/local/lib/python3.6/dist-packages (from ipython==7.5.0->optimuspyspark->-r /gdrive/MyDrive/EndsarsAnalyzerPro/requirements.txt (line 1)) (4.3.3)\n",
            "Requirement already satisfied: pickleshare in /usr/local/lib/python3.6/dist-packages (from ipython==7.5.0->optimuspyspark->-r /gdrive/MyDrive/EndsarsAnalyzerPro/requirements.txt (line 1)) (0.7.5)\n",
            "Requirement already satisfied: jedi>=0.10 in /usr/local/lib/python3.6/dist-packages (from ipython==7.5.0->optimuspyspark->-r /gdrive/MyDrive/EndsarsAnalyzerPro/requirements.txt (line 1)) (0.17.2)\n",
            "Requirement already satisfied: backcall in /usr/local/lib/python3.6/dist-packages (from ipython==7.5.0->optimuspyspark->-r /gdrive/MyDrive/EndsarsAnalyzerPro/requirements.txt (line 1)) (0.2.0)\n",
            "Requirement already satisfied: py4j==0.10.7 in /root/.local/lib/python3.6/site-packages (from pyspark==2.4.1->optimuspyspark->-r /gdrive/MyDrive/EndsarsAnalyzerPro/requirements.txt (line 1)) (0.10.7)\n",
            "Requirement already satisfied: wrapt<2,>=1 in /usr/local/lib/python3.6/dist-packages (from deprecated==1.2.5->optimuspyspark->-r /gdrive/MyDrive/EndsarsAnalyzerPro/requirements.txt (line 1)) (1.12.1)\n",
            "Requirement already satisfied: face in /root/.local/lib/python3.6/site-packages (from glom==19.10.0->optimuspyspark->-r /gdrive/MyDrive/EndsarsAnalyzerPro/requirements.txt (line 1)) (20.1.1)\n",
            "Requirement already satisfied: boltons>=19.3.0 in /root/.local/lib/python3.6/site-packages (from glom==19.10.0->optimuspyspark->-r /gdrive/MyDrive/EndsarsAnalyzerPro/requirements.txt (line 1)) (20.2.1)\n",
            "Requirement already satisfied: patsy>=0.4.0 in /usr/local/lib/python3.6/dist-packages (from statsmodels==0.10.1->optimuspyspark->-r /gdrive/MyDrive/EndsarsAnalyzerPro/requirements.txt (line 1)) (0.5.1)\n",
            "Requirement already satisfied: cffi!=1.11.3,>=1.8 in /usr/local/lib/python3.6/dist-packages (from cryptography==2.7->optimuspyspark->-r /gdrive/MyDrive/EndsarsAnalyzerPro/requirements.txt (line 1)) (1.14.4)\n",
            "Requirement already satisfied: asn1crypto>=0.21.0 in /root/.local/lib/python3.6/site-packages (from cryptography==2.7->optimuspyspark->-r /gdrive/MyDrive/EndsarsAnalyzerPro/requirements.txt (line 1)) (1.4.0)\n",
            "Requirement already satisfied: h5py in /usr/local/lib/python3.6/dist-packages (from keras==2.2.4->optimuspyspark->-r /gdrive/MyDrive/EndsarsAnalyzerPro/requirements.txt (line 1)) (2.10.0)\n",
            "Requirement already satisfied: pyyaml in /usr/local/lib/python3.6/dist-packages (from keras==2.2.4->optimuspyspark->-r /gdrive/MyDrive/EndsarsAnalyzerPro/requirements.txt (line 1)) (3.13)\n",
            "Requirement already satisfied: idna<2.8,>=2.5 in /root/.local/lib/python3.6/site-packages (from requests==2.20.0->optimuspyspark->-r /gdrive/MyDrive/EndsarsAnalyzerPro/requirements.txt (line 1)) (2.7)\n",
            "Requirement already satisfied: markdown>=2.6.8 in /usr/local/lib/python3.6/dist-packages (from tensorboard<1.14.0,>=1.13.0->tensorflow==1.13.1->optimuspyspark->-r /gdrive/MyDrive/EndsarsAnalyzerPro/requirements.txt (line 1)) (3.3.3)\n",
            "Requirement already satisfied: mock>=2.0.0 in /root/.local/lib/python3.6/site-packages (from tensorflow-estimator<1.14.0rc0,>=1.13.0->tensorflow==1.13.1->optimuspyspark->-r /gdrive/MyDrive/EndsarsAnalyzerPro/requirements.txt (line 1)) (4.0.3)\n",
            "Requirement already satisfied: importlib-metadata; python_version < \"3.8\" in /usr/local/lib/python3.6/dist-packages (from jsonpickle>=1.0->deepdiff==4.0.6->optimuspyspark->-r /gdrive/MyDrive/EndsarsAnalyzerPro/requirements.txt (line 1)) (3.3.0)\n",
            "Requirement already satisfied: vine<5.0.0a1,>=1.1.3 in /root/.local/lib/python3.6/site-packages (from amqp<3.0,>=2.5.0->kombu==4.6.1->optimuspyspark->-r /gdrive/MyDrive/EndsarsAnalyzerPro/requirements.txt (line 1)) (1.3.0)\n",
            "Requirement already satisfied: wcwidth in /usr/local/lib/python3.6/dist-packages (from prompt-toolkit<2.1.0,>=2.0.0->ipython==7.5.0->optimuspyspark->-r /gdrive/MyDrive/EndsarsAnalyzerPro/requirements.txt (line 1)) (0.2.5)\n",
            "Requirement already satisfied: ptyprocess>=0.5 in /usr/local/lib/python3.6/dist-packages (from pexpect; sys_platform != \"win32\"->ipython==7.5.0->optimuspyspark->-r /gdrive/MyDrive/EndsarsAnalyzerPro/requirements.txt (line 1)) (0.7.0)\n",
            "Requirement already satisfied: ipython-genutils in /usr/local/lib/python3.6/dist-packages (from traitlets>=4.2->ipython==7.5.0->optimuspyspark->-r /gdrive/MyDrive/EndsarsAnalyzerPro/requirements.txt (line 1)) (0.2.0)\n",
            "Requirement already satisfied: parso<0.8.0,>=0.7.0 in /usr/local/lib/python3.6/dist-packages (from jedi>=0.10->ipython==7.5.0->optimuspyspark->-r /gdrive/MyDrive/EndsarsAnalyzerPro/requirements.txt (line 1)) (0.7.1)\n",
            "Requirement already satisfied: pycparser in /usr/local/lib/python3.6/dist-packages (from cffi!=1.11.3,>=1.8->cryptography==2.7->optimuspyspark->-r /gdrive/MyDrive/EndsarsAnalyzerPro/requirements.txt (line 1)) (2.20)\n",
            "Requirement already satisfied: zipp>=0.5 in /usr/local/lib/python3.6/dist-packages (from importlib-metadata; python_version < \"3.8\"->jsonpickle>=1.0->deepdiff==4.0.6->optimuspyspark->-r /gdrive/MyDrive/EndsarsAnalyzerPro/requirements.txt (line 1)) (3.4.0)\n"
          ],
          "name": "stdout"
        }
      ]
    },
    {
      "cell_type": "code",
      "metadata": {
        "colab": {
          "base_uri": "https://localhost:8080/"
        },
        "id": "buwZ90l8Hj-J",
        "outputId": "a48a5ffd-ef47-4e77-a03e-e50f000cc6b3"
      },
      "source": [
        "!git clone https://github.com/Ayanlola2002/twint.git\r\n",
        "!cd twint\r\n",
        "!pip3 install -r /gdrive/MyDrive/EndsarsAnalyzerPro/requirements.txt"
      ],
      "execution_count": 38,
      "outputs": [
        {
          "output_type": "stream",
          "text": [
            "fatal: destination path 'twint' already exists and is not an empty directory.\n",
            "Requirement already satisfied: optimuspyspark in /root/.local/lib/python3.6/site-packages (from -r /gdrive/MyDrive/EndsarsAnalyzerPro/requirements.txt (line 1)) (2.2.32)\n",
            "Requirement already satisfied: aiohttp in /root/.local/lib/python3.6/site-packages (from -r /gdrive/MyDrive/EndsarsAnalyzerPro/requirements.txt (line 2)) (3.7.3)\n",
            "Requirement already satisfied: aiodns in /root/.local/lib/python3.6/site-packages (from -r /gdrive/MyDrive/EndsarsAnalyzerPro/requirements.txt (line 3)) (2.0.0)\n",
            "Requirement already satisfied: beautifulsoup4 in /usr/local/lib/python3.6/dist-packages (from -r /gdrive/MyDrive/EndsarsAnalyzerPro/requirements.txt (line 4)) (4.6.3)\n",
            "Requirement already satisfied: cchardet in /root/.local/lib/python3.6/site-packages (from -r /gdrive/MyDrive/EndsarsAnalyzerPro/requirements.txt (line 5)) (2.1.7)\n",
            "Requirement already satisfied: elasticsearch in /root/.local/lib/python3.6/site-packages (from -r /gdrive/MyDrive/EndsarsAnalyzerPro/requirements.txt (line 6)) (7.10.1)\n",
            "Requirement already satisfied: pysocks in /usr/local/lib/python3.6/dist-packages (from -r /gdrive/MyDrive/EndsarsAnalyzerPro/requirements.txt (line 7)) (1.7.1)\n",
            "Requirement already satisfied: pandas>=0.23.0 in /usr/local/lib/python3.6/dist-packages (from -r /gdrive/MyDrive/EndsarsAnalyzerPro/requirements.txt (line 8)) (1.1.5)\n",
            "Requirement already satisfied: aiohttp_socks in /root/.local/lib/python3.6/site-packages (from -r /gdrive/MyDrive/EndsarsAnalyzerPro/requirements.txt (line 9)) (0.5.5)\n",
            "Requirement already satisfied: schedule in /root/.local/lib/python3.6/site-packages (from -r /gdrive/MyDrive/EndsarsAnalyzerPro/requirements.txt (line 10)) (0.6.0)\n",
            "Requirement already satisfied: geopy in /usr/local/lib/python3.6/dist-packages (from -r /gdrive/MyDrive/EndsarsAnalyzerPro/requirements.txt (line 11)) (1.17.0)\n",
            "Requirement already satisfied: nest_asyncio in /usr/local/lib/python3.6/dist-packages (from -r /gdrive/MyDrive/EndsarsAnalyzerPro/requirements.txt (line 12)) (1.4.3)\n",
            "Requirement already satisfied: TextBlob in /usr/local/lib/python3.6/dist-packages (from -r /gdrive/MyDrive/EndsarsAnalyzerPro/requirements.txt (line 13)) (0.15.3)\n",
            "Requirement already satisfied: wordcloud in /usr/local/lib/python3.6/dist-packages (from -r /gdrive/MyDrive/EndsarsAnalyzerPro/requirements.txt (line 14)) (1.5.0)\n",
            "Requirement already satisfied: packaging==19.0 in /root/.local/lib/python3.6/site-packages (from optimuspyspark->-r /gdrive/MyDrive/EndsarsAnalyzerPro/requirements.txt (line 1)) (19.0)\n",
            "Requirement already satisfied: pymongo==3.9.0 in /root/.local/lib/python3.6/site-packages (from optimuspyspark->-r /gdrive/MyDrive/EndsarsAnalyzerPro/requirements.txt (line 1)) (3.9.0)\n",
            "Requirement already satisfied: pypika==0.32.0 in /root/.local/lib/python3.6/site-packages (from optimuspyspark->-r /gdrive/MyDrive/EndsarsAnalyzerPro/requirements.txt (line 1)) (0.32.0)\n",
            "Requirement already satisfied: nltk==3.4.5 in /root/.local/lib/python3.6/site-packages (from optimuspyspark->-r /gdrive/MyDrive/EndsarsAnalyzerPro/requirements.txt (line 1)) (3.4.5)\n",
            "Requirement already satisfied: matplotlib==3.0.3 in /root/.local/lib/python3.6/site-packages (from optimuspyspark->-r /gdrive/MyDrive/EndsarsAnalyzerPro/requirements.txt (line 1)) (3.0.3)\n",
            "Requirement already satisfied: fastnumbers==2.2.1 in /root/.local/lib/python3.6/site-packages (from optimuspyspark->-r /gdrive/MyDrive/EndsarsAnalyzerPro/requirements.txt (line 1)) (2.2.1)\n",
            "Requirement already satisfied: seaborn==0.9.0 in /root/.local/lib/python3.6/site-packages (from optimuspyspark->-r /gdrive/MyDrive/EndsarsAnalyzerPro/requirements.txt (line 1)) (0.9.0)\n",
            "Requirement already satisfied: tqdm==4.28.1 in /root/.local/lib/python3.6/site-packages (from optimuspyspark->-r /gdrive/MyDrive/EndsarsAnalyzerPro/requirements.txt (line 1)) (4.28.1)\n",
            "Requirement already satisfied: deprecated==1.2.5 in /root/.local/lib/python3.6/site-packages (from optimuspyspark->-r /gdrive/MyDrive/EndsarsAnalyzerPro/requirements.txt (line 1)) (1.2.5)\n",
            "Requirement already satisfied: Jinja2==2.10.1 in /root/.local/lib/python3.6/site-packages (from optimuspyspark->-r /gdrive/MyDrive/EndsarsAnalyzerPro/requirements.txt (line 1)) (2.10.1)\n",
            "Requirement already satisfied: keras==2.2.4 in /root/.local/lib/python3.6/site-packages (from optimuspyspark->-r /gdrive/MyDrive/EndsarsAnalyzerPro/requirements.txt (line 1)) (2.2.4)\n",
            "Requirement already satisfied: flask==1.0.2 in /root/.local/lib/python3.6/site-packages (from optimuspyspark->-r /gdrive/MyDrive/EndsarsAnalyzerPro/requirements.txt (line 1)) (1.0.2)\n",
            "Requirement already satisfied: statsmodels==0.10.1 in /root/.local/lib/python3.6/site-packages (from optimuspyspark->-r /gdrive/MyDrive/EndsarsAnalyzerPro/requirements.txt (line 1)) (0.10.1)\n",
            "Requirement already satisfied: multipledispatch==0.6.0 in /root/.local/lib/python3.6/site-packages (from optimuspyspark->-r /gdrive/MyDrive/EndsarsAnalyzerPro/requirements.txt (line 1)) (0.6.0)\n",
            "Requirement already satisfied: deepdiff==4.0.6 in /root/.local/lib/python3.6/site-packages (from optimuspyspark->-r /gdrive/MyDrive/EndsarsAnalyzerPro/requirements.txt (line 1)) (4.0.6)\n",
            "Requirement already satisfied: ordered-set==3.1.1 in /root/.local/lib/python3.6/site-packages (from optimuspyspark->-r /gdrive/MyDrive/EndsarsAnalyzerPro/requirements.txt (line 1)) (3.1.1)\n",
            "Requirement already satisfied: simplejson==3.16.0 in /root/.local/lib/python3.6/site-packages (from optimuspyspark->-r /gdrive/MyDrive/EndsarsAnalyzerPro/requirements.txt (line 1)) (3.16.0)\n",
            "Requirement already satisfied: pyarrow==0.13.0 in /root/.local/lib/python3.6/site-packages (from optimuspyspark->-r /gdrive/MyDrive/EndsarsAnalyzerPro/requirements.txt (line 1)) (0.13.0)\n",
            "Requirement already satisfied: requests==2.20.0 in /root/.local/lib/python3.6/site-packages (from optimuspyspark->-r /gdrive/MyDrive/EndsarsAnalyzerPro/requirements.txt (line 1)) (2.20.0)\n",
            "Requirement already satisfied: cryptography==2.7 in /root/.local/lib/python3.6/site-packages (from optimuspyspark->-r /gdrive/MyDrive/EndsarsAnalyzerPro/requirements.txt (line 1)) (2.7)\n",
            "Requirement already satisfied: humanize==0.5.1 in /usr/local/lib/python3.6/dist-packages (from optimuspyspark->-r /gdrive/MyDrive/EndsarsAnalyzerPro/requirements.txt (line 1)) (0.5.1)\n",
            "Requirement already satisfied: imgkit==1.0.1 in /root/.local/lib/python3.6/site-packages (from optimuspyspark->-r /gdrive/MyDrive/EndsarsAnalyzerPro/requirements.txt (line 1)) (1.0.1)\n",
            "Requirement already satisfied: setuptools==41.6.0 in /root/.local/lib/python3.6/site-packages (from optimuspyspark->-r /gdrive/MyDrive/EndsarsAnalyzerPro/requirements.txt (line 1)) (41.6.0)\n",
            "Requirement already satisfied: tensorflow==1.13.1 in /root/.local/lib/python3.6/site-packages (from optimuspyspark->-r /gdrive/MyDrive/EndsarsAnalyzerPro/requirements.txt (line 1)) (1.13.1)\n",
            "Requirement already satisfied: pygments>=2.2.0 in /usr/local/lib/python3.6/dist-packages (from optimuspyspark->-r /gdrive/MyDrive/EndsarsAnalyzerPro/requirements.txt (line 1)) (2.6.1)\n",
            "Requirement already satisfied: findspark==1.3.0 in /root/.local/lib/python3.6/site-packages (from optimuspyspark->-r /gdrive/MyDrive/EndsarsAnalyzerPro/requirements.txt (line 1)) (1.3.0)\n",
            "Requirement already satisfied: numpy==1.17.2 in /root/.local/lib/python3.6/site-packages (from optimuspyspark->-r /gdrive/MyDrive/EndsarsAnalyzerPro/requirements.txt (line 1)) (1.17.2)\n",
            "Requirement already satisfied: h2o-pysparkling-2.4==2.4.10 in /root/.local/lib/python3.6/site-packages (from optimuspyspark->-r /gdrive/MyDrive/EndsarsAnalyzerPro/requirements.txt (line 1)) (2.4.10)\n",
            "Requirement already satisfied: ratelimit==2.2.1 in /root/.local/lib/python3.6/site-packages (from optimuspyspark->-r /gdrive/MyDrive/EndsarsAnalyzerPro/requirements.txt (line 1)) (2.2.1)\n",
            "Requirement already satisfied: backoff==1.10.0 in /root/.local/lib/python3.6/site-packages (from optimuspyspark->-r /gdrive/MyDrive/EndsarsAnalyzerPro/requirements.txt (line 1)) (1.10.0)\n",
            "Requirement already satisfied: kombu==4.6.1 in /root/.local/lib/python3.6/site-packages (from optimuspyspark->-r /gdrive/MyDrive/EndsarsAnalyzerPro/requirements.txt (line 1)) (4.6.1)\n",
            "Requirement already satisfied: pyspark==2.4.1 in /root/.local/lib/python3.6/site-packages (from optimuspyspark->-r /gdrive/MyDrive/EndsarsAnalyzerPro/requirements.txt (line 1)) (2.4.1)\n",
            "Requirement already satisfied: singleton-decorator==1.0.0 in /root/.local/lib/python3.6/site-packages (from optimuspyspark->-r /gdrive/MyDrive/EndsarsAnalyzerPro/requirements.txt (line 1)) (1.0.0)\n",
            "Requirement already satisfied: glom==19.10.0 in /root/.local/lib/python3.6/site-packages (from optimuspyspark->-r /gdrive/MyDrive/EndsarsAnalyzerPro/requirements.txt (line 1)) (19.10.0)\n",
            "Requirement already satisfied: ipython==7.5.0 in /root/.local/lib/python3.6/site-packages (from optimuspyspark->-r /gdrive/MyDrive/EndsarsAnalyzerPro/requirements.txt (line 1)) (7.5.0)\n",
            "Requirement already satisfied: psutil==5.7.2 in /root/.local/lib/python3.6/site-packages (from optimuspyspark->-r /gdrive/MyDrive/EndsarsAnalyzerPro/requirements.txt (line 1)) (5.7.2)\n",
            "Requirement already satisfied: chardet<4.0,>=2.0 in /usr/local/lib/python3.6/dist-packages (from aiohttp->-r /gdrive/MyDrive/EndsarsAnalyzerPro/requirements.txt (line 2)) (3.0.4)\n",
            "Requirement already satisfied: typing-extensions>=3.6.5 in /usr/local/lib/python3.6/dist-packages (from aiohttp->-r /gdrive/MyDrive/EndsarsAnalyzerPro/requirements.txt (line 2)) (3.7.4.3)\n",
            "Requirement already satisfied: attrs>=17.3.0 in /usr/local/lib/python3.6/dist-packages (from aiohttp->-r /gdrive/MyDrive/EndsarsAnalyzerPro/requirements.txt (line 2)) (20.3.0)\n",
            "Requirement already satisfied: yarl<2.0,>=1.0 in /root/.local/lib/python3.6/site-packages (from aiohttp->-r /gdrive/MyDrive/EndsarsAnalyzerPro/requirements.txt (line 2)) (1.6.3)\n",
            "Requirement already satisfied: async-timeout<4.0,>=3.0 in /root/.local/lib/python3.6/site-packages (from aiohttp->-r /gdrive/MyDrive/EndsarsAnalyzerPro/requirements.txt (line 2)) (3.0.1)\n",
            "Requirement already satisfied: idna-ssl>=1.0; python_version < \"3.7\" in /root/.local/lib/python3.6/site-packages (from aiohttp->-r /gdrive/MyDrive/EndsarsAnalyzerPro/requirements.txt (line 2)) (1.1.0)\n",
            "Requirement already satisfied: multidict<7.0,>=4.5 in /root/.local/lib/python3.6/site-packages (from aiohttp->-r /gdrive/MyDrive/EndsarsAnalyzerPro/requirements.txt (line 2)) (5.1.0)\n",
            "Requirement already satisfied: typing; python_version < \"3.7\" in /root/.local/lib/python3.6/site-packages (from aiodns->-r /gdrive/MyDrive/EndsarsAnalyzerPro/requirements.txt (line 3)) (3.7.4.3)\n",
            "Requirement already satisfied: pycares>=3.0.0 in /root/.local/lib/python3.6/site-packages (from aiodns->-r /gdrive/MyDrive/EndsarsAnalyzerPro/requirements.txt (line 3)) (3.1.1)\n",
            "Requirement already satisfied: certifi in /usr/local/lib/python3.6/dist-packages (from elasticsearch->-r /gdrive/MyDrive/EndsarsAnalyzerPro/requirements.txt (line 6)) (2020.12.5)\n",
            "Requirement already satisfied: urllib3<2,>=1.21.1 in /usr/local/lib/python3.6/dist-packages (from elasticsearch->-r /gdrive/MyDrive/EndsarsAnalyzerPro/requirements.txt (line 6)) (1.24.3)\n",
            "Requirement already satisfied: pytz>=2017.2 in /usr/local/lib/python3.6/dist-packages (from pandas>=0.23.0->-r /gdrive/MyDrive/EndsarsAnalyzerPro/requirements.txt (line 8)) (2018.9)\n",
            "Requirement already satisfied: python-dateutil>=2.7.3 in /usr/local/lib/python3.6/dist-packages (from pandas>=0.23.0->-r /gdrive/MyDrive/EndsarsAnalyzerPro/requirements.txt (line 8)) (2.8.1)\n",
            "Requirement already satisfied: python-socks[asyncio]>=1.0.1 in /root/.local/lib/python3.6/site-packages (from aiohttp_socks->-r /gdrive/MyDrive/EndsarsAnalyzerPro/requirements.txt (line 9)) (1.1.2)\n",
            "Requirement already satisfied: geographiclib<2,>=1.49 in /usr/local/lib/python3.6/dist-packages (from geopy->-r /gdrive/MyDrive/EndsarsAnalyzerPro/requirements.txt (line 11)) (1.50)\n",
            "Requirement already satisfied: pillow in /usr/local/lib/python3.6/dist-packages (from wordcloud->-r /gdrive/MyDrive/EndsarsAnalyzerPro/requirements.txt (line 14)) (7.0.0)\n",
            "Requirement already satisfied: six in /usr/local/lib/python3.6/dist-packages (from packaging==19.0->optimuspyspark->-r /gdrive/MyDrive/EndsarsAnalyzerPro/requirements.txt (line 1)) (1.15.0)\n",
            "Requirement already satisfied: pyparsing>=2.0.2 in /usr/local/lib/python3.6/dist-packages (from packaging==19.0->optimuspyspark->-r /gdrive/MyDrive/EndsarsAnalyzerPro/requirements.txt (line 1)) (2.4.7)\n",
            "Requirement already satisfied: cycler>=0.10 in /usr/local/lib/python3.6/dist-packages (from matplotlib==3.0.3->optimuspyspark->-r /gdrive/MyDrive/EndsarsAnalyzerPro/requirements.txt (line 1)) (0.10.0)\n",
            "Requirement already satisfied: kiwisolver>=1.0.1 in /usr/local/lib/python3.6/dist-packages (from matplotlib==3.0.3->optimuspyspark->-r /gdrive/MyDrive/EndsarsAnalyzerPro/requirements.txt (line 1)) (1.3.1)\n",
            "Requirement already satisfied: scipy>=0.14.0 in /usr/local/lib/python3.6/dist-packages (from seaborn==0.9.0->optimuspyspark->-r /gdrive/MyDrive/EndsarsAnalyzerPro/requirements.txt (line 1)) (1.4.1)\n",
            "Requirement already satisfied: wrapt<2,>=1 in /usr/local/lib/python3.6/dist-packages (from deprecated==1.2.5->optimuspyspark->-r /gdrive/MyDrive/EndsarsAnalyzerPro/requirements.txt (line 1)) (1.12.1)\n",
            "Requirement already satisfied: MarkupSafe>=0.23 in /usr/local/lib/python3.6/dist-packages (from Jinja2==2.10.1->optimuspyspark->-r /gdrive/MyDrive/EndsarsAnalyzerPro/requirements.txt (line 1)) (1.1.1)\n",
            "Requirement already satisfied: keras-preprocessing>=1.0.5 in /usr/local/lib/python3.6/dist-packages (from keras==2.2.4->optimuspyspark->-r /gdrive/MyDrive/EndsarsAnalyzerPro/requirements.txt (line 1)) (1.1.2)\n",
            "Requirement already satisfied: keras-applications>=1.0.6 in /root/.local/lib/python3.6/site-packages (from keras==2.2.4->optimuspyspark->-r /gdrive/MyDrive/EndsarsAnalyzerPro/requirements.txt (line 1)) (1.0.8)\n",
            "Requirement already satisfied: pyyaml in /usr/local/lib/python3.6/dist-packages (from keras==2.2.4->optimuspyspark->-r /gdrive/MyDrive/EndsarsAnalyzerPro/requirements.txt (line 1)) (3.13)\n",
            "Requirement already satisfied: h5py in /usr/local/lib/python3.6/dist-packages (from keras==2.2.4->optimuspyspark->-r /gdrive/MyDrive/EndsarsAnalyzerPro/requirements.txt (line 1)) (2.10.0)\n",
            "Requirement already satisfied: Werkzeug>=0.14 in /usr/local/lib/python3.6/dist-packages (from flask==1.0.2->optimuspyspark->-r /gdrive/MyDrive/EndsarsAnalyzerPro/requirements.txt (line 1)) (1.0.1)\n",
            "Requirement already satisfied: click>=5.1 in /usr/local/lib/python3.6/dist-packages (from flask==1.0.2->optimuspyspark->-r /gdrive/MyDrive/EndsarsAnalyzerPro/requirements.txt (line 1)) (7.1.2)\n",
            "Requirement already satisfied: itsdangerous>=0.24 in /usr/local/lib/python3.6/dist-packages (from flask==1.0.2->optimuspyspark->-r /gdrive/MyDrive/EndsarsAnalyzerPro/requirements.txt (line 1)) (1.1.0)\n",
            "Requirement already satisfied: patsy>=0.4.0 in /usr/local/lib/python3.6/dist-packages (from statsmodels==0.10.1->optimuspyspark->-r /gdrive/MyDrive/EndsarsAnalyzerPro/requirements.txt (line 1)) (0.5.1)\n",
            "Requirement already satisfied: jsonpickle>=1.0 in /root/.local/lib/python3.6/site-packages (from deepdiff==4.0.6->optimuspyspark->-r /gdrive/MyDrive/EndsarsAnalyzerPro/requirements.txt (line 1)) (1.4.2)\n",
            "Requirement already satisfied: idna<2.8,>=2.5 in /root/.local/lib/python3.6/site-packages (from requests==2.20.0->optimuspyspark->-r /gdrive/MyDrive/EndsarsAnalyzerPro/requirements.txt (line 1)) (2.7)\n",
            "Requirement already satisfied: cffi!=1.11.3,>=1.8 in /usr/local/lib/python3.6/dist-packages (from cryptography==2.7->optimuspyspark->-r /gdrive/MyDrive/EndsarsAnalyzerPro/requirements.txt (line 1)) (1.14.4)\n",
            "Requirement already satisfied: asn1crypto>=0.21.0 in /root/.local/lib/python3.6/site-packages (from cryptography==2.7->optimuspyspark->-r /gdrive/MyDrive/EndsarsAnalyzerPro/requirements.txt (line 1)) (1.4.0)\n",
            "Requirement already satisfied: tensorboard<1.14.0,>=1.13.0 in /root/.local/lib/python3.6/site-packages (from tensorflow==1.13.1->optimuspyspark->-r /gdrive/MyDrive/EndsarsAnalyzerPro/requirements.txt (line 1)) (1.13.1)\n",
            "Requirement already satisfied: tensorflow-estimator<1.14.0rc0,>=1.13.0 in /root/.local/lib/python3.6/site-packages (from tensorflow==1.13.1->optimuspyspark->-r /gdrive/MyDrive/EndsarsAnalyzerPro/requirements.txt (line 1)) (1.13.0)\n",
            "Requirement already satisfied: termcolor>=1.1.0 in /usr/local/lib/python3.6/dist-packages (from tensorflow==1.13.1->optimuspyspark->-r /gdrive/MyDrive/EndsarsAnalyzerPro/requirements.txt (line 1)) (1.1.0)\n",
            "Requirement already satisfied: wheel>=0.26 in /usr/local/lib/python3.6/dist-packages (from tensorflow==1.13.1->optimuspyspark->-r /gdrive/MyDrive/EndsarsAnalyzerPro/requirements.txt (line 1)) (0.36.2)\n",
            "Requirement already satisfied: gast>=0.2.0 in /usr/local/lib/python3.6/dist-packages (from tensorflow==1.13.1->optimuspyspark->-r /gdrive/MyDrive/EndsarsAnalyzerPro/requirements.txt (line 1)) (0.3.3)\n",
            "Requirement already satisfied: grpcio>=1.8.6 in /usr/local/lib/python3.6/dist-packages (from tensorflow==1.13.1->optimuspyspark->-r /gdrive/MyDrive/EndsarsAnalyzerPro/requirements.txt (line 1)) (1.32.0)\n",
            "Requirement already satisfied: astor>=0.6.0 in /usr/local/lib/python3.6/dist-packages (from tensorflow==1.13.1->optimuspyspark->-r /gdrive/MyDrive/EndsarsAnalyzerPro/requirements.txt (line 1)) (0.8.1)\n",
            "Requirement already satisfied: absl-py>=0.1.6 in /usr/local/lib/python3.6/dist-packages (from tensorflow==1.13.1->optimuspyspark->-r /gdrive/MyDrive/EndsarsAnalyzerPro/requirements.txt (line 1)) (0.10.0)\n",
            "Requirement already satisfied: protobuf>=3.6.1 in /usr/local/lib/python3.6/dist-packages (from tensorflow==1.13.1->optimuspyspark->-r /gdrive/MyDrive/EndsarsAnalyzerPro/requirements.txt (line 1)) (3.12.4)\n",
            "Requirement already satisfied: colorama>=0.3.8 in /root/.local/lib/python3.6/site-packages (from h2o-pysparkling-2.4==2.4.10->optimuspyspark->-r /gdrive/MyDrive/EndsarsAnalyzerPro/requirements.txt (line 1)) (0.4.4)\n",
            "Requirement already satisfied: future in /usr/local/lib/python3.6/dist-packages (from h2o-pysparkling-2.4==2.4.10->optimuspyspark->-r /gdrive/MyDrive/EndsarsAnalyzerPro/requirements.txt (line 1)) (0.16.0)\n",
            "Requirement already satisfied: tabulate in /usr/local/lib/python3.6/dist-packages (from h2o-pysparkling-2.4==2.4.10->optimuspyspark->-r /gdrive/MyDrive/EndsarsAnalyzerPro/requirements.txt (line 1)) (0.8.7)\n",
            "Requirement already satisfied: amqp<3.0,>=2.5.0 in /root/.local/lib/python3.6/site-packages (from kombu==4.6.1->optimuspyspark->-r /gdrive/MyDrive/EndsarsAnalyzerPro/requirements.txt (line 1)) (2.6.1)\n",
            "Requirement already satisfied: py4j==0.10.7 in /root/.local/lib/python3.6/site-packages (from pyspark==2.4.1->optimuspyspark->-r /gdrive/MyDrive/EndsarsAnalyzerPro/requirements.txt (line 1)) (0.10.7)\n",
            "Requirement already satisfied: boltons>=19.3.0 in /root/.local/lib/python3.6/site-packages (from glom==19.10.0->optimuspyspark->-r /gdrive/MyDrive/EndsarsAnalyzerPro/requirements.txt (line 1)) (20.2.1)\n",
            "Requirement already satisfied: face in /root/.local/lib/python3.6/site-packages (from glom==19.10.0->optimuspyspark->-r /gdrive/MyDrive/EndsarsAnalyzerPro/requirements.txt (line 1)) (20.1.1)\n",
            "Requirement already satisfied: backcall in /usr/local/lib/python3.6/dist-packages (from ipython==7.5.0->optimuspyspark->-r /gdrive/MyDrive/EndsarsAnalyzerPro/requirements.txt (line 1)) (0.2.0)\n",
            "Requirement already satisfied: pickleshare in /usr/local/lib/python3.6/dist-packages (from ipython==7.5.0->optimuspyspark->-r /gdrive/MyDrive/EndsarsAnalyzerPro/requirements.txt (line 1)) (0.7.5)\n",
            "Requirement already satisfied: pexpect; sys_platform != \"win32\" in /usr/local/lib/python3.6/dist-packages (from ipython==7.5.0->optimuspyspark->-r /gdrive/MyDrive/EndsarsAnalyzerPro/requirements.txt (line 1)) (4.8.0)\n",
            "Requirement already satisfied: jedi>=0.10 in /usr/local/lib/python3.6/dist-packages (from ipython==7.5.0->optimuspyspark->-r /gdrive/MyDrive/EndsarsAnalyzerPro/requirements.txt (line 1)) (0.17.2)\n",
            "Requirement already satisfied: prompt-toolkit<2.1.0,>=2.0.0 in /root/.local/lib/python3.6/site-packages (from ipython==7.5.0->optimuspyspark->-r /gdrive/MyDrive/EndsarsAnalyzerPro/requirements.txt (line 1)) (2.0.10)\n",
            "Requirement already satisfied: traitlets>=4.2 in /usr/local/lib/python3.6/dist-packages (from ipython==7.5.0->optimuspyspark->-r /gdrive/MyDrive/EndsarsAnalyzerPro/requirements.txt (line 1)) (4.3.3)\n",
            "Requirement already satisfied: decorator in /usr/local/lib/python3.6/dist-packages (from ipython==7.5.0->optimuspyspark->-r /gdrive/MyDrive/EndsarsAnalyzerPro/requirements.txt (line 1)) (4.4.2)\n",
            "Requirement already satisfied: importlib-metadata; python_version < \"3.8\" in /usr/local/lib/python3.6/dist-packages (from jsonpickle>=1.0->deepdiff==4.0.6->optimuspyspark->-r /gdrive/MyDrive/EndsarsAnalyzerPro/requirements.txt (line 1)) (3.3.0)\n",
            "Requirement already satisfied: pycparser in /usr/local/lib/python3.6/dist-packages (from cffi!=1.11.3,>=1.8->cryptography==2.7->optimuspyspark->-r /gdrive/MyDrive/EndsarsAnalyzerPro/requirements.txt (line 1)) (2.20)\n",
            "Requirement already satisfied: markdown>=2.6.8 in /usr/local/lib/python3.6/dist-packages (from tensorboard<1.14.0,>=1.13.0->tensorflow==1.13.1->optimuspyspark->-r /gdrive/MyDrive/EndsarsAnalyzerPro/requirements.txt (line 1)) (3.3.3)\n",
            "Requirement already satisfied: mock>=2.0.0 in /root/.local/lib/python3.6/site-packages (from tensorflow-estimator<1.14.0rc0,>=1.13.0->tensorflow==1.13.1->optimuspyspark->-r /gdrive/MyDrive/EndsarsAnalyzerPro/requirements.txt (line 1)) (4.0.3)\n",
            "Requirement already satisfied: vine<5.0.0a1,>=1.1.3 in /root/.local/lib/python3.6/site-packages (from amqp<3.0,>=2.5.0->kombu==4.6.1->optimuspyspark->-r /gdrive/MyDrive/EndsarsAnalyzerPro/requirements.txt (line 1)) (1.3.0)\n",
            "Requirement already satisfied: ptyprocess>=0.5 in /usr/local/lib/python3.6/dist-packages (from pexpect; sys_platform != \"win32\"->ipython==7.5.0->optimuspyspark->-r /gdrive/MyDrive/EndsarsAnalyzerPro/requirements.txt (line 1)) (0.7.0)\n",
            "Requirement already satisfied: parso<0.8.0,>=0.7.0 in /usr/local/lib/python3.6/dist-packages (from jedi>=0.10->ipython==7.5.0->optimuspyspark->-r /gdrive/MyDrive/EndsarsAnalyzerPro/requirements.txt (line 1)) (0.7.1)\n",
            "Requirement already satisfied: wcwidth in /usr/local/lib/python3.6/dist-packages (from prompt-toolkit<2.1.0,>=2.0.0->ipython==7.5.0->optimuspyspark->-r /gdrive/MyDrive/EndsarsAnalyzerPro/requirements.txt (line 1)) (0.2.5)\n",
            "Requirement already satisfied: ipython-genutils in /usr/local/lib/python3.6/dist-packages (from traitlets>=4.2->ipython==7.5.0->optimuspyspark->-r /gdrive/MyDrive/EndsarsAnalyzerPro/requirements.txt (line 1)) (0.2.0)\n",
            "Requirement already satisfied: zipp>=0.5 in /usr/local/lib/python3.6/dist-packages (from importlib-metadata; python_version < \"3.8\"->jsonpickle>=1.0->deepdiff==4.0.6->optimuspyspark->-r /gdrive/MyDrive/EndsarsAnalyzerPro/requirements.txt (line 1)) (3.4.0)\n"
          ],
          "name": "stdout"
        }
      ]
    },
    {
      "cell_type": "code",
      "metadata": {
        "colab": {
          "base_uri": "https://localhost:8080/"
        },
        "id": "DhNoq3NLIBYY",
        "outputId": "41d9ee27-8d4a-4fd3-afdf-a8028ee15ccd"
      },
      "source": [
        "!mv src/twint .\r\n",
        "!rm -r src"
      ],
      "execution_count": 28,
      "outputs": [
        {
          "output_type": "stream",
          "text": [
            "mv: cannot stat 'src/twint': No such file or directory\n",
            "rm: cannot remove 'src': No such file or directory\n"
          ],
          "name": "stdout"
        }
      ]
    },
    {
      "cell_type": "code",
      "metadata": {
        "colab": {
          "base_uri": "https://localhost:8080/"
        },
        "id": "eLBVIP1WIC9A",
        "outputId": "c462fc74-f4b6-45fe-9a4e-59e61252927f"
      },
      "source": [
        "%load_ext autoreload\r\n",
        "%autoreload 2\r\n",
        "\r\n",
        "import sys\r\n",
        "sys.path.append(\"twint/\")"
      ],
      "execution_count": 29,
      "outputs": [
        {
          "output_type": "stream",
          "text": [
            "The autoreload extension is already loaded. To reload it, use:\n",
            "  %reload_ext autoreload\n"
          ],
          "name": "stdout"
        }
      ]
    },
    {
      "cell_type": "code",
      "metadata": {
        "id": "jqU7-EyMINR7"
      },
      "source": [
        "import twint"
      ],
      "execution_count": 30,
      "outputs": []
    },
    {
      "cell_type": "code",
      "metadata": {
        "id": "1L6ILaRnIWbx"
      },
      "source": [
        "from optimus import Optimus\r\n",
        "op = Optimus()"
      ],
      "execution_count": 31,
      "outputs": []
    },
    {
      "cell_type": "code",
      "metadata": {
        "id": "loWZo7nFIe6_"
      },
      "source": [
        "# Set up TWINT config\r\n",
        "c = twint.Config()"
      ],
      "execution_count": 32,
      "outputs": []
    },
    {
      "cell_type": "code",
      "metadata": {
        "id": "Fmd04x_YIlXK"
      },
      "source": [
        "# Solve compatibility issues with notebooks and RunTime errors.\r\n",
        "import nest_asyncio\r\n",
        "nest_asyncio.apply()"
      ],
      "execution_count": 33,
      "outputs": []
    },
    {
      "cell_type": "code",
      "metadata": {
        "id": "QzJ07EMrJCYJ"
      },
      "source": [
        "c.Search = \"datascience\"\r\n",
        "\r\n",
        "\r\n",
        "\r\n"
      ],
      "execution_count": 34,
      "outputs": []
    },
    {
      "cell_type": "code",
      "metadata": {
        "id": "O1TYu5xPKHa9"
      },
      "source": [
        "# Custom output format\r\n",
        "c.Format = \"Username: {username} |  Tweet: {tweet}\"\r\n",
        "c.Limit = 1\r\n",
        "c.Pandas = True"
      ],
      "execution_count": 35,
      "outputs": []
    },
    {
      "cell_type": "code",
      "metadata": {
        "id": "lXhS-vR5KOFm"
      },
      "source": [
        "twint.run.Search(c)"
      ],
      "execution_count": 36,
      "outputs": []
    }
  ]
}